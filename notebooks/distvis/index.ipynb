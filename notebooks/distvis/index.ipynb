{
 "cells": [
  {
   "cell_type": "markdown",
   "metadata": {},
   "source": [
    "# Visualizer for all SciPy distributions\n",
    "\n",
    "The awesome ``scipy.stats`` subpackage holds a lot of continuous and discrete distributions that you might never have heard of. To quickly familiarize oneself with an unknown distribution plotting and *experiencing* the distribution helps a lot. This visualiser tries to make this as easy and comfortable as possible. This tool is based on [Bokeh](http://bokeh.pydata.org/) and [ipywidgets](http://ipywidgets.readthedocs.org/).\n",
    "\n",
    "**TL;DR: Just run all cells and be stunned!**"
   ]
  },
  {
   "cell_type": "code",
   "execution_count": 2,
   "metadata": {
    "collapsed": false
   },
   "outputs": [
    {
     "data": {
      "text/html": [
       "\n",
       "    <div class=\"bk-root\">\n",
       "        <a href=\"http://bokeh.pydata.org\" target=\"_blank\" class=\"bk-logo bk-logo-small bk-logo-notebook\"></a>\n",
       "        <span id=\"b7f2ae93-396c-4f4f-b9e8-b65eec4eba0f\">Loading BokehJS ...</span>\n",
       "    </div>"
      ]
     },
     "metadata": {},
     "output_type": "display_data"
    },
    {
     "data": {
      "application/javascript": [
       "\n",
       "(function(global) {\n",
       "  function now() {\n",
       "    return new Date();\n",
       "  }\n",
       "\n",
       "  if (typeof (window._bokeh_onload_callbacks) === \"undefined\") {\n",
       "    window._bokeh_onload_callbacks = [];\n",
       "  }\n",
       "\n",
       "  function run_callbacks() {\n",
       "    window._bokeh_onload_callbacks.forEach(function(callback) { callback() });\n",
       "    delete window._bokeh_onload_callbacks\n",
       "    console.info(\"Bokeh: all callbacks have finished\");\n",
       "  }\n",
       "\n",
       "  function load_libs(js_urls, callback) {\n",
       "    window._bokeh_onload_callbacks.push(callback);\n",
       "    if (window._bokeh_is_loading > 0) {\n",
       "      console.log(\"Bokeh: BokehJS is being loaded, scheduling callback at\", now());\n",
       "      return null;\n",
       "    }\n",
       "    if (js_urls == null || js_urls.length === 0) {\n",
       "      run_callbacks();\n",
       "      return null;\n",
       "    }\n",
       "    console.log(\"Bokeh: BokehJS not loaded, scheduling load and callback at\", now());\n",
       "    window._bokeh_is_loading = js_urls.length;\n",
       "    for (var i = 0; i < js_urls.length; i++) {\n",
       "      var url = js_urls[i];\n",
       "      var s = document.createElement('script');\n",
       "      s.src = url;\n",
       "      s.async = false;\n",
       "      s.onreadystatechange = s.onload = function() {\n",
       "        window._bokeh_is_loading--;\n",
       "        if (window._bokeh_is_loading === 0) {\n",
       "          console.log(\"Bokeh: all BokehJS libraries loaded\");\n",
       "          run_callbacks()\n",
       "        }\n",
       "      };\n",
       "      s.onerror = function() {\n",
       "        console.warn(\"failed to load library \" + url);\n",
       "      };\n",
       "      console.log(\"Bokeh: injecting script tag for BokehJS library: \", url);\n",
       "      document.getElementsByTagName(\"head\")[0].appendChild(s);\n",
       "    }\n",
       "  };\n",
       "\n",
       "  var js_urls = ['https://cdn.pydata.org/bokeh/release/bokeh-0.12.0.min.js', 'https://cdn.pydata.org/bokeh/release/bokeh-widgets-0.12.0.min.js', 'https://cdn.pydata.org/bokeh/release/bokeh-compiler-0.12.0.min.js'];\n",
       "\n",
       "  var inline_js = [\n",
       "    function(Bokeh) {\n",
       "      Bokeh.set_log_level(\"info\");\n",
       "    },\n",
       "    \n",
       "    function(Bokeh) {\n",
       "      Bokeh.$(\"#b7f2ae93-396c-4f4f-b9e8-b65eec4eba0f\").text(\"BokehJS successfully loaded\");\n",
       "    },\n",
       "    function(Bokeh) {\n",
       "      console.log(\"Bokeh: injecting CSS: https://cdn.pydata.org/bokeh/release/bokeh-0.12.0.min.css\");\n",
       "      Bokeh.embed.inject_css(\"https://cdn.pydata.org/bokeh/release/bokeh-0.12.0.min.css\");\n",
       "      console.log(\"Bokeh: injecting CSS: https://cdn.pydata.org/bokeh/release/bokeh-widgets-0.12.0.min.css\");\n",
       "      Bokeh.embed.inject_css(\"https://cdn.pydata.org/bokeh/release/bokeh-widgets-0.12.0.min.css\");\n",
       "    }\n",
       "  ];\n",
       "\n",
       "  function run_inline_js() {\n",
       "    for (var i = 0; i < inline_js.length; i++) {\n",
       "      inline_js[i](window.Bokeh);\n",
       "    }\n",
       "  }\n",
       "\n",
       "  if (window._bokeh_is_loading === 0) {\n",
       "    console.log(\"Bokeh: BokehJS loaded, going straight to plotting\");\n",
       "    run_inline_js();\n",
       "  } else {\n",
       "    load_libs(js_urls, function() {\n",
       "      console.log(\"Bokeh: BokehJS plotting callback run at\", now());\n",
       "      run_inline_js();\n",
       "    });\n",
       "  }\n",
       "}(this));"
      ]
     },
     "metadata": {},
     "output_type": "display_data"
    }
   ],
   "source": [
    "import warnings\n",
    "from collections import OrderedDict, defaultdict\n",
    "from enum import Enum\n",
    "\n",
    "import numpy as np\n",
    "from scipy import stats\n",
    "\n",
    "from bokeh.io import output_notebook, show, push_notebook\n",
    "from bokeh.plotting import figure\n",
    "from bokeh.io import show\n",
    "\n",
    "from ipywidgets import widgets, interact, interactive\n",
    "from IPython.display import display \n",
    "\n",
    "warnings.simplefilter('ignore', DeprecationWarning)\n",
    "output_notebook()"
   ]
  },
  {
   "cell_type": "markdown",
   "metadata": {},
   "source": [
    "We start with a little introspection to get lists of all continuous and discrete distributions in ``scipy.stats``. In order to do so, we use an ``Enum`` to define the two types of distribution that exists in the world of mathematics, i.e. *continuous* and *discrete* distributions. Based on a given type we determine all classes that have as base class either ``stats.rv_contiuous`` or ``stats.rv_discrete`` and create an ordered dictionary with the distribution's name as key and the object of the distribution as value."
   ]
  },
  {
   "cell_type": "code",
   "execution_count": 3,
   "metadata": {
    "collapsed": false,
    "scrolled": true
   },
   "outputs": [
    {
     "name": "stdout",
     "output_type": "stream",
     "text": [
      "('number of continuous distributions:', 85)\n",
      "('number of discrete distributions:  ', 13)\n"
     ]
    }
   ],
   "source": [
    "class DistType(Enum):\n",
    "    continuous = 0\n",
    "    discrete = 1\n",
    "    \n",
    "dist_types = OrderedDict([('continuous', DistType.continuous),\n",
    "                          ('discrete', DistType.discrete)])\n",
    "\n",
    "def get_dict_of_dists(dist_type):\n",
    "    if dist_type is DistType.continuous:\n",
    "        baseclass = stats.rv_continuous\n",
    "    else:\n",
    "        baseclass = stats.rv_discrete\n",
    "    dists = [getattr(stats, d) for d in sorted(dir(stats)) if isinstance(getattr(stats,d), baseclass)]\n",
    "    return OrderedDict([(dist.name, dist) for dist in dists])\n",
    "\n",
    "dist_continuous = get_dict_of_dists(DistType.continuous)\n",
    "dist_discrete = get_dict_of_dists(DistType.discrete)\n",
    "print('number of continuous distributions:', len(dist_continuous))\n",
    "print('number of discrete distributions:  ', len(dist_discrete))"
   ]
  },
  {
   "cell_type": "markdown",
   "metadata": {},
   "source": [
    "Since a lot of distributions need additional shape parameters we use a nested ``defaultdict`` to define shape parameters as we go. For an undefined distribution ``DEFAULT_SHAPES`` will return ``1.0`` for all shape parameters.\n",
    "\n",
    "The ``DEFAULT_SHAPES`` dictionary is not exhaustive, meaning that a lot of sane parameters still need to be configured. We access those default parameters with the help of the function ``default_shape_params``."
   ]
  },
  {
   "cell_type": "code",
   "execution_count": 4,
   "metadata": {
    "collapsed": true
   },
   "outputs": [],
   "source": [
    "def make_default_shape_dict():\n",
    "    shape_param = defaultdict(lambda: 1.0)\n",
    "    return defaultdict(lambda: shape_param)\n",
    "\n",
    "def default_shape_params(dist):\n",
    "    return OrderedDict([(p, DEFAULT_SHAPES[dist.name][p]) for p in shape_params(dist)])\n",
    "\n",
    "DEFAULT_SHAPES = make_default_shape_dict()\n",
    "DEFAULT_SHAPES['alpha'] = {'a': 1.3}\n",
    "DEFAULT_SHAPES['beta'] = {'a': 1.5, 'b': 2.}\n",
    "\n",
    "# discrete\n",
    "DEFAULT_SHAPES['bernoulli'] = {'p': 0.7}\n",
    "DEFAULT_SHAPES['binom'] = {'n': 10, 'p': 0.7}\n",
    "DEFAULT_SHAPES['logser'] = {'p': 0.3}\n",
    "DEFAULT_SHAPES['zipf'] = {'a': 2}\n",
    "DEFAULT_SHAPES['randint'] = {'low': 0, 'high': 10}\n",
    "DEFAULT_SHAPES['nbinom'] = {'n': 10, 'p': 0.6}\n",
    "DEFAULT_SHAPES['hypergeom'] = {'n': 3, 'M': 10, 'N': 7}\n",
    "DEFAULT_SHAPES['geom'] = {'p': 0.6}"
   ]
  },
  {
   "cell_type": "markdown",
   "metadata": {},
   "source": [
    "Every project needs some purely auxiliary functions that help to keep the real program logic shorter and much more comprehensible. We define them in advance and all of them should be pretty much self-explanatory. Eventually, we have functions to:\n",
    "\n",
    "* flatten a list of list,\n",
    "* calculate the support of a distribution,\n",
    "* create patches, i.e. bars, from (x, y) data points,\n",
    "* determine the shape parameters of a distribution,\n",
    "* check if a distribution has shape parameters,\n",
    "* determine the options for a distribution selector widget,\n",
    "* determine the options for a function selector widget."
   ]
  },
  {
   "cell_type": "code",
   "execution_count": 5,
   "metadata": {
    "collapsed": false
   },
   "outputs": [],
   "source": [
    "def flatten(lst):\n",
    "    return [item for sublist in lst for item in sublist]\n",
    "\n",
    "def support(dist, *shapeargs):\n",
    "    # due to bug in scipy.levy_stable no keyword args for interval\n",
    "    return dist.interval(1.0, *shapeargs)\n",
    "\n",
    "def make_patches(x, y, width=0.8):\n",
    "    m = width/2\n",
    "    x = [[p-m, p-m, p+m, p+m] for p in x]\n",
    "    y = [[0, p, p, 0] for p in y]\n",
    "    return x, y\n",
    "\n",
    "def shape_params(dist):\n",
    "    if dist.shapes is not None:\n",
    "        return dist.shapes.split(', ')\n",
    "    \n",
    "def has_shape_params(dist):\n",
    "    return dist.numargs != 0\n",
    "\n",
    "def dist_options(dist_type):\n",
    "    if dist_type is DistType.continuous:\n",
    "        return dist_continuous\n",
    "    else:\n",
    "        return dist_discrete\n",
    "\n",
    "def func_options(dist_type):\n",
    "    if dist_type is DistType.continuous:\n",
    "        return ['pdf', 'cdf', 'ppf']\n",
    "    else:\n",
    "        return ['pmf', 'cdf']"
   ]
  },
  {
   "cell_type": "markdown",
   "metadata": {
    "collapsed": true
   },
   "source": [
    "The whole tool is basically about evaluating different functions, e.g. ``pdf``, ``cdf``, etc., of a distribution. So what we need to do is:\n",
    "\n",
    "1. determining the support of the function\n",
    "2. check if the distribution is continuous or discrete\n",
    "3. define a set of suitable ``x``-values\n",
    "4. evaluate the given function on that set of ``x`` and return ``x`` and ``y``"
   ]
  },
  {
   "cell_type": "code",
   "execution_count": 6,
   "metadata": {
    "collapsed": false
   },
   "outputs": [],
   "source": [
    "def get_dist_func_xy(dist, func, *shapeargs, **params):\n",
    "    if func == 'ppf':\n",
    "        interval = [0., 1.]\n",
    "    else:\n",
    "        interval = list(support(dist, *shapeargs))\n",
    "    if dist in dist_continuous.values():\n",
    "        for i, x in enumerate(interval):\n",
    "            if np.isinf(x):\n",
    "                interval[i] = np.sign(x)*100\n",
    "            interval[i] += (-1)**i*1e-3\n",
    "        l, r = interval\n",
    "        x = np.linspace(l, r, 100*(r-l))\n",
    "    elif dist in dist_discrete.values():\n",
    "        for i, x in enumerate(interval):\n",
    "            if np.isinf(x):\n",
    "                interval[i] = np.sign(x)*20\n",
    "        l, r = interval        \n",
    "        x = np.arange(l+1, r+1)\n",
    "    else:\n",
    "        raise RuntimeError(\"Unknown distribution: {}\".format(dist.name))\n",
    "    y = getattr(dist, func)(x, *shapeargs, **params)\n",
    "    return x, y"
   ]
  },
  {
   "cell_type": "markdown",
   "metadata": {
    "collapsed": false
   },
   "source": [
    "Here comes the heavy lifting. Later on, we will define selector widgets for the\n",
    "\n",
    "* type of distribution,\n",
    "* distribution itself,\n",
    "* function of the distribution,\n",
    "* parameters of the distribution (``loc`` and ``scale`` for continuous distributions),\n",
    "* shape parameters of the distribution if they exist,\n",
    "\n",
    "and therefore we need functions that steer the behaviour of the whole tool when one of the widgets changes its value. Because of that all functions start with the prefix ``update_`` and basically wire all widgets together. For instance if currently the normal distribution is selected and you choose the distribution type *discrete* we need to also set the distribution selector to a discrete distribution which also triggers the function selector in order to choose a suitable function like ``pmf`` for a discrete distribution."
   ]
  },
  {
   "cell_type": "code",
   "execution_count": 7,
   "metadata": {
    "collapsed": true
   },
   "outputs": [],
   "source": [
    "def update_type_sel():\n",
    "    dist_sel.options = dist_options(type_sel.value)\n",
    "    \n",
    "def update_dist_sel():\n",
    "    func_sel.options = func_options(type_sel.value)\n",
    "    if has_shape_params(dist_sel.value):\n",
    "        shapes = default_shape_params(dist_sel.value)\n",
    "        text_inputs = [widgets.BoundedFloatText(value=v, description='{}:'.format(k)) for k, v in shapes.items()]\n",
    "        [w.on_trait_change(update_dist_params, name='value') for w in text_inputs]\n",
    "        shape_param_container.children = text_inputs\n",
    "    else:\n",
    "        shape_param_container.children = []\n",
    "    if type_sel.value is DistType.continuous:\n",
    "        param_container.children = [loc_slider, scale_slider]\n",
    "    else:\n",
    "        param_container.children = []\n",
    "    update_dist_params()\n",
    "    \n",
    "def refresh_continuous(fig, data, *shapeargs):\n",
    "    params = dict(loc=loc_slider.value, scale=scale_slider.value)\n",
    "    data['x'], data['y'] = get_dist_func_xy(dist_sel.value, func_sel.value, *shapeargs, **params)\n",
    "    fig.y_range.start = max(np.max(data['y']) - 5, 1.1*np.min(data['y']))\n",
    "    fig.y_range.end = min(np.min(data['y']) + 5, 1.1*np.max(data['y']))\n",
    "    offset, lim = 1e-1, 5\n",
    "    fig.x_range.start = max(-lim, np.min(data['x']) - offset)\n",
    "    fig.x_range.end = min(lim, np.max(data['x']) + offset)\n",
    "    \n",
    "def refresh_discrete(fig, data, *shapeargs):\n",
    "    x, y = get_dist_func_xy(dist_sel.value, func_sel.value, *shapeargs)\n",
    "    data['xs'], data['ys'] = make_patches(x, y)\n",
    "    fig.y_range.start, fig.y_range.end = 0., 1.1*np.max(y)\n",
    "    fig.x_range.start = max(-10, np.min(x) - 1)\n",
    "    fig.x_range.end = min(10, np.max(x) + 1)\n",
    "    \n",
    "def update_dist_params():\n",
    "    shapeargs = [c.value for c in shape_param_container.children]\n",
    "    l_data['x'], l_data['y'] = [], []\n",
    "    p_data['xs'], p_data['ys'] = [], []\n",
    "    try:\n",
    "        if type_sel.value is DistType.continuous:\n",
    "            refresh_continuous(fig, l_data, *shapeargs)\n",
    "        else:\n",
    "            refresh_discrete(fig, p_data, *shapeargs)\n",
    "    except Exception as e:\n",
    "        error_text.value = \"Invalid parameters! Choose again.<br>ERROR: {}\".format(e)\n",
    "        error_text.visible = True\n",
    "    else:\n",
    "        error_text.visible = False\n",
    "    push_notebook() "
   ]
  },
  {
   "cell_type": "markdown",
   "metadata": {},
   "source": [
    "To render the function values of the distribution we will use [Bokeh](http://bokeh.pydata.org/) which is a lot more appropriate for interactive visualisation than *matplotlib* and looks much nicer by default. Bokeh itself comes with a lot of widgets and you can do wonderful things like complete reporting web interfaces with them but at this point my design decision was to stick with Jupyter. Jupyter itself has [ipywidgets](http://ipywidgets.readthedocs.org/) and currently the advantage is that the Python community is just crazy about Jupyter meaning that there are also a lot of cool services like [binder](http://mybinder.org/), [tmpnb](https://tmpnb.org/) and many more. Since Bokeh widgets need a Bokeh server to be functional it is much easier right now to find a free service like binder that operates your notebook.\n",
    "\n",
    "That being said, here we go. We are basically following Bokeh's [Working in the Notebook tutorial](http://bokeh.pydata.org/en/0.11.0/docs/user_guide/notebook.html) and start by defining a figure as well as two glyphs, ``line`` for plotting continuous distributions and ``patches`` in order to plot discrete distributions. Currently, there is a limitation in the Jupyter/Bokeh interaction that allows you to only change the values in a plot of the last figure that was displayed. More important though is the fact that you change the last figure by changing the input sources (``data_source``) of the glyph's renderer and push them to the notebook via ``push_notebook()``. For that reason we set up only one figure including glyphs for plotting continuous as well as discreet functions and return the figure as well as the data sources of both renderers."
   ]
  },
  {
   "cell_type": "code",
   "execution_count": 8,
   "metadata": {
    "collapsed": true
   },
   "outputs": [],
   "source": [
    "def get_dist_fig_data():\n",
    "    fig = figure(width=700, height=700, title=None, x_range=(-1, 1), y_range=(0, 1))\n",
    "    ren_p = fig.patches([[]], [[]], line_width=3, alpha=0.3)\n",
    "    ren_l = fig.line([], [], line_width=3)\n",
    "    return fig, ren_l.data_source.data, ren_p.data_source.data"
   ]
  },
  {
   "cell_type": "markdown",
   "metadata": {},
   "source": [
    "At this point we have everything set up and what's left to do is only to define the actual widgets and use the functionality defined before to wire them up. Currently I am quite dissatisfied with the fact that the update functions work a lot on our globally defined widgets. It would be way more explicit if the update function had parameters for all widgets they are working on. One solution could be to make use of the *Functor Pattern* with the help of ``functools.partial`` but I am not 100% convinced. Another possibility is put everything into one giant class which is also not my cup of tea. Drop me a line in the comments if you have a solution to that."
   ]
  },
  {
   "cell_type": "code",
   "execution_count": 12,
   "metadata": {
    "collapsed": false
   },
   "outputs": [
    {
     "data": {
      "text/html": [
       "\n",
       "\n",
       "    <div class=\"bk-root\">\n",
       "        <div class=\"plotdiv\" id=\"53c2b1c2-a3c7-4c3a-a707-043e7a957811\"></div>\n",
       "    </div>\n",
       "<script type=\"text/javascript\">\n",
       "  \n",
       "  (function(global) {\n",
       "    function now() {\n",
       "      return new Date();\n",
       "    }\n",
       "  \n",
       "    if (typeof (window._bokeh_onload_callbacks) === \"undefined\") {\n",
       "      window._bokeh_onload_callbacks = [];\n",
       "    }\n",
       "  \n",
       "    function run_callbacks() {\n",
       "      window._bokeh_onload_callbacks.forEach(function(callback) { callback() });\n",
       "      delete window._bokeh_onload_callbacks\n",
       "      console.info(\"Bokeh: all callbacks have finished\");\n",
       "    }\n",
       "  \n",
       "    function load_libs(js_urls, callback) {\n",
       "      window._bokeh_onload_callbacks.push(callback);\n",
       "      if (window._bokeh_is_loading > 0) {\n",
       "        console.log(\"Bokeh: BokehJS is being loaded, scheduling callback at\", now());\n",
       "        return null;\n",
       "      }\n",
       "      if (js_urls == null || js_urls.length === 0) {\n",
       "        run_callbacks();\n",
       "        return null;\n",
       "      }\n",
       "      console.log(\"Bokeh: BokehJS not loaded, scheduling load and callback at\", now());\n",
       "      window._bokeh_is_loading = js_urls.length;\n",
       "      for (var i = 0; i < js_urls.length; i++) {\n",
       "        var url = js_urls[i];\n",
       "        var s = document.createElement('script');\n",
       "        s.src = url;\n",
       "        s.async = false;\n",
       "        s.onreadystatechange = s.onload = function() {\n",
       "          window._bokeh_is_loading--;\n",
       "          if (window._bokeh_is_loading === 0) {\n",
       "            console.log(\"Bokeh: all BokehJS libraries loaded\");\n",
       "            run_callbacks()\n",
       "          }\n",
       "        };\n",
       "        s.onerror = function() {\n",
       "          console.warn(\"failed to load library \" + url);\n",
       "        };\n",
       "        console.log(\"Bokeh: injecting script tag for BokehJS library: \", url);\n",
       "        document.getElementsByTagName(\"head\")[0].appendChild(s);\n",
       "      }\n",
       "    };var element = document.getElementById(\"53c2b1c2-a3c7-4c3a-a707-043e7a957811\");\n",
       "    if (element == null) {\n",
       "      console.log(\"Bokeh: ERROR: autoload.js configured with elementid '53c2b1c2-a3c7-4c3a-a707-043e7a957811' but no matching script tag was found. \")\n",
       "      return false;\n",
       "    }\n",
       "  \n",
       "    var js_urls = [];\n",
       "  \n",
       "    var inline_js = [\n",
       "      function(Bokeh) {\n",
       "        Bokeh.$(function() {\n",
       "            var docs_json = {\"d326787a-f70b-4076-8434-f6eedf3179cd\":{\"roots\":{\"references\":[{\"attributes\":{\"callback\":null,\"start\":-1},\"id\":\"bce047a6-6d85-44ae-b44e-f9bfe7e5dc96\",\"type\":\"Range1d\"},{\"attributes\":{\"plot\":{\"id\":\"4076f968-e23a-4de7-81bd-0133f049410e\",\"subtype\":\"Figure\",\"type\":\"Plot\"}},\"id\":\"eb0f354f-fe65-458e-b87e-71c05acbe068\",\"type\":\"PanTool\"},{\"attributes\":{\"formatter\":{\"id\":\"1d0241e8-1236-41b0-a7c2-994de13d7519\",\"type\":\"BasicTickFormatter\"},\"plot\":{\"id\":\"4076f968-e23a-4de7-81bd-0133f049410e\",\"subtype\":\"Figure\",\"type\":\"Plot\"},\"ticker\":{\"id\":\"c19d272c-7053-4eb4-ad97-e4372d129127\",\"type\":\"BasicTicker\"}},\"id\":\"17c25a28-cb57-4bce-bbf0-9493f3d94d53\",\"type\":\"LinearAxis\"},{\"attributes\":{\"fill_alpha\":{\"value\":0.1},\"fill_color\":{\"value\":\"#1f77b4\"},\"line_alpha\":{\"value\":0.1},\"line_color\":{\"value\":\"#1f77b4\"},\"line_width\":{\"value\":3},\"xs\":{\"field\":\"xs\"},\"ys\":{\"field\":\"ys\"}},\"id\":\"437a079f-4eb4-47fa-bdfc-e5171552244f\",\"type\":\"Patches\"},{\"attributes\":{\"plot\":{\"id\":\"4076f968-e23a-4de7-81bd-0133f049410e\",\"subtype\":\"Figure\",\"type\":\"Plot\"}},\"id\":\"ee587fc7-5305-4b20-8952-40fccc2542a0\",\"type\":\"SaveTool\"},{\"attributes\":{\"plot\":{\"id\":\"4076f968-e23a-4de7-81bd-0133f049410e\",\"subtype\":\"Figure\",\"type\":\"Plot\"}},\"id\":\"69878aa3-726b-462f-99e3-f41355f1e36f\",\"type\":\"HelpTool\"},{\"attributes\":{\"callback\":null,\"column_names\":[\"y\",\"x\"],\"data\":{\"x\":[],\"y\":[]}},\"id\":\"22cd6b39-be64-45ff-8aea-65b111d5f654\",\"type\":\"ColumnDataSource\"},{\"attributes\":{\"callback\":null},\"id\":\"624d60f5-272a-4e0d-bc45-63c1ccadcf8b\",\"type\":\"Range1d\"},{\"attributes\":{\"plot\":null,\"text\":null},\"id\":\"3626fa02-873f-443c-80e4-63169e8dc5a6\",\"type\":\"Title\"},{\"attributes\":{\"data_source\":{\"id\":\"045d63e5-1f00-48bf-9755-2d11fd1c87c3\",\"type\":\"ColumnDataSource\"},\"glyph\":{\"id\":\"9db2721d-a972-4012-9810-a26a0917ae4d\",\"type\":\"Patches\"},\"hover_glyph\":null,\"nonselection_glyph\":{\"id\":\"437a079f-4eb4-47fa-bdfc-e5171552244f\",\"type\":\"Patches\"},\"selection_glyph\":null},\"id\":\"93dee000-a98b-46b3-82b6-a0daf76608e8\",\"type\":\"GlyphRenderer\"},{\"attributes\":{\"bottom_units\":\"screen\",\"fill_alpha\":{\"value\":0.5},\"fill_color\":{\"value\":\"lightgrey\"},\"left_units\":\"screen\",\"level\":\"overlay\",\"line_alpha\":{\"value\":1.0},\"line_color\":{\"value\":\"black\"},\"line_dash\":[4,4],\"line_width\":{\"value\":2},\"plot\":null,\"render_mode\":\"css\",\"right_units\":\"screen\",\"top_units\":\"screen\"},\"id\":\"a1ffa721-1f40-4aa2-b270-8dc9269cb8b9\",\"type\":\"BoxAnnotation\"},{\"attributes\":{\"active_drag\":\"auto\",\"active_scroll\":\"auto\",\"active_tap\":\"auto\",\"tools\":[{\"id\":\"eb0f354f-fe65-458e-b87e-71c05acbe068\",\"type\":\"PanTool\"},{\"id\":\"022561ea-a430-4beb-8f28-2a846e709265\",\"type\":\"WheelZoomTool\"},{\"id\":\"4292b42b-b381-4445-a646-87c631d997a4\",\"type\":\"BoxZoomTool\"},{\"id\":\"ee587fc7-5305-4b20-8952-40fccc2542a0\",\"type\":\"SaveTool\"},{\"id\":\"f1c1200e-76b1-45e4-8ff7-5aa2e6f3c2a3\",\"type\":\"ResetTool\"},{\"id\":\"69878aa3-726b-462f-99e3-f41355f1e36f\",\"type\":\"HelpTool\"}]},\"id\":\"a2b63842-9abe-494b-9266-29f31d9526a0\",\"type\":\"Toolbar\"},{\"attributes\":{\"callback\":null,\"column_names\":[\"ys\",\"xs\"],\"data\":{\"xs\":[[]],\"ys\":[[]]}},\"id\":\"045d63e5-1f00-48bf-9755-2d11fd1c87c3\",\"type\":\"ColumnDataSource\"},{\"attributes\":{\"plot\":{\"id\":\"4076f968-e23a-4de7-81bd-0133f049410e\",\"subtype\":\"Figure\",\"type\":\"Plot\"}},\"id\":\"f1c1200e-76b1-45e4-8ff7-5aa2e6f3c2a3\",\"type\":\"ResetTool\"},{\"attributes\":{\"formatter\":{\"id\":\"1329dee1-141c-42fc-a85c-fcaaadaf0e33\",\"type\":\"BasicTickFormatter\"},\"plot\":{\"id\":\"4076f968-e23a-4de7-81bd-0133f049410e\",\"subtype\":\"Figure\",\"type\":\"Plot\"},\"ticker\":{\"id\":\"523f6c0b-039f-483a-a611-67f2fe8c08c1\",\"type\":\"BasicTicker\"}},\"id\":\"4db851be-d8dc-4a27-8667-65a0e656172c\",\"type\":\"LinearAxis\"},{\"attributes\":{},\"id\":\"c19d272c-7053-4eb4-ad97-e4372d129127\",\"type\":\"BasicTicker\"},{\"attributes\":{\"below\":[{\"id\":\"4db851be-d8dc-4a27-8667-65a0e656172c\",\"type\":\"LinearAxis\"}],\"left\":[{\"id\":\"17c25a28-cb57-4bce-bbf0-9493f3d94d53\",\"type\":\"LinearAxis\"}],\"plot_height\":700,\"plot_width\":700,\"renderers\":[{\"id\":\"4db851be-d8dc-4a27-8667-65a0e656172c\",\"type\":\"LinearAxis\"},{\"id\":\"10d3d0c1-30bf-42b2-8b78-dc488cf2b3bc\",\"type\":\"Grid\"},{\"id\":\"17c25a28-cb57-4bce-bbf0-9493f3d94d53\",\"type\":\"LinearAxis\"},{\"id\":\"ac1581ff-ee53-47fb-969a-65aff7d7f9db\",\"type\":\"Grid\"},{\"id\":\"a1ffa721-1f40-4aa2-b270-8dc9269cb8b9\",\"type\":\"BoxAnnotation\"},{\"id\":\"93dee000-a98b-46b3-82b6-a0daf76608e8\",\"type\":\"GlyphRenderer\"},{\"id\":\"6268be54-0bec-4f0e-8ae6-2eb4b914324d\",\"type\":\"GlyphRenderer\"}],\"title\":{\"id\":\"3626fa02-873f-443c-80e4-63169e8dc5a6\",\"type\":\"Title\"},\"tool_events\":{\"id\":\"eab5f602-4b46-4de8-9846-791d4a231129\",\"type\":\"ToolEvents\"},\"toolbar\":{\"id\":\"a2b63842-9abe-494b-9266-29f31d9526a0\",\"type\":\"Toolbar\"},\"x_range\":{\"id\":\"bce047a6-6d85-44ae-b44e-f9bfe7e5dc96\",\"type\":\"Range1d\"},\"y_range\":{\"id\":\"624d60f5-272a-4e0d-bc45-63c1ccadcf8b\",\"type\":\"Range1d\"}},\"id\":\"4076f968-e23a-4de7-81bd-0133f049410e\",\"subtype\":\"Figure\",\"type\":\"Plot\"},{\"attributes\":{},\"id\":\"1d0241e8-1236-41b0-a7c2-994de13d7519\",\"type\":\"BasicTickFormatter\"},{\"attributes\":{\"line_color\":{\"value\":\"#1f77b4\"},\"line_width\":{\"value\":3},\"x\":{\"field\":\"x\"},\"y\":{\"field\":\"y\"}},\"id\":\"e0e4b2e9-fff1-4712-b4bf-7c8220bc2169\",\"type\":\"Line\"},{\"attributes\":{},\"id\":\"1329dee1-141c-42fc-a85c-fcaaadaf0e33\",\"type\":\"BasicTickFormatter\"},{\"attributes\":{\"fill_alpha\":{\"value\":0.3},\"fill_color\":{\"value\":\"#1f77b4\"},\"line_alpha\":{\"value\":0.3},\"line_color\":{\"value\":\"#1f77b4\"},\"line_width\":{\"value\":3},\"xs\":{\"field\":\"xs\"},\"ys\":{\"field\":\"ys\"}},\"id\":\"9db2721d-a972-4012-9810-a26a0917ae4d\",\"type\":\"Patches\"},{\"attributes\":{\"line_alpha\":{\"value\":0.1},\"line_color\":{\"value\":\"#1f77b4\"},\"line_width\":{\"value\":3},\"x\":{\"field\":\"x\"},\"y\":{\"field\":\"y\"}},\"id\":\"459b96c4-fbe9-4514-89c2-afc90988c327\",\"type\":\"Line\"},{\"attributes\":{\"plot\":{\"id\":\"4076f968-e23a-4de7-81bd-0133f049410e\",\"subtype\":\"Figure\",\"type\":\"Plot\"}},\"id\":\"022561ea-a430-4beb-8f28-2a846e709265\",\"type\":\"WheelZoomTool\"},{\"attributes\":{},\"id\":\"eab5f602-4b46-4de8-9846-791d4a231129\",\"type\":\"ToolEvents\"},{\"attributes\":{},\"id\":\"523f6c0b-039f-483a-a611-67f2fe8c08c1\",\"type\":\"BasicTicker\"},{\"attributes\":{\"data_source\":{\"id\":\"22cd6b39-be64-45ff-8aea-65b111d5f654\",\"type\":\"ColumnDataSource\"},\"glyph\":{\"id\":\"e0e4b2e9-fff1-4712-b4bf-7c8220bc2169\",\"type\":\"Line\"},\"hover_glyph\":null,\"nonselection_glyph\":{\"id\":\"459b96c4-fbe9-4514-89c2-afc90988c327\",\"type\":\"Line\"},\"selection_glyph\":null},\"id\":\"6268be54-0bec-4f0e-8ae6-2eb4b914324d\",\"type\":\"GlyphRenderer\"},{\"attributes\":{\"overlay\":{\"id\":\"a1ffa721-1f40-4aa2-b270-8dc9269cb8b9\",\"type\":\"BoxAnnotation\"},\"plot\":{\"id\":\"4076f968-e23a-4de7-81bd-0133f049410e\",\"subtype\":\"Figure\",\"type\":\"Plot\"}},\"id\":\"4292b42b-b381-4445-a646-87c631d997a4\",\"type\":\"BoxZoomTool\"},{\"attributes\":{\"plot\":{\"id\":\"4076f968-e23a-4de7-81bd-0133f049410e\",\"subtype\":\"Figure\",\"type\":\"Plot\"},\"ticker\":{\"id\":\"523f6c0b-039f-483a-a611-67f2fe8c08c1\",\"type\":\"BasicTicker\"}},\"id\":\"10d3d0c1-30bf-42b2-8b78-dc488cf2b3bc\",\"type\":\"Grid\"},{\"attributes\":{\"dimension\":1,\"plot\":{\"id\":\"4076f968-e23a-4de7-81bd-0133f049410e\",\"subtype\":\"Figure\",\"type\":\"Plot\"},\"ticker\":{\"id\":\"c19d272c-7053-4eb4-ad97-e4372d129127\",\"type\":\"BasicTicker\"}},\"id\":\"ac1581ff-ee53-47fb-969a-65aff7d7f9db\",\"type\":\"Grid\"}],\"root_ids\":[\"4076f968-e23a-4de7-81bd-0133f049410e\"]},\"title\":\"Bokeh Application\",\"version\":\"0.12.0\"}};\n",
       "            var render_items = [{\"docid\":\"d326787a-f70b-4076-8434-f6eedf3179cd\",\"elementid\":\"53c2b1c2-a3c7-4c3a-a707-043e7a957811\",\"modelid\":\"4076f968-e23a-4de7-81bd-0133f049410e\",\"notebook_comms_target\":\"f8de64e4-03e9-4664-9edc-2896817a4c2d\"}];\n",
       "            \n",
       "            Bokeh.embed.embed_items(docs_json, render_items);\n",
       "        });\n",
       "      },\n",
       "      function(Bokeh) {\n",
       "      }\n",
       "    ];\n",
       "  \n",
       "    function run_inline_js() {\n",
       "      for (var i = 0; i < inline_js.length; i++) {\n",
       "        inline_js[i](window.Bokeh);\n",
       "      }\n",
       "    }\n",
       "  \n",
       "    if (window._bokeh_is_loading === 0) {\n",
       "      console.log(\"Bokeh: BokehJS loaded, going straight to plotting\");\n",
       "      run_inline_js();\n",
       "    } else {\n",
       "      load_libs(js_urls, function() {\n",
       "        console.log(\"Bokeh: BokehJS plotting callback run at\", now());\n",
       "        run_inline_js();\n",
       "      });\n",
       "    }\n",
       "  }(this));\n",
       "</script>"
      ]
     },
     "metadata": {},
     "output_type": "display_data"
    }
   ],
   "source": [
    "# Create widgets for selecting the type, distribution and function\n",
    "type_sel = widgets.Dropdown(options=dist_types, description='type:')\n",
    "dist_sel = widgets.Dropdown(options=dist_options(type_sel.value), description='dist:')\n",
    "func_sel = widgets.Dropdown(options=func_options(type_sel.value), description='func:')\n",
    "\n",
    "# Align the widgets in a horizontal box\n",
    "dist_container = widgets.HBox()  \n",
    "dist_container.children = [type_sel, dist_sel, func_sel]\n",
    "\n",
    "# Wire the widgets to their corresponding update function\n",
    "type_sel.on_trait_change(update_type_sel, name='value')\n",
    "dist_sel.on_trait_change(update_dist_sel, name='value')\n",
    "func_sel.on_trait_change(update_dist_params, name='value')\n",
    "\n",
    "# Create widgets for parameter selection and boxes to align them\n",
    "loc_slider = widgets.FloatSlider(value=0., min=-5.0, max=5.0, step=0.1, description='loc:')\n",
    "scale_slider = widgets.FloatSlider(value=1., min=0.01, max=10.0, step=0.01, description='scale:')\n",
    "loc_slider.on_trait_change(update_dist_params, name='value')\n",
    "scale_slider.on_trait_change(update_dist_params, name='value')\n",
    "param_container = widgets.VBox()\n",
    "shape_param_container = widgets.HBox()\n",
    "error_text = widgets.HTML()\n",
    "\n",
    "# Display the widgets\n",
    "display(dist_container)\n",
    "display(param_container)\n",
    "display(shape_param_container)\n",
    "display(error_text)\n",
    "\n",
    "# Generate the Bokeh plot and display\n",
    "fig, l_data, p_data = get_dist_fig_data()\n",
    "show(fig)\n",
    "\n",
    "# Let's select the famous normal distribution for starters\n",
    "type_sel.value = DistType.continuous\n",
    "dist_sel.value = dist_continuous['norm']"
   ]
  },
  {
   "cell_type": "code",
   "execution_count": null,
   "metadata": {
    "collapsed": true
   },
   "outputs": [],
   "source": []
  }
 ],
 "metadata": {
  "kernelspec": {
   "display_name": "Python 2",
   "language": "python",
   "name": "python2"
  },
  "language_info": {
   "codemirror_mode": {
    "name": "ipython",
    "version": 2
   },
   "file_extension": ".py",
   "mimetype": "text/x-python",
   "name": "python",
   "nbconvert_exporter": "python",
   "pygments_lexer": "ipython2",
   "version": "2.7.6"
  },
  "widgets": {
   "state": {
    "01630438df374cebafea8abd73190a01": {
     "views": [
      {
       "cell_index": 15
      }
     ]
    },
    "02043bfa1875489292734eb4ad905bba": {
     "views": []
    },
    "0a9f46e3dc4d4dc29bed8db556930d80": {
     "views": []
    },
    "0fd1d017bb444c5aab58e7beba358817": {
     "views": []
    },
    "0fe2120c9e0b4ce49706c9a6eba51f2d": {
     "views": []
    },
    "114d4e21cb6a4062914b5ed52d82dad2": {
     "views": []
    },
    "1202490387104625bd2fabbab0487672": {
     "views": []
    },
    "12a8c527c1144fd592a48d86c551ba12": {
     "views": []
    },
    "12cc5cc9a6744fe08d50d59b1517dd2b": {
     "views": []
    },
    "1b22db10e8604245a5d431758ac0e142": {
     "views": []
    },
    "1f04cd7213574a43b2868a306d0ba1f1": {
     "views": []
    },
    "21181725972a45e090fc8b4a0d0982c2": {
     "views": []
    },
    "2191d02092ec4455bce9f720e48e3c27": {
     "views": [
      {
       "cell_index": 15
      }
     ]
    },
    "22af2e37d1494664af76b540d5688321": {
     "views": []
    },
    "2713bf0786e942eda70c82c059b67c85": {
     "views": []
    },
    "27c7ed89edcb41bc829bc7f982662fd4": {
     "views": []
    },
    "289deee2f8554373880f48a748574714": {
     "views": []
    },
    "2aa0e08a2af94fc79ff9e52f0a96919a": {
     "views": []
    },
    "36de2bc782c34f96a641b4d292a54154": {
     "views": []
    },
    "3716e55652ea416296d0a69f38f8b04f": {
     "views": []
    },
    "3d1cb76edb644f659f6e499bdbc72908": {
     "views": []
    },
    "3d560061976641af88ce31e37162a922": {
     "views": []
    },
    "3d934ec875b8413ea17bebea65358611": {
     "views": []
    },
    "406c2df7c96e491dbc6173cff7f27ef5": {
     "views": []
    },
    "472592eb4d1a46f9bd235bdc1d05d146": {
     "views": []
    },
    "4d0096bb6a774f8591f0bc2834287e03": {
     "views": []
    },
    "4e1fe3fb2a764b21ad04e73c2cc820ca": {
     "views": []
    },
    "56cce588c7484801a81766b9d34348fe": {
     "views": []
    },
    "58c9b104060e4744a52eade2d14a27f9": {
     "views": []
    },
    "5e140e71da4149b8ac018d2963cefa5b": {
     "views": []
    },
    "65d6f5e3139d4d109a1b7f0c6d67352b": {
     "views": []
    },
    "67d2b9ffee844923bbbd374feacb2a68": {
     "views": []
    },
    "6a963bb0af0a4e369ae0c72fc5b79c44": {
     "views": []
    },
    "6e78838d6e3444b5a3146dae24a4f961": {
     "views": []
    },
    "70b2081707924bcf9b1e2c4c89f8619b": {
     "views": []
    },
    "72189682e72d44eaa8d5f7bf42704a26": {
     "views": []
    },
    "7225141c35994c76aff4ffd126ad7a6b": {
     "views": []
    },
    "72e59547dcfb41c1a9664e570d4bf467": {
     "views": []
    },
    "741a25de19d841ce90ea1aa72fa0f14c": {
     "views": []
    },
    "750cb24d71ff4df887d72545f79b3784": {
     "views": []
    },
    "76959be070a44b6aa5ff0e4d198ee688": {
     "views": []
    },
    "781703c9f8c74b9e820178a1d5e7f8e8": {
     "views": []
    },
    "7b11a45e5e2140d781b516c8bec9587b": {
     "views": []
    },
    "7cf2001445bb4b47a309e39561a1d486": {
     "views": []
    },
    "82452c43acdc4198b81d47dc9a11d97b": {
     "views": []
    },
    "84c4f372fb464b7eb2affdb59132118b": {
     "views": []
    },
    "8598f1dc73dc4146b375ba4321206d6c": {
     "views": []
    },
    "8dd48d5bb0584a09b287d3b4bfce18aa": {
     "views": []
    },
    "94975dfa22b4434d99738f78b00fef4d": {
     "views": []
    },
    "95dbe3594d0d40a7abcf94d05e19f32d": {
     "views": []
    },
    "96f360e2df9846c49c4275cd0e5d90d4": {
     "views": []
    },
    "9bab579a51164478884392dd34cdb6e4": {
     "views": []
    },
    "9c1682969b9048e1a219224c55c9ef49": {
     "views": []
    },
    "9c4a6920e8654678af1463206c5f0e98": {
     "views": []
    },
    "a313d64d8b98472db3a02cc6ff72161a": {
     "views": []
    },
    "b0dac62eb8214883a8f5c080ac18e619": {
     "views": []
    },
    "b36c3bf5cb214ed58722935be85a50eb": {
     "views": []
    },
    "b5a43a41257c4eee9b69183f64498cf9": {
     "views": [
      {
       "cell_index": 15
      }
     ]
    },
    "b84bf3547abb455bb855d19e44b6cf4f": {
     "views": []
    },
    "b88134e5705a4aea98cc8544c3d1dc85": {
     "views": [
      {
       "cell_index": 15
      }
     ]
    },
    "c1d0389ed9f14c968e779ceca9087fca": {
     "views": [
      {
       "cell_index": 15
      }
     ]
    },
    "c1d8728735f446bdaa61c726f2163302": {
     "views": []
    },
    "c4388af3a3f0444bac279091c1bde173": {
     "views": []
    },
    "ce6d2c346f6b4102a094a07789fdb7fa": {
     "views": []
    },
    "d20e8b2f625c42a3aec4511682b30052": {
     "views": [
      {
       "cell_index": 15
      }
     ]
    },
    "d5aff0d5f677413381aa67f72bab04c2": {
     "views": [
      {
       "cell_index": 15
      }
     ]
    },
    "d769a3f01d5248d0a90e3acc090acae6": {
     "views": []
    },
    "d85151330d6c4f44bcf11df80ad9ff18": {
     "views": []
    },
    "d8ce252c5a3140feb120ba279969ea7a": {
     "views": []
    },
    "d91d361d299a4f87b4665f6d4e41811a": {
     "views": []
    },
    "dee7a7fc47544a6ea0bcf8a344df764a": {
     "views": []
    },
    "e1c7af39af224b498654e649b620660b": {
     "views": []
    },
    "e280beccc859419b8a4d87a648c612ef": {
     "views": []
    },
    "e4873b19952740f489b00c3cf13bf7c5": {
     "views": []
    },
    "e978e5c032ff4c07871c80dd50b7223c": {
     "views": []
    },
    "ec675389215d4f4a97bda6cc9703699f": {
     "views": [
      {
       "cell_index": 15
      }
     ]
    },
    "f2a15b19abe049d3b3f2ef1e5f3d196a": {
     "views": []
    },
    "f3b4977a5513467eafe5be839b3292b5": {
     "views": []
    },
    "f3c32393f3424ddaa128b31804150ff1": {
     "views": []
    },
    "ffaa8d37ca05429eb81ac8cdd5c23c2b": {
     "views": []
    }
   },
   "version": "1.1.2"
  }
 },
 "nbformat": 4,
 "nbformat_minor": 0
}
