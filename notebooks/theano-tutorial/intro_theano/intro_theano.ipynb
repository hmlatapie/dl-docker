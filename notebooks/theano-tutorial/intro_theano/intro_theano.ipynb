{
 "cells": [
  {
   "cell_type": "markdown",
   "metadata": {},
   "source": [
    "# Introduction to Theano\n",
    "\n",
    "Credits: Forked from [summerschool2015](https://github.com/mila-udem/summerschool2015) by mila-udem\n",
    "\n",
    "## Slides\n",
    "\n",
    "Refer to the associated [Introduction to Theano slides](http://nbviewer.ipython.org/github/donnemartin/data-science-ipython-notebooks/blob/master/deep-learning/theano-tutorial/intro_theano/intro_theano.pdf) and use this notebook for hands-on practice of the concepts.\n",
    "\n",
    "## Basic usage\n",
    "\n",
    "### Defining an expression"
   ]
  },
  {
   "cell_type": "code",
   "execution_count": 2,
   "metadata": {
    "collapsed": false
   },
   "outputs": [],
   "source": [
    "import theano\n",
    "from theano import tensor as T\n",
    "x = T.vector('x')\n",
    "W = T.matrix('W')\n",
    "b = T.vector('b')"
   ]
  },
  {
   "cell_type": "code",
   "execution_count": 3,
   "metadata": {
    "collapsed": false
   },
   "outputs": [],
   "source": [
    "dot = T.dot(x, W)\n",
    "out = T.nnet.sigmoid(dot + b)"
   ]
  },
  {
   "cell_type": "markdown",
   "metadata": {},
   "source": [
    "### Graph visualization"
   ]
  },
  {
   "cell_type": "code",
   "execution_count": 4,
   "metadata": {
    "collapsed": false
   },
   "outputs": [
    {
     "name": "stdout",
     "output_type": "stream",
     "text": [
      "dot [@A] ''   \n",
      " |x [@B]\n",
      " |W [@C]\n"
     ]
    }
   ],
   "source": [
    "from theano.printing import debugprint\n",
    "debugprint(dot)"
   ]
  },
  {
   "cell_type": "code",
   "execution_count": 5,
   "metadata": {
    "collapsed": false
   },
   "outputs": [
    {
     "name": "stdout",
     "output_type": "stream",
     "text": [
      "sigmoid [@A] ''   \n",
      " |Elemwise{add,no_inplace} [@B] ''   \n",
      "   |dot [@C] ''   \n",
      "   | |x [@D]\n",
      "   | |W [@E]\n",
      "   |b [@F]\n"
     ]
    }
   ],
   "source": [
    "debugprint(out)"
   ]
  },
  {
   "cell_type": "markdown",
   "metadata": {},
   "source": [
    "### Compiling a Theano function"
   ]
  },
  {
   "cell_type": "code",
   "execution_count": 6,
   "metadata": {
    "collapsed": false
   },
   "outputs": [],
   "source": [
    "f = theano.function(inputs=[x, W], outputs=dot,allow_input_downcast=True)\n",
    "g = theano.function([x, W, b], out,allow_input_downcast=True)\n",
    "h = theano.function([x, W, b], [dot, out],allow_input_downcast=True)\n",
    "i = theano.function([x, W, b], [dot + b, out],allow_input_downcast=True)"
   ]
  },
  {
   "cell_type": "markdown",
   "metadata": {},
   "source": [
    "### Graph visualization"
   ]
  },
  {
   "cell_type": "code",
   "execution_count": 7,
   "metadata": {
    "collapsed": false
   },
   "outputs": [
    {
     "name": "stdout",
     "output_type": "stream",
     "text": [
      "CGemv{inplace} [@A] ''   3\n",
      " |Alloc [@B] ''   2\n",
      " | |TensorConstant{0.0} [@C]\n",
      " | |Shape_i{1} [@D] ''   1\n",
      " |   |W [@E]\n",
      " |TensorConstant{1.0} [@F]\n",
      " |InplaceDimShuffle{1,0} [@G] 'W.T'   0\n",
      " | |W [@E]\n",
      " |x [@H]\n",
      " |TensorConstant{0.0} [@C]\n"
     ]
    }
   ],
   "source": [
    "debugprint(f)"
   ]
  },
  {
   "cell_type": "code",
   "execution_count": 8,
   "metadata": {
    "collapsed": false
   },
   "outputs": [
    {
     "name": "stdout",
     "output_type": "stream",
     "text": [
      "Elemwise{ScalarSigmoid}[(0, 0)] [@A] ''   2\n",
      " |CGemv{no_inplace} [@B] ''   1\n",
      "   |b [@C]\n",
      "   |TensorConstant{1.0} [@D]\n",
      "   |InplaceDimShuffle{1,0} [@E] 'W.T'   0\n",
      "   | |W [@F]\n",
      "   |x [@G]\n",
      "   |TensorConstant{1.0} [@D]\n"
     ]
    }
   ],
   "source": [
    "debugprint(g)"
   ]
  },
  {
   "cell_type": "code",
   "execution_count": 9,
   "metadata": {
    "collapsed": false
   },
   "outputs": [
    {
     "ename": "RuntimeError",
     "evalue": "Failed to import pydot. You must install pydot for `pydotprint` to work.",
     "output_type": "error",
     "traceback": [
      "\u001b[1;31m\u001b[0m",
      "\u001b[1;31mRuntimeError\u001b[0mTraceback (most recent call last)",
      "\u001b[1;32m<ipython-input-9-1481499deb15>\u001b[0m in \u001b[0;36m<module>\u001b[1;34m()\u001b[0m\n\u001b[0;32m      1\u001b[0m \u001b[1;32mfrom\u001b[0m \u001b[0mtheano\u001b[0m\u001b[1;33m.\u001b[0m\u001b[0mprinting\u001b[0m \u001b[1;32mimport\u001b[0m \u001b[0mpydotprint\u001b[0m\u001b[1;33m\u001b[0m\u001b[0m\n\u001b[1;32m----> 2\u001b[1;33m \u001b[0mpydotprint\u001b[0m\u001b[1;33m(\u001b[0m\u001b[0mf\u001b[0m\u001b[1;33m,\u001b[0m \u001b[0moutfile\u001b[0m\u001b[1;33m=\u001b[0m\u001b[1;34m'pydotprint_f.png'\u001b[0m\u001b[1;33m)\u001b[0m\u001b[1;33m\u001b[0m\u001b[0m\n\u001b[0m",
      "\u001b[1;32m/opt/conda/lib/python3.5/site-packages/theano/printing.py\u001b[0m in \u001b[0;36mpydotprint\u001b[1;34m(fct, outfile, compact, format, with_ids, high_contrast, cond_highlight, colorCodes, max_label_size, scan_graphs, var_with_name_simple, print_output_file, assert_nb_all_strings, return_image)\u001b[0m\n\u001b[0;32m    665\u001b[0m         \u001b[0mtopo\u001b[0m \u001b[1;33m=\u001b[0m \u001b[0mfct\u001b[0m\u001b[1;33m.\u001b[0m\u001b[0mtoposort\u001b[0m\u001b[1;33m(\u001b[0m\u001b[1;33m)\u001b[0m\u001b[1;33m\u001b[0m\u001b[0m\n\u001b[0;32m    666\u001b[0m     \u001b[1;32mif\u001b[0m \u001b[1;32mnot\u001b[0m \u001b[0mpydot_imported\u001b[0m\u001b[1;33m:\u001b[0m\u001b[1;33m\u001b[0m\u001b[0m\n\u001b[1;32m--> 667\u001b[1;33m         raise RuntimeError(\"Failed to import pydot. You must install pydot\"\n\u001b[0m\u001b[0;32m    668\u001b[0m                            \" for `pydotprint` to work.\")\n\u001b[0;32m    669\u001b[0m         \u001b[1;32mreturn\u001b[0m\u001b[1;33m\u001b[0m\u001b[0m\n",
      "\u001b[1;31mRuntimeError\u001b[0m: Failed to import pydot. You must install pydot for `pydotprint` to work."
     ]
    }
   ],
   "source": [
    "from theano.printing import pydotprint\n",
    "pydotprint(f, outfile='pydotprint_f.png')"
   ]
  },
  {
   "cell_type": "code",
   "execution_count": null,
   "metadata": {
    "collapsed": false
   },
   "outputs": [],
   "source": [
    "from IPython.display import Image\n",
    "Image('pydotprint_f.png', width=1000)"
   ]
  },
  {
   "cell_type": "code",
   "execution_count": null,
   "metadata": {
    "collapsed": false
   },
   "outputs": [],
   "source": [
    "pydotprint(g, outfile='pydotprint_g.png')\n",
    "Image('pydotprint_g.png', width=1000)"
   ]
  },
  {
   "cell_type": "code",
   "execution_count": null,
   "metadata": {
    "collapsed": false
   },
   "outputs": [],
   "source": [
    "pydotprint(h, outfile='pydotprint_h.png')\n",
    "Image('pydotprint_h.png', width=1000)"
   ]
  },
  {
   "cell_type": "markdown",
   "metadata": {},
   "source": [
    "### Executing a Theano function"
   ]
  },
  {
   "cell_type": "code",
   "execution_count": null,
   "metadata": {
    "collapsed": false
   },
   "outputs": [],
   "source": [
    "import numpy as np\n",
    "np.random.seed(42)\n",
    "W_val = np.random.randn(4, 3)\n",
    "x_val = np.random.rand(4)\n",
    "b_val = np.ones(3)\n",
    "\n",
    "f(x_val, W_val)"
   ]
  },
  {
   "cell_type": "code",
   "execution_count": null,
   "metadata": {
    "collapsed": false
   },
   "outputs": [],
   "source": [
    "g(x_val, W_val, b_val)"
   ]
  },
  {
   "cell_type": "code",
   "execution_count": null,
   "metadata": {
    "collapsed": false
   },
   "outputs": [],
   "source": [
    "h(x_val, W_val, b_val)"
   ]
  },
  {
   "cell_type": "code",
   "execution_count": null,
   "metadata": {
    "collapsed": false
   },
   "outputs": [],
   "source": [
    "i(x_val, W_val, b_val)"
   ]
  },
  {
   "cell_type": "markdown",
   "metadata": {},
   "source": [
    "# Graph definition and Syntax\n",
    "## Graph structure"
   ]
  },
  {
   "cell_type": "code",
   "execution_count": null,
   "metadata": {
    "collapsed": false
   },
   "outputs": [],
   "source": [
    "pydotprint(f, compact=False, outfile='pydotprint_f_notcompact.png')\n",
    "Image('pydotprint_f_notcompact.png', width=1000)"
   ]
  },
  {
   "cell_type": "markdown",
   "metadata": {},
   "source": [
    "## Strong typing\n",
    "### Broadcasting tensors"
   ]
  },
  {
   "cell_type": "code",
   "execution_count": null,
   "metadata": {
    "collapsed": false
   },
   "outputs": [],
   "source": [
    "r = T.row('r')\n",
    "print(r.broadcastable)"
   ]
  },
  {
   "cell_type": "code",
   "execution_count": null,
   "metadata": {
    "collapsed": false
   },
   "outputs": [],
   "source": [
    "c = T.col('c')\n",
    "print(c.broadcastable)"
   ]
  },
  {
   "cell_type": "code",
   "execution_count": null,
   "metadata": {
    "collapsed": false
   },
   "outputs": [],
   "source": [
    "f = theano.function([r, c], r + c,allow_input_downcast=True)\n",
    "print(f([[1, 2, 3]], [[.1], [.2]]))"
   ]
  },
  {
   "cell_type": "markdown",
   "metadata": {},
   "source": [
    "# Graph Transformations\n",
    "## Substitution and Cloning\n",
    "### The `givens` keyword"
   ]
  },
  {
   "cell_type": "code",
   "execution_count": null,
   "metadata": {
    "collapsed": false
   },
   "outputs": [],
   "source": [
    "x_ = T.vector('x_')\n",
    "x_n = (x_ - x_.mean()) / x_.std()\n",
    "f_n = theano.function([x_, W], dot, givens={x: x_n},allow_input_downcast=True)\n",
    "f_n(x_val, W_val)"
   ]
  },
  {
   "cell_type": "markdown",
   "metadata": {},
   "source": [
    "### Cloning with replacement"
   ]
  },
  {
   "cell_type": "code",
   "execution_count": null,
   "metadata": {
    "collapsed": false
   },
   "outputs": [],
   "source": [
    "dot_n, out_n = theano.clone([dot, out], replace={x: (x - x.mean()) / x.std()})                        \n",
    "f_n = theano.function([x, W], dot_n,allow_input_downcast=True)                                                                  \n",
    "f_n(x_val, W_val)"
   ]
  },
  {
   "cell_type": "markdown",
   "metadata": {},
   "source": [
    "## Gradient\n",
    "### Using `theano.grad`"
   ]
  },
  {
   "cell_type": "code",
   "execution_count": null,
   "metadata": {
    "collapsed": false
   },
   "outputs": [],
   "source": [
    "y = T.vector('y')\n",
    "C = ((out - y) ** 2).sum()\n",
    "dC_dW = theano.grad(C, W)\n",
    "dC_db = theano.grad(C, b)\n",
    "# dC_dW, dC_db = theano.grad(C, [W, b])"
   ]
  },
  {
   "cell_type": "markdown",
   "metadata": {},
   "source": [
    "### Using the gradients"
   ]
  },
  {
   "cell_type": "code",
   "execution_count": null,
   "metadata": {
    "collapsed": false
   },
   "outputs": [],
   "source": [
    "cost_and_grads = theano.function([x, W, b, y], [C, dC_dW, dC_db],allow_input_downcast=True)\n",
    "y_val = np.random.uniform(size=3)\n",
    "print(cost_and_grads(x_val, W_val, b_val, y_val))"
   ]
  },
  {
   "cell_type": "code",
   "execution_count": null,
   "metadata": {
    "collapsed": false
   },
   "outputs": [],
   "source": [
    "upd_W = W - 0.1 * dC_dW\n",
    "upd_b = b - 0.1 * dC_db\n",
    "cost_and_upd = theano.function([x, W, b, y], [C, upd_W, upd_b],allow_input_downcast=True)\n",
    "print(cost_and_upd(x_val, W_val, b_val, y_val))"
   ]
  },
  {
   "cell_type": "code",
   "execution_count": null,
   "metadata": {
    "collapsed": false
   },
   "outputs": [],
   "source": [
    "pydotprint(cost_and_upd, outfile='pydotprint_cost_and_upd.png')\n",
    "Image('pydotprint_cost_and_upd.png', width=1000)"
   ]
  },
  {
   "cell_type": "markdown",
   "metadata": {},
   "source": [
    "## Shared variables\n",
    "### Update values"
   ]
  },
  {
   "cell_type": "code",
   "execution_count": null,
   "metadata": {
    "collapsed": false
   },
   "outputs": [],
   "source": [
    "C_val, dC_dW_val, dC_db_val = cost_and_grads(x_val, W_val, b_val, y_val)\n",
    "W_val -= 0.1 * dC_dW_val\n",
    "b_val -= 0.1 * dC_db_val\n",
    "\n",
    "C_val, W_val, b_val = cost_and_upd(x_val, W_val, b_val, y_val)"
   ]
  },
  {
   "cell_type": "markdown",
   "metadata": {},
   "source": [
    "### Using shared variables"
   ]
  },
  {
   "cell_type": "code",
   "execution_count": null,
   "metadata": {
    "collapsed": false
   },
   "outputs": [],
   "source": [
    "x = T.vector('x')\n",
    "y = T.vector('y')\n",
    "W = theano.shared(W_val)\n",
    "b = theano.shared(b_val)\n",
    "dot = T.dot(x, W)\n",
    "out = T.nnet.sigmoid(dot + b)\n",
    "f = theano.function([x], dot,allow_input_downcast=True)  # W is an implicit input\n",
    "g = theano.function([x], out,allow_input_downcast=True)  # W and b are implicit inputs\n",
    "print(f(x_val))"
   ]
  },
  {
   "cell_type": "code",
   "execution_count": null,
   "metadata": {
    "collapsed": false
   },
   "outputs": [],
   "source": [
    "print(g(x_val))"
   ]
  },
  {
   "cell_type": "markdown",
   "metadata": {},
   "source": [
    "### Updating shared variables"
   ]
  },
  {
   "cell_type": "code",
   "execution_count": null,
   "metadata": {
    "collapsed": false
   },
   "outputs": [],
   "source": [
    "C = ((out - y) ** 2).sum()\n",
    "dC_dW, dC_db = theano.grad(C, [W, b])\n",
    "upd_W = W - 0.1 * dC_dW\n",
    "upd_b = b - 0.1 * dC_db\n",
    "\n",
    "cost_and_perform_updates = theano.function(\n",
    "    inputs=[x, y],\n",
    "    outputs=C,\n",
    "    updates=[(W, upd_W),\n",
    "             (b, upd_b)])"
   ]
  },
  {
   "cell_type": "code",
   "execution_count": null,
   "metadata": {
    "collapsed": false
   },
   "outputs": [],
   "source": [
    "pydotprint(cost_and_perform_updates, outfile='pydotprint_cost_and_perform_updates.png')\n",
    "Image('pydotprint_cost_and_perform_updates.png', width=1000)"
   ]
  },
  {
   "cell_type": "markdown",
   "metadata": {},
   "source": [
    "# Advanced Topics\n",
    "## Extending Theano\n",
    "### The easy way: Python"
   ]
  },
  {
   "cell_type": "code",
   "execution_count": null,
   "metadata": {
    "collapsed": false
   },
   "outputs": [],
   "source": [
    "import theano\n",
    "import numpy\n",
    "from theano.compile.ops import as_op\n",
    "\n",
    "def infer_shape_numpy_dot(node, input_shapes):\n",
    "    ashp, bshp = input_shapes\n",
    "    return [ashp[:-1] + bshp[-1:]]\n",
    "\n",
    "@as_op(itypes=[theano.tensor.fmatrix, theano.tensor.fmatrix],\n",
    "       otypes=[theano.tensor.fmatrix], infer_shape=infer_shape_numpy_dot)\n",
    "def numpy_dot(a, b):\n",
    "   return numpy.dot(a, b)"
   ]
  }
 ],
 "metadata": {
  "kernelspec": {
   "display_name": "Python 3",
   "language": "python",
   "name": "python3"
  },
  "language_info": {
   "codemirror_mode": {
    "name": "ipython",
    "version": 3
   },
   "file_extension": ".py",
   "mimetype": "text/x-python",
   "name": "python",
   "nbconvert_exporter": "python",
   "pygments_lexer": "ipython3",
   "version": "3.5.0"
  },
  "widgets": {
   "state": {},
   "version": "1.1.2"
  }
 },
 "nbformat": 4,
 "nbformat_minor": 0
}
