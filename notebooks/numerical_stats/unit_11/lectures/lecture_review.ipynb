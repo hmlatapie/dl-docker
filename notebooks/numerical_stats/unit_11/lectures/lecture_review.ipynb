{
 "cells": [
  {
   "cell_type": "markdown",
   "metadata": {
    "slideshow": {
     "slide_type": "slide"
    }
   },
   "source": [
    "Unit 11, Review\n",
    "====\n",
    "\n",
    "*Numerical Methods and Statistics*\n",
    "\n",
    "----\n",
    "\n",
    "#### Prof. Andrew White, April 17 2016"
   ]
  },
  {
   "cell_type": "markdown",
   "metadata": {
    "slideshow": {
     "slide_type": "slide"
    }
   },
   "source": [
    "We've seen the following types of regression:\n",
    "\n",
    "1. Ordinary least squares with 1 x dimension and 1 y dimension (OLS-1D). Solve with equation.\n",
    "2. Ordinary least squares with N x dimensions and 1  y dimension (OLS-ND). Solve with matrix equation\n",
    "3. Non-linear least squares with N x dimensions and 1 y dimension (NLS-ND). Solve with SSR minimization"
   ]
  },
  {
   "cell_type": "markdown",
   "metadata": {
    "slideshow": {
     "slide_type": "slide"
    }
   },
   "source": [
    "We've seen the following changes we can make to a problem to make regression possible:\n",
    "\n",
    "1. Linearizing a problem, often polynomials, to make it an N dimensional regression (OSL-ND)\n",
    "2. Representing categories or yes/no data as binary variables"
   ]
  },
  {
   "cell_type": "markdown",
   "metadata": {
    "slideshow": {
     "slide_type": "slide"
    }
   },
   "source": [
    "Finally, we've seen the following modifications due to measurement error:\n",
    "\n",
    "1. OLS-1D with measurement error in x, y or both. "
   ]
  },
  {
   "cell_type": "markdown",
   "metadata": {
    "slideshow": {
     "slide_type": "slide"
    }
   },
   "source": [
    "Now we'll look at some examples and choose which approach to take from the above types of regression"
   ]
  },
  {
   "cell_type": "markdown",
   "metadata": {
    "slideshow": {
     "slide_type": "slide"
    }
   },
   "source": [
    "Exampe 1\n",
    "---\n",
    "\n",
    "We have data on the US population below for the years 1998-2016. We would like to be able to predict it for the year 2017\n"
   ]
  },
  {
   "cell_type": "code",
   "execution_count": 30,
   "metadata": {
    "collapsed": false,
    "slideshow": {
     "slide_type": "subslide"
    }
   },
   "outputs": [
    {
     "data": {
      "image/png": "[encoded data removed]",
      "text/plain": [
       "<matplotlib.figure.Figure at 0x7fd80d9d94e0>"
      ]
     },
     "metadata": {},
     "output_type": "display_data"
    }
   ],
   "source": [
    "plt.plot(pop_x, pop_y, 'o')\n",
    "plt.xlabel('Year')\n",
    "plt.ylabel('Population [Millions]')\n",
    "plt.show()"
   ]
  },
  {
   "cell_type": "markdown",
   "metadata": {
    "slideshow": {
     "slide_type": "subslide"
    }
   },
   "source": [
    "Example 1 Answer\n",
    "----\n",
    "\n",
    "This is a simple OLS-1D problem. Although population growth is exponential, over this range it is linear enough. "
   ]
  },
  {
   "cell_type": "markdown",
   "metadata": {
    "slideshow": {
     "slide_type": "slide"
    }
   },
   "source": [
    "Exmaple 2\n",
    "---\n",
    "\n",
    "We have data on selectivity in a membrane as a function of temperature and if we added graphene nanofibers to the membrane. Fit a model to describe the data. Selectivity is the number of moles of the desired product in the efflux over the number of moles of the undesired product. "
   ]
  },
  {
   "cell_type": "markdown",
   "metadata": {
    "slideshow": {
     "slide_type": "subslide"
    }
   },
   "source": [
    "Exmaple 2 Answer\n",
    "---\n",
    "\n",
    "This is a 2 dimensional problem: temperature and yes/no graphene fibers. This can be answered using OLS-ND. One more issue though is that we need an intercept. We would not expect selectivity to be 0 at absolute zero. Therefore our x-matrix will have the following columns: $[1, T, \\delta_{g}]$ where $\\delta_g$ indicates if graphene fibers are used. \n",
    "\n",
    "Here's an example of building this with real data. Let's say we did 5 experiments with and 5 experiments without graphene at a range of temperatures. "
   ]
  },
  {
   "cell_type": "code",
   "execution_count": 40,
   "metadata": {
    "collapsed": false,
    "slideshow": {
     "slide_type": "subslide"
    }
   },
   "outputs": [
    {
     "name": "stdout",
     "output_type": "stream",
     "text": [
      "[[   1.  280.    1.]\n",
      " [   1.  285.    1.]\n",
      " [   1.  290.    1.]\n",
      " [   1.  295.    1.]\n",
      " [   1.  300.    1.]\n",
      " [   1.  280.    0.]\n",
      " [   1.  285.    0.]\n",
      " [   1.  290.    0.]\n",
      " [   1.  295.    0.]\n",
      " [   1.  300.    0.]]\n"
     ]
    }
   ],
   "source": [
    "graphene_used = np.concatenate( (np.ones(5), np.zeros(5)) )\n",
    "temperature = np.concatenate( (T, T) )\n",
    "intercept = np.ones(10)\n",
    "\n",
    "x_mat = np.column_stack( (intercept, temperature, graphene_used) )\n",
    "print(x_mat)"
   ]
  },
  {
   "cell_type": "markdown",
   "metadata": {
    "slideshow": {
     "slide_type": "slide"
    }
   },
   "source": [
    "Example 3\n",
    "---\n",
    "\n",
    "We have data on traffic fatalities per at each day of the year and whether or not it's raining. Create a model equation for the data."
   ]
  },
  {
   "cell_type": "markdown",
   "metadata": {
    "slideshow": {
     "slide_type": "subslide"
    }
   },
   "source": [
    "Example 3 Answer\n",
    "---\n",
    "\n",
    "This is actually a very complex regression. Rather than try to regress against time, we could use the following category variables:\n",
    "\n",
    "1. Is it a holiday\n",
    "2. Is it raining\n",
    "3. Is it a weekend or weekday"
   ]
  },
  {
   "cell_type": "markdown",
   "metadata": {
    "slideshow": {
     "slide_type": "slide"
    }
   },
   "source": [
    "Example 4\n",
    "---\n",
    "\n",
    "Someone has proposed that conversion efficiency in a chemical reaction depends on the product of the temperature and concentration of one of the reagents. What equation could you use to represent this?"
   ]
  },
  {
   "cell_type": "markdown",
   "metadata": {
    "slideshow": {
     "slide_type": "subslide"
    }
   },
   "source": [
    "Example 4 Answer\n",
    "---\n",
    "\n",
    "We could take two approaches here. We could use non-linear regression over $T$, $c$ and an intercept. This would give an x-matrix of $[T, c, 1]$. OR, we could linearize it to the $T\\times c$ dimension. Then our x-matrix would be $[Tc, 1]$"
   ]
  },
  {
   "cell_type": "markdown",
   "metadata": {
    "slideshow": {
     "slide_type": "slide"
    }
   },
   "source": [
    "Example 5\n",
    "---\n",
    "\n",
    "You are making a regression of reaction rate vs concentration of reactant 1. Through error propogation, you estimate that your reaction rate measurement has an uncertainty of 2.5 inverse seconds. What regression technique should you use?"
   ]
  },
  {
   "cell_type": "markdown",
   "metadata": {
    "slideshow": {
     "slide_type": "subslide"
    }
   },
   "source": [
    "Example 5 Answer\n",
    "----\n",
    "\n",
    "We do not know if it is linear or non-linear, but we will for sure have to use a measurement error technique. The error is in the dependent variable. "
   ]
  },
  {
   "cell_type": "code",
   "execution_count": 11,
   "metadata": {
    "collapsed": true,
    "slideshow": {
     "slide_type": "skip"
    }
   },
   "outputs": [],
   "source": [
    "%matplotlib inline\n",
    "import numpy as np\n",
    "import matplotlib.pyplot as plt\n",
    "plt.style.use('fivethirtyeight')\n",
    "import scipy.stats as ss"
   ]
  },
  {
   "cell_type": "code",
   "execution_count": 42,
   "metadata": {
    "collapsed": false,
    "slideshow": {
     "slide_type": "skip"
    }
   },
   "outputs": [],
   "source": [
    "pop_x = np.arange(1998, 2016)\n",
    "pop_y = 275.9 * np.exp((pop_x - 1998) * 0.005) + ss.norm.rvs(size=len(pop_x)) * 0.2\n",
    "T = np.arange(280, 280 + 5 * 5, 5)"
   ]
  }
 ],
 "metadata": {
  "celltoolbar": "Slideshow",
  "kernelspec": {
   "display_name": "Python 3",
   "language": "python",
   "name": "python3"
  },
  "language_info": {
   "codemirror_mode": {
    "name": "ipython",
    "version": 3
   },
   "file_extension": ".py",
   "mimetype": "text/x-python",
   "name": "python",
   "nbconvert_exporter": "python",
   "pygments_lexer": "ipython3",
   "version": "3.5.1"
  }
 },
 "nbformat": 4,
 "nbformat_minor": 0
}
