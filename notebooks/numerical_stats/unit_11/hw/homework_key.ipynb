{
 "cells": [
  {
   "cell_type": "markdown",
   "metadata": {},
   "source": [
    "Homework 10 Key\n",
    "===\n",
    "#### CHE 116: Numerical Methods and Statistics\n",
    "Prof. Andrew White\n",
    "\n",
    "Version 1 (3/30/2016)\n",
    "\n",
    "----"
   ]
  },
  {
   "cell_type": "markdown",
   "metadata": {},
   "source": [
    "0. Revise a Problem (15 Bonus Points on HW 7)\n",
    "====\n",
    "\n",
    "Revist a problem you got wrong on homework 7. If you got a perfect score in homework 7, state that fact. Go through each part you missed and state what your answer was and what your mistake was. If you completed this already on homework 8, state that you completed this on homework 8\n",
    "\n",
    "For example:\n",
    "\n",
    "#### Problem 1.1\n",
    "\n",
    "My answer used the scipy `comb` function instead of `factorial`. \n"
   ]
  },
  {
   "cell_type": "markdown",
   "metadata": {},
   "source": [
    "1. Short Answer Problems (16 Points)\n",
    "====\n",
    "\n",
    "1. A $t$-test and $zM$ test rely on the assumption of normality. How could you test that assumption?\n",
    "2. What is $\\hat{\\alpha}$ in OLS? Use words.\n",
    "3. What is $S_{\\epsilon}$ in OLS? Use words. \n",
    "4. What is the difference between SSR and TSS? Use words\n",
    "5. We learned three ways to do regression. One way was with algebraic equations (OLS-1D). What were the other two ways?\n",
    "6. What are the steps to complete for a good regression analysis?\n",
    "7. Is a goodness of fit applicable to a non-linear regression?\n",
    "8. If you residuals are not normal, is a regression still valid?"
   ]
  },
  {
   "cell_type": "markdown",
   "metadata": {},
   "source": [
    "1. Answers\n",
    "===\n",
    "\n",
    "1. Shapiro Wilks\n",
    "2. The best-fit intercept\n",
    "3. The standard error in residuals\n",
    "4. SSR is the sum of squared distance between fit y and data y. TTS is the sum of squared distance between average y and all y data.\n",
    "5. With optimization (minimization) and matrix algebra\n",
    "6. (1) Justify with Spearmann test (2) Regress (3) Check normality of residuals (4) hypothesis tests/confidence intervals as needed\n",
    "7. Yes\n",
    "8. no"
   ]
  },
  {
   "cell_type": "markdown",
   "metadata": {},
   "source": [
    "2. Exercises (24 Points)\n",
    "====\n",
    "\n",
    "1. Are these numbers normally distributed? `[-26.6,-24.0, -20.9, -25.8, -24.3, -22.6, -23.0, -26.8, -26.5, -23.6, -20.0, -23.1, -22.4, -22.5]`\n",
    "2. Given $\\hat{\\alpha} = 1.2$, $\\hat{\\beta} = -5.3$, $N = 14$, $S^2_\\alpha = 0.8$, $S^2_\\epsilon = 0.2$, $S^2_\\beta = 12$, conduct a hypothesis test on the existence of the intercept.\n",
    "3. Conduct a hpyothesis test for the slope being negative using the above data. This is a one-sided hypothesis test. *Hint: a good null hypothesis would be that the slope is positive*\n",
    "4. Write a function which computes the SSR for $\\hat{y} = \\beta_0 + \\beta_1 \\cos \\beta_2 x $. Your function should take in one argument. You may assume $x$ and $y$ are defined. \n",
    "5. In OLS-ND, if my ${\\mathbf X}$ has dimensions of $53 \\times 5$, how many degrees of freedom do I have?\n",
    "6. If my model equation is $\\hat{z} = \\beta_0 x y^{\\,\\beta_1}$, what would ${\\mathbf F_{21}}$ be if $\\hat{\\beta_0} = 1.5$, $\\hat{\\beta_1} = 2.0$, $x_1 = 1.0$, $x_2 = 1.5$, $y_1 = 0.5$, $y_2 = 1.2$."
   ]
  },
  {
   "cell_type": "markdown",
   "metadata": {},
   "source": [
    "#### 2.1 Answer"
   ]
  },
  {
   "cell_type": "code",
   "execution_count": 1,
   "metadata": {
    "collapsed": false
   },
   "outputs": [
    {
     "data": {
      "text/plain": [
       "(0.9431244730949402, 0.459816575050354)"
      ]
     },
     "execution_count": 1,
     "metadata": {},
     "output_type": "execute_result"
    }
   ],
   "source": [
    "import scipy.stats as ss\n",
    "\n",
    "ss.shapiro([-26.6,-24.0, -20.9, -25.8, -24.3, -22.6, -23.0, -26.8, -26.5, -23.6, -20.0, -23.1, -22.4, -22.5])"
   ]
  },
  {
   "cell_type": "markdown",
   "metadata": {},
   "source": [
    "The $p$-value is 0.46, so the data is likely normal"
   ]
  },
  {
   "cell_type": "markdown",
   "metadata": {},
   "source": [
    "#### 2.2 Answer\n",
    "\n",
    "The null hypothesis is that $\\hat{\\alpha} = 0$. Since we're testing against the null hpyothesis, our degrees of freedom will be $N - 1$. "
   ]
  },
  {
   "cell_type": "code",
   "execution_count": 8,
   "metadata": {
    "collapsed": false
   },
   "outputs": [
    {
     "data": {
      "text/plain": [
       "0.29320175545643901"
      ]
     },
     "execution_count": 8,
     "metadata": {},
     "output_type": "execute_result"
    }
   ],
   "source": [
    "import numpy as np\n",
    "T = (1.2 - 0) / np.sqrt(1.2)\n",
    "1 - (ss.t.cdf(T, 14- 1) - ss.t.cdf(-T, 14- 1))"
   ]
  },
  {
   "cell_type": "markdown",
   "metadata": {},
   "source": [
    "The $p$-value is 0.29, so we cannot reject the null hypothesis. No intercept necessary"
   ]
  },
  {
   "cell_type": "markdown",
   "metadata": {},
   "source": [
    "#### 2.3 Answer\n",
    "\n",
    "Let's make the null hypothesis that the slope is positive. We will create a T statistic, which should correspond to some interval/$p$-value that gets smaller (closer to our significance threshold) as we get more negative in our slope. This will work:\n",
    "\n",
    "$$ p = \\int_{-\\infty}^{T} p(T)$$ \n",
    "\n",
    "where $T$ is our negative value reflecting how negative the slope is.\n",
    "\n",
    "You can use 1 or 2 deducted degrees of freedom. 1 is correct, since there is no degree of freedom for the intercept here, but it's a little bit tricky to see that."
   ]
  },
  {
   "cell_type": "code",
   "execution_count": 11,
   "metadata": {
    "collapsed": false
   },
   "outputs": [
    {
     "data": {
      "text/plain": [
       "0.074992802274412171"
      ]
     },
     "execution_count": 11,
     "metadata": {},
     "output_type": "execute_result"
    }
   ],
   "source": [
    "T = -5.3 / np.sqrt(12)\n",
    "ss.t.cdf(T, 14 - 1)"
   ]
  },
  {
   "cell_type": "markdown",
   "metadata": {},
   "source": [
    "Due to the high standard error, there is not enough evidence to reject the null hpyothesis of a positive slope"
   ]
  },
  {
   "cell_type": "markdown",
   "metadata": {},
   "source": [
    "#### 2.4 Answer"
   ]
  },
  {
   "cell_type": "code",
   "execution_count": null,
   "metadata": {
    "collapsed": true
   },
   "outputs": [],
   "source": [
    "def ssr(beta):\n",
    "    yhat=  beta[0] + beta[1] * np.cos(x * beta[2])\n",
    "    return np.sum( (y - yhat)**2)"
   ]
  },
  {
   "cell_type": "markdown",
   "metadata": {},
   "source": [
    "#### 2.5 Answer\n",
    "\n",
    "$N - D = 43$"
   ]
  },
  {
   "cell_type": "markdown",
   "metadata": {},
   "source": [
    "2.6 Answer\n",
    "---\n",
    "\n",
    "$$F_{21} = \\frac{\\partial f(\\hat{\\beta}, x_2)}{\\partial \\beta_1} = \\hat{\\beta}_0 x_2 y_2^{\\hat{\\beta}_1} \\ln y_2$$\n"
   ]
  },
  {
   "cell_type": "code",
   "execution_count": 2,
   "metadata": {
    "collapsed": false
   },
   "outputs": [
    {
     "data": {
      "text/plain": [
       "0.5907218440124128"
      ]
     },
     "execution_count": 2,
     "metadata": {},
     "output_type": "execute_result"
    }
   ],
   "source": [
    "from math import log\n",
    "1.5 * 1.5 * 1.2**(2.0) * log(1.2)"
   ]
  },
  {
   "cell_type": "markdown",
   "metadata": {},
   "source": [
    "3. Regression in Excel (30 Points)\n",
    "===\n",
    "\n",
    "Regress the data in the next cell to a slope/intercept equation. Use the `np.savetxt` to create a CSV file. Provide the following labeled/bolded quantities at the top of your Excel file:\n",
    "\n",
    "1. The slope with confidence interval\n",
    "2. The intercept with confidence interval\n",
    "3. A $p$-value for existence of slope. Use Excel to generate your T value.\n",
    "\n",
    "You do not need to do all the steps for a good regression, but do make a plot of your fit and the data. Use the `linest` command in Excel to compute the slope/intercept and standard errors"
   ]
  },
  {
   "cell_type": "code",
   "execution_count": 13,
   "metadata": {
    "collapsed": true
   },
   "outputs": [],
   "source": [
    "x = [0.5,1.3, 2.1, 1.0, 2.1, 1.7, 1.2, 3.9, 3.9, 1.5, 3.5, 3.9, 5.7, 4.7, 5.8, 4.6, 5.1, 5.9, 5.5, 6.4, 6.7, 7.8, 7.4, 6.7, 8.4, 6.9, 10.2, 9.7, 10.0, 9.9]\n",
    "y = [-1.6,0.5, 3.0, 3.1, 1.5, -1.8, -3.6, 7.0, 8.6, 2.2, 9.3, 3.6, 14.1, 9.5, 14.0, 7.4, 6.4, 17.2, 11.8, 12.2, 18.9, 21.9, 20.6, 15.7, 23.7, 13.6, 26.8, 22.0, 27.5, 23.3]"
   ]
  },
  {
   "cell_type": "code",
   "execution_count": 15,
   "metadata": {
    "collapsed": false
   },
   "outputs": [],
   "source": [
    "np.savetxt(fname='data.csv', delimiter=',', X=np.column_stack( (x, y)))"
   ]
  },
  {
   "cell_type": "markdown",
   "metadata": {},
   "source": [
    "Answer\n",
    "====\n",
    "\n",
    "As reported by linest:\n",
    "\n",
    "1. Slope is $3.0 \\pm 0.3$\n",
    "2. Intercept is $-4 \\pm 2$\n",
    "3. The $p$-value is $0.00016$"
   ]
  },
  {
   "cell_type": "markdown",
   "metadata": {},
   "source": [
    "4. Regression in Matlab (30 Points)\n",
    "===\n",
    "\n",
    "Regress the following non-linear equation in Matlab:\n",
    "\n",
    "$$y =\\beta_0 + \\beta_1 x + \\beta_2 x^2 $$\n",
    "\n",
    "Perform the regression with and without $\\beta_2$. Should there be a $\\beta_2$ term? Justify your answer. You do not need to do all the steps for a good regression. Do plot your two regressions and original data.\n",
    "\n",
    "*Hints*:\n",
    "\n",
    "1. Try doing this in a MATLAB notebook so that you have syntax highlighting and autocomplete\n",
    "2. We do not have the stats module installed for Matlab, so if you have a T-statistic you need to evaluate use a quick python cell or look it up in a table.\n",
    "3. If you find yourself doing very complex optimization, stop and think. "
   ]
  },
  {
   "cell_type": "code",
   "execution_count": 4,
   "metadata": {
    "collapsed": true
   },
   "outputs": [],
   "source": [
    "x = [-5.8,-4.6, -3.9, -3.4, -1.8, -2.1, -3.0, -0.8, 0.4, -0.2, -0.4, -0.0, 2.0, 1.1, 1.4, 1.2, 3.3, 4.3, 4.3, 3.0]\n",
    "y = [-6.4,-7.7, -9.3, -9.2, -8.9, -7.3, -9.5, -5.0, -3.7, -6.9, -4.0, -3.8, 2.6, -0.6, -0.7, -0.1, 5.0, 4.8, 8.5, 2.5]"
   ]
  },
  {
   "cell_type": "markdown",
   "metadata": {},
   "source": [
    "4 Answer\n",
    "===\n",
    "\n",
    "We will linearize the equation to dimensions $\\left[1, x, x^2\\right]$ and dimensions $\\left[1, x\\right]$ using the equations from lecture notes. Note: writing the code below is easier done in a matlab notebook and then copied back. That will you give you autocomplete, syntax highlighting, etc."
   ]
  },
  {
   "cell_type": "code",
   "execution_count": 2,
   "metadata": {
    "collapsed": false
   },
   "outputs": [
    {
     "name": "stderr",
     "output_type": "stream",
     "text": [
      "/opt/conda/lib/python3.5/site-packages/IPython/nbformat.py:13: ShimWarning: The `IPython.nbformat` package has been deprecated. You should import from nbformat instead.\n",
      "  \"You should import from nbformat instead.\", ShimWarning)\n"
     ]
    },
    {
     "name": "stdout",
     "output_type": "stream",
     "text": [
      "Starting MATLAB on ZMQ socket ipc:///tmp/pymatbridge-63ba66af-af8a-4c0d-b79b-387d517c5d21\n",
      "Send 'exit' command to kill the server\n",
      "......MATLAB started and connected!\n"
     ]
    }
   ],
   "source": [
    "%load_ext pymatbridge"
   ]
  },
  {
   "cell_type": "code",
   "execution_count": 69,
   "metadata": {
    "collapsed": false
   },
   "outputs": [
    {
     "data": {
      "text/plain": [
       "\n",
       "beta_mat_1 =\n",
       "\n",
       "   -2.5642\n",
       "    1.6834\n",
       "\n",
       "\n",
       "beta_mat_2 =\n",
       "\n",
       "   -4.2625\n",
       "    1.8871\n",
       "    0.2124\n",
       "\n",
       "\n",
       "dof_2 =\n",
       "\n",
       "    17\n",
       "\n",
       "\n",
       "s_b_2 =\n",
       "\n",
       "    0.4589\n",
       "    0.1228\n",
       "    0.0392\n",
       "\n",
       "\n",
       "T =\n",
       "\n",
       "    0.4629         0         0\n",
       "\n"
      ]
     },
     "metadata": {},
     "output_type": "display_data"
    },
    {
     "data": {
      "image/png": "[encoded data removed]"
     },
     "metadata": {},
     "output_type": "display_data"
    }
   ],
   "source": [
    "%%matlab\n",
    "\n",
    "x = [-5.8,-4.6, -3.9, -3.4, -1.8, -2.1, -3.0, -0.8, 0.4, -0.2, -0.4, -0.0, 2.0, 1.1, 1.4, 1.2, 3.3, 4.3, 4.3, 3.0];\n",
    "y = [-6.4,-7.7, -9.3, -9.2, -8.9, -7.3, -9.5, -5.0, -3.7, -6.9, -4.0, -3.8, 2.6, -0.6, -0.7, -0.1, 5.0, 4.8, 8.5, 2.5];\n",
    "[nothing N] = size(x);\n",
    "\n",
    "%get regressed fit\n",
    "x_mat_1 = cat(1, ones(1, N), x)';\n",
    "beta_mat_1 = inv(x_mat_1' * x_mat_1) * x_mat_1' * y'\n",
    "\n",
    "%get regressed fit for 2nd degree polynomial\n",
    "x_mat_2 = cat(1, ones(1, N), x, x .^ 2)';\n",
    "beta_mat_2 = inv(x_mat_2' * x_mat_2) * x_mat_2' * y'\n",
    "\n",
    "%get DOF\n",
    "dof_2 = N - 3\n",
    "\n",
    "%get error\n",
    "s2_e_2 = sum((x_mat_2 * beta_mat_2 - y') .^ 2) / dof_2;\n",
    "s_b_2 = sqrt(diag((s2_e_2 * inv(x_mat_2' * x_mat_2))))\n",
    "\n",
    "%compute T-value\n",
    "T = beta_mat_2(3) / s_b_2\n",
    "\n",
    "%for plotting, some of the x values are out of order so I'll make new ones\n",
    "\n",
    "x_plot = linspace(-6, 5, 100);\n",
    "x_mat_plot_2 = cat(1, ones(1, 100), x_plot, x_plot .^ 2)';               \n",
    "x_mat_plot_1 = cat(1, ones(1, 100), x_plot)';               \n",
    "                              \n",
    "               \n",
    "plot(x, y, 'o')\n",
    "hold on\n",
    "plot(x_plot, x_mat_plot_1 * beta_mat_1, '-')\n",
    "plot(x_plot, x_mat_plot_2 * beta_mat_2, '-')\n",
    "legend('data', 'fit - line', 'fit - 2nd degree')           "
   ]
  },
  {
   "cell_type": "markdown",
   "metadata": {},
   "source": [
    "Our $T$-value is 0.46. Our MATLAB install doesn't have the stats add-on, so we'll use a table or Python to look up the CDF function. Our degrees of freedom comes from the null hypothesis, which is $N - 2 = 18$"
   ]
  },
  {
   "cell_type": "code",
   "execution_count": 70,
   "metadata": {
    "collapsed": false
   },
   "outputs": [
    {
     "data": {
      "text/plain": [
       "0.67448795203602119"
      ]
     },
     "execution_count": 70,
     "metadata": {},
     "output_type": "execute_result"
    }
   ],
   "source": [
    "import scipy.stats as ss\n",
    "\n",
    "1 - (ss.t.cdf(0.46, 18) - ss.t.cdf(-0.46, 18))"
   ]
  },
  {
   "cell_type": "markdown",
   "metadata": {},
   "source": [
    "So we do not have enough evidence for the extra $x^2$ term in the regression. The fit parameters are -2.5 (intercept) and 1.7 (slope)"
   ]
  },
  {
   "cell_type": "markdown",
   "metadata": {},
   "source": [
    "5. Python Regression (40 Points)\n",
    "===\n",
    "\n",
    "Regress the following data to this equation:\n",
    "\n",
    "$$ \\hat{y} = \\beta_0 \\ln \\frac{x}{\\beta_1} $$\n",
    "\n",
    "Follow regression best practices, including writing out all necessary equations in Markdown"
   ]
  },
  {
   "cell_type": "code",
   "execution_count": 72,
   "metadata": {
    "collapsed": true
   },
   "outputs": [],
   "source": [
    "x = [1.4,2.3, 3.7, 5.3, 6.6, 8.2, 10.2, 11.8, 12.7, 13.3, 14.6, 17.3, 18.6, 19.5, 21.6, 22.7, 23.6, 24.1]\n",
    "y = [1.0,0.3, -0.1, -0.1, -0.3, -0.4, -0.4, -0.5, -0.4, -0.5, -0.4, -0.6, -0.8, -0.8, -0.6, -0.9, -0.7, -1.1]"
   ]
  },
  {
   "cell_type": "markdown",
   "metadata": {},
   "source": [
    "Answer\n",
    "===="
   ]
  },
  {
   "cell_type": "markdown",
   "metadata": {},
   "source": [
    "Justification for Regression - 5 Points\n",
    "----"
   ]
  },
  {
   "cell_type": "code",
   "execution_count": 73,
   "metadata": {
    "collapsed": false
   },
   "outputs": [
    {
     "data": {
      "text/plain": [
       "SpearmanrResult(correlation=-0.94908957538478655, pvalue=1.9331992674483357e-09)"
      ]
     },
     "execution_count": 73,
     "metadata": {},
     "output_type": "execute_result"
    }
   ],
   "source": [
    "ss.spearmanr(x, y)"
   ]
  },
  {
   "cell_type": "markdown",
   "metadata": {},
   "source": [
    "There is a strong correlation in the data, with a $p$-value of $10^{-9}$. This indicates a regression is justified to perform"
   ]
  },
  {
   "cell_type": "markdown",
   "metadata": {},
   "source": [
    "Regression - 15 Points\n",
    "---"
   ]
  },
  {
   "cell_type": "code",
   "execution_count": 76,
   "metadata": {
    "collapsed": false
   },
   "outputs": [
    {
     "data": {
      "text/plain": [
       "163.68741683206491"
      ]
     },
     "execution_count": 76,
     "metadata": {},
     "output_type": "execute_result"
    }
   ],
   "source": [
    "import numpy as np\n",
    "import scipy.optimize as opt\n",
    "def ssr(betas, data):\n",
    "    '''Compute the SSR given the betas and the data. The data should be a list containing two arrays, the x and y data.'''\n",
    "    x = data[0]\n",
    "    y = data[1]\n",
    "    yhat = betas[0] * np.log(x / betas[1])\n",
    "    return np.sum((yhat - y)**2)\n",
    "\n",
    "#test my function\n",
    "betas = [1,1]\n",
    "x = np.array(x)\n",
    "y = np.array (y)\n",
    "ssr(betas, data=[x, y])"
   ]
  },
  {
   "cell_type": "code",
   "execution_count": 80,
   "metadata": {
    "collapsed": false
   },
   "outputs": [
    {
     "name": "stdout",
     "output_type": "stream",
     "text": [
      "[-0.54241704  4.88797879]\n",
      "[  3.06930609e-02   1.98446026e+06]\n"
     ]
    }
   ],
   "source": [
    "result = opt.minimize(ssr, x0=[1,1], args=([x,y],))\n",
    "print(result.x)\n",
    "\n",
    "#check another point to see if it's non-concex\n",
    "\n",
    "result = opt.minimize(ssr, x0=[-2,100], args=([x,y]))\n",
    "print(result.x)"
   ]
  },
  {
   "cell_type": "markdown",
   "metadata": {},
   "source": [
    "This is a non-convex problem based on this test. I will use basin-hopping then"
   ]
  },
  {
   "cell_type": "code",
   "execution_count": 85,
   "metadata": {
    "collapsed": false
   },
   "outputs": [
    {
     "name": "stderr",
     "output_type": "stream",
     "text": [
      "/opt/conda/lib/python3.5/site-packages/ipykernel/__main__.py:7: RuntimeWarning: invalid value encountered in log\n",
      "/opt/conda/lib/python3.5/site-packages/ipykernel/__main__.py:7: RuntimeWarning: invalid value encountered in log\n",
      "/opt/conda/lib/python3.5/site-packages/ipykernel/__main__.py:7: RuntimeWarning: invalid value encountered in log\n"
     ]
    },
    {
     "name": "stdout",
     "output_type": "stream",
     "text": [
      "                        fun: nan\n",
      " lowest_optimization_result:       fun: nan\n",
      " hess_inv: array([[1, 0],\n",
      "       [0, 1]])\n",
      "      jac: array([ nan,  nan])\n",
      "  message: 'Desired error not necessarily achieved due to precision loss.'\n",
      "     nfev: 168\n",
      "      nit: 1\n",
      "     njev: 42\n",
      "   status: 2\n",
      "  success: False\n",
      "        x: array([ -7.95180056e+08,  -1.68578072e+08])\n",
      "                    message: ['requested number of basinhopping iterations completed successfully']\n",
      "      minimization_failures: 1001\n",
      "                       nfev: 4168\n",
      "                        nit: 1000\n",
      "                       njev: 1042\n",
      "                          x: array([ -7.95180056e+08,  -1.68578072e+08])\n"
     ]
    }
   ],
   "source": [
    "minimizer_kwargs = {'args': ([x,y])}\n",
    "result = opt.basinhopping(ssr, x0=[1000,1000], niter=1000, minimizer_kwargs=minimizer_kwargs)\n",
    "print(result)"
   ]
  },
  {
   "cell_type": "markdown",
   "metadata": {},
   "source": [
    "It tried to put negative values in a log, so I will add a bound"
   ]
  },
  {
   "cell_type": "code",
   "execution_count": 86,
   "metadata": {
    "collapsed": false
   },
   "outputs": [
    {
     "name": "stderr",
     "output_type": "stream",
     "text": [
      "/opt/conda/lib/python3.5/site-packages/ipykernel/__main__.py:7: RuntimeWarning: divide by zero encountered in true_divide\n",
      "/opt/conda/lib/python3.5/site-packages/scipy/optimize/optimize.py:562: RuntimeWarning: invalid value encountered in double_scalars\n",
      "  grad[k] = (f(*((xk + d,) + args)) - f0) / d[k]\n"
     ]
    },
    {
     "name": "stdout",
     "output_type": "stream",
     "text": [
      "                        fun: 0.40943835301483816\n",
      " lowest_optimization_result:       fun: 0.40943835301483816\n",
      " hess_inv: <2x2 LbfgsInvHessProduct with dtype=float64>\n",
      "      jac: array([  1.88737914e-07,   5.55111512e-09])\n",
      "  message: b'CONVERGENCE: NORM_OF_PROJECTED_GRADIENT_<=_PGTOL'\n",
      "     nfev: 267\n",
      "      nit: 44\n",
      "   status: 0\n",
      "  success: True\n",
      "        x: array([-0.54241703,  4.88797866])\n",
      "                    message: ['requested number of basinhopping iterations completed successfully']\n",
      "      minimization_failures: 11\n",
      "                       nfev: 403323\n",
      "                        nit: 10000\n",
      "                          x: array([-0.54241703,  4.88797866])\n"
     ]
    }
   ],
   "source": [
    "minimizer_kwargs = {'args': ([x,y]), 'bounds':[(-np.infty, np.infty), (10**-10, np.infty)]}\n",
    "result = opt.basinhopping(ssr, x0=[100,100], niter=10000, minimizer_kwargs=minimizer_kwargs)\n",
    "print(result)"
   ]
  },
  {
   "cell_type": "code",
   "execution_count": 87,
   "metadata": {
    "collapsed": true
   },
   "outputs": [],
   "source": [
    "#store them in a nice spot for later\n",
    "beta_hat = result.x"
   ]
  },
  {
   "cell_type": "markdown",
   "metadata": {},
   "source": [
    "Checking Residuals and Fit - 5 Points\n",
    "---"
   ]
  },
  {
   "cell_type": "code",
   "execution_count": 91,
   "metadata": {
    "collapsed": false
   },
   "outputs": [
    {
     "data": {
      "image/png": "[encoded data removed]",
      "text/plain": [
       "<matplotlib.figure.Figure at 0x7fef6869a550>"
      ]
     },
     "metadata": {},
     "output_type": "display_data"
    },
    {
     "name": "stdout",
     "output_type": "stream",
     "text": [
      "(0.9713913798332214, 0.8234127163887024)\n",
      "0.894730890526\n"
     ]
    }
   ],
   "source": [
    "import matplotlib.pyplot as plt\n",
    "%matplotlib inline\n",
    "resids = beta_hat[0] * np.log(x / beta_hat[1]) - y\n",
    "plt.hist(resids)\n",
    "plt.show()\n",
    "print(ss.shapiro(resids))\n",
    "\n",
    "SSR = np.sum(resids ** 2)\n",
    "TSS = np.sum((np.mean(y) - y)**2)\n",
    "print(1 - SSR / TSS)"
   ]
  },
  {
   "cell_type": "markdown",
   "metadata": {},
   "source": [
    "The $R^2$ value is $0.895$ and the $p$-value for normality is $0.82$. These two data together show that the residuals are likely normally distributed and the regression fits well"
   ]
  },
  {
   "cell_type": "markdown",
   "metadata": {},
   "source": [
    "Plotting the fit - 5 Points\n",
    "---"
   ]
  },
  {
   "cell_type": "code",
   "execution_count": 93,
   "metadata": {
    "collapsed": false
   },
   "outputs": [
    {
     "data": {
      "image/png": "[encoded data removed]",
      "text/plain": [
       "<matplotlib.figure.Figure at 0x7fef4e2c13c8>"
      ]
     },
     "metadata": {},
     "output_type": "display_data"
    }
   ],
   "source": [
    "plt.plot(x,y,'o', label='data')\n",
    "plt.plot(x, beta_hat[0] * np.log(x / beta_hat[1]), label='fit')\n",
    "plt.legend()\n",
    "plt.show()"
   ]
  },
  {
   "cell_type": "markdown",
   "metadata": {},
   "source": [
    "The fit looks excellent"
   ]
  },
  {
   "cell_type": "markdown",
   "metadata": {},
   "source": [
    "Error Analysis - 10 Points\n",
    "---\n",
    "\n",
    "The partials needed for error analysis are:\n",
    "\n",
    "$$\\frac{\\partial f(x_i, \\hat{\\beta})}{\\partial \\beta_0} = \\ln \\frac{x}{\\beta_1}$$\n",
    "\n",
    "$$\\frac{\\partial f(x_i, \\hat{\\beta})}{\\partial \\beta_1} = -\\beta_0 \\frac{\\beta_1}{x} \\frac{x}{\\beta_1^2} = -\\frac{\\beta_0}{\\beta_1}$$"
   ]
  },
  {
   "cell_type": "code",
   "execution_count": 106,
   "metadata": {
    "collapsed": false
   },
   "outputs": [
    {
     "data": {
      "text/latex": [
       "$\\beta_0 = -0.54 \\pm 0.099$"
      ],
      "text/plain": [
       "<IPython.core.display.Latex object>"
      ]
     },
     "metadata": {},
     "output_type": "display_data"
    },
    {
     "data": {
      "text/latex": [
       "$\\beta_1 = 4.9 \\pm 0.98$"
      ],
      "text/plain": [
       "<IPython.core.display.Latex object>"
      ]
     },
     "metadata": {},
     "output_type": "display_data"
    }
   ],
   "source": [
    "import scipy.linalg as linalg\n",
    "\n",
    "#compute the F-matrix \n",
    "F_mat = np.column_stack( (np.log(x / beta_hat[1]), np.ones(len(x)) * -beta_hat[0] / beta_hat[1]) )\n",
    "\n",
    "#standard error in residuals\n",
    "s2_e = np.sum(resids**2) / (len(x) - len(beta_hat))\n",
    "#standard error in parametrs\n",
    "s2_b = s2_e * linalg.inv(F_mat.transpose().dot(F_mat))\n",
    "#go from matrix of squares to actual standard errors\n",
    "s_b = np.sqrt(np.diag(s2_b))\n",
    "\n",
    "#use a for loop to print them all pretty\n",
    "from IPython import display\n",
    "\n",
    "for beta, se,i in zip(beta_hat, s_b, range(len(s_b))):\n",
    "    display.display(display.Latex('$\\\\beta_{} = {:.2} \\pm {:.2}$'.format(i, beta, se * ss.t.ppf(0.975, len(x) - len(beta_hat)))))"
   ]
  }
 ],
 "metadata": {
  "kernelspec": {
   "display_name": "Python 3",
   "language": "python",
   "name": "python3"
  },
  "language_info": {
   "codemirror_mode": {
    "name": "ipython",
    "version": 3
   },
   "file_extension": ".py",
   "mimetype": "text/x-python",
   "name": "python",
   "nbconvert_exporter": "python",
   "pygments_lexer": "ipython3",
   "version": "3.4.2"
  }
 },
 "nbformat": 4,
 "nbformat_minor": 0
}
