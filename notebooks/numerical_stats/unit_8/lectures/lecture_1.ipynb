{
 "cells": [
  {
   "cell_type": "markdown",
   "metadata": {
    "slideshow": {
     "slide_type": "slide"
    }
   },
   "source": [
    "Unit 8, Lecture 1\n",
    "====\n",
    "\n",
    "*Numerical Methods and Statistics*\n",
    "\n",
    "----\n",
    "\n",
    "#### Prof. Andrew White,  March 1, 2016"
   ]
  },
  {
   "cell_type": "code",
   "execution_count": 2,
   "metadata": {
    "collapsed": false,
    "hide_input": false,
    "slideshow": {
     "slide_type": "skip"
    }
   },
   "outputs": [],
   "source": [
    "%matplotlib inline\n",
    "import numpy as np\n",
    "import matplotlib.pyplot as plt\n",
    "plt.style.use(['../../che116.mplstyle'])"
   ]
  },
  {
   "cell_type": "markdown",
   "metadata": {
    "slideshow": {
     "slide_type": "slide"
    }
   },
   "source": [
    "Numerical Optimization - Root Finding\n",
    "====\n",
    "\n",
    "What is $x$ in\n",
    "\n",
    "$$\\cos (x) = x$$"
   ]
  },
  {
   "cell_type": "markdown",
   "metadata": {
    "slideshow": {
     "slide_type": "fragment"
    }
   },
   "source": [
    "To use a root-finding method, we must make our equation have one side be 0.\n",
    "\n",
    "$$\\cos (x) - x = 0$$"
   ]
  },
  {
   "cell_type": "markdown",
   "metadata": {
    "slideshow": {
     "slide_type": "slide"
    }
   },
   "source": [
    "Newton's Method - For finding Roots\n",
    "===="
   ]
  },
  {
   "cell_type": "code",
   "execution_count": 3,
   "metadata": {
    "collapsed": false,
    "slideshow": {
     "slide_type": "fragment"
    }
   },
   "outputs": [
    {
     "name": "stdout",
     "output_type": "stream",
     "text": [
      "0.739085133215 0.0\n"
     ]
    }
   ],
   "source": [
    "from scipy.optimize import newton\n",
    "\n",
    "root =  newton(lambda x: np.cos(x) - x, x0=0)\n",
    "print(root, np.cos(root) - root)"
   ]
  },
  {
   "cell_type": "markdown",
   "metadata": {
    "slideshow": {
     "slide_type": "fragment"
    }
   },
   "source": [
    "$$x_{i+1} = x_i - \\frac{f(x_i)}{f'(x_i)}$$"
   ]
  },
  {
   "cell_type": "raw",
   "metadata": {
    "slideshow": {
     "slide_type": "subslide"
    }
   },
   "source": [
    "<div class=\"naked-img\">\n",
    "    <img src=\"http://upload.wikimedia.org/wikipedia/commons/e/e0/NewtonIteration_Ani.gif\"/>\n",
    "    <p>     Source: Wikipedia, Newton's Method </p>\n",
    "</div>"
   ]
  },
  {
   "cell_type": "markdown",
   "metadata": {
    "slideshow": {
     "slide_type": "subslide"
    }
   },
   "source": [
    "Newton's Method\n",
    "====\n",
    "\n",
    "**Type:** Root Finding\n",
    "\n",
    "**Discrete/Continuous:** Continuous\n",
    "\n",
    "**Dimensions:** 1\n",
    "\n",
    "**Derivative:** optional\n",
    "\n",
    "**Convex:** yes\n",
    "\n",
    "**Python:** `newton`"
   ]
  },
  {
   "cell_type": "markdown",
   "metadata": {
    "slideshow": {
     "slide_type": "slide"
    }
   },
   "source": [
    "Let's try to solve a more interesting equation with Newton's method!\n",
    "\n",
    "$$ \\int_0^x e^{-s^2}\\,ds = \\frac{1}{2}$$\n",
    "\n",
    "Find $s$"
   ]
  },
  {
   "cell_type": "code",
   "execution_count": 8,
   "metadata": {
    "collapsed": false,
    "slideshow": {
     "slide_type": "subslide"
    }
   },
   "outputs": [
    {
     "ename": "TypeError",
     "evalue": "can't multiply sequence by non-int of type 'float'",
     "output_type": "error",
     "traceback": [
      "\u001b[1;31m---------------------------------------------------------------------------\u001b[0m",
      "\u001b[1;31mTypeError\u001b[0m                                 Traceback (most recent call last)",
      "\u001b[1;32m<ipython-input-8-183836e33b8e>\u001b[0m in \u001b[0;36m<module>\u001b[1;34m()\u001b[0m\n\u001b[0;32m      3\u001b[0m \u001b[1;32mdef\u001b[0m \u001b[0mequation\u001b[0m\u001b[1;33m(\u001b[0m\u001b[0mx\u001b[0m\u001b[1;33m)\u001b[0m\u001b[1;33m:\u001b[0m\u001b[1;33m\u001b[0m\u001b[0m\n\u001b[0;32m      4\u001b[0m     \u001b[1;32mreturn\u001b[0m \u001b[0mquad\u001b[0m\u001b[1;33m(\u001b[0m\u001b[1;32mlambda\u001b[0m \u001b[0ms\u001b[0m\u001b[1;33m:\u001b[0m \u001b[0mnp\u001b[0m\u001b[1;33m.\u001b[0m\u001b[0mexp\u001b[0m\u001b[1;33m(\u001b[0m\u001b[1;33m-\u001b[0m\u001b[0ms\u001b[0m\u001b[1;33m**\u001b[0m\u001b[1;36m2\u001b[0m\u001b[1;33m)\u001b[0m\u001b[1;33m,\u001b[0m \u001b[1;36m0\u001b[0m\u001b[1;33m,\u001b[0m \u001b[0mx\u001b[0m\u001b[1;33m)\u001b[0m\u001b[1;33m\u001b[0m\u001b[0m\n\u001b[1;32m----> 5\u001b[1;33m \u001b[0mroot\u001b[0m \u001b[1;33m=\u001b[0m \u001b[0mnewton\u001b[0m\u001b[1;33m(\u001b[0m\u001b[0mequation\u001b[0m\u001b[1;33m,\u001b[0m \u001b[0mx0\u001b[0m\u001b[1;33m=\u001b[0m\u001b[1;36m0\u001b[0m\u001b[1;33m)\u001b[0m\u001b[1;33m\u001b[0m\u001b[0m\n\u001b[0m",
      "\u001b[1;32m/home/whitead/.local/lib/python3.4/site-packages/scipy/optimize/zeros.py\u001b[0m in \u001b[0;36mnewton\u001b[1;34m(func, x0, fprime, args, tol, maxiter, fprime2)\u001b[0m\n\u001b[0;32m    174\u001b[0m                 \u001b[1;32mreturn\u001b[0m \u001b[1;33m(\u001b[0m\u001b[0mp1\u001b[0m \u001b[1;33m+\u001b[0m \u001b[0mp0\u001b[0m\u001b[1;33m)\u001b[0m\u001b[1;33m/\u001b[0m\u001b[1;36m2.0\u001b[0m\u001b[1;33m\u001b[0m\u001b[0m\n\u001b[0;32m    175\u001b[0m             \u001b[1;32melse\u001b[0m\u001b[1;33m:\u001b[0m\u001b[1;33m\u001b[0m\u001b[0m\n\u001b[1;32m--> 176\u001b[1;33m                 \u001b[0mp\u001b[0m \u001b[1;33m=\u001b[0m \u001b[0mp1\u001b[0m \u001b[1;33m-\u001b[0m \u001b[0mq1\u001b[0m\u001b[1;33m*\u001b[0m\u001b[1;33m(\u001b[0m\u001b[0mp1\u001b[0m \u001b[1;33m-\u001b[0m \u001b[0mp0\u001b[0m\u001b[1;33m)\u001b[0m\u001b[1;33m/\u001b[0m\u001b[1;33m(\u001b[0m\u001b[0mq1\u001b[0m \u001b[1;33m-\u001b[0m \u001b[0mq0\u001b[0m\u001b[1;33m)\u001b[0m\u001b[1;33m\u001b[0m\u001b[0m\n\u001b[0m\u001b[0;32m    177\u001b[0m             \u001b[1;32mif\u001b[0m \u001b[0mabs\u001b[0m\u001b[1;33m(\u001b[0m\u001b[0mp\u001b[0m \u001b[1;33m-\u001b[0m \u001b[0mp1\u001b[0m\u001b[1;33m)\u001b[0m \u001b[1;33m<\u001b[0m \u001b[0mtol\u001b[0m\u001b[1;33m:\u001b[0m\u001b[1;33m\u001b[0m\u001b[0m\n\u001b[0;32m    178\u001b[0m                 \u001b[1;32mreturn\u001b[0m \u001b[0mp\u001b[0m\u001b[1;33m\u001b[0m\u001b[0m\n",
      "\u001b[1;31mTypeError\u001b[0m: can't multiply sequence by non-int of type 'float'"
     ]
    }
   ],
   "source": [
    "#Note: this code is intentially really bad\n",
    "from scipy.integrate import quad\n",
    "def equation(x):\n",
    "    return quad(lambda s: np.exp(-s**2), 0, x)\n",
    "root = newton(equation, x0=0)"
   ]
  },
  {
   "cell_type": "markdown",
   "metadata": {
    "slideshow": {
     "slide_type": "slide"
    }
   },
   "source": [
    "Steps for Debugging Code\n",
    "===="
   ]
  },
  {
   "cell_type": "markdown",
   "metadata": {
    "slideshow": {
     "slide_type": "fragment"
    }
   },
   "source": [
    "1. Correct any Python errors\n",
    "2. Restart the Kernel\n",
    "3. Correct any Python errors\n",
    "4. Print to discover logical errors"
   ]
  },
  {
   "cell_type": "markdown",
   "metadata": {
    "slideshow": {
     "slide_type": "fragment"
    }
   },
   "source": [
    "Most Common Mistakes\n",
    "----\n",
    "\n",
    "1. Copy-Pasta leaving in old variables\n",
    "2. Mixing Numpy arrays and `for` loops\n",
    "3. Confusing integer and floating point arithmetic\n",
    "4. Order of execution"
   ]
  },
  {
   "cell_type": "markdown",
   "metadata": {
    "slideshow": {
     "slide_type": "slide"
    }
   },
   "source": [
    "Review of Functions\n",
    "====\n",
    "\n",
    "For functions like `quad`, `newton`, and `minimize` the function should take in 1 argument and return 1 argument."
   ]
  },
  {
   "cell_type": "markdown",
   "metadata": {
    "slideshow": {
     "slide_type": "subslide"
    }
   },
   "source": [
    "Correct Examples\n",
    "===="
   ]
  },
  {
   "cell_type": "markdown",
   "metadata": {
    "slideshow": {
     "slide_type": "-"
    }
   },
   "source": [
    "$$x^2 - 3x + 2$$"
   ]
  },
  {
   "cell_type": "code",
   "execution_count": 9,
   "metadata": {
    "collapsed": false,
    "slideshow": {
     "slide_type": "fragment"
    }
   },
   "outputs": [
    {
     "name": "stdout",
     "output_type": "stream",
     "text": [
      "2.0\n",
      "2.0\n",
      "[2.0 2.0 2.0 2.0 2.0 2.0 2.0 2.0 2.0 2.0]\n"
     ]
    }
   ],
   "source": [
    "def version_1(x):\n",
    "    return x**2 - 3 *x + 2\n",
    "\n",
    "version_2 = lambda x: x ** 2 - 3 *x + 2\n",
    "\n",
    "np_version = np.frompyfunc(version_1, 1, 1)\n",
    "\n",
    "print(version_1(3.))\n",
    "print(version_2(3.))\n",
    "\n",
    "some_threes = np.zeros(10)\n",
    "some_threes[:] = 3.0 # -> Notice how we don't replace the numpy array with 3, but instead make all elements in it equal to three\n",
    "#some_threes = 3 -> This would delete the numpy array and now some_threes would be a single 3\n",
    "\n",
    "print(np_version(some_threes))"
   ]
  },
  {
   "cell_type": "markdown",
   "metadata": {
    "slideshow": {
     "slide_type": "subslide"
    }
   },
   "source": [
    "$$\\int_{\\pi}^x \\sin^2(s)\\,ds$$"
   ]
  },
  {
   "cell_type": "code",
   "execution_count": 10,
   "metadata": {
    "collapsed": false,
    "slideshow": {
     "slide_type": "fragment"
    }
   },
   "outputs": [
    {
     "name": "stdout",
     "output_type": "stream",
     "text": [
      "1.5707963267948966\n"
     ]
    }
   ],
   "source": [
    "from scipy.integrate import quad\n",
    "import numpy as np\n",
    "from math import pi\n",
    "\n",
    "def integrate_sin2(x):\n",
    "    ans, err = quad(lambda s: np.sin(s) ** 2, pi, x)\n",
    "    return ans\n",
    "    \n",
    "print(integrate_sin2(2 * pi))"
   ]
  },
  {
   "cell_type": "markdown",
   "metadata": {
    "slideshow": {
     "slide_type": "subslide"
    }
   },
   "source": [
    "2 Vectors, $\\vec{x}$ and $\\vec{y}$, where one component of $\\vec{x}$ is changing and we want to know the distance between the two vectors."
   ]
  },
  {
   "cell_type": "code",
   "execution_count": 11,
   "metadata": {
    "collapsed": false,
    "slideshow": {
     "slide_type": "fragment"
    }
   },
   "outputs": [
    {
     "name": "stdout",
     "output_type": "stream",
     "text": [
      "5.408326913195984\n"
     ]
    }
   ],
   "source": [
    "from math import sqrt\n",
    "\n",
    "def distance(x, y):\n",
    "    sum_sq = np.sum((x - y)**2)\n",
    "    return sqrt(sum_sq)\n",
    "\n",
    "def my_distance(s):\n",
    "    x = np.zeros(3)\n",
    "    y = np.zeros(3)\n",
    "    x[0] = 2.0\n",
    "    x[1] = s\n",
    "    x[2] = -3.5\n",
    "    y[0] = 1.0\n",
    "    y[1] = -3.0\n",
    "    y[2] = 0.0\n",
    "    return distance(x, y)\n",
    "\n",
    "print(my_distance(1))"
   ]
  },
  {
   "cell_type": "markdown",
   "metadata": {
    "slideshow": {
     "slide_type": "subslide"
    }
   },
   "source": [
    "Incorrect Examples\n",
    "----"
   ]
  },
  {
   "cell_type": "markdown",
   "metadata": {
    "slideshow": {
     "slide_type": "fragment"
    }
   },
   "source": [
    "### No Return Value"
   ]
  },
  {
   "cell_type": "code",
   "execution_count": 12,
   "metadata": {
    "collapsed": false
   },
   "outputs": [
    {
     "name": "stdout",
     "output_type": "stream",
     "text": [
      "None\n"
     ]
    }
   ],
   "source": [
    "def version_1(x):\n",
    "    x**2 - 3 *x + 2\n",
    "\n",
    "print(version_1(3.))"
   ]
  },
  {
   "cell_type": "markdown",
   "metadata": {
    "slideshow": {
     "slide_type": "subslide"
    }
   },
   "source": [
    "### Bad Return Value"
   ]
  },
  {
   "cell_type": "code",
   "execution_count": 13,
   "metadata": {
    "collapsed": false
   },
   "outputs": [
    {
     "name": "stdout",
     "output_type": "stream",
     "text": [
      "(1.5707963267948966, 1.743934249004316e-14)\n"
     ]
    }
   ],
   "source": [
    "def integrate_sin2(x):\n",
    "    return quad(lambda s: np.sin(s) ** 2, pi, x)\n",
    "\n",
    "print(integrate_sin2(2 * pi))"
   ]
  },
  {
   "cell_type": "markdown",
   "metadata": {
    "slideshow": {
     "slide_type": "subslide"
    }
   },
   "source": [
    "### Too many arguments"
   ]
  },
  {
   "cell_type": "code",
   "execution_count": 14,
   "metadata": {
    "collapsed": false,
    "scrolled": true
   },
   "outputs": [
    {
     "ename": "TypeError",
     "evalue": "distance() missing 1 required positional argument: 'y'",
     "output_type": "error",
     "traceback": [
      "\u001b[1;31m---------------------------------------------------------------------------\u001b[0m",
      "\u001b[1;31mTypeError\u001b[0m                                 Traceback (most recent call last)",
      "\u001b[1;32m<ipython-input-14-e521494b7f23>\u001b[0m in \u001b[0;36m<module>\u001b[1;34m()\u001b[0m\n\u001b[0;32m      3\u001b[0m     \u001b[1;32mreturn\u001b[0m \u001b[0msqrt\u001b[0m\u001b[1;33m(\u001b[0m\u001b[0msum_sq\u001b[0m\u001b[1;33m)\u001b[0m\u001b[1;33m\u001b[0m\u001b[0m\n\u001b[0;32m      4\u001b[0m \u001b[1;33m\u001b[0m\u001b[0m\n\u001b[1;32m----> 5\u001b[1;33m \u001b[0mprint\u001b[0m\u001b[1;33m(\u001b[0m\u001b[0mdistance\u001b[0m\u001b[1;33m(\u001b[0m\u001b[1;36m1\u001b[0m\u001b[1;33m)\u001b[0m\u001b[1;33m)\u001b[0m\u001b[1;33m\u001b[0m\u001b[0m\n\u001b[0m",
      "\u001b[1;31mTypeError\u001b[0m: distance() missing 1 required positional argument: 'y'"
     ]
    }
   ],
   "source": [
    "def distance(x, y):\n",
    "    sum_sq = np.sum((x - y)**2)\n",
    "    return sqrt(sum_sq)\n",
    "\n",
    "print(distance(1))"
   ]
  },
  {
   "cell_type": "markdown",
   "metadata": {
    "slideshow": {
     "slide_type": "slide"
    }
   },
   "source": [
    "Let's return to our example from above:\n",
    "\n",
    "$$ \\int_0^x e^{-s^2}\\,ds = \\frac{1}{2}$$\n",
    "\n",
    "Find $s$"
   ]
  },
  {
   "cell_type": "code",
   "execution_count": 15,
   "metadata": {
    "collapsed": false,
    "slideshow": {
     "slide_type": "subslide"
    }
   },
   "outputs": [
    {
     "name": "stdout",
     "output_type": "stream",
     "text": [
      "-4.5175088239502025e-29\n"
     ]
    }
   ],
   "source": [
    "#note still wrong\n",
    "def equation(x):\n",
    "    ans, err = quad(lambda s: np.exp(-s**2), 0, x)\n",
    "    return ans\n",
    "root = newton(lambda x: equation(x), x0=0)\n",
    "print(root)"
   ]
  },
  {
   "cell_type": "code",
   "execution_count": 16,
   "metadata": {
    "collapsed": false,
    "slideshow": {
     "slide_type": "subslide"
    }
   },
   "outputs": [
    {
     "data": {
      "text/plain": [
       "-4.5175088239502025e-29"
      ]
     },
     "execution_count": 16,
     "metadata": {},
     "output_type": "execute_result"
    }
   ],
   "source": [
    "equation(root)"
   ]
  },
  {
   "cell_type": "code",
   "execution_count": 17,
   "metadata": {
    "collapsed": false,
    "slideshow": {
     "slide_type": "fragment"
    }
   },
   "outputs": [
    {
     "name": "stdout",
     "output_type": "stream",
     "text": [
      "0.5510394276090266 0.49999999999999994\n"
     ]
    }
   ],
   "source": [
    "root = newton(lambda x: equation(x) - 0.5, x0=0)\n",
    "print(root, equation(root))"
   ]
  },
  {
   "cell_type": "markdown",
   "metadata": {
    "slideshow": {
     "slide_type": "subslide"
    }
   },
   "source": [
    "Scope\n",
    "----\n",
    "\n",
    "Scope means the set of variables and functions which are defined and accessible in your code"
   ]
  },
  {
   "cell_type": "code",
   "execution_count": 18,
   "metadata": {
    "collapsed": false,
    "slideshow": {
     "slide_type": "fragment"
    }
   },
   "outputs": [],
   "source": [
    "x = 4\n",
    "y = 2\n",
    "\n",
    "#Right now, there is x,y and all other functions/variables defined or imported above in the scope"
   ]
  },
  {
   "cell_type": "markdown",
   "metadata": {
    "slideshow": {
     "slide_type": "subslide"
    }
   },
   "source": [
    "Scopes nest\n",
    "----"
   ]
  },
  {
   "cell_type": "code",
   "execution_count": 19,
   "metadata": {
    "collapsed": false,
    "slideshow": {
     "slide_type": "fragment"
    }
   },
   "outputs": [],
   "source": [
    "x = 4\n",
    "y = 2\n",
    "#Here, I have x and y in scope\n",
    "def scope_example():\n",
    "    z = 2\n",
    "    #Here, I have x,y and z in scope\n",
    "    \n",
    "#Here I again have only x and y in scope"
   ]
  },
  {
   "cell_type": "code",
   "execution_count": 20,
   "metadata": {
    "collapsed": false,
    "scrolled": true,
    "slideshow": {
     "slide_type": "subslide"
    }
   },
   "outputs": [
    {
     "name": "stdout",
     "output_type": "stream",
     "text": [
      "2 Before function\n",
      "25 Inside function\n",
      "2 After Function\n"
     ]
    }
   ],
   "source": [
    "x = 4 \n",
    "y = 2\n",
    "print(y,\"Before function\")\n",
    "def scope_example():\n",
    "    y = 25 #This is a new version of y that exists only in this scope\n",
    "    print(y, \"Inside function\")\n",
    "scope_example()\n",
    "print(y, \"After Function\")"
   ]
  },
  {
   "cell_type": "code",
   "execution_count": 21,
   "metadata": {
    "collapsed": false,
    "slideshow": {
     "slide_type": "subslide"
    }
   },
   "outputs": [
    {
     "name": "stdout",
     "output_type": "stream",
     "text": [
      "[2] Before function\n",
      "[25] Inside function\n",
      "[25] After Function\n"
     ]
    }
   ],
   "source": [
    "x = 4 \n",
    "y = [2]\n",
    "print(y,\"Before function\")\n",
    "def scope_example():\n",
    "    y[0] = 25 #Here I'm not creating a y, but modifying y\n",
    "    print(y, \"Inside function\")\n",
    "scope_example()\n",
    "print(y, \"After Function\")"
   ]
  },
  {
   "cell_type": "markdown",
   "metadata": {
    "slideshow": {
     "slide_type": "subslide"
    }
   },
   "source": [
    "Things to remember about scope:\n",
    "\n",
    "1. Scopes nest, so that you can access things above your scope\n",
    "2. You can modify variables from any scope you can see, but ones you create disappear outside of the scope"
   ]
  },
  {
   "cell_type": "markdown",
   "metadata": {
    "slideshow": {
     "slide_type": "slide"
    }
   },
   "source": [
    "Returning to Optimization\n",
    "===="
   ]
  },
  {
   "cell_type": "markdown",
   "metadata": {
    "slideshow": {
     "slide_type": "slide"
    }
   },
   "source": [
    "Applications of Optimization\n",
    "===\n",
    "\n",
    "1. Solving non-linear equations\n",
    "2. Solving systems of equations\n",
    "3. Optimizing equations with our without constraints\n",
    "4. Fitting models to data"
   ]
  },
  {
   "cell_type": "markdown",
   "metadata": {
    "slideshow": {
     "slide_type": "slide"
    }
   },
   "source": [
    "Choosing which method to use\n",
    "----\n",
    "\n",
    "There are four things to consider when doing optimization:\n",
    "\n",
    "1. Is it 1 or N dimensions?\n",
    "2. Are you minimizing or root-finding?\n",
    "3. Are there constraints?\n",
    "4. Are there bounds?\n",
    "5. Is it convex or non-convex?"
   ]
  },
  {
   "cell_type": "markdown",
   "metadata": {
    "slideshow": {
     "slide_type": "slide"
    }
   },
   "source": [
    "Identifying Convexity\n",
    "====\n",
    "\n",
    "If a problem has more than one minimum (derivative is 0), then the problem is non-convex. **The opposite of convex is non-convex. A concave function can be made convex with a negative sign. A non-convex function cannot be made convex**."
   ]
  },
  {
   "cell_type": "markdown",
   "metadata": {
    "slideshow": {
     "slide_type": "fragment"
    }
   },
   "source": [
    "Knowing about convexity can come from:\n",
    "\n",
    "* Plots\n",
    "* Running convex optimization in two starting positions and getting different minimums\n",
    "* Knowing something specific about the problem"
   ]
  },
  {
   "cell_type": "markdown",
   "metadata": {
    "slideshow": {
     "slide_type": "fragment"
    }
   },
   "source": [
    "Consider a function with two minimums:"
   ]
  },
  {
   "cell_type": "code",
   "execution_count": 22,
   "metadata": {
    "collapsed": false,
    "slideshow": {
     "slide_type": "subslide"
    }
   },
   "outputs": [],
   "source": [
    "def two_well(x):\n",
    "    if x < 0.125:\n",
    "        return (x + 2) ** 2\n",
    "    if x >= 0.125:\n",
    "        return (x - 2) ** 2 + 1\n",
    "def two_well_d(x):\n",
    "    if x < 0.125:\n",
    "        return 2*(x + 2)\n",
    "    if x >= 0.125:\n",
    "        return 2 * (x - 2)\n",
    "    \n",
    "np_two_well = np.frompyfunc(two_well, 1, 1)\n",
    "np_two_well_d = np.frompyfunc(two_well_d, 1, 1)"
   ]
  },
  {
   "cell_type": "code",
   "execution_count": 23,
   "metadata": {
    "collapsed": false,
    "slideshow": {
     "slide_type": "subslide"
    }
   },
   "outputs": [
    {
     "data": {
      "image/png": "[encoded data removed]",
      "text/plain": [
       "<matplotlib.figure.Figure at 0x7f9d52706048>"
      ]
     },
     "metadata": {},
     "output_type": "display_data"
    }
   ],
   "source": [
    "x = np.linspace(-4, 4, 1000)\n",
    "plt.plot(x, np_two_well(x))\n",
    "plt.show()"
   ]
  },
  {
   "cell_type": "code",
   "execution_count": 24,
   "metadata": {
    "collapsed": false,
    "slideshow": {
     "slide_type": "subslide"
    }
   },
   "outputs": [
    {
     "data": {
      "text/plain": [
       "-1.9999999925494194"
      ]
     },
     "execution_count": 24,
     "metadata": {},
     "output_type": "execute_result"
    }
   ],
   "source": [
    "newton(func=np_two_well, x0=0, fprime=np_two_well_d)"
   ]
  },
  {
   "cell_type": "code",
   "execution_count": 25,
   "metadata": {
    "collapsed": false,
    "slideshow": {
     "slide_type": "fragment"
    }
   },
   "outputs": [
    {
     "name": "stderr",
     "output_type": "stream",
     "text": [
      "/home/whitead/.local/lib/python3.4/site-packages/scipy/optimize/zeros.py:142: RuntimeWarning: derivative was zero.\n",
      "  warnings.warn(msg, RuntimeWarning)\n"
     ]
    },
    {
     "data": {
      "text/plain": [
       "2.0"
      ]
     },
     "execution_count": 25,
     "metadata": {},
     "output_type": "execute_result"
    }
   ],
   "source": [
    "newton(func=np_two_well, x0=1, fprime=np_two_well_d)"
   ]
  },
  {
   "cell_type": "markdown",
   "metadata": {
    "slideshow": {
     "slide_type": "slide"
    }
   },
   "source": [
    "BFGS Optimization - Minimization\n",
    "====\n",
    "Broyden–Fletcher–Goldfarb–Shanno"
   ]
  },
  {
   "cell_type": "markdown",
   "metadata": {
    "slideshow": {
     "slide_type": "fragment"
    }
   },
   "source": [
    "BFGS\n",
    "====\n",
    "\n",
    "**Type:** Minimization\n",
    "\n",
    "**Discrete/Continuous:** Continuous\n",
    "\n",
    "**Dimensions:** N\n",
    "\n",
    "**Derivative:** optional\n",
    "\n",
    "**Convex:** yes\n",
    "\n",
    "**Python:** `minimize` if no constraints or bounds are given"
   ]
  },
  {
   "cell_type": "markdown",
   "metadata": {
    "slideshow": {
     "slide_type": "subslide"
    }
   },
   "source": [
    "Nomenclature\n",
    "----\n",
    "\n",
    "In optimization, you have a function called the **objective function**. That's what you're minimizing. It always returns a single value. It is sometimes called the **fit**, the **error**, the **residual**, or the **penalty**."
   ]
  },
  {
   "cell_type": "code",
   "execution_count": 26,
   "metadata": {
    "collapsed": false,
    "slideshow": {
     "slide_type": "subslide"
    }
   },
   "outputs": [
    {
     "data": {
      "image/png": "[encoded data removed]",
      "text/plain": [
       "<matplotlib.figure.Figure at 0x7f9d526621d0>"
      ]
     },
     "metadata": {},
     "output_type": "display_data"
    }
   ],
   "source": [
    "def obj(x):\n",
    "    return x**2\n",
    "\n",
    "x = np.linspace(-1,1,100)\n",
    "plt.plot(x, obj(x))\n",
    "plt.show()"
   ]
  },
  {
   "cell_type": "code",
   "execution_count": 27,
   "metadata": {
    "collapsed": false,
    "slideshow": {
     "slide_type": "subslide"
    }
   },
   "outputs": [
    {
     "data": {
      "text/plain": [
       "      fun: 5.552225540264749e-17\n",
       " hess_inv: array([[ 0.5]])\n",
       "      jac: array([ -1.49030213e-12])\n",
       "  message: 'Optimization terminated successfully.'\n",
       "     nfev: 12\n",
       "      nit: 2\n",
       "     njev: 4\n",
       "   status: 0\n",
       "  success: True\n",
       "        x: array([ -7.45132575e-09])"
      ]
     },
     "execution_count": 27,
     "metadata": {},
     "output_type": "execute_result"
    }
   ],
   "source": [
    "from scipy.optimize import minimize\n",
    "\n",
    "minimize(obj, x0=3)"
   ]
  },
  {
   "cell_type": "markdown",
   "metadata": {
    "slideshow": {
     "slide_type": "slide"
    }
   },
   "source": [
    "Minimize Return value\n",
    "----\n",
    "         fun: The value of the function at the minimum\n",
    "    hess_inv: The inverse of the the Hessian\n",
    "         jac: The value of the Jacobian\n",
    "     message: A string describing what happened\n",
    "        nfev: Number of function evaluations\n",
    "         nit: Number of iterations of the x point\n",
    "        njev: Number of times it computed the Jacobian\n",
    "      status: The single digit message (0 = success, != 0 some error)\n",
    "     success: Boolean indicating success\n",
    "           x: The minimum x"
   ]
  },
  {
   "cell_type": "markdown",
   "metadata": {
    "slideshow": {
     "slide_type": "slide"
    }
   },
   "source": [
    "Objective Functions\n",
    "===\n",
    "\n",
    "Using square error objective functions, you can achieve amazing things"
   ]
  },
  {
   "cell_type": "markdown",
   "metadata": {
    "slideshow": {
     "slide_type": "subslide"
    }
   },
   "source": [
    "Solve an equation with square error\n",
    "====\n",
    "\n",
    "$$ x^4 -x^3 + 2 x^2 - 3x = 5$$"
   ]
  },
  {
   "cell_type": "code",
   "execution_count": 30,
   "metadata": {
    "collapsed": false,
    "scrolled": true,
    "slideshow": {
     "slide_type": "fragment"
    }
   },
   "outputs": [
    {
     "name": "stdout",
     "output_type": "stream",
     "text": [
      "      fun: 1.4106600055951937e-14\n",
      " hess_inv: array([[ 0.00184901]])\n",
      "      jac: array([  1.23685257e-07])\n",
      "  message: 'Optimization terminated successfully.'\n",
      "     nfev: 36\n",
      "      nit: 4\n",
      "     njev: 12\n",
      "   status: 0\n",
      "  success: True\n",
      "        x: array([ 1.75645154])\n",
      "The answer is [ 1.75645154], which gives f(x) = [  1.41066001e-14]\n"
     ]
    }
   ],
   "source": [
    "def obj_fxn(x):\n",
    "    fx = x ** 4 - x ** 3 +  2 * x**2 - 3 * x\n",
    "    return (fx - 5) ** 2\n",
    "result = minimize(obj_fxn, x0=1)\n",
    "print (result)\n",
    "print ('The answer is {}, which gives f(x) = {}'.format(result.x, obj_fxn(result.x)))"
   ]
  },
  {
   "cell_type": "markdown",
   "metadata": {
    "slideshow": {
     "slide_type": "subslide"
    }
   },
   "source": [
    "Solve multiple equations with square error\n",
    "====\n",
    "\n",
    "$$ m = 4 $$\n",
    "$$ 2m = 8.5 $$\n",
    "$$ 3m = 11.2$$"
   ]
  },
  {
   "cell_type": "code",
   "execution_count": 31,
   "metadata": {
    "collapsed": false,
    "slideshow": {
     "slide_type": "fragment"
    }
   },
   "outputs": [
    {
     "name": "stdout",
     "output_type": "stream",
     "text": [
      "[ 3.89999999]\n"
     ]
    }
   ],
   "source": [
    "def obj_fxn(m):\n",
    "    p1 = (m - 4)**2\n",
    "    p2 = (2 * m - 8.5)**2\n",
    "    p3 = (3 * m - 11.2)**2\n",
    "    return p1 + p2 + p3\n",
    "result = minimize(obj_fxn, x0=4)\n",
    "print(result.x)\n"
   ]
  },
  {
   "cell_type": "markdown",
   "metadata": {
    "slideshow": {
     "slide_type": "slide"
    }
   },
   "source": [
    "Solving Multiple Equations\n",
    "===\n",
    "\n",
    "We've always had 1 dimensional outputs. For minimization, if we want to work with minimizing multiple quantities, we can just add them. What about solving multiple equations?"
   ]
  },
  {
   "cell_type": "markdown",
   "metadata": {
    "slideshow": {
     "slide_type": "subslide"
    }
   },
   "source": [
    "Solve this system of equations:\n",
    "\n",
    "$$ 3 x + 2y = 4$$\n",
    "$$ 2 x^2 - y = 2$$"
   ]
  },
  {
   "cell_type": "code",
   "execution_count": 32,
   "metadata": {
    "collapsed": false,
    "slideshow": {
     "slide_type": "fragment"
    }
   },
   "outputs": [
    {
     "name": "stdout",
     "output_type": "stream",
     "text": [
      "    fjac: array([[-0.78337449, -0.62155   ],\n",
      "       [ 0.62155   , -0.78337449]])\n",
      "     fun: array([  0.00000000e+00,   4.44089210e-16])\n",
      " message: 'The solution converged.'\n",
      "    nfev: 11\n",
      "     qtf: array([ -5.07911117e-12,  -6.40149002e-12])\n",
      "       r: array([-3.82958602, -0.12803865,  3.05638771])\n",
      "  status: 1\n",
      " success: True\n",
      "       x: array([ 1.08808749,  0.36786877])\n",
      "The answer:  [ 1.08808749  0.36786877]\n"
     ]
    }
   ],
   "source": [
    "from scipy.optimize import root\n",
    "\n",
    "def function(x):\n",
    "    ans = np.zeros(2)\n",
    "    ans[0] = 3 * x[0] + 2 * x[1] - 4\n",
    "    ans[1] = 2 * x[0] ** 2 - x[1] - 2\n",
    "    return ans\n",
    "x = root(function, x0=[0,0]) # <- notice how our function gives back multiple equations\n",
    "\n",
    "print(x)\n",
    "print('The answer: ', x.x)"
   ]
  },
  {
   "cell_type": "markdown",
   "metadata": {
    "slideshow": {
     "slide_type": "slide"
    }
   },
   "source": [
    "Powell hybrid method\n",
    "====\n",
    "\n",
    "**Type:** Root finding\n",
    "\n",
    "**Discrete/Continuous:** Continuous\n",
    "\n",
    "**Dimensions:** N\n",
    "\n",
    "**Derivative:** optional\n",
    "\n",
    "**Convex:** yes\n",
    "\n",
    "**Python:** `root` unless `method` argument specifies a different method"
   ]
  },
  {
   "cell_type": "markdown",
   "metadata": {
    "slideshow": {
     "slide_type": "slide"
    }
   },
   "source": [
    "Identifying Convexity for Minimization - Example\n",
    "----"
   ]
  },
  {
   "cell_type": "code",
   "execution_count": 22,
   "metadata": {
    "collapsed": false,
    "scrolled": false,
    "slideshow": {
     "slide_type": "subslide"
    }
   },
   "outputs": [
    {
     "data": {
      "image/png": "[encoded data removed]",
      "text/plain": [
       "<matplotlib.figure.Figure at 0x7fa783265198>"
      ]
     },
     "metadata": {},
     "output_type": "display_data"
    }
   ],
   "source": [
    "x = np.linspace(-1, 1, 1000)\n",
    "plt.plot(x,  2 * x ** 3 - 0 * x **2  - x)\n",
    "plt.show()"
   ]
  },
  {
   "cell_type": "code",
   "execution_count": 23,
   "metadata": {
    "collapsed": false,
    "scrolled": true,
    "slideshow": {
     "slide_type": "subslide"
    }
   },
   "outputs": [
    {
     "data": {
      "text/plain": [
       "      fun: -0.27216552697590846\n",
       " hess_inv: array([[ 0.20398928]])\n",
       "      jac: array([ -1.11758709e-08])\n",
       "  message: 'Optimization terminated successfully.'\n",
       "     nfev: 24\n",
       "      nit: 5\n",
       "     njev: 8\n",
       "   status: 0\n",
       "  success: True\n",
       "        x: array([ 0.40824828])"
      ]
     },
     "execution_count": 23,
     "metadata": {},
     "output_type": "execute_result"
    }
   ],
   "source": [
    "from scipy.optimize import minimize\n",
    "minimize(lambda x:  2 * x ** 3 - 0 * x **2  - x, x0=0.05)"
   ]
  },
  {
   "cell_type": "code",
   "execution_count": 24,
   "metadata": {
    "collapsed": false,
    "scrolled": false,
    "slideshow": {
     "slide_type": "subslide"
    }
   },
   "outputs": [
    {
     "data": {
      "image/png": "[encoded data removed]",
      "text/plain": [
       "<matplotlib.figure.Figure at 0x7fa78325a1d0>"
      ]
     },
     "metadata": {},
     "output_type": "display_data"
    }
   ],
   "source": [
    "x = np.linspace(-1, 1, 1000)\n",
    "plt.plot(x,  2 * x ** 3 - 0 * x **2  - x)\n",
    "plt.show()"
   ]
  },
  {
   "cell_type": "code",
   "execution_count": 25,
   "metadata": {
    "collapsed": false,
    "scrolled": false,
    "slideshow": {
     "slide_type": "subslide"
    }
   },
   "outputs": [
    {
     "data": {
      "text/plain": [
       "      fun: array([ -2.69222072e+08])\n",
       " hess_inv: array([[-0.00032489]])\n",
       "      jac: array([ 1575936.])\n",
       "  message: 'Desired error not necessarily achieved due to precision loss.'\n",
       "     nfev: 60\n",
       "      nit: 1\n",
       "     njev: 16\n",
       "   status: 2\n",
       "  success: False\n",
       "        x: array([-512.49995422])"
      ]
     },
     "execution_count": 25,
     "metadata": {},
     "output_type": "execute_result"
    }
   ],
   "source": [
    "from scipy.optimize import minimize\n",
    "minimize(lambda x:  2 * x ** 3 - 0 * x **2  - x, x0=-0.5)"
   ]
  },
  {
   "cell_type": "code",
   "execution_count": 1,
   "metadata": {
    "collapsed": false,
    "slideshow": {
     "slide_type": "skip"
    }
   },
   "outputs": [
    {
     "data": {
      "text/plain": [
       "['[NbConvertApp] Converting notebook Unit_8_Lecture_1.ipynb to slides',\n",
       " '[NbConvertApp] Writing 374370 bytes to Unit_8_Lecture_1.slides.html',\n",
       " '[NbConvertApp] Redirecting reveal.js requests to https://cdn.jsdelivr.net/reveal.js/2.6.2',\n",
       " 'Traceback (most recent call last):',\n",
       " '  File \"C:\\\\Users\\\\Andrew\\\\Anaconda3\\\\Scripts\\\\jupyter-nbconvert-script.py\", line 5, in <module>',\n",
       " '    main()',\n",
       " '  File \"C:\\\\Users\\\\Andrew\\\\Anaconda3\\\\lib\\\\site-packages\\\\jupyter_core\\\\application.py\", line 267, in launch_instance',\n",
       " '    return super(JupyterApp, cls).launch_instance(argv=argv, **kwargs)',\n",
       " '  File \"C:\\\\Users\\\\Andrew\\\\Anaconda3\\\\lib\\\\site-packages\\\\traitlets\\\\config\\\\application.py\", line 592, in launch_instance',\n",
       " '    app.start()',\n",
       " '  File \"C:\\\\Users\\\\Andrew\\\\Anaconda3\\\\lib\\\\site-packages\\\\nbconvert\\\\nbconvertapp.py\", line 286, in start',\n",
       " '    self.convert_notebooks()',\n",
       " '  File \"C:\\\\Users\\\\Andrew\\\\Anaconda3\\\\lib\\\\site-packages\\\\nbconvert\\\\nbconvertapp.py\", line 409, in convert_notebooks',\n",
       " '    self.convert_single_notebook(notebook_filename)',\n",
       " '  File \"C:\\\\Users\\\\Andrew\\\\Anaconda3\\\\lib\\\\site-packages\\\\nbconvert\\\\nbconvertapp.py\", line 382, in convert_single_notebook',\n",
       " '    self.postprocess_single_notebook(write_results)',\n",
       " '  File \"C:\\\\Users\\\\Andrew\\\\Anaconda3\\\\lib\\\\site-packages\\\\nbconvert\\\\nbconvertapp.py\", line 367, in postprocess_single_notebook',\n",
       " '    self.postprocessor(write_results)',\n",
       " '  File \"C:\\\\Users\\\\Andrew\\\\Anaconda3\\\\lib\\\\site-packages\\\\nbconvert\\\\postprocessors\\\\base.py\", line 28, in __call__',\n",
       " '    self.postprocess(input)',\n",
       " '  File \"C:\\\\Users\\\\Andrew\\\\Anaconda3\\\\lib\\\\site-packages\\\\nbconvert\\\\postprocessors\\\\serve.py\", line 87, in postprocess',\n",
       " '    http_server.listen(self.port, address=self.ip)',\n",
       " '  File \"C:\\\\Users\\\\Andrew\\\\Anaconda3\\\\lib\\\\site-packages\\\\tornado\\\\tcpserver.py\", line 126, in listen',\n",
       " '    sockets = bind_sockets(port, address=address)',\n",
       " '  File \"C:\\\\Users\\\\Andrew\\\\Anaconda3\\\\lib\\\\site-packages\\\\tornado\\\\netutil.py\", line 196, in bind_sockets',\n",
       " '    sock.bind(sockaddr)',\n",
       " 'OSError: [WinError 10048] Only one usage of each socket address (protocol/network address/port) is normally permitted']"
      ]
     },
     "execution_count": 1,
     "metadata": {},
     "output_type": "execute_result"
    }
   ],
   "source": [
    "%system jupyter nbconvert --to slides --post serve Unit_8_Lecture_1.ipynb "
   ]
  },
  {
   "cell_type": "code",
   "execution_count": null,
   "metadata": {
    "collapsed": true
   },
   "outputs": [],
   "source": []
  }
 ],
 "metadata": {
  "celltoolbar": "Slideshow",
  "kernelspec": {
   "display_name": "Python 3",
   "language": "python",
   "name": "python3"
  },
  "language_info": {
   "codemirror_mode": {
    "name": "ipython",
    "version": 3
   },
   "file_extension": ".py",
   "mimetype": "text/x-python",
   "name": "python",
   "nbconvert_exporter": "python",
   "pygments_lexer": "ipython3",
   "version": "3.5.1"
  }
 },
 "nbformat": 4,
 "nbformat_minor": 0
}
