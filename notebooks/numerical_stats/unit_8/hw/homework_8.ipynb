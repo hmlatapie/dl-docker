{
 "cells": [
  {
   "cell_type": "markdown",
   "metadata": {},
   "source": [
    "Homework 8\n",
    "====\n",
    "#### CHE 116: Numerical Methods and Statistics\n",
    "Prof. Andrew White\n",
    "\n",
    "Version 1.0 (3/15/2016)\n",
    "\n",
    "----"
   ]
  },
  {
   "cell_type": "markdown",
   "metadata": {},
   "source": [
    "Short Exercises (48 Points)\n",
    "====\n",
    "\n",
    "Answer each using Python. Write out any constraints or rearrangements of equations in Markdown. You must make a graph showing the demonstrating your solution for each problem (4 Points per problem). You must also print your numerical answer.\n",
    "\n",
    "\n",
    "#### 1.0 See example\n",
    "\n",
    "Find the maximum x-value for this equation:\n",
    "\n",
    "$$ \\sin(x) - x^2$$\n",
    "\n",
    "on the domain $[0, \\pi]$\n",
    "\n",
    "\n",
    "\n",
    "#### 1.1\n",
    "\n",
    "Find the intersection between these two curves:\n",
    "\n",
    "$$ \\frac{(x - 4)^2}{4} $$\n",
    "\n",
    "$$ \\frac{(x + 2)^2}{3} $$\n",
    "\n",
    "#### 1.2\n",
    "Consider $-p\\ln p$, where $p$ is a probability. What $p$ gives the maximum?\n",
    "\n",
    "\n",
    "#### 1.3\n",
    "Solve for $x$:\n",
    "\n",
    "$$ \\cos(x) = x $$\n",
    "\n",
    "#### 1.4\n",
    "Repeat 1.3 by creating an objective function and minimizing it.\n",
    "\n",
    "*Hint: Try rearranging the equation into an expression that is $0$ when the equation is satisifed and POSITIVE everywhere else. *\n",
    "\n",
    "#### 1.5\n",
    "Using a similar idea of an objective function, what $x$ most satisfies the following equations:\n",
    "\n",
    "$$ 4 x  +  4 = 12 $$\n",
    "$$ 3x - 2 = 3$$\n",
    "\n",
    "*Hint: you can only minimize one thing, so try adding together multiple objective functions.*\n",
    "\n",
    "#### 1.6\n",
    "Consider these two curves:\n",
    "\n",
    "$$f(x) = \\cos(14.5 x - 0.3) + ( x + 0.2) x $$\n",
    "\n",
    "$$g(x) = x^3 - x^2 + x$$\n",
    "\n",
    "Find the $x^*$ that both minimizes $f(x^*)$ and has the property that $f(x^*) > g(x^*)$\n"
   ]
  },
  {
   "cell_type": "code",
   "execution_count": 3,
   "metadata": {
    "collapsed": true
   },
   "outputs": [],
   "source": [
    "%matplotlib inline\n",
    "import numpy as np\n",
    "import matplotlib.pyplot as plt\n",
    "from scipy import optimize as opt"
   ]
  },
  {
   "cell_type": "markdown",
   "metadata": {},
   "source": [
    "Answer 1.0\n",
    "---"
   ]
  },
  {
   "cell_type": "code",
   "execution_count": 87,
   "metadata": {
    "collapsed": false
   },
   "outputs": [
    {
     "data": {
      "image/png": "[encoded data removed]",
      "text/plain": [
       "<matplotlib.figure.Figure at 0x185ab5f8>"
      ]
     },
     "metadata": {},
     "output_type": "display_data"
    },
    {
     "name": "stdout",
     "output_type": "stream",
     "text": [
      "Optimum x: [ 1.1105099]\n"
     ]
    }
   ],
   "source": [
    "#set-up function which we're optimizing\n",
    "def fxn_10(x):\n",
    "    return np.sin(x) - 0.2 * x**2\n",
    "\n",
    "#perform optimization and store result\n",
    "#The lambda is to invert the sign on the equation to do maximization\n",
    "result = opt.minimize(lambda can_write_anything_here: -fxn_10(can_write_anything_here), x0= np.pi / 2, bounds=[(0, np.pi)])\n",
    "\n",
    "#make some points to use for plotting\n",
    "x_grid = np.linspace(0, np.pi, 100)\n",
    "\n",
    "#plot the function\n",
    "plt.plot(x_grid, fxn_10(x_grid))\n",
    "\n",
    "#create a vertical line at the optimum x value\n",
    "plt.axvline(result.x, color='red')\n",
    "\n",
    "plt.show()\n",
    "\n",
    "print('Optimum x: {}'.format(result.x))"
   ]
  }
 ],
 "metadata": {
  "kernelspec": {
   "display_name": "Python 2",
   "language": "python",
   "name": "python2"
  },
  "language_info": {
   "codemirror_mode": {
    "name": "ipython",
    "version": 2
   },
   "file_extension": ".py",
   "mimetype": "text/x-python",
   "name": "python",
   "nbconvert_exporter": "python",
   "pygments_lexer": "ipython2",
   "version": "2.7.11"
  }
 },
 "nbformat": 4,
 "nbformat_minor": 0
}
