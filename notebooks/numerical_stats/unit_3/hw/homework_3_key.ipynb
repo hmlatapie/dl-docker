{
 "cells": [
  {
   "cell_type": "markdown",
   "metadata": {},
   "source": [
    "Homework 3\n",
    "====\n",
    "#### CHE 116: Numerical Methods and Statistics\n",
    "Prof. Andrew White\n",
    "\n",
    "Version 1.1 (1/26/2015)\n",
    "\n",
    "----"
   ]
  },
  {
   "cell_type": "markdown",
   "metadata": {},
   "source": [
    "$\\DeclareMathOperator{\\P}{P}$\n",
    "$\\DeclareMathOperator{\\E}{E}$\n",
    "\n",
    "1. Python Math and Boolean (6 Points)\n",
    "====\n",
    "**Answer the following problems in Python**\n",
    "\n",
    "1. Is $3^{14}$ greater than $10^6$?\n",
    "\n",
    "2. Using the `frexp` function, show how the floating point number $0.4$ is represented and rebuild the number from its pieces. Use base 10\n",
    "\n",
    "2. Is $0.4 + 0.2$ exactly equal to $(4.0 + 2.0) / 10.0$ with floats? Why or why not? \n",
    "\n",
    "3. The next cell contains a joint probability mass function for $x$ and $y$. $x$ is the first number and $y$ is the second. You may access elements like this: `P[0,2]`. `P[0,2]` is the probability that $x=0$ and $y=2$. Demonstrate that the two random variables are not independent.\n",
    "\n",
    "4. Calculate the marginal $\\P(x=2)$, where $x$ is the first index using the next cell's joint probability mass function.\n",
    "\n",
    "5. Calculate the conditional $\\P(x=2 | y = 1)$, where $x$ is the first index using the next cell's joint probability mass function.\n"
   ]
  },
  {
   "cell_type": "code",
   "execution_count": 14,
   "metadata": {
    "collapsed": false
   },
   "outputs": [],
   "source": [
    "#This is loading the data for question 1.4 through 1.6\n",
    "#Execute this cell and use new cells below. Do not answer in this cell!\n",
    "\n",
    "import numpy as np\n",
    "P = np.zeros( (3,3) )\n",
    "P[0,0] = 0.\n",
    "P[0,1] = 1. / 9\n",
    "P[0,2] = 1. / 9.\n",
    "P[1,0] = 1. / 3\n",
    "P[1,1] = 0.\n",
    "P[1,2] = 1. / 9\n",
    "P[2,0] = 1. / 18\n",
    "P[2,1] = 1. / 9\n",
    "P[2,2] = 1. / 6"
   ]
  },
  {
   "cell_type": "markdown",
   "metadata": {},
   "source": [
    "Answers\n",
    "----\n"
   ]
  },
  {
   "cell_type": "code",
   "execution_count": 3,
   "metadata": {
    "collapsed": false
   },
   "outputs": [
    {
     "data": {
      "text/plain": [
       "True"
      ]
     },
     "execution_count": 3,
     "metadata": {},
     "output_type": "execute_result"
    }
   ],
   "source": [
    "#Question 1.1\n",
    "3**14 > 10**6"
   ]
  },
  {
   "cell_type": "code",
   "execution_count": 4,
   "metadata": {
    "collapsed": false
   },
   "outputs": [
    {
     "name": "stdout",
     "output_type": "stream",
     "text": [
      " 0.8*2^(-1)=0.4\n"
     ]
    }
   ],
   "source": [
    "#Question 1.2\n",
    "from math import frexp\n",
    "m,e=frexp(.4)\n",
    "print '{:4}*2^({:})={}' .format(m,int(e), m * 2**e)"
   ]
  },
  {
   "cell_type": "code",
   "execution_count": 11,
   "metadata": {
    "collapsed": false
   },
   "outputs": [
    {
     "name": "stdout",
     "output_type": "stream",
     "text": [
      "0.6000000000000001 0.6\n",
      "0.2000000000000000111022302\n",
      "0.4000000000000000222044605\n",
      "0.4 and 0.2 cannot be represented exactly\n"
     ]
    }
   ],
   "source": [
    "#Question 1.3\n",
    "print(0.4 + 0.2, (4.0 + 2.0) / 10.)\n",
    "print('{:.25f}'.format(0.2))\n",
    "print('{:.25f}'.format(0.4))\n",
    "print('0.4 and 0.2 cannot be represented exactly')"
   ]
  },
  {
   "cell_type": "code",
   "execution_count": 15,
   "metadata": {
    "collapsed": false
   },
   "outputs": [
    {
     "name": "stdout",
     "output_type": "stream",
     "text": [
      "0.0 0.0987654320988\n",
      "Since these are not equal, P(X=1, Y=1) != P(X=1) P(Y=1), which violates independence\n"
     ]
    }
   ],
   "source": [
    "#Question 1.4\n",
    "print(P[1,1], (P[1,1]+P[1,0]+P[1,2])*(P[0,1]+P[1,1]+P[2,1]))\n",
    "print('Since these are not equal, P(X=1, Y=1) != P(X=1) P(Y=1), which violates independence')"
   ]
  },
  {
   "cell_type": "code",
   "execution_count": 17,
   "metadata": {
    "collapsed": false
   },
   "outputs": [
    {
     "name": "stdout",
     "output_type": "stream",
     "text": [
      "0.333333333333\n"
     ]
    }
   ],
   "source": [
    "#Question 1.5\n",
    "p_x2 = 0\n",
    "for px in P[2,:]:\n",
    "    p_x2 += px\n",
    "print(p_x2)"
   ]
  },
  {
   "cell_type": "markdown",
   "metadata": {},
   "source": [
    "2. Slicing Lists (6 Points)\n",
    "====\n",
    "Using this sentence: \"This pangram contains four As, one B, two Cs, one D, thirty Es, six Fs, five Gs, seven Hs, eleven Is, one J, one K, two Ls, two Ms, eighteen Ns, fifteen Os, two Ps, one Q, five Rs, twenty-seven Ss, eighteen Ts, two Us, seven Vs, eight Ws, two Xs, three Ys, & one Z\", Create slices of the string to answer the following questions. Note that character/element mean the same thing, so that every element in the sentence is a character. **Answer in Python**\n",
    "\n",
    "1. What is the first characeter?\n",
    "2. What is the sentence without the last 10 characeter?\n",
    "5. What are the first 5 characeters?\n",
    "3. What is the first half of the sentence?\n",
    "4. What is the second half?\n",
    "6. What is every 8th character, starting from the 16th?"
   ]
  },
  {
   "cell_type": "code",
   "execution_count": 18,
   "metadata": {
    "collapsed": false
   },
   "outputs": [
    {
     "name": "stdout",
     "output_type": "stream",
     "text": [
      "The first element is \"T\"\n"
     ]
    }
   ],
   "source": [
    "#Question 2.1\n",
    "string = 'This pangram contains four As, one B, two Cs, one D, thirty Es, six Fs, five Gs, seven Hs, eleven Is, one J, one K, two Ls, two Ms, eighteen Ns, fifteen Os, two Ps, one Q, five Rs, twenty-seven Ss, eighteen Ts, two Us, seven Vs, eight Ws, two Xs, three Ys, & one Z'\n",
    "print('The first element is \"{}\"' .format(string[0]))"
   ]
  },
  {
   "cell_type": "code",
   "execution_count": 19,
   "metadata": {
    "collapsed": false
   },
   "outputs": [
    {
     "data": {
      "text/plain": [
       "'This pangram contains four As, one B, two Cs, one D, thirty Es, six Fs, five Gs, seven Hs, eleven Is, one J, one K, two Ls, two Ms, eighteen Ns, fifteen Os, two Ps, one Q, five Rs, twenty-seven Ss, eighteen Ts, two Us, seven Vs, eight Ws, two Xs, three Y'"
      ]
     },
     "execution_count": 19,
     "metadata": {},
     "output_type": "execute_result"
    }
   ],
   "source": [
    "#Question 2.2\n",
    "string[:-10]"
   ]
  },
  {
   "cell_type": "code",
   "execution_count": 22,
   "metadata": {
    "collapsed": false
   },
   "outputs": [
    {
     "data": {
      "text/plain": [
       "'This '"
      ]
     },
     "execution_count": 22,
     "metadata": {},
     "output_type": "execute_result"
    }
   ],
   "source": [
    "#Question 2.3\n",
    "string[:5]"
   ]
  },
  {
   "cell_type": "code",
   "execution_count": 27,
   "metadata": {
    "collapsed": false
   },
   "outputs": [
    {
     "data": {
      "text/plain": [
       "'This pangram contains four As, one B, two Cs, one D, thirty Es, six Fs, five Gs, seven Hs, eleven Is, one J, one K, two Ls, two Ms, '"
      ]
     },
     "execution_count": 27,
     "metadata": {},
     "output_type": "execute_result"
    }
   ],
   "source": [
    "#question 2.4\n",
    "from math import floor\n",
    "string[:floor(len(string)/2)]"
   ]
  },
  {
   "cell_type": "code",
   "execution_count": 29,
   "metadata": {
    "collapsed": false
   },
   "outputs": [
    {
     "data": {
      "text/plain": [
       "'ighteen Ns, fifteen Os, two Ps, one Q, five Rs, twenty-seven Ss, eighteen Ts, two Us, seven Vs, eight Ws, two Xs, three Ys, & one Z'"
      ]
     },
     "execution_count": 29,
     "metadata": {},
     "output_type": "execute_result"
    }
   ],
   "source": [
    "#Question 2.5\n",
    "string[floor(len(string)/2) + 1:]"
   ]
  },
  {
   "cell_type": "code",
   "execution_count": 30,
   "metadata": {
    "collapsed": false
   },
   "outputs": [
    {
     "data": {
      "text/plain": [
       "'noowni  ,Hene  h,noeeeeiTUngtt,Z'"
      ]
     },
     "execution_count": 30,
     "metadata": {},
     "output_type": "execute_result"
    }
   ],
   "source": [
    "#Question 2.6\n",
    "string[15::8]"
   ]
  },
  {
   "cell_type": "markdown",
   "metadata": {},
   "source": [
    "3. Loops (20 Points)\n",
    "====\n",
    "\n",
    "3. [4 points] Using a `for` loop, compute $10!$. \n",
    "4. [4 points] Using a `for` loop compute $$\\sum_{n=0}^{25}\\frac{1}{n!}$$ What famous number is that?\n",
    "6. [8 points] Now that you know what famous number that is, how many terms are required in the sum before it is accurate to 5 decimal places? Your code should print out the number of terms. Think carefully about how to turn \"accurate to 5 decimal places\" into a python expression."
   ]
  },
  {
   "cell_type": "code",
   "execution_count": 32,
   "metadata": {
    "collapsed": false
   },
   "outputs": [
    {
     "name": "stdout",
     "output_type": "stream",
     "text": [
      "3628800 3628800\n"
     ]
    }
   ],
   "source": [
    "#Question 3.1\n",
    "from math import factorial\n",
    "prod = 1\n",
    "for i in range(1,11):\n",
    "    prod *= i\n",
    "print(prod, factorial(10))"
   ]
  },
  {
   "cell_type": "code",
   "execution_count": 37,
   "metadata": {
    "collapsed": false
   },
   "outputs": [
    {
     "name": "stdout",
     "output_type": "stream",
     "text": [
      "The number is approach e: 2.7182818284590455\n"
     ]
    }
   ],
   "source": [
    "#Question 3.2\n",
    "prod = 1\n",
    "sum = 0\n",
    "for i in range(0, 26):\n",
    "    prod *= i\n",
    "    #account for the fact that 0! = 1\n",
    "    if prod == 0:\n",
    "        prod = 1\n",
    "    sum += 1.0 / prod\n",
    "print('The number is approach e: {}'.format(sum))"
   ]
  },
  {
   "cell_type": "code",
   "execution_count": 41,
   "metadata": {
    "collapsed": false
   },
   "outputs": [
    {
     "name": "stdout",
     "output_type": "stream",
     "text": [
      "9 terms are required\n"
     ]
    }
   ],
   "source": [
    "#Question 3.3\n",
    "from math import e, fabs\n",
    "prod = 1\n",
    "sum = 0\n",
    "for i in range(0, 26):\n",
    "    prod *= i\n",
    "    #account for the fact that 0! = 1\n",
    "    if prod == 0:\n",
    "        prod = 1\n",
    "    sum += 1.0 / prod\n",
    "    #compare sum with e\n",
    "    if fabs(sum - e) < 10**-5:\n",
    "        print('{} terms are required'.format(i + 1))\n",
    "        break"
   ]
  },
  {
   "cell_type": "markdown",
   "metadata": {},
   "source": [
    "Numpy (6 Points)\n",
    "====\n",
    "\n",
    "1. Create a numpy array containing a set of points between 5 and 10 spaced apart by 0.025. This should be done with a numpy function.\n",
    "2. Using a `numpy` array, compute: $$\\sum_{i=1}^{100} \\cos{i}$$ you should *not* use a `for` loop.\n",
    "3. Demonstrate 3 methods for creating a numpy array"
   ]
  },
  {
   "cell_type": "code",
   "execution_count": 44,
   "metadata": {
    "collapsed": false
   },
   "outputs": [
    {
     "data": {
      "text/plain": [
       "array([ 5.   ,  5.025,  5.05 ,  5.075,  5.1  ,  5.125,  5.15 ,  5.175,\n",
       "        5.2  ,  5.225,  5.25 ,  5.275,  5.3  ,  5.325,  5.35 ,  5.375,\n",
       "        5.4  ,  5.425,  5.45 ,  5.475,  5.5  ,  5.525,  5.55 ,  5.575,\n",
       "        5.6  ,  5.625,  5.65 ,  5.675,  5.7  ,  5.725,  5.75 ,  5.775,\n",
       "        5.8  ,  5.825,  5.85 ,  5.875,  5.9  ,  5.925,  5.95 ,  5.975,\n",
       "        6.   ,  6.025,  6.05 ,  6.075,  6.1  ,  6.125,  6.15 ,  6.175,\n",
       "        6.2  ,  6.225,  6.25 ,  6.275,  6.3  ,  6.325,  6.35 ,  6.375,\n",
       "        6.4  ,  6.425,  6.45 ,  6.475,  6.5  ,  6.525,  6.55 ,  6.575,\n",
       "        6.6  ,  6.625,  6.65 ,  6.675,  6.7  ,  6.725,  6.75 ,  6.775,\n",
       "        6.8  ,  6.825,  6.85 ,  6.875,  6.9  ,  6.925,  6.95 ,  6.975,\n",
       "        7.   ,  7.025,  7.05 ,  7.075,  7.1  ,  7.125,  7.15 ,  7.175,\n",
       "        7.2  ,  7.225,  7.25 ,  7.275,  7.3  ,  7.325,  7.35 ,  7.375,\n",
       "        7.4  ,  7.425,  7.45 ,  7.475,  7.5  ,  7.525,  7.55 ,  7.575,\n",
       "        7.6  ,  7.625,  7.65 ,  7.675,  7.7  ,  7.725,  7.75 ,  7.775,\n",
       "        7.8  ,  7.825,  7.85 ,  7.875,  7.9  ,  7.925,  7.95 ,  7.975,\n",
       "        8.   ,  8.025,  8.05 ,  8.075,  8.1  ,  8.125,  8.15 ,  8.175,\n",
       "        8.2  ,  8.225,  8.25 ,  8.275,  8.3  ,  8.325,  8.35 ,  8.375,\n",
       "        8.4  ,  8.425,  8.45 ,  8.475,  8.5  ,  8.525,  8.55 ,  8.575,\n",
       "        8.6  ,  8.625,  8.65 ,  8.675,  8.7  ,  8.725,  8.75 ,  8.775,\n",
       "        8.8  ,  8.825,  8.85 ,  8.875,  8.9  ,  8.925,  8.95 ,  8.975,\n",
       "        9.   ,  9.025,  9.05 ,  9.075,  9.1  ,  9.125,  9.15 ,  9.175,\n",
       "        9.2  ,  9.225,  9.25 ,  9.275,  9.3  ,  9.325,  9.35 ,  9.375,\n",
       "        9.4  ,  9.425,  9.45 ,  9.475,  9.5  ,  9.525,  9.55 ,  9.575,\n",
       "        9.6  ,  9.625,  9.65 ,  9.675,  9.7  ,  9.725,  9.75 ,  9.775,\n",
       "        9.8  ,  9.825,  9.85 ,  9.875,  9.9  ,  9.925,  9.95 ,  9.975])"
      ]
     },
     "execution_count": 44,
     "metadata": {},
     "output_type": "execute_result"
    }
   ],
   "source": [
    "#Question 4.1\n",
    "import numpy as np\n",
    "np.arange(5,10,0.025)"
   ]
  },
  {
   "cell_type": "code",
   "execution_count": 45,
   "metadata": {
    "collapsed": false
   },
   "outputs": [
    {
     "name": "stdout",
     "output_type": "stream",
     "text": [
      "-0.53228860823\n"
     ]
    }
   ],
   "source": [
    "#Question 4.2\n",
    "indices = np.arange(1, 101)\n",
    "coses = np.cos(indices)\n",
    "sum = np.sum(coses)\n",
    "print(sum)"
   ]
  },
  {
   "cell_type": "code",
   "execution_count": 47,
   "metadata": {
    "collapsed": false
   },
   "outputs": [
    {
     "data": {
      "text/plain": [
       "array([1, 2, 3])"
      ]
     },
     "execution_count": 47,
     "metadata": {},
     "output_type": "execute_result"
    }
   ],
   "source": [
    "#Question 4.3\n",
    "np.arange(3)\n",
    "np.zeros(3)\n",
    "np.ones(3)\n",
    "np.linspace(1,2,3)\n",
    "np.empty(3)\n",
    "np.array([1,2,3])"
   ]
  },
  {
   "cell_type": "code",
   "execution_count": null,
   "metadata": {
    "collapsed": true
   },
   "outputs": [],
   "source": []
  }
 ],
 "metadata": {
  "kernelspec": {
   "display_name": "Python 3",
   "language": "python",
   "name": "python3"
  },
  "language_info": {
   "codemirror_mode": {
    "name": "ipython",
    "version": 3
   },
   "file_extension": ".py",
   "mimetype": "text/x-python",
   "name": "python",
   "nbconvert_exporter": "python",
   "pygments_lexer": "ipython3",
   "version": "3.4.3"
  }
 },
 "nbformat": 4,
 "nbformat_minor": 0
}
