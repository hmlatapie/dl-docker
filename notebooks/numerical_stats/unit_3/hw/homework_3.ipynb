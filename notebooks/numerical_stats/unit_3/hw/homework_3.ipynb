{
 "cells": [
  {
   "cell_type": "markdown",
   "metadata": {},
   "source": [
    "Homework 3\n",
    "====\n",
    "#### CHE 116: Numerical Methods and Statistics\n",
    "Prof. Andrew White\n",
    "\n",
    "Version 1.1 (1/26/2015)\n",
    "\n",
    "----"
   ]
  },
  {
   "cell_type": "markdown",
   "metadata": {},
   "source": [
    "$\\DeclareMathOperator{\\P}{P}$\n",
    "$\\DeclareMathOperator{\\E}{E}$\n",
    "\n",
    "1. Python Math and Boolean (6 Points)\n",
    "====\n",
    "**Answer the following problems in Python**\n",
    "\n",
    "1. Is $3^{14}$ greater than $10^6$?\n",
    "\n",
    "2. Using the `frexp` function, show how the floating point number $0.4$ is represented and rebuild the number from its pieces. Use base 10\n",
    "\n",
    "2. Is $0.4 + 0.2$ exactly equal to $(4.0 + 2.0) / 10.0$ with floats? Why or why not? \n",
    "\n",
    "3. The next cell contains a joint probability mass function for $x$ and $y$. $x$ is the first number and $y$ is the second. You may access elements like this: `P[0,2]`. `P[0,2]` is the probability that $x=0$ and $y=2$. Demonstrate that the two random variables are not independent.\n",
    "\n",
    "4. Calculate the marginal $\\P(x=2)$, where $x$ is the first index using the next cell's joint probability mass function.\n",
    "\n",
    "5. Calculate the conditional $\\P(x=2 | y = 1)$, where $x$ is the first index using the next cell's joint probability mass function.\n"
   ]
  },
  {
   "cell_type": "code",
   "execution_count": 3,
   "metadata": {
    "collapsed": false
   },
   "outputs": [],
   "source": [
    "#This is loading the data for question 1.4 through 1.6\n",
    "#Execute this cell and use new cells below. Do not answer in this cell!\n",
    "\n",
    "import numpy as np\n",
    "P = np.zeros( (3,3) )\n",
    "P[0,0] = 0.\n",
    "P[0,1] = 1. / 9\n",
    "P[0,2] = 1. / 9.\n",
    "P[1,0] = 1. / 3\n",
    "P[1,1] = 0.\n",
    "P[1,2] = 1. / 9\n",
    "P[2,0] = 1. / 18\n",
    "P[2,1] = 1. / 9\n",
    "P[2,2] = 1. / 6"
   ]
  },
  {
   "cell_type": "markdown",
   "metadata": {},
   "source": [
    "2. Slicing Lists (6 Points)\n",
    "====\n",
    "Using this sentence: \"This pangram contains four As, one B, two Cs, one D, thirty Es, six Fs, five Gs, seven Hs, eleven Is, one J, one K, two Ls, two Ms, eighteen Ns, fifteen Os, two Ps, one Q, five Rs, twenty-seven Ss, eighteen Ts, two Us, seven Vs, eight Ws, two Xs, three Ys, & one Z\", Create slices of the string to answer the following questions. Note that character/element mean the same thing, so that every element in the sentence is a character. **Answer in Python**\n",
    "\n",
    "1. What is the first characeter?\n",
    "2. What is the sentence without the last 10 characeter?\n",
    "5. What are the first 5 characeters?\n",
    "3. What is the first half of the sentence?\n",
    "4. What is the second half?\n",
    "6. What is every 8th character, starting from the 16th?"
   ]
  },
  {
   "cell_type": "markdown",
   "metadata": {},
   "source": [
    "3. Loops (20 Points)\n",
    "====\n",
    "\n",
    "3. [4 points] Using a `for` loop, compute $10!$. \n",
    "4. [4 points] Using a `for` loop compute $$\\sum_{n=0}^{25}\\frac{1}{n!}$$ What famous number is that?\n",
    "6. [8 points] Now that you know what famous number that is, how many terms are required in the sum before it is accurate to 5 decimal places? Your code should print out the number of terms. Think carefully about how to turn \"accurate to 5 decimal places\" into a python expression."
   ]
  },
  {
   "cell_type": "markdown",
   "metadata": {},
   "source": [
    "Numpy (6 Points)\n",
    "====\n",
    "\n",
    "1. Create a numpy array containing a set of points between 5 and 10 spaced apart by 0.025. This should be done with a numpy function.\n",
    "2. Using a `numpy` array, compute: $$\\sum_{i=1}^{100} \\cos{i}$$ you should *not* use a `for` loop.\n",
    "3. Demonstrate 3 methods for creating a numpy array"
   ]
  },
  {
   "cell_type": "code",
   "execution_count": null,
   "metadata": {
    "collapsed": true
   },
   "outputs": [],
   "source": []
  }
 ],
 "metadata": {
  "kernelspec": {
   "display_name": "Python 2",
   "language": "python",
   "name": "python2"
  },
  "language_info": {
   "codemirror_mode": {
    "name": "ipython",
    "version": 2
   },
   "file_extension": ".py",
   "mimetype": "text/x-python",
   "name": "python",
   "nbconvert_exporter": "python",
   "pygments_lexer": "ipython2",
   "version": "2.7.11"
  }
 },
 "nbformat": 4,
 "nbformat_minor": 0
}
