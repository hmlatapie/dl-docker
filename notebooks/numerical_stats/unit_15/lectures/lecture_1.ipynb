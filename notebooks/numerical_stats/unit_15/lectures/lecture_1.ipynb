{
 "cells": [
  {
   "cell_type": "markdown",
   "metadata": {
    "slideshow": {
     "slide_type": "slide"
    }
   },
   "source": [
    "Unit 15, Lecture 1\n",
    "====\n",
    "\n",
    "*Numerical Methods and Statistics*\n",
    "\n",
    "----\n",
    "\n",
    "#### Prof. Andrew White, April 21, 2016"
   ]
  },
  {
   "cell_type": "markdown",
   "metadata": {
    "slideshow": {
     "slide_type": "slide"
    }
   },
   "source": [
    "Next Steps in Numerical Methods\n",
    "===="
   ]
  },
  {
   "cell_type": "markdown",
   "metadata": {
    "slideshow": {
     "slide_type": "subslide"
    }
   },
   "source": [
    "Take my advanced numerical methods course\n",
    "---\n",
    "\n",
    "\n",
    "Project-based course. Learn software engineering, advanced numerical methods, and how to create a compelling, cool-looking, accessible model/simulations."
   ]
  },
  {
   "cell_type": "markdown",
   "metadata": {
    "slideshow": {
     "slide_type": "subslide"
    }
   },
   "source": [
    "Explore Other Packages\n",
    "---\n",
    "\n",
    "You've learned the basics of Numpy + Scipy. There is a [huge number](http://scipy.org/topical-software.html) of other packages to explore.\n",
    "\n",
    "Example:\n",
    "\n",
    "* [SpacePy](http://spacepy.lanl.gov/) A suite of tools for interfacing with NASA data and numerical models of astrophysics. \n",
    "* [BioPyhton](http://biopython.org/wiki/Main_Page) An enourmously powerful package of tools for computational biochemistry\n",
    "* [GIS Python](http://wiki.osgeo.org/wiki/OSGeo_Python_Library) A library for working with location based data (i.e., GPS)\n",
    "* [PyCVF](http://pycvf.sourceforge.net/) Computer vision library for image analysis\n",
    "\n",
    "* HOOMD-Blue  A computational chemistry program writting in Python"
   ]
  },
  {
   "cell_type": "markdown",
   "metadata": {
    "slideshow": {
     "slide_type": "subslide"
    }
   },
   "source": [
    "Continue using Python in your other courses!\n",
    "---\n",
    "\n",
    "You can continue to use Python. As you become more professional, you should switch to using $\\LaTeX$ in your homework. Use [https://www.sharelatex.com/](ShareLaTeX) as place to write your Junoir Lab assignments or do your heat transfer class. Make your graphs in Python and do calculations, then place them into your LaTeX files.\n"
   ]
  },
  {
   "cell_type": "markdown",
   "metadata": {
    "slideshow": {
     "slide_type": "slide"
    }
   },
   "source": [
    "Next Steps In Statistics\n",
    "==="
   ]
  },
  {
   "cell_type": "markdown",
   "metadata": {
    "slideshow": {
     "slide_type": "subslide"
    }
   },
   "source": [
    "Take the Applied Statistics Courses in the Stats department\n",
    "---\n",
    "\n",
    "If you liked the distributions/hypothesis testing units, this is the class for you! You'll learn quite a bit more depth. If you prefer learning at your own pace, [this Udacity course](https://www.udacity.com/course/intro-to-statistics--st101) is a nice companion to the course you just took."
   ]
  },
  {
   "cell_type": "markdown",
   "metadata": {
    "slideshow": {
     "slide_type": "subslide"
    }
   },
   "source": [
    "Machine Learning\n",
    "---\n",
    "\n",
    "If you liked the probability and model construction (regression) units, than you might like machine learning. There are many many online courses for this (Andrew Ng's course is the most famous online one) and most of it is done in Python. A hot field and I recommend digging a little bit into it"
   ]
  },
  {
   "cell_type": "markdown",
   "metadata": {
    "slideshow": {
     "slide_type": "subslide"
    }
   },
   "source": [
    "Data-Science\n",
    "---\n",
    "\n",
    "There is a new Data Science Institute on Campus. Check out its courses and consider taking a class there! Data-Science is built on statistics, so this course is good preparation. "
   ]
  },
  {
   "cell_type": "markdown",
   "metadata": {
    "slideshow": {
     "slide_type": "slide"
    }
   },
   "source": [
    "Next Steps In Programming\n",
    "==="
   ]
  },
  {
   "cell_type": "markdown",
   "metadata": {
    "slideshow": {
     "slide_type": "subslide"
    }
   },
   "source": [
    "Use it, Use it, Use it!\n",
    "----\n",
    "\n",
    "There is no other way to learn about programming other than to use it. The best way to learn is to do. Random project ideas:\n",
    "\n",
    "* Write a chat (FB, reddit, MSFT..) bot\n",
    "* Add to your CHE116 package with other functions\n",
    "* Learn to use Linux\n",
    "* Make a video game for your phone in Unity"
   ]
  },
  {
   "cell_type": "markdown",
   "metadata": {
    "slideshow": {
     "slide_type": "subslide"
    }
   },
   "source": [
    "Learn about Front-End\n",
    "---\n",
    "\n",
    "If you want to make website and make brazillions of dollars, continue learning HTML/CSS/JS. Learn to use Bootstrap or Foundation and make your first online business. Learn to write in AgularJS and grab a job tomorrow. Make the first thermodynamic property website, where people can look-up viscosity values without using a textbook. Phone-Apps can be written using the same tools as well"
   ]
  },
  {
   "cell_type": "markdown",
   "metadata": {
    "slideshow": {
     "slide_type": "subslide"
    }
   },
   "source": [
    "Learn another programming language\n",
    "----\n",
    "\n",
    "If you want to write high-performance speedy code, learn to write in C. If you want to experience the cutting-edge in programming language design, learn Rust. If you want to learn to write the most parallel programms, learn CUDA"
   ]
  },
  {
   "cell_type": "markdown",
   "metadata": {
    "slideshow": {
     "slide_type": "subslide"
    }
   },
   "source": [
    "Be Social\n",
    "---\n",
    "\n",
    "There is a vibrant and generally nice community of programmers. Make a Github account and you can help other people build software. Make a blog and share what you learn. Apply to conferences. Write a cool Python library and publish it. There is a lot out there!"
   ]
  },
  {
   "cell_type": "markdown",
   "metadata": {
    "slideshow": {
     "slide_type": "subslide"
    }
   },
   "source": [
    "Do Research\n",
    "---\n",
    "\n",
    "Now that you can programm in Python, you are positioned to be a top student for research both here and at other universities via REU programs. Apply for summer research and ask professors about research. I've had two past students get REUs due to Python knowledge. You are way ahead of the curve in engineering."
   ]
  }
 ],
 "metadata": {
  "celltoolbar": "Slideshow",
  "kernelspec": {
   "display_name": "Python 3",
   "language": "python",
   "name": "python3"
  },
  "language_info": {
   "codemirror_mode": {
    "name": "ipython",
    "version": 3
   },
   "file_extension": ".py",
   "mimetype": "text/x-python",
   "name": "python",
   "nbconvert_exporter": "python",
   "pygments_lexer": "ipython3",
   "version": "3.4.3"
  }
 },
 "nbformat": 4,
 "nbformat_minor": 0
}
