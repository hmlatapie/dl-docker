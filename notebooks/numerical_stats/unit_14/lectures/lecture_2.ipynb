{
 "cells": [
  {
   "cell_type": "markdown",
   "metadata": {
    "slideshow": {
     "slide_type": "slide"
    }
   },
   "source": [
    "Unit 14, Lecture 2\n",
    "====\n",
    "\n",
    "*Numerical Methods and Statistics*\n",
    "\n",
    "----\n",
    "\n",
    "#### Prof. Andrew White, April 21, 2016"
   ]
  },
  {
   "cell_type": "markdown",
   "metadata": {
    "slideshow": {
     "slide_type": "slide"
    }
   },
   "source": [
    "Websites are made using three core technologies: HTML, CSS, and Javascript. From HTML, there also evolved SVGs which is the same format but describes 2D graphics. Similarly, WebGL is a 3D graphics technology."
   ]
  },
  {
   "cell_type": "code",
   "execution_count": 7,
   "metadata": {
    "collapsed": false,
    "slideshow": {
     "slide_type": "slide"
    }
   },
   "outputs": [
    {
     "data": {
      "text/html": [
       "\n",
       "<h3> A level-3 (smaller) heading</h3>\n",
       "\n",
       "<p> This is a paragraph about HTML. HTML surprisingly only has about 5 elements you need to know: </p>\n",
       "    <ul>\n",
       "        <li> Paragraphs</li>\n",
       "        <li> breaks </li>\n",
       "        <li> lists </li>\n",
       "        <li> links </li>\n",
       "        <li> images </li>\n",
       "        <li> divs </li>\n",
       "        <li> spans</li>\n",
       "    </ul>"
      ],
      "text/plain": [
       "<IPython.core.display.HTML object>"
      ]
     },
     "metadata": {},
     "output_type": "display_data"
    }
   ],
   "source": [
    "%%HTML\n",
    "\n",
    "<h3> A level-3 (smaller) heading</h3>\n",
    "\n",
    "<p> This is a paragraph about HTML. HTML surprisingly only has about 5 elements you need to know: </p>\n",
    "    <ul>\n",
    "        <li> Paragraphs</li>\n",
    "        <li> breaks </li>\n",
    "        <li> lists </li>\n",
    "        <li> links </li>\n",
    "        <li> images </li>\n",
    "        <li> divs </li>\n",
    "        <li> spans</li>\n",
    "    </ul>"
   ]
  },
  {
   "cell_type": "markdown",
   "metadata": {
    "slideshow": {
     "slide_type": "slide"
    }
   },
   "source": [
    "Links\n",
    "----"
   ]
  },
  {
   "cell_type": "code",
   "execution_count": 6,
   "metadata": {
    "collapsed": false,
    "slideshow": {
     "slide_type": "fragment"
    }
   },
   "outputs": [
    {
     "data": {
      "text/html": [
       "\n",
       "<a href=\"http://beyond.io\"> This link will take you on a journey to the beyond!</a>"
      ],
      "text/plain": [
       "<IPython.core.display.HTML object>"
      ]
     },
     "metadata": {},
     "output_type": "display_data"
    }
   ],
   "source": [
    "%%HTML\n",
    "\n",
    "<a href=\"http://beyond.io\"> This link will take you on a journey to the beyond!</a>"
   ]
  },
  {
   "cell_type": "code",
   "execution_count": 10,
   "metadata": {
    "collapsed": false,
    "slideshow": {
     "slide_type": "subslide"
    }
   },
   "outputs": [
    {
     "data": {
      "text/html": [
       "\n",
       "<a href=\"unsplash.com\">\n",
       "<img width=400px src=\"https://images.unsplash.com/photo-1460400355256-e87506dcec4f?ixlib=rb-0.3.5&q=80&fm=jpg&crop=entropy&s=f35997a68b394f08caf7d46cf2d27791\"/>\n",
       "<p> Here I've made this entire section a link.</p>\n",
       "</a>"
      ],
      "text/plain": [
       "<IPython.core.display.HTML object>"
      ]
     },
     "metadata": {},
     "output_type": "display_data"
    }
   ],
   "source": [
    "%%HTML\n",
    "\n",
    "<a href=\"http://unsplash.com\">\n",
    "<img width=400px src=\"https://images.unsplash.com/photo-1460400355256-e87506dcec4f?ixlib=rb-0.3.5&q=80&fm=jpg&crop=entropy&s=f35997a68b394f08caf7d46cf2d27791\"/>\n",
    "<p> Here I've made this entire section a link.</p>\n",
    "</a>"
   ]
  },
  {
   "cell_type": "markdown",
   "metadata": {
    "slideshow": {
     "slide_type": "subslide"
    }
   },
   "source": [
    "Content Arrangement\n",
    "---\n",
    "\n",
    "Spans, divs and breaks are ways to arrange content. They do not do much alone. Instead you use javascript and CSS to manipulate them. For example, divs are how jupyter notebooks separate input cells, from the notebook, from the top, etc."
   ]
  },
  {
   "cell_type": "markdown",
   "metadata": {
    "slideshow": {
     "slide_type": "subslide"
    }
   },
   "source": [
    "Inspecting Tools\n",
    "===\n",
    "\n",
    "The best way to learn HTML is to look at different webpages. Try right-cliking and inspecting something!"
   ]
  },
  {
   "cell_type": "markdown",
   "metadata": {
    "slideshow": {
     "slide_type": "subslide"
    }
   },
   "source": [
    "Connecting CSS with HTML\n",
    "==="
   ]
  },
  {
   "cell_type": "code",
   "execution_count": 1,
   "metadata": {
    "collapsed": false,
    "slideshow": {
     "slide_type": "fragment"
    }
   },
   "outputs": [
    {
     "data": {
      "text/html": [
       "\n",
       "<h1> This is a header</h1>\n",
       "\n",
       "<style>\n",
       "\n",
       "h1 {\n",
       "    color:red;\n",
       "}\n",
       "\n",
       "</style>"
      ],
      "text/plain": [
       "<IPython.core.display.HTML object>"
      ]
     },
     "metadata": {},
     "output_type": "display_data"
    }
   ],
   "source": [
    "%%HTML\n",
    "\n",
    "<h1> This is a header</h1>\n",
    "\n",
    "<style>\n",
    "\n",
    "h1 {\n",
    "    color:red;\n",
    "}\n",
    "\n",
    "</style>"
   ]
  },
  {
   "cell_type": "markdown",
   "metadata": {
    "slideshow": {
     "slide_type": "subslide"
    }
   },
   "source": [
    "Wow\n",
    "====\n",
    "\n",
    "Notice it made all headers red"
   ]
  },
  {
   "cell_type": "markdown",
   "metadata": {
    "slideshow": {
     "slide_type": "subslide"
    }
   },
   "source": [
    "In order to finely tune the connection between CSS, JS and HTML, there is something called selectors. "
   ]
  },
  {
   "cell_type": "code",
   "execution_count": 2,
   "metadata": {
    "collapsed": false,
    "slideshow": {
     "slide_type": "fragment"
    }
   },
   "outputs": [
    {
     "data": {
      "text/html": [
       "\n",
       "<h1 class=\"attention-getter\"> This is an important header</h1>\n",
       "\n",
       "<style>\n",
       "\n",
       ".attention-getter {\n",
       "    color:blue;\n",
       "}\n",
       "\n",
       "</style>"
      ],
      "text/plain": [
       "<IPython.core.display.HTML object>"
      ]
     },
     "metadata": {},
     "output_type": "display_data"
    }
   ],
   "source": [
    "%%HTML\n",
    "\n",
    "<h1 class=\"attention-getter\"> This is an important header</h1>\n",
    "\n",
    "<style>\n",
    "\n",
    ".attention-getter {\n",
    "    color:blue;\n",
    "}\n",
    "\n",
    "</style>"
   ]
  },
  {
   "cell_type": "markdown",
   "metadata": {
    "slideshow": {
     "slide_type": "slide"
    }
   },
   "source": [
    "There is an established philosophy that HTML = content, CSS = style. Therefore, it's incorrect to create a class called \"blue-class\" because now you've spilled over some style into your HTML."
   ]
  },
  {
   "cell_type": "markdown",
   "metadata": {
    "slideshow": {
     "slide_type": "subslide"
    }
   },
   "source": [
    "<span class=\"attention-getter\"> Testing out you're own stuff</span>\n",
    "==\n",
    "\n",
    "So with spans and divs, we're able to attach classes to HTML elements. If you want to learn more, I would recommend [jsfiddle](https://jsfiddle.net/) which is a wonderful place for testing out. If you want to have a structured lesson, check out [w3schools](w3schools.com) and [codeacademy](http://codeacademy.com)"
   ]
  },
  {
   "cell_type": "markdown",
   "metadata": {
    "slideshow": {
     "slide_type": "slide"
    }
   },
   "source": [
    "Javascript\n",
    "====\n",
    "\n",
    "JS is the programming language of the web. It allows you to manipulate elements."
   ]
  },
  {
   "cell_type": "code",
   "execution_count": 19,
   "metadata": {
    "collapsed": false,
    "slideshow": {
     "slide_type": "subslide"
    }
   },
   "outputs": [
    {
     "data": {
      "text/html": [
       "\n",
       "<h3 class=\"grab-me\"> This header will change soon</h3>"
      ],
      "text/plain": [
       "<IPython.core.display.HTML object>"
      ]
     },
     "metadata": {},
     "output_type": "display_data"
    }
   ],
   "source": [
    "%%HTML\n",
    "\n",
    "<h3 class=\"grab-me\"> This header will change soon</h3>"
   ]
  },
  {
   "cell_type": "code",
   "execution_count": 18,
   "metadata": {
    "collapsed": false,
    "slideshow": {
     "slide_type": "subslide"
    }
   },
   "outputs": [
    {
     "data": {
      "application/javascript": [
       "\n",
       "var grabme = document.querySelector('.grab-me');\n",
       "grabme.textContent = 'Hoopla';"
      ],
      "text/plain": [
       "<IPython.core.display.Javascript object>"
      ]
     },
     "metadata": {},
     "output_type": "display_data"
    }
   ],
   "source": [
    "%%javascript\n",
    "\n",
    "var grabme = document.querySelector('.grab-me');\n",
    "grabme.textContent = 'Hoopla';"
   ]
  },
  {
   "cell_type": "code",
   "execution_count": 21,
   "metadata": {
    "collapsed": false,
    "slideshow": {
     "slide_type": "subslide"
    }
   },
   "outputs": [
    {
     "data": {
      "text/html": [
       "\n",
       "<ul class=\"fill-me\"> </ul>"
      ],
      "text/plain": [
       "<IPython.core.display.HTML object>"
      ]
     },
     "metadata": {},
     "output_type": "display_data"
    }
   ],
   "source": [
    "%%HTML\n",
    "\n",
    "<ul class=\"fill-me\"> </ul>"
   ]
  },
  {
   "cell_type": "code",
   "execution_count": 26,
   "metadata": {
    "collapsed": false,
    "slideshow": {
     "slide_type": "subslide"
    }
   },
   "outputs": [
    {
     "data": {
      "application/javascript": [
       "\n",
       "var fruits = ['strawberry', 'mango', 'bannana'];\n",
       "\n",
       "fruits.forEach(function(i) {\n",
       "    document.querySelector('.fill-me').innerHTML += '<li>' + i  + '</li>';\n",
       "});"
      ],
      "text/plain": [
       "<IPython.core.display.Javascript object>"
      ]
     },
     "metadata": {},
     "output_type": "display_data"
    }
   ],
   "source": [
    "%%javascript\n",
    "\n",
    "var fruits = ['strawberry', 'mango', 'bannana'];\n",
    "\n",
    "fruits.forEach(function(i) {\n",
    "    document.querySelector('.fill-me').innerHTML += '<li>' + i  + '</li>';\n",
    "});"
   ]
  },
  {
   "cell_type": "markdown",
   "metadata": {
    "slideshow": {
     "slide_type": "slide"
    }
   },
   "source": [
    "There's a lot of stuff going on in there! Here are some differences with Python:\n",
    "\n",
    "\n",
    "1. You need semicolins at the end of lines\n",
    "2. The for loops syntax is different. Rather than have code below, we call a forEach function and give it a function we define right there.\n",
    "3. We also used the innerHTML instead of textContent this time around"
   ]
  },
  {
   "cell_type": "markdown",
   "metadata": {
    "slideshow": {
     "slide_type": "slide"
    }
   },
   "source": [
    "Using HTML, CSS, and JS in your notebook\n",
    "==="
   ]
  },
  {
   "cell_type": "markdown",
   "metadata": {
    "slideshow": {
     "slide_type": "slide"
    }
   },
   "source": [
    "Example 1 &mdash; Changing font\n",
    "----\n",
    "\n",
    "Using the inspector, I've discovered that all the paragraphs in rendered cells can be selected by `.rendered_html`. I'll now change their fonts"
   ]
  },
  {
   "cell_type": "markdown",
   "metadata": {
    "slideshow": {
     "slide_type": "subslide"
    }
   },
   "source": [
    "This cell below grabs the fonts from google's font collection"
   ]
  },
  {
   "cell_type": "code",
   "execution_count": 34,
   "metadata": {
    "collapsed": false,
    "slideshow": {
     "slide_type": "subslide"
    }
   },
   "outputs": [
    {
     "data": {
      "text/html": [
       "\n",
       "<link href='https://fonts.googleapis.com/css?family=Roboto+Condensed:300|Oswald:400,700' rel='stylesheet' type='text/css'>"
      ],
      "text/plain": [
       "<IPython.core.display.HTML object>"
      ]
     },
     "metadata": {},
     "output_type": "display_data"
    }
   ],
   "source": [
    "%%HTML\n",
    "\n",
    "<link href='https://fonts.googleapis.com/css?family=Roboto+Condensed:300|Oswald:400,700' rel='stylesheet' type='text/css'>"
   ]
  },
  {
   "cell_type": "code",
   "execution_count": 40,
   "metadata": {
    "collapsed": false,
    "slideshow": {
     "slide_type": "subslide"
    }
   },
   "outputs": [
    {
     "data": {
      "text/html": [
       "\n",
       "<style>\n",
       "\n",
       ".rendered_html {\n",
       "    font-family: 'Roboto Condensed';\n",
       "    font-size: 125%;\n",
       "}\n",
       "\n",
       "</style>"
      ],
      "text/plain": [
       "<IPython.core.display.HTML object>"
      ]
     },
     "metadata": {},
     "output_type": "display_data"
    }
   ],
   "source": [
    "%%HTML\n",
    "\n",
    "<style>\n",
    "\n",
    ".rendered_html {\n",
    "    font-family: 'Roboto Condensed';\n",
    "    font-size: 125%;\n",
    "}\n",
    "\n",
    "</style>"
   ]
  },
  {
   "cell_type": "markdown",
   "metadata": {
    "slideshow": {
     "slide_type": "subslide"
    }
   },
   "source": [
    "I can also change headings to be something different"
   ]
  },
  {
   "cell_type": "code",
   "execution_count": 36,
   "metadata": {
    "collapsed": false,
    "slideshow": {
     "slide_type": "fragment"
    }
   },
   "outputs": [
    {
     "data": {
      "text/html": [
       "\n",
       "<style>\n",
       "\n",
       ".rendered_html > h1,h2,h3,h4,h5,h6 {\n",
       "    font-family: 'Oswald';\n",
       "}\n",
       "</style>"
      ],
      "text/plain": [
       "<IPython.core.display.HTML object>"
      ]
     },
     "metadata": {},
     "output_type": "display_data"
    }
   ],
   "source": [
    "%%HTML\n",
    "\n",
    "<style>\n",
    "\n",
    ".rendered_html > h1,h2,h3,h4,h5,h6 {\n",
    "    font-family: 'Oswald';\n",
    "}\n",
    "</style>"
   ]
  },
  {
   "cell_type": "markdown",
   "metadata": {
    "slideshow": {
     "slide_type": "slide"
    }
   },
   "source": [
    "Example 2 &mdash; Changing the background\n",
    "---\n",
    "\n",
    "Using the inspector, I've found that the dull gray background is from the `.notebook_app`. "
   ]
  },
  {
   "cell_type": "code",
   "execution_count": 47,
   "metadata": {
    "collapsed": false,
    "slideshow": {
     "slide_type": "subslide"
    }
   },
   "outputs": [
    {
     "data": {
      "text/html": [
       "\n",
       "<style>\n",
       "\n",
       ".notebook_app {\n",
       "    background-image: url('https://images.unsplash.com/photo-1453106037972-08fbfe790762?ixlib=rb-0.3.5&q=80&fm=jpg&crop=entropy&s=cbaaa89f2c5394ff276ac2ccbfffd4a4');\n",
       "    background-repeat: no;\n",
       "    background-size: cover;\n",
       "}\n",
       "\n",
       "</style>"
      ],
      "text/plain": [
       "<IPython.core.display.HTML object>"
      ]
     },
     "metadata": {},
     "output_type": "display_data"
    }
   ],
   "source": [
    "%%HTML\n",
    "\n",
    "<style>\n",
    "\n",
    ".notebook_app {\n",
    "    background-image: url('https://images.unsplash.com/photo-1453106037972-08fbfe790762?ixlib=rb-0.3.5&q=80&fm=jpg&crop=entropy&s=cbaaa89f2c5394ff276ac2ccbfffd4a4');\n",
    "    background-repeat: no;\n",
    "    background-size: cover;\n",
    "}\n",
    "\n",
    "</style>"
   ]
  },
  {
   "cell_type": "markdown",
   "metadata": {
    "slideshow": {
     "slide_type": "slide"
    }
   },
   "source": [
    "Example 3 &mdash; Creating a nice results report\n",
    "---\n",
    "\n",
    "If you just web-search for HTML table, you'll see the syntax. Basically you have this:\n",
    "\n",
    "```\n",
    "<table>\n",
    "    <tr> each row </tr>\n",
    "</table>\n",
    "```\n",
    "\n",
    "with more than one column:\n",
    "```\n",
    "<table>\n",
    "    <tr> \n",
    "        <td> row 1 column 1</td> \n",
    "        <td> column 2</td> \n",
    "    </tr>\n",
    "</table>\n",
    "```"
   ]
  },
  {
   "cell_type": "code",
   "execution_count": 74,
   "metadata": {
    "collapsed": true,
    "slideshow": {
     "slide_type": "subslide"
    }
   },
   "outputs": [],
   "source": [
    "import IPython.display as display\n",
    "\n",
    "def make_pretty_table(x, y):\n",
    "    html = '''\n",
    "    <table>\n",
    "        <tr> <th> x</th> <th> y </th> </tr>\n",
    "    '''\n",
    "    for xi,yi in zip(x,y):\n",
    "        html += '<tr> <td> {} </td> <td> {} </td> </tr> \\n'.format(xi,yi)\n",
    "    html += '</table>'\n",
    "    d = display.HTML(html)\n",
    "    display.display(d)"
   ]
  },
  {
   "cell_type": "code",
   "execution_count": 75,
   "metadata": {
    "collapsed": false,
    "slideshow": {
     "slide_type": "subslide"
    }
   },
   "outputs": [
    {
     "data": {
      "text/html": [
       "\n",
       "    <table>\n",
       "        <tr> <th> x</th> <th> y </th> </tr>\n",
       "    <tr> <td> 0 </td> <td> 10 </td> </tr> \n",
       "<tr> <td> 1 </td> <td> 11 </td> </tr> \n",
       "<tr> <td> 2 </td> <td> 12 </td> </tr> \n",
       "<tr> <td> 3 </td> <td> 13 </td> </tr> \n",
       "<tr> <td> 4 </td> <td> 14 </td> </tr> \n",
       "<tr> <td> 5 </td> <td> 15 </td> </tr> \n",
       "<tr> <td> 6 </td> <td> 16 </td> </tr> \n",
       "<tr> <td> 7 </td> <td> 17 </td> </tr> \n",
       "<tr> <td> 8 </td> <td> 18 </td> </tr> \n",
       "<tr> <td> 9 </td> <td> 19 </td> </tr> \n",
       "</table>"
      ],
      "text/plain": [
       "<IPython.core.display.HTML object>"
      ]
     },
     "metadata": {},
     "output_type": "display_data"
    }
   ],
   "source": [
    "x = range(10)\n",
    "y = range(10,20)\n",
    "\n",
    "make_pretty_table(x,y)"
   ]
  },
  {
   "cell_type": "code",
   "execution_count": 98,
   "metadata": {
    "collapsed": true,
    "slideshow": {
     "slide_type": "subslide"
    }
   },
   "outputs": [],
   "source": [
    "def make_really_pretty_table(x, y):\n",
    "    html = '''\n",
    "    <table class='pretty-table'>\n",
    "        <tr> <th> x</th> <th> y </th> </tr>\n",
    "    '''\n",
    "    for xi,yi in zip(x,y):\n",
    "        html += '<tr> <td> {} </td> <td> {} </td> </tr> \\n'.format(xi,yi)\n",
    "    html += '</table>'\n",
    "    \n",
    "    html += '''\n",
    "    <style>\n",
    "        .pretty-table > tbody > tr:nth-child(odd) {\n",
    "           background-color: #ccc;\n",
    "    }\n",
    "        \n",
    "        .pretty-table > tbody > tr > td, th {\n",
    "            text-align: center !important;\n",
    "        }\n",
    "    </style>\n",
    "    \n",
    "    '''\n",
    "    \n",
    "    d = display.HTML(html)\n",
    "    display.display(d)\n",
    "    "
   ]
  },
  {
   "cell_type": "code",
   "execution_count": 99,
   "metadata": {
    "collapsed": false,
    "slideshow": {
     "slide_type": "subslide"
    }
   },
   "outputs": [
    {
     "data": {
      "text/html": [
       "\n",
       "    <table class='pretty-table'>\n",
       "        <tr> <th> x</th> <th> y </th> </tr>\n",
       "    <tr> <td> 0 </td> <td> 10 </td> </tr> \n",
       "<tr> <td> 1 </td> <td> 11 </td> </tr> \n",
       "<tr> <td> 2 </td> <td> 12 </td> </tr> \n",
       "<tr> <td> 3 </td> <td> 13 </td> </tr> \n",
       "<tr> <td> 4 </td> <td> 14 </td> </tr> \n",
       "<tr> <td> 5 </td> <td> 15 </td> </tr> \n",
       "<tr> <td> 6 </td> <td> 16 </td> </tr> \n",
       "<tr> <td> 7 </td> <td> 17 </td> </tr> \n",
       "<tr> <td> 8 </td> <td> 18 </td> </tr> \n",
       "<tr> <td> 9 </td> <td> 19 </td> </tr> \n",
       "</table>\n",
       "    <style>\n",
       "        .pretty-table > tbody > tr:nth-child(odd) {\n",
       "           background-color: #ccc;\n",
       "    }\n",
       "        \n",
       "        .pretty-table > tbody > tr > td, th {\n",
       "            text-align: center !important;\n",
       "        }\n",
       "    </style>\n",
       "    \n",
       "    "
      ],
      "text/plain": [
       "<IPython.core.display.HTML object>"
      ]
     },
     "metadata": {},
     "output_type": "display_data"
    }
   ],
   "source": [
    "x = range(10)\n",
    "y = range(10,20)\n",
    "\n",
    "make_really_pretty_table(x,y)"
   ]
  },
  {
   "cell_type": "markdown",
   "metadata": {},
   "source": [
    "Further Reading\n",
    "---\n",
    "\n",
    "[JS with Python](https://jakevdp.github.io/blog/2013/06/01/ipython-notebook-javascript-python-communication/)"
   ]
  }
 ],
 "metadata": {
  "celltoolbar": "Slideshow",
  "kernelspec": {
   "display_name": "Python 3",
   "language": "python",
   "name": "python3"
  },
  "language_info": {
   "codemirror_mode": {
    "name": "ipython",
    "version": 3
   },
   "file_extension": ".py",
   "mimetype": "text/x-python",
   "name": "python",
   "nbconvert_exporter": "python",
   "pygments_lexer": "ipython3",
   "version": "3.4.2"
  }
 },
 "nbformat": 4,
 "nbformat_minor": 0
}
