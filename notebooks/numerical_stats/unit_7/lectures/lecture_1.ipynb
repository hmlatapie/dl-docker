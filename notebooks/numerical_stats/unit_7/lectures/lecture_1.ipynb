{
 "cells": [
  {
   "cell_type": "markdown",
   "metadata": {
    "slideshow": {
     "slide_type": "slide"
    }
   },
   "source": [
    "Unit 7, Lecture 1\n",
    "====\n",
    "\n",
    "*Numerical Methods and Statistics*\n",
    "\n",
    "----\n",
    "\n",
    "#### Prof. Andrew White, February 22, 2016"
   ]
  },
  {
   "cell_type": "code",
   "execution_count": 1,
   "metadata": {
    "collapsed": false,
    "slideshow": {
     "slide_type": "skip"
    }
   },
   "outputs": [
    {
     "name": "stderr",
     "output_type": "stream",
     "text": [
      "/usr/local/lib/python2.7/dist-packages/matplotlib/font_manager.py:273: UserWarning: Matplotlib is building the font cache using fc-list. This may take a moment.\n",
      "  warnings.warn('Matplotlib is building the font cache using fc-list. This may take a moment.')\n"
     ]
    }
   ],
   "source": [
    "%matplotlib inline\n",
    "import random\n",
    "import numpy as np\n",
    "import matplotlib.pyplot as plt\n",
    "from math import sqrt, pi, erf\n",
    "import scipy.stats\n",
    "import numpy.linalg\n",
    "plt.style.use(['ggplot', '../../che116.mplstyle'])"
   ]
  },
  {
   "cell_type": "markdown",
   "metadata": {
    "slideshow": {
     "slide_type": "slide"
    }
   },
   "source": [
    "Working with Matrices in Numpy\n",
    "====\n",
    "\n",
    "We saw earlier in the class how to create numpy matrices. Let's review that and learn about explicit initialization"
   ]
  },
  {
   "cell_type": "markdown",
   "metadata": {
    "slideshow": {
     "slide_type": "subslide"
    }
   },
   "source": [
    "Explicit Initialization\n",
    "----\n",
    "\n",
    "You can explitily set the values in your matrix by first creating a list and then converting it into a numpy array"
   ]
  },
  {
   "cell_type": "code",
   "execution_count": 2,
   "metadata": {
    "collapsed": false,
    "slideshow": {
     "slide_type": "subslide"
    }
   },
   "outputs": [
    {
     "name": "stdout",
     "output_type": "stream",
     "text": [
      "As Python list:\n",
      "[[4, 3], [6, 2]]\n",
      "('The shape of the array:', (2, 2))\n",
      "The numpy matrix/array:\n",
      "[[4 3]\n",
      " [6 2]]\n"
     ]
    }
   ],
   "source": [
    "matrix = [ [4,3], [6, 2] ]\n",
    "print('As Python list:')\n",
    "print(matrix)\n",
    "\n",
    "np_matrix = np.array(matrix)\n",
    "\n",
    "print('The shape of the array:', np.shape(np_matrix))\n",
    "print('The numpy matrix/array:')\n",
    "print(np_matrix)"
   ]
  },
  {
   "cell_type": "markdown",
   "metadata": {
    "slideshow": {
     "slide_type": "subslide"
    }
   },
   "source": [
    "You can use backslashes, `\\`, to specify multiple lines in python. This can make the formatting cleaner"
   ]
  },
  {
   "cell_type": "code",
   "execution_count": 3,
   "metadata": {
    "collapsed": false,
    "slideshow": {
     "slide_type": "fragment"
    }
   },
   "outputs": [
    {
     "name": "stdout",
     "output_type": "stream",
     "text": [
      "[[ 4  3]\n",
      " [ 1  2]\n",
      " [-1  4]\n",
      " [ 4  2]]\n"
     ]
    }
   ],
   "source": [
    "np_matrix_2 = np.array([\\\n",
    "                        [4,3],   \\\n",
    "                        [1, 2],  \\\n",
    "                        [-1, 4], \\\n",
    "                        [4, 2]   \\\n",
    "                        ])\n",
    "print np_matrix_2"
   ]
  },
  {
   "cell_type": "markdown",
   "metadata": {
    "slideshow": {
     "slide_type": "subslide"
    }
   },
   "source": [
    "Create and Set\n",
    "----\n",
    "\n",
    "You can also create an array and then set the elements."
   ]
  },
  {
   "cell_type": "code",
   "execution_count": 4,
   "metadata": {
    "collapsed": false,
    "slideshow": {
     "slide_type": "fragment"
    }
   },
   "outputs": [
    {
     "name": "stdout",
     "output_type": "stream",
     "text": [
      "[[ 0.  0.  0.  0.  0.  0.  0.  0.  0.  0.]\n",
      " [ 0.  0.  0.  0.  0.  0.  0.  0.  0.  0.]]\n"
     ]
    }
   ],
   "source": [
    "np_matrix_3 = np.zeros( (2, 10) )\n",
    "\n",
    "print np_matrix_3"
   ]
  },
  {
   "cell_type": "code",
   "execution_count": 5,
   "metadata": {
    "collapsed": false,
    "slideshow": {
     "slide_type": "subslide"
    }
   },
   "outputs": [
    {
     "name": "stdout",
     "output_type": "stream",
     "text": [
      "[[ 0.  2.  0.  0.  0.  0.  0.  0.  0.  0.]\n",
      " [ 0.  2.  0.  0.  0.  0.  0.  0.  0.  0.]]\n"
     ]
    }
   ],
   "source": [
    "np_matrix_3[:, 1] = 2\n",
    "print np_matrix_3"
   ]
  },
  {
   "cell_type": "code",
   "execution_count": 6,
   "metadata": {
    "collapsed": false,
    "slideshow": {
     "slide_type": "subslide"
    }
   },
   "outputs": [
    {
     "name": "stdout",
     "output_type": "stream",
     "text": [
      "[[-1. -1. -1. -1. -1. -1. -1. -1. -1. -1.]\n",
      " [ 0.  2.  0.  0.  0.  0.  0.  0.  0.  0.]]\n"
     ]
    }
   ],
   "source": [
    "np_matrix_3[0, :] = -1\n",
    "print np_matrix_3"
   ]
  },
  {
   "cell_type": "code",
   "execution_count": 7,
   "metadata": {
    "collapsed": false,
    "slideshow": {
     "slide_type": "subslide"
    }
   },
   "outputs": [
    {
     "name": "stdout",
     "output_type": "stream",
     "text": [
      "[[ -1.  -1.  -1.  -1.  -1.  -1.  -1.  -1.  -1.  -1.]\n",
      " [  0.   2.   0.   0.   0.   0.  43.   0.   0.   0.]]\n"
     ]
    }
   ],
   "source": [
    "np_matrix_3[1, 6] = 43\n",
    "print np_matrix_3"
   ]
  },
  {
   "cell_type": "code",
   "execution_count": 8,
   "metadata": {
    "collapsed": false,
    "slideshow": {
     "slide_type": "subslide"
    }
   },
   "outputs": [
    {
     "name": "stdout",
     "output_type": "stream",
     "text": [
      "[[ -1.  -1.  -1.  -1.  -1.  -1.  -1.  -1.  -1.  -1.]\n",
      " [  0.   1.   4.   9.  16.  25.  36.  49.  64.  81.]]\n"
     ]
    }
   ],
   "source": [
    "rows, columns = np.shape(np_matrix_3) #get the number of rows and columns\n",
    "for i in range(columns): #Do a for loop over columns\n",
    "    np_matrix_3[1, i] = i ** 2 #Set the value of the 2nd row, ith column to be i^2\n",
    "    \n",
    "print np_matrix_3"
   ]
  },
  {
   "cell_type": "markdown",
   "metadata": {
    "slideshow": {
     "slide_type": "slide"
    }
   },
   "source": [
    "Linear Algebra\n",
    "====\n",
    "\n",
    "The linear algebra routines for python are in the `numpy.linalg` library. [See here](http://docs.scipy.org/doc/numpy/reference/routines.linalg.html)"
   ]
  },
  {
   "cell_type": "markdown",
   "metadata": {
    "slideshow": {
     "slide_type": "subslide"
    }
   },
   "source": [
    "Matrix Multiplication\n",
    "---\n",
    "\n",
    "Matrix multiplication is done with the `dot` method. Let's compare that with `*`"
   ]
  },
  {
   "cell_type": "code",
   "execution_count": 9,
   "metadata": {
    "collapsed": false,
    "slideshow": {
     "slide_type": "fragment"
    }
   },
   "outputs": [
    {
     "name": "stdout",
     "output_type": "stream",
     "text": [
      "[[ 0.66777056]\n",
      " [ 1.18273913]]\n"
     ]
    }
   ],
   "source": [
    "np_matrix_1 = np.random.random( (2, 4) ) #create a random 2 x 4 array\n",
    "np_matrix_2 = np.random.random( (4, 1) ) #create a random 4 x 1 array\n",
    "\n",
    "print np_matrix_1.dot(np_matrix_2)"
   ]
  },
  {
   "cell_type": "markdown",
   "metadata": {
    "slideshow": {
     "slide_type": "subslide"
    }
   },
   "source": [
    "So, dot correctly gives us a 2x1 matrix as expected for the two shapes"
   ]
  },
  {
   "cell_type": "code",
   "execution_count": 10,
   "metadata": {
    "collapsed": false,
    "slideshow": {
     "slide_type": "subslide"
    }
   },
   "outputs": [
    {
     "ename": "ValueError",
     "evalue": "operands could not be broadcast together with shapes (2,4) (4,1) ",
     "output_type": "error",
     "traceback": [
      "\u001b[1;31m---------------------------------------------------------------------------\u001b[0m\n\u001b[1;31mValueError\u001b[0m                                Traceback (most recent call last)",
      "\u001b[1;32m<ipython-input-10-71e2e1317a03>\u001b[0m in \u001b[0;36m<module>\u001b[1;34m()\u001b[0m\n\u001b[1;32m----> 1\u001b[1;33m \u001b[1;32mprint\u001b[0m \u001b[0mnp_matrix_1\u001b[0m \u001b[1;33m*\u001b[0m \u001b[0mnp_matrix_2\u001b[0m\u001b[1;33m\u001b[0m\u001b[0m\n\u001b[0m",
      "\u001b[1;31mValueError\u001b[0m: operands could not be broadcast together with shapes (2,4) (4,1) "
     ]
    }
   ],
   "source": [
    "print np_matrix_1 * np_matrix_2"
   ]
  },
  {
   "cell_type": "markdown",
   "metadata": {
    "slideshow": {
     "slide_type": "fragment"
    }
   },
   "source": [
    "The element-by-element multiplication, `*`, doesn't work on different sized arrays."
   ]
  },
  {
   "cell_type": "markdown",
   "metadata": {
    "slideshow": {
     "slide_type": "subslide"
    }
   },
   "source": [
    "Method vs Function\n",
    "----\n",
    "\n",
    "Instead of using `dot` as a method (it comes after a `.`), you can use the `dot` function as well. Let's see an example:"
   ]
  },
  {
   "cell_type": "code",
   "execution_count": 11,
   "metadata": {
    "collapsed": false,
    "slideshow": {
     "slide_type": "fragment"
    }
   },
   "outputs": [
    {
     "name": "stdout",
     "output_type": "stream",
     "text": [
      "[[ 0.66777056]\n",
      " [ 1.18273913]]\n",
      "[[ 0.66777056]\n",
      " [ 1.18273913]]\n"
     ]
    }
   ],
   "source": [
    "print np_matrix_1.dot(np_matrix_2)\n",
    "\n",
    "print np.dot(np_matrix_1, np_matrix_2)"
   ]
  },
  {
   "cell_type": "markdown",
   "metadata": {
    "slideshow": {
     "slide_type": "slide"
    }
   },
   "source": [
    "Matrix Rank\n",
    "----\n",
    "\n",
    "The rank of a matrix can be found with singular value decomposition. In numpy, we can do this simply with a call to `linalg.matrix_rank`"
   ]
  },
  {
   "cell_type": "code",
   "execution_count": 5,
   "metadata": {
    "collapsed": false,
    "slideshow": {
     "slide_type": "fragment"
    }
   },
   "outputs": [
    {
     "name": "stdout",
     "output_type": "stream",
     "text": [
      "1\n"
     ]
    }
   ],
   "source": [
    "import numpy.linalg as linalg\n",
    "\n",
    "matrix =  [ [1, 0], [0, 0] ]\n",
    "np_matrix = np.array(matrix)\n",
    "\n",
    "print linalg.matrix_rank(np_matrix)\n",
    "\n"
   ]
  },
  {
   "cell_type": "markdown",
   "metadata": {
    "slideshow": {
     "slide_type": "slide"
    }
   },
   "source": [
    "Matrix Inverse\n",
    "---"
   ]
  },
  {
   "cell_type": "markdown",
   "metadata": {
    "slideshow": {
     "slide_type": "fragment"
    }
   },
   "source": [
    "The inverse of a matrix can be found using the `linalg.inverse` command. Consider the following system of equations:\n",
    "\n",
    "$$\\begin{array}{lr}\n",
    "3 x + 2 y + z & = 5\\\\\n",
    "2 x - y & = 4 \\\\\n",
    "x + y - 2z & = 12 \\\\\n",
    "\\end{array}$$\n",
    "\n",
    "We can encode it as a matrix equation:\n",
    "\n",
    "$$\\left[\\begin{array}{lcr}\n",
    "3 & 2 & 1\\\\\n",
    "2 & -1 & 0\\\\\n",
    "1 & 1 & -2\\\\\n",
    "\\end{array}\\right]\n",
    "\\left[\\begin{array}{l}\n",
    "x\\\\\n",
    "y\\\\\n",
    "z\\\\\n",
    "\\end{array}\\right]\n",
    "=\n",
    "\\left[\\begin{array}{l}\n",
    "5\\\\\n",
    "4\\\\\n",
    "12\\\\\n",
    "\\end{array}\\right]$$\n",
    "\n",
    "$$\\mathbf{A}\\mathbf{x} = \\mathbf{b}$$\n",
    "\n",
    "$$\\mathbf{A}^{-1}\\mathbf{b} = \\mathbf{x}$$"
   ]
  },
  {
   "cell_type": "code",
   "execution_count": 6,
   "metadata": {
    "collapsed": false,
    "slideshow": {
     "slide_type": "subslide"
    }
   },
   "outputs": [
    {
     "name": "stdout",
     "output_type": "stream",
     "text": [
      "[ 2.47058824  0.94117647 -4.29411765]\n",
      "[  5.   4.  12.]\n"
     ]
    }
   ],
   "source": [
    "\n",
    "#Enter the data as lists\n",
    "a_matrix = [[3, 2, 1],\\\n",
    "            [2,-1,0],\\\n",
    "            [1,1,-2]]\n",
    "b_matrix = [5, 4, 12]\n",
    "\n",
    "#convert them to numpy arrays/matrices\n",
    "np_a_matrix = np.array(a_matrix)\n",
    "np_b_matrix = np.array(b_matrix).transpose()\n",
    "\n",
    "#Solve the problem\n",
    "np_a_inv = linalg.inv(np_a_matrix)\n",
    "np_x_matrix = np_a_inv.dot(np_b_matrix)\n",
    "\n",
    "#print the solution\n",
    "print np_x_matrix\n",
    "\n",
    "#check to make sure the answer works\n",
    "print np_a_matrix.dot(np_x_matrix)"
   ]
  },
  {
   "cell_type": "markdown",
   "metadata": {
    "slideshow": {
     "slide_type": "subslide"
    }
   },
   "source": [
    "Computation cost for inverse\n",
    "---\n",
    "\n",
    "Computing a matrix inverse can be VERY expensive for large matrices. Do not exceed about 500 x 500 matrices"
   ]
  },
  {
   "cell_type": "code",
   "execution_count": 7,
   "metadata": {
    "collapsed": false,
    "slideshow": {
     "slide_type": "fragment"
    }
   },
   "outputs": [
    {
     "data": {
      "text/plain": [
       "array([[ 0.03620626,  0.28823886, -0.07669172, ..., -0.33824186,\n",
       "        -0.37590712, -0.04015545],\n",
       "       [-0.10756024, -0.07580845, -0.31651586, ...,  0.09192276,\n",
       "         0.16077334,  0.23995337],\n",
       "       [ 0.00649522,  0.08958288,  0.07999183, ..., -0.23454459,\n",
       "        -0.12596489, -0.18243107],\n",
       "       ..., \n",
       "       [-0.0107218 , -0.16232167,  0.15588354, ..., -0.0501117 ,\n",
       "         0.00093237, -0.30555025],\n",
       "       [ 0.04877364,  0.46685683,  0.02206748, ..., -0.41825581,\n",
       "        -0.52295196, -0.03424202],\n",
       "       [-0.01771608, -0.3209842 ,  0.20470981, ...,  0.38705853,\n",
       "         0.27983571, -0.07346508]])"
      ]
     },
     "execution_count": 7,
     "metadata": {},
     "output_type": "execute_result"
    }
   ],
   "source": [
    "linalg.inv(np.random.random( (500, 500) ))"
   ]
  },
  {
   "cell_type": "markdown",
   "metadata": {
    "slideshow": {
     "slide_type": "slide"
    }
   },
   "source": [
    "Eigenvectors/Eigenvalues\n",
    "----\n",
    "\n",
    "Before trying to understand what an eigenvector is, let's try to understand their analogue, a stationary point."
   ]
  },
  {
   "cell_type": "markdown",
   "metadata": {
    "slideshow": {
     "slide_type": "subslide"
    }
   },
   "source": [
    "Consider this process:\n",
    "\n",
    "1. You start with $$x_1 = 1$$\n",
    "\n",
    "2. You set $$x_2 = \\frac{x_1^2 - 612}{2x_1}$$\n",
    "\n",
    "3. You set $$x_3 = \\frac{x_2^2 - 612}{2x_2}$$\n"
   ]
  },
  {
   "cell_type": "markdown",
   "metadata": {
    "slideshow": {
     "slide_type": "subslide"
    }
   },
   "source": [
    "$$x_{n+1} = f(x_n)$$"
   ]
  },
  {
   "cell_type": "markdown",
   "metadata": {
    "slideshow": {
     "slide_type": "fragment"
    }
   },
   "source": [
    "Is there an $x$ such that $x = f(x)$?"
   ]
  },
  {
   "cell_type": "code",
   "execution_count": 8,
   "metadata": {
    "collapsed": false,
    "slideshow": {
     "slide_type": "subslide"
    }
   },
   "outputs": [
    {
     "name": "stdout",
     "output_type": "stream",
     "text": [
      "(0, 307)\n",
      "(1, 155)\n",
      "(2, 80)\n",
      "(3, 44)\n",
      "(4, 29)\n",
      "(5, 26)\n",
      "(6, 25)\n",
      "(7, 25)\n",
      "(8, 25)\n",
      "(9, 25)\n"
     ]
    }
   ],
   "source": [
    "x = 1\n",
    "for i in range(10):\n",
    "    x = x - (x**2 - 612) / (2 * x)\n",
    "    print(i, x)"
   ]
  },
  {
   "cell_type": "markdown",
   "metadata": {
    "slideshow": {
     "slide_type": "subslide"
    }
   },
   "source": [
    "This is called a **stationary point**"
   ]
  },
  {
   "cell_type": "markdown",
   "metadata": {
    "slideshow": {
     "slide_type": "slide"
    }
   },
   "source": [
    "Eigenvectors/Eigenvalues\n",
    "----\n",
    "\n",
    "Matrices are analogues of functions. They take in a vector and return a vector.\n",
    "$$\\mathbf{A}\\mathbf{x} = \\mathbf{y}$$\n",
    "\n",
    "Just like stationary points, there is sometimes a special vector which has this property:\n",
    "\n",
    "$$\\mathbf{A}\\mathbf{x} = \\mathbf{x}$$"
   ]
  },
  {
   "cell_type": "markdown",
   "metadata": {
    "slideshow": {
     "slide_type": "subslide"
    }
   },
   "source": [
    "Such a vector is called an **eigenvector**. It turns out such vectors are quite rare. If we instead allow a scalar, we can find a whole bunch like this:\n",
    "\n",
    "$$\\mathbf{A}\\mathbf{v} =\\lambda\\mathbf{v}$$\n",
    "\n",
    "These are like the stationary points above, except we are getting back our input times a constant. That means it's a particular *direction* that is unchanged, not the value. "
   ]
  },
  {
   "cell_type": "markdown",
   "metadata": {
    "slideshow": {
     "slide_type": "subslide"
    }
   },
   "source": [
    "Finding Eigenvectors/Eigenvalues\n",
    "---\n",
    "\n",
    "Eigenvalues/eigenvectors can be found easily as well in python, including for complex numbers and sparse matrices. The command `linalg.eigh` will return only the real eigenvalues/eigenvectors. That assumes your matrix is Hermitian (real eigenvalues). Use `eig` to get general possibly complex eigenvalues Here's an easy example:"
   ]
  },
  {
   "cell_type": "markdown",
   "metadata": {
    "slideshow": {
     "slide_type": "subslide"
    }
   },
   "source": [
    "Let's consider this matrix: \n",
    "\n",
    "$$\n",
    "A = \\left[\\begin{array}{lr}\n",
    "3 & 1\\\\\n",
    "1 & 3\\\\\n",
    "\\end{array}\\right]$$\n",
    "\n",
    "Imagine it as a geometry operator. It takes in a 2D vector and morphs it into another 2D vector."
   ]
  },
  {
   "cell_type": "markdown",
   "metadata": {
    "slideshow": {
     "slide_type": "subslide"
    }
   },
   "source": [
    "$$\\vec{x} = [1, 0]$$\n",
    "\n",
    "$$A \\,\\vec{x}^T = [3, 1]^T$$\n",
    "\n",
    "Now is there a particular *direction* where $\\mathbf{A}$ cannot affect it?"
   ]
  },
  {
   "cell_type": "code",
   "execution_count": 9,
   "metadata": {
    "collapsed": false,
    "slideshow": {
     "slide_type": "subslide"
    }
   },
   "outputs": [
    {
     "name": "stdout",
     "output_type": "stream",
     "text": [
      "[[ 0.70710678 -0.70710678]\n",
      " [ 0.70710678  0.70710678]]\n",
      "[ 4.  2.]\n"
     ]
    }
   ],
   "source": [
    "A = np.array([[3,1], [1,3]])\n",
    "\n",
    "e_values, e_vectors = np.linalg.eig(A)\n",
    "\n",
    "print(e_vectors)\n",
    "print(e_values)"
   ]
  },
  {
   "cell_type": "markdown",
   "metadata": {
    "slideshow": {
     "slide_type": "fragment"
    }
   },
   "source": [
    "So that means $v_1 = [0.7, 0.7]$ and $v_2 = [-0.7, 0.7]$. Let's find out:"
   ]
  },
  {
   "cell_type": "code",
   "execution_count": 43,
   "metadata": {
    "collapsed": false,
    "slideshow": {
     "slide_type": "subslide"
    }
   },
   "outputs": [
    {
     "data": {
      "text/plain": [
       "array([ 2.82842712,  2.82842712])"
      ]
     },
     "execution_count": 43,
     "metadata": {},
     "output_type": "execute_result"
    }
   ],
   "source": [
    "v1 = e_vectors[:,0]\n",
    "v2 = e_vectors[:,1]\n",
    "\n",
    "A.dot(v1)"
   ]
  },
  {
   "cell_type": "markdown",
   "metadata": {
    "slideshow": {
     "slide_type": "subslide"
    }
   },
   "source": [
    "Yes, that is the same direction! And notice that it's 4 times as much as the input vector, which is what the eigenvalue is telling us."
   ]
  },
  {
   "cell_type": "markdown",
   "metadata": {
    "slideshow": {
     "slide_type": "fragment"
    }
   },
   "source": [
    "A random matrix will almost never be Hermitian, so look out for complex numbers. In engineering, your matrices will almost always be Hermitian"
   ]
  },
  {
   "cell_type": "code",
   "execution_count": 21,
   "metadata": {
    "collapsed": false,
    "slideshow": {
     "slide_type": "subslide"
    }
   },
   "outputs": [
    {
     "name": "stdout",
     "output_type": "stream",
     "text": [
      "[ 2.88080198+0.j         -0.82984034+0.j          0.09012821+0.10005843j\n",
      "  0.09012821-0.10005843j  0.52389887+0.j        ]\n",
      "[[ -4.72026346e-01+0.j          -7.57452945e-01+0.j\n",
      "   -1.40248654e-01+0.06634768j  -1.40248654e-01-0.06634768j\n",
      "    3.93017322e-03+0.j        ]\n",
      " [ -5.80564557e-01+0.j           2.13097276e-01+0.j\n",
      "    2.63354271e-01-0.01943782j   2.63354271e-01+0.01943782j\n",
      "   -6.24559999e-01+0.j        ]\n",
      " [ -3.60702674e-01+0.j           2.83882447e-04+0.j\n",
      "   -3.71864697e-01-0.10603109j  -3.71864697e-01+0.10603109j\n",
      "    5.26108378e-01+0.j        ]\n",
      " [ -4.08258817e-01+0.j          -2.62929420e-02+0.j           7.28252111e-01+0.j\n",
      "    7.28252111e-01-0.j          -4.57431712e-01+0.j        ]\n",
      " [ -3.78621504e-01+0.j           6.16573749e-01+0.j\n",
      "   -4.69714269e-01+0.07540837j  -4.69714269e-01-0.07540837j\n",
      "    3.51959606e-01+0.j        ]]\n"
     ]
    }
   ],
   "source": [
    "e_values, e_vectors = linalg.eig(A)\n",
    "print e_values\n",
    "print e_vectors\n"
   ]
  },
  {
   "cell_type": "markdown",
   "metadata": {
    "slideshow": {
     "slide_type": "fragment"
    }
   },
   "source": [
    "Notice that there are compelx eigenvalues, so `eigh` was not correct to use"
   ]
  },
  {
   "cell_type": "markdown",
   "metadata": {
    "slideshow": {
     "slide_type": "slide"
    }
   },
   "source": [
    "Interaction\n",
    "---"
   ]
  },
  {
   "cell_type": "markdown",
   "metadata": {
    "slideshow": {
     "slide_type": "fragment"
    }
   },
   "source": [
    "You can create interactive objects in ipython notebooks using the `widgets` package! There are three main widgets:\n",
    "\n",
    "1. Buttons\n",
    "2. Text\n",
    "3. Sliders"
   ]
  },
  {
   "cell_type": "code",
   "execution_count": 10,
   "metadata": {
    "collapsed": false,
    "slideshow": {
     "slide_type": "subslide"
    }
   },
   "outputs": [],
   "source": [
    "from ipywidgets import widgets #these are the widgets\n",
    "from IPython import display #this allows us to show things"
   ]
  },
  {
   "cell_type": "markdown",
   "metadata": {
    "slideshow": {
     "slide_type": "slide"
    }
   },
   "source": [
    "Buttons\n",
    "---"
   ]
  },
  {
   "cell_type": "code",
   "execution_count": 12,
   "metadata": {
    "collapsed": false,
    "slideshow": {
     "slide_type": "subslide"
    }
   },
   "outputs": [
    {
     "name": "stderr",
     "output_type": "stream",
     "text": [
      "Widget Javascript not detected.  It may not be installed properly. Did you enable the widgetsnbextension? If not, then run \"jupyter nbextension enable --py --sys-prefix widgetsnbextension\"\n"
     ]
    }
   ],
   "source": [
    "button = widgets.Button(description='Click Click')\n",
    "display.display(button)"
   ]
  },
  {
   "cell_type": "markdown",
   "metadata": {
    "collapsed": true,
    "slideshow": {
     "slide_type": "fragment"
    }
   },
   "source": [
    "To make the button do something, you have to give it a function name."
   ]
  },
  {
   "cell_type": "code",
   "execution_count": 9,
   "metadata": {
    "collapsed": true,
    "slideshow": {
     "slide_type": "subslide"
    }
   },
   "outputs": [],
   "source": [
    "#your function has to take one argument - the button.\n",
    "#You don't have to do anything with it\n",
    "def plot_a_line(b):\n",
    "    x = np.arange(0,10,1)\n",
    "    y = x**2\n",
    "    plt.plot(x,y)\n",
    "    plt.show()"
   ]
  },
  {
   "cell_type": "code",
   "execution_count": 42,
   "metadata": {
    "collapsed": false,
    "slideshow": {
     "slide_type": "subslide"
    }
   },
   "outputs": [],
   "source": [
    "button = widgets.Button(description='Plot ヽ(ಠ▃ಠ)ﾉ Plot')\n",
    "button.on_click(plot_a_line) #just give the name of your function\n",
    "display.display(button)"
   ]
  },
  {
   "cell_type": "markdown",
   "metadata": {
    "collapsed": false,
    "slideshow": {
     "slide_type": "slide"
    }
   },
   "source": [
    "Text\n",
    "----\n",
    "\n",
    "Instead of a button, you can have a text box"
   ]
  },
  {
   "cell_type": "code",
   "execution_count": 12,
   "metadata": {
    "collapsed": true,
    "slideshow": {
     "slide_type": "subslide"
    }
   },
   "outputs": [],
   "source": [
    "text_input = widgets.Text('What is your name?')\n",
    "display.display(text_input)"
   ]
  },
  {
   "cell_type": "markdown",
   "metadata": {
    "slideshow": {
     "slide_type": "fragment"
    }
   },
   "source": [
    "well that's kind of useless. What can we do with that?"
   ]
  },
  {
   "cell_type": "code",
   "execution_count": 26,
   "metadata": {
    "collapsed": false,
    "slideshow": {
     "slide_type": "subslide"
    }
   },
   "outputs": [
    {
     "data": {
      "text/plain": [
       "'Andrew'"
      ]
     },
     "execution_count": 26,
     "metadata": {},
     "output_type": "execute_result"
    }
   ],
   "source": [
    "text_input.value"
   ]
  },
  {
   "cell_type": "code",
   "execution_count": 30,
   "metadata": {
    "collapsed": true,
    "slideshow": {
     "slide_type": "subslide"
    }
   },
   "outputs": [],
   "source": [
    "#import square root\n",
    "from math import sqrt\n",
    "\n",
    "#remember a function which we attach to a button needs to take in a button variable\n",
    "def compute_square_root(b):\n",
    "    number = float(text_input.value)\n",
    "    print('the square root of {} is {}'.format(number, sqrt(number)))"
   ]
  },
  {
   "cell_type": "code",
   "execution_count": 31,
   "metadata": {
    "collapsed": false,
    "slideshow": {
     "slide_type": "subslide"
    }
   },
   "outputs": [
    {
     "name": "stdout",
     "output_type": "stream",
     "text": [
      "the square root of 4.0 is 2.0\n",
      "the square root of 5.0 is 2.23606797749979\n",
      "the square root of 8.0 is 2.8284271247461903\n"
     ]
    }
   ],
   "source": [
    "text_input = widgets.Text('4')\n",
    "display.display(text_input)\n",
    "button = widgets.Button(description='What is the square root?')\n",
    "button.on_click(compute_square_root)\n",
    "display.display(button)"
   ]
  },
  {
   "cell_type": "markdown",
   "metadata": {
    "slideshow": {
     "slide_type": "slide"
    }
   },
   "source": [
    "Formatting LaTeX\n",
    "---\n",
    "\n",
    "Now that is great and all, but it's not nice to have so many lines and we'd like to use some LaTeX in there"
   ]
  },
  {
   "cell_type": "code",
   "execution_count": 32,
   "metadata": {
    "collapsed": false,
    "slideshow": {
     "slide_type": "subslide"
    }
   },
   "outputs": [
    {
     "data": {
      "text/latex": [
       "$\\sqrt{4} = 2$"
      ],
      "text/plain": [
       "<IPython.core.display.Latex object>"
      ]
     },
     "metadata": {},
     "output_type": "display_data"
    }
   ],
   "source": [
    "my_latex = display.Latex('$\\sqrt{4} = 2$')\n",
    "display.display(my_latex)"
   ]
  },
  {
   "cell_type": "markdown",
   "metadata": {
    "slideshow": {
     "slide_type": "fragment"
    }
   },
   "source": [
    "OK, but how do we do string formatt? LaTeX already uses curly braces."
   ]
  },
  {
   "cell_type": "code",
   "execution_count": 33,
   "metadata": {
    "collapsed": false,
    "slideshow": {
     "slide_type": "subslide"
    }
   },
   "outputs": [
    {
     "ename": "IndexError",
     "evalue": "tuple index out of range",
     "output_type": "error",
     "traceback": [
      "\u001b[1;31m---------------------------------------------------------------------------\u001b[0m",
      "\u001b[1;31mIndexError\u001b[0m                                Traceback (most recent call last)",
      "\u001b[1;32m<ipython-input-33-2f24a6f1e944>\u001b[0m in \u001b[0;36m<module>\u001b[1;34m()\u001b[0m\n\u001b[1;32m----> 1\u001b[1;33m \u001b[0mdisplay\u001b[0m\u001b[1;33m(\u001b[0m\u001b[0mLatex\u001b[0m\u001b[1;33m(\u001b[0m\u001b[1;34m'$\\sqrt{4} = {}$'\u001b[0m\u001b[1;33m.\u001b[0m\u001b[0mformat\u001b[0m\u001b[1;33m(\u001b[0m\u001b[1;36m2\u001b[0m\u001b[1;33m)\u001b[0m\u001b[1;33m)\u001b[0m\u001b[1;33m)\u001b[0m\u001b[1;33m\u001b[0m\u001b[0m\n\u001b[0m",
      "\u001b[1;31mIndexError\u001b[0m: tuple index out of range"
     ]
    }
   ],
   "source": [
    "display.display(display.Latex('$\\sqrt{4} = {}$'.format(2)))"
   ]
  },
  {
   "cell_type": "markdown",
   "metadata": {
    "slideshow": {
     "slide_type": "fragment"
    }
   },
   "source": [
    "We fix this by using two curly braces when we really mean curly braces and one set when we want to do string formatting"
   ]
  },
  {
   "cell_type": "code",
   "execution_count": 34,
   "metadata": {
    "collapsed": false,
    "slideshow": {
     "slide_type": "subslide"
    }
   },
   "outputs": [
    {
     "data": {
      "text/latex": [
       "$\\sqrt{4} = 2$"
      ],
      "text/plain": [
       "<IPython.core.display.Latex object>"
      ]
     },
     "metadata": {},
     "output_type": "display_data"
    }
   ],
   "source": [
    "display.display(display.Latex('$\\sqrt{{4}} = {}$'.format(2)))"
   ]
  },
  {
   "cell_type": "code",
   "execution_count": 35,
   "metadata": {
    "collapsed": false,
    "slideshow": {
     "slide_type": "fragment"
    }
   },
   "outputs": [
    {
     "data": {
      "text/latex": [
       "$\\sqrt{ 4 } = 2$"
      ],
      "text/plain": [
       "<IPython.core.display.Latex object>"
      ]
     },
     "metadata": {},
     "output_type": "display_data"
    }
   ],
   "source": [
    "display.display(display.Latex('$\\sqrt{{ {} }} = {}$'.format(4, 2)))"
   ]
  },
  {
   "cell_type": "markdown",
   "metadata": {
    "slideshow": {
     "slide_type": "subslide"
    }
   },
   "source": [
    "OK, that makes nicer output, but how do we prevent multiple lines from being printed?"
   ]
  },
  {
   "cell_type": "code",
   "execution_count": 43,
   "metadata": {
    "collapsed": false,
    "slideshow": {
     "slide_type": "subslide"
    }
   },
   "outputs": [],
   "source": [
    "my_latex = Latex('$\\sqrt{4} = 2$')\n",
    "display.display(my_latex)\n",
    "display.clear_output()"
   ]
  },
  {
   "cell_type": "markdown",
   "metadata": {
    "slideshow": {
     "slide_type": "fragment"
    }
   },
   "source": [
    "So we can clear everything! Clear output WILL NOT remove buttons or other widgets. Let's put it all together now:"
   ]
  },
  {
   "cell_type": "code",
   "execution_count": 53,
   "metadata": {
    "collapsed": false,
    "slideshow": {
     "slide_type": "subslide"
    }
   },
   "outputs": [
    {
     "data": {
      "text/latex": [
       "$\\sqrt{ 453553.0 } = 673.4634362754967$"
      ],
      "text/plain": [
       "<IPython.core.display.Latex object>"
      ]
     },
     "metadata": {},
     "output_type": "display_data"
    }
   ],
   "source": [
    "def compute_square_root(b):\n",
    "    '''This will compute the square root of the contents of the text box'''\n",
    "    number = float(text_input.value)\n",
    "    display.clear_output()\n",
    "    display.display(display.Latex('$\\sqrt{{ {} }} = {}$'.format(number, sqrt(number))))\n",
    "\n",
    "#build our widgets\n",
    "text_input = widgets.Text('4')\n",
    "button = widgets.Button(description='What is the square root?')\n",
    "button.on_click(compute_square_root)\n",
    "\n",
    "#finally, we use our clear_and_build to start off\n",
    "display.display(text_input)\n",
    "display.display(button)   "
   ]
  },
  {
   "cell_type": "markdown",
   "metadata": {
    "collapsed": false,
    "slideshow": {
     "slide_type": "slide"
    }
   },
   "source": [
    "Interact\n",
    "----\n",
    "\n",
    "The interact widget is a wonderful little tool if you want to explore changing a number. It takes care of clearing the output for you as well!"
   ]
  },
  {
   "cell_type": "code",
   "execution_count": 60,
   "metadata": {
    "collapsed": false,
    "slideshow": {
     "slide_type": "subslide"
    }
   },
   "outputs": [],
   "source": [
    "def compute_square_root(x):\n",
    "    '''This will compute the square root of the given argument'''\n",
    "    display.display(display.Latex('$\\sqrt{{ {} }} = {}$'.format(x, sqrt(x))))"
   ]
  },
  {
   "cell_type": "code",
   "execution_count": 61,
   "metadata": {
    "collapsed": false,
    "slideshow": {
     "slide_type": "fragment"
    }
   },
   "outputs": [
    {
     "data": {
      "text/latex": [
       "$\\sqrt{ 5 } = 2.23606797749979$"
      ],
      "text/plain": [
       "<IPython.core.display.Latex object>"
      ]
     },
     "metadata": {},
     "output_type": "display_data"
    }
   ],
   "source": [
    "square_i = widgets.interact(compute_square_root, x=4)"
   ]
  },
  {
   "cell_type": "markdown",
   "metadata": {
    "slideshow": {
     "slide_type": "subslide"
    }
   },
   "source": [
    "Since you don't want square roots of negative numbers, you can specify information about your slider"
   ]
  },
  {
   "cell_type": "code",
   "execution_count": 63,
   "metadata": {
    "collapsed": false,
    "slideshow": {
     "slide_type": "fragment"
    }
   },
   "outputs": [
    {
     "data": {
      "text/latex": [
       "$\\sqrt{ 5 } = 2.23606797749979$"
      ],
      "text/plain": [
       "<IPython.core.display.Latex object>"
      ]
     },
     "metadata": {},
     "output_type": "display_data"
    }
   ],
   "source": [
    "square_i = widgets.interact(compute_square_root, x=(0,5,1))"
   ]
  },
  {
   "cell_type": "code",
   "execution_count": 73,
   "metadata": {
    "collapsed": false,
    "slideshow": {
     "slide_type": "slide"
    }
   },
   "outputs": [
    {
     "data": {
      "image/png": "[encoded data removed]",
      "text/plain": [
       "<matplotlib.figure.Figure at 0x23e4cb075f8>"
      ]
     },
     "metadata": {},
     "output_type": "display_data"
    }
   ],
   "source": [
    "from math import pi\n",
    "def plot_sine(freq):\n",
    "    x = np.linspace(0, 2 * pi, 100)\n",
    "    y = np.sin(freq * x)\n",
    "    plt.plot(x,y)\n",
    "    plt.show()\n",
    "\n",
    "widgets.interact(plot_sine, freq=(0.1, 10,1))"
   ]
  },
  {
   "cell_type": "markdown",
   "metadata": {
    "slideshow": {
     "slide_type": "subslide"
    }
   },
   "source": [
    "You'll notice with a plot it's quite slow. That's because it's replotting each time! You can improve this, but the easiest thing is to make sure your step-size isn't too small in both the plot and the slider"
   ]
  },
  {
   "cell_type": "markdown",
   "metadata": {
    "slideshow": {
     "slide_type": "slide"
    }
   },
   "source": [
    "Interactive Plots\n",
    "----"
   ]
  },
  {
   "cell_type": "markdown",
   "metadata": {
    "slideshow": {
     "slide_type": "subslide"
    }
   },
   "source": [
    "Try using:\n",
    "\n",
    "    %matplotlib notebook\n",
    "\n",
    "instea of\n",
    "\n",
    "    %matplotlib inline\n",
    "\n",
    "in your notebooks to enable interaction with your graphs as well."
   ]
  },
  {
   "cell_type": "code",
   "execution_count": 75,
   "metadata": {
    "collapsed": false,
    "slideshow": {
     "slide_type": "subslide"
    }
   },
   "outputs": [
    {
     "data": {
      "application/javascript": [
       "/* Put everything inside the global mpl namespace */\n",
       "window.mpl = {};\n",
       "\n",
       "mpl.get_websocket_type = function() {\n",
       "    if (typeof(WebSocket) !== 'undefined') {\n",
       "        return WebSocket;\n",
       "    } else if (typeof(MozWebSocket) !== 'undefined') {\n",
       "        return MozWebSocket;\n",
       "    } else {\n",
       "        alert('Your browser does not have WebSocket support.' +\n",
       "              'Please try Chrome, Safari or Firefox ≥ 6. ' +\n",
       "              'Firefox 4 and 5 are also supported but you ' +\n",
       "              'have to enable WebSockets in about:config.');\n",
       "    };\n",
       "}\n",
       "\n",
       "mpl.figure = function(figure_id, websocket, ondownload, parent_element) {\n",
       "    this.id = figure_id;\n",
       "\n",
       "    this.ws = websocket;\n",
       "\n",
       "    this.supports_binary = (this.ws.binaryType != undefined);\n",
       "\n",
       "    if (!this.supports_binary) {\n",
       "        var warnings = document.getElementById(\"mpl-warnings\");\n",
       "        if (warnings) {\n",
       "            warnings.style.display = 'block';\n",
       "            warnings.textContent = (\n",
       "                \"This browser does not support binary websocket messages. \" +\n",
       "                    \"Performance may be slow.\");\n",
       "        }\n",
       "    }\n",
       "\n",
       "    this.imageObj = new Image();\n",
       "\n",
       "    this.context = undefined;\n",
       "    this.message = undefined;\n",
       "    this.canvas = undefined;\n",
       "    this.rubberband_canvas = undefined;\n",
       "    this.rubberband_context = undefined;\n",
       "    this.format_dropdown = undefined;\n",
       "\n",
       "    this.image_mode = 'full';\n",
       "\n",
       "    this.root = $('<div/>');\n",
       "    this._root_extra_style(this.root)\n",
       "    this.root.attr('style', 'display: inline-block');\n",
       "\n",
       "    $(parent_element).append(this.root);\n",
       "\n",
       "    this._init_header(this);\n",
       "    this._init_canvas(this);\n",
       "    this._init_toolbar(this);\n",
       "\n",
       "    var fig = this;\n",
       "\n",
       "    this.waiting = false;\n",
       "\n",
       "    this.ws.onopen =  function () {\n",
       "            fig.send_message(\"supports_binary\", {value: fig.supports_binary});\n",
       "            fig.send_message(\"send_image_mode\", {});\n",
       "            fig.send_message(\"refresh\", {});\n",
       "        }\n",
       "\n",
       "    this.imageObj.onload = function() {\n",
       "            if (fig.image_mode == 'full') {\n",
       "                // Full images could contain transparency (where diff images\n",
       "                // almost always do), so we need to clear the canvas so that\n",
       "                // there is no ghosting.\n",
       "                fig.context.clearRect(0, 0, fig.canvas.width, fig.canvas.height);\n",
       "            }\n",
       "            fig.context.drawImage(fig.imageObj, 0, 0);\n",
       "        };\n",
       "\n",
       "    this.imageObj.onunload = function() {\n",
       "        this.ws.close();\n",
       "    }\n",
       "\n",
       "    this.ws.onmessage = this._make_on_message_function(this);\n",
       "\n",
       "    this.ondownload = ondownload;\n",
       "}\n",
       "\n",
       "mpl.figure.prototype._init_header = function() {\n",
       "    var titlebar = $(\n",
       "        '<div class=\"ui-dialog-titlebar ui-widget-header ui-corner-all ' +\n",
       "        'ui-helper-clearfix\"/>');\n",
       "    var titletext = $(\n",
       "        '<div class=\"ui-dialog-title\" style=\"width: 100%; ' +\n",
       "        'text-align: center; padding: 3px;\"/>');\n",
       "    titlebar.append(titletext)\n",
       "    this.root.append(titlebar);\n",
       "    this.header = titletext[0];\n",
       "}\n",
       "\n",
       "\n",
       "\n",
       "mpl.figure.prototype._canvas_extra_style = function(canvas_div) {\n",
       "\n",
       "}\n",
       "\n",
       "\n",
       "mpl.figure.prototype._root_extra_style = function(canvas_div) {\n",
       "\n",
       "}\n",
       "\n",
       "mpl.figure.prototype._init_canvas = function() {\n",
       "    var fig = this;\n",
       "\n",
       "    var canvas_div = $('<div/>');\n",
       "\n",
       "    canvas_div.attr('style', 'position: relative; clear: both; outline: 0');\n",
       "\n",
       "    function canvas_keyboard_event(event) {\n",
       "        return fig.key_event(event, event['data']);\n",
       "    }\n",
       "\n",
       "    canvas_div.keydown('key_press', canvas_keyboard_event);\n",
       "    canvas_div.keyup('key_release', canvas_keyboard_event);\n",
       "    this.canvas_div = canvas_div\n",
       "    this._canvas_extra_style(canvas_div)\n",
       "    this.root.append(canvas_div);\n",
       "\n",
       "    var canvas = $('<canvas/>');\n",
       "    canvas.addClass('mpl-canvas');\n",
       "    canvas.attr('style', \"left: 0; top: 0; z-index: 0; outline: 0\")\n",
       "\n",
       "    this.canvas = canvas[0];\n",
       "    this.context = canvas[0].getContext(\"2d\");\n",
       "\n",
       "    var rubberband = $('<canvas/>');\n",
       "    rubberband.attr('style', \"position: absolute; left: 0; top: 0; z-index: 1;\")\n",
       "\n",
       "    var pass_mouse_events = true;\n",
       "\n",
       "    canvas_div.resizable({\n",
       "        start: function(event, ui) {\n",
       "            pass_mouse_events = false;\n",
       "        },\n",
       "        resize: function(event, ui) {\n",
       "            fig.request_resize(ui.size.width, ui.size.height);\n",
       "        },\n",
       "        stop: function(event, ui) {\n",
       "            pass_mouse_events = true;\n",
       "            fig.request_resize(ui.size.width, ui.size.height);\n",
       "        },\n",
       "    });\n",
       "\n",
       "    function mouse_event_fn(event) {\n",
       "        if (pass_mouse_events)\n",
       "            return fig.mouse_event(event, event['data']);\n",
       "    }\n",
       "\n",
       "    rubberband.mousedown('button_press', mouse_event_fn);\n",
       "    rubberband.mouseup('button_release', mouse_event_fn);\n",
       "    // Throttle sequential mouse events to 1 every 20ms.\n",
       "    rubberband.mousemove('motion_notify', mouse_event_fn);\n",
       "\n",
       "    rubberband.mouseenter('figure_enter', mouse_event_fn);\n",
       "    rubberband.mouseleave('figure_leave', mouse_event_fn);\n",
       "\n",
       "    canvas_div.on(\"wheel\", function (event) {\n",
       "        event = event.originalEvent;\n",
       "        event['data'] = 'scroll'\n",
       "        if (event.deltaY < 0) {\n",
       "            event.step = 1;\n",
       "        } else {\n",
       "            event.step = -1;\n",
       "        }\n",
       "        mouse_event_fn(event);\n",
       "    });\n",
       "\n",
       "    canvas_div.append(canvas);\n",
       "    canvas_div.append(rubberband);\n",
       "\n",
       "    this.rubberband = rubberband;\n",
       "    this.rubberband_canvas = rubberband[0];\n",
       "    this.rubberband_context = rubberband[0].getContext(\"2d\");\n",
       "    this.rubberband_context.strokeStyle = \"#000000\";\n",
       "\n",
       "    this._resize_canvas = function(width, height) {\n",
       "        // Keep the size of the canvas, canvas container, and rubber band\n",
       "        // canvas in synch.\n",
       "        canvas_div.css('width', width)\n",
       "        canvas_div.css('height', height)\n",
       "\n",
       "        canvas.attr('width', width);\n",
       "        canvas.attr('height', height);\n",
       "\n",
       "        rubberband.attr('width', width);\n",
       "        rubberband.attr('height', height);\n",
       "    }\n",
       "\n",
       "    // Set the figure to an initial 600x600px, this will subsequently be updated\n",
       "    // upon first draw.\n",
       "    this._resize_canvas(600, 600);\n",
       "\n",
       "    // Disable right mouse context menu.\n",
       "    $(this.rubberband_canvas).bind(\"contextmenu\",function(e){\n",
       "        return false;\n",
       "    });\n",
       "\n",
       "    function set_focus () {\n",
       "        canvas.focus();\n",
       "        canvas_div.focus();\n",
       "    }\n",
       "\n",
       "    window.setTimeout(set_focus, 100);\n",
       "}\n",
       "\n",
       "mpl.figure.prototype._init_toolbar = function() {\n",
       "    var fig = this;\n",
       "\n",
       "    var nav_element = $('<div/>')\n",
       "    nav_element.attr('style', 'width: 100%');\n",
       "    this.root.append(nav_element);\n",
       "\n",
       "    // Define a callback function for later on.\n",
       "    function toolbar_event(event) {\n",
       "        return fig.toolbar_button_onclick(event['data']);\n",
       "    }\n",
       "    function toolbar_mouse_event(event) {\n",
       "        return fig.toolbar_button_onmouseover(event['data']);\n",
       "    }\n",
       "\n",
       "    for(var toolbar_ind in mpl.toolbar_items) {\n",
       "        var name = mpl.toolbar_items[toolbar_ind][0];\n",
       "        var tooltip = mpl.toolbar_items[toolbar_ind][1];\n",
       "        var image = mpl.toolbar_items[toolbar_ind][2];\n",
       "        var method_name = mpl.toolbar_items[toolbar_ind][3];\n",
       "\n",
       "        if (!name) {\n",
       "            // put a spacer in here.\n",
       "            continue;\n",
       "        }\n",
       "        var button = $('<button/>');\n",
       "        button.addClass('ui-button ui-widget ui-state-default ui-corner-all ' +\n",
       "                        'ui-button-icon-only');\n",
       "        button.attr('role', 'button');\n",
       "        button.attr('aria-disabled', 'false');\n",
       "        button.click(method_name, toolbar_event);\n",
       "        button.mouseover(tooltip, toolbar_mouse_event);\n",
       "\n",
       "        var icon_img = $('<span/>');\n",
       "        icon_img.addClass('ui-button-icon-primary ui-icon');\n",
       "        icon_img.addClass(image);\n",
       "        icon_img.addClass('ui-corner-all');\n",
       "\n",
       "        var tooltip_span = $('<span/>');\n",
       "        tooltip_span.addClass('ui-button-text');\n",
       "        tooltip_span.html(tooltip);\n",
       "\n",
       "        button.append(icon_img);\n",
       "        button.append(tooltip_span);\n",
       "\n",
       "        nav_element.append(button);\n",
       "    }\n",
       "\n",
       "    var fmt_picker_span = $('<span/>');\n",
       "\n",
       "    var fmt_picker = $('<select/>');\n",
       "    fmt_picker.addClass('mpl-toolbar-option ui-widget ui-widget-content');\n",
       "    fmt_picker_span.append(fmt_picker);\n",
       "    nav_element.append(fmt_picker_span);\n",
       "    this.format_dropdown = fmt_picker[0];\n",
       "\n",
       "    for (var ind in mpl.extensions) {\n",
       "        var fmt = mpl.extensions[ind];\n",
       "        var option = $(\n",
       "            '<option/>', {selected: fmt === mpl.default_extension}).html(fmt);\n",
       "        fmt_picker.append(option)\n",
       "    }\n",
       "\n",
       "    // Add hover states to the ui-buttons\n",
       "    $( \".ui-button\" ).hover(\n",
       "        function() { $(this).addClass(\"ui-state-hover\");},\n",
       "        function() { $(this).removeClass(\"ui-state-hover\");}\n",
       "    );\n",
       "\n",
       "    var status_bar = $('<span class=\"mpl-message\"/>');\n",
       "    nav_element.append(status_bar);\n",
       "    this.message = status_bar[0];\n",
       "}\n",
       "\n",
       "mpl.figure.prototype.request_resize = function(x_pixels, y_pixels) {\n",
       "    // Request matplotlib to resize the figure. Matplotlib will then trigger a resize in the client,\n",
       "    // which will in turn request a refresh of the image.\n",
       "    this.send_message('resize', {'width': x_pixels, 'height': y_pixels});\n",
       "}\n",
       "\n",
       "mpl.figure.prototype.send_message = function(type, properties) {\n",
       "    properties['type'] = type;\n",
       "    properties['figure_id'] = this.id;\n",
       "    this.ws.send(JSON.stringify(properties));\n",
       "}\n",
       "\n",
       "mpl.figure.prototype.send_draw_message = function() {\n",
       "    if (!this.waiting) {\n",
       "        this.waiting = true;\n",
       "        this.ws.send(JSON.stringify({type: \"draw\", figure_id: this.id}));\n",
       "    }\n",
       "}\n",
       "\n",
       "\n",
       "mpl.figure.prototype.handle_save = function(fig, msg) {\n",
       "    var format_dropdown = fig.format_dropdown;\n",
       "    var format = format_dropdown.options[format_dropdown.selectedIndex].value;\n",
       "    fig.ondownload(fig, format);\n",
       "}\n",
       "\n",
       "\n",
       "mpl.figure.prototype.handle_resize = function(fig, msg) {\n",
       "    var size = msg['size'];\n",
       "    if (size[0] != fig.canvas.width || size[1] != fig.canvas.height) {\n",
       "        fig._resize_canvas(size[0], size[1]);\n",
       "        fig.send_message(\"refresh\", {});\n",
       "    };\n",
       "}\n",
       "\n",
       "mpl.figure.prototype.handle_rubberband = function(fig, msg) {\n",
       "    var x0 = msg['x0'];\n",
       "    var y0 = fig.canvas.height - msg['y0'];\n",
       "    var x1 = msg['x1'];\n",
       "    var y1 = fig.canvas.height - msg['y1'];\n",
       "    x0 = Math.floor(x0) + 0.5;\n",
       "    y0 = Math.floor(y0) + 0.5;\n",
       "    x1 = Math.floor(x1) + 0.5;\n",
       "    y1 = Math.floor(y1) + 0.5;\n",
       "    var min_x = Math.min(x0, x1);\n",
       "    var min_y = Math.min(y0, y1);\n",
       "    var width = Math.abs(x1 - x0);\n",
       "    var height = Math.abs(y1 - y0);\n",
       "\n",
       "    fig.rubberband_context.clearRect(\n",
       "        0, 0, fig.canvas.width, fig.canvas.height);\n",
       "\n",
       "    fig.rubberband_context.strokeRect(min_x, min_y, width, height);\n",
       "}\n",
       "\n",
       "mpl.figure.prototype.handle_figure_label = function(fig, msg) {\n",
       "    // Updates the figure title.\n",
       "    fig.header.textContent = msg['label'];\n",
       "}\n",
       "\n",
       "mpl.figure.prototype.handle_cursor = function(fig, msg) {\n",
       "    var cursor = msg['cursor'];\n",
       "    switch(cursor)\n",
       "    {\n",
       "    case 0:\n",
       "        cursor = 'pointer';\n",
       "        break;\n",
       "    case 1:\n",
       "        cursor = 'default';\n",
       "        break;\n",
       "    case 2:\n",
       "        cursor = 'crosshair';\n",
       "        break;\n",
       "    case 3:\n",
       "        cursor = 'move';\n",
       "        break;\n",
       "    }\n",
       "    fig.rubberband_canvas.style.cursor = cursor;\n",
       "}\n",
       "\n",
       "mpl.figure.prototype.handle_message = function(fig, msg) {\n",
       "    fig.message.textContent = msg['message'];\n",
       "}\n",
       "\n",
       "mpl.figure.prototype.handle_draw = function(fig, msg) {\n",
       "    // Request the server to send over a new figure.\n",
       "    fig.send_draw_message();\n",
       "}\n",
       "\n",
       "mpl.figure.prototype.handle_image_mode = function(fig, msg) {\n",
       "    fig.image_mode = msg['mode'];\n",
       "}\n",
       "\n",
       "mpl.figure.prototype.updated_canvas_event = function() {\n",
       "    // Called whenever the canvas gets updated.\n",
       "    this.send_message(\"ack\", {});\n",
       "}\n",
       "\n",
       "// A function to construct a web socket function for onmessage handling.\n",
       "// Called in the figure constructor.\n",
       "mpl.figure.prototype._make_on_message_function = function(fig) {\n",
       "    return function socket_on_message(evt) {\n",
       "        if (evt.data instanceof Blob) {\n",
       "            /* FIXME: We get \"Resource interpreted as Image but\n",
       "             * transferred with MIME type text/plain:\" errors on\n",
       "             * Chrome.  But how to set the MIME type?  It doesn't seem\n",
       "             * to be part of the websocket stream */\n",
       "            evt.data.type = \"image/png\";\n",
       "\n",
       "            /* Free the memory for the previous frames */\n",
       "            if (fig.imageObj.src) {\n",
       "                (window.URL || window.webkitURL).revokeObjectURL(\n",
       "                    fig.imageObj.src);\n",
       "            }\n",
       "\n",
       "            fig.imageObj.src = (window.URL || window.webkitURL).createObjectURL(\n",
       "                evt.data);\n",
       "            fig.updated_canvas_event();\n",
       "            fig.waiting = false;\n",
       "            return;\n",
       "        }\n",
       "        else if (typeof evt.data === 'string' && evt.data.slice(0, 21) == \"data:image/png;base64\") {\n",
       "            fig.imageObj.src = evt.data;\n",
       "            fig.updated_canvas_event();\n",
       "            fig.waiting = false;\n",
       "            return;\n",
       "        }\n",
       "\n",
       "        var msg = JSON.parse(evt.data);\n",
       "        var msg_type = msg['type'];\n",
       "\n",
       "        // Call the  \"handle_{type}\" callback, which takes\n",
       "        // the figure and JSON message as its only arguments.\n",
       "        try {\n",
       "            var callback = fig[\"handle_\" + msg_type];\n",
       "        } catch (e) {\n",
       "            console.log(\"No handler for the '\" + msg_type + \"' message type: \", msg);\n",
       "            return;\n",
       "        }\n",
       "\n",
       "        if (callback) {\n",
       "            try {\n",
       "                // console.log(\"Handling '\" + msg_type + \"' message: \", msg);\n",
       "                callback(fig, msg);\n",
       "            } catch (e) {\n",
       "                console.log(\"Exception inside the 'handler_\" + msg_type + \"' callback:\", e, e.stack, msg);\n",
       "            }\n",
       "        }\n",
       "    };\n",
       "}\n",
       "\n",
       "// from http://stackoverflow.com/questions/1114465/getting-mouse-location-in-canvas\n",
       "mpl.findpos = function(e) {\n",
       "    //this section is from http://www.quirksmode.org/js/events_properties.html\n",
       "    var targ;\n",
       "    if (!e)\n",
       "        e = window.event;\n",
       "    if (e.target)\n",
       "        targ = e.target;\n",
       "    else if (e.srcElement)\n",
       "        targ = e.srcElement;\n",
       "    if (targ.nodeType == 3) // defeat Safari bug\n",
       "        targ = targ.parentNode;\n",
       "\n",
       "    // jQuery normalizes the pageX and pageY\n",
       "    // pageX,Y are the mouse positions relative to the document\n",
       "    // offset() returns the position of the element relative to the document\n",
       "    var x = e.pageX - $(targ).offset().left;\n",
       "    var y = e.pageY - $(targ).offset().top;\n",
       "\n",
       "    return {\"x\": x, \"y\": y};\n",
       "};\n",
       "\n",
       "/*\n",
       " * return a copy of an object with only non-object keys\n",
       " * we need this to avoid circular references\n",
       " * http://stackoverflow.com/a/24161582/3208463\n",
       " */\n",
       "function simpleKeys (original) {\n",
       "  return Object.keys(original).reduce(function (obj, key) {\n",
       "    if (typeof original[key] !== 'object')\n",
       "        obj[key] = original[key]\n",
       "    return obj;\n",
       "  }, {});\n",
       "}\n",
       "\n",
       "mpl.figure.prototype.mouse_event = function(event, name) {\n",
       "    var canvas_pos = mpl.findpos(event)\n",
       "\n",
       "    if (name === 'button_press')\n",
       "    {\n",
       "        this.canvas.focus();\n",
       "        this.canvas_div.focus();\n",
       "    }\n",
       "\n",
       "    var x = canvas_pos.x;\n",
       "    var y = canvas_pos.y;\n",
       "\n",
       "    this.send_message(name, {x: x, y: y, button: event.button,\n",
       "                             step: event.step,\n",
       "                             guiEvent: simpleKeys(event)});\n",
       "\n",
       "    /* This prevents the web browser from automatically changing to\n",
       "     * the text insertion cursor when the button is pressed.  We want\n",
       "     * to control all of the cursor setting manually through the\n",
       "     * 'cursor' event from matplotlib */\n",
       "    event.preventDefault();\n",
       "    return false;\n",
       "}\n",
       "\n",
       "mpl.figure.prototype._key_event_extra = function(event, name) {\n",
       "    // Handle any extra behaviour associated with a key event\n",
       "}\n",
       "\n",
       "mpl.figure.prototype.key_event = function(event, name) {\n",
       "\n",
       "    // Prevent repeat events\n",
       "    if (name == 'key_press')\n",
       "    {\n",
       "        if (event.which === this._key)\n",
       "            return;\n",
       "        else\n",
       "            this._key = event.which;\n",
       "    }\n",
       "    if (name == 'key_release')\n",
       "        this._key = null;\n",
       "\n",
       "    var value = '';\n",
       "    if (event.ctrlKey && event.which != 17)\n",
       "        value += \"ctrl+\";\n",
       "    if (event.altKey && event.which != 18)\n",
       "        value += \"alt+\";\n",
       "    if (event.shiftKey && event.which != 16)\n",
       "        value += \"shift+\";\n",
       "\n",
       "    value += 'k';\n",
       "    value += event.which.toString();\n",
       "\n",
       "    this._key_event_extra(event, name);\n",
       "\n",
       "    this.send_message(name, {key: value,\n",
       "                             guiEvent: simpleKeys(event)});\n",
       "    return false;\n",
       "}\n",
       "\n",
       "mpl.figure.prototype.toolbar_button_onclick = function(name) {\n",
       "    if (name == 'download') {\n",
       "        this.handle_save(this, null);\n",
       "    } else {\n",
       "        this.send_message(\"toolbar_button\", {name: name});\n",
       "    }\n",
       "};\n",
       "\n",
       "mpl.figure.prototype.toolbar_button_onmouseover = function(tooltip) {\n",
       "    this.message.textContent = tooltip;\n",
       "};\n",
       "mpl.toolbar_items = [[\"Home\", \"Reset original view\", \"fa fa-home icon-home\", \"home\"], [\"Back\", \"Back to  previous view\", \"fa fa-arrow-left icon-arrow-left\", \"back\"], [\"Forward\", \"Forward to next view\", \"fa fa-arrow-right icon-arrow-right\", \"forward\"], [\"\", \"\", \"\", \"\"], [\"Pan\", \"Pan axes with left mouse, zoom with right\", \"fa fa-arrows icon-move\", \"pan\"], [\"Zoom\", \"Zoom to rectangle\", \"fa fa-square-o icon-check-empty\", \"zoom\"], [\"\", \"\", \"\", \"\"], [\"Download\", \"Download plot\", \"fa fa-floppy-o icon-save\", \"download\"]];\n",
       "\n",
       "mpl.extensions = [\"eps\", \"jpeg\", \"pdf\", \"png\", \"ps\", \"raw\", \"svg\", \"tif\"];\n",
       "\n",
       "mpl.default_extension = \"png\";var comm_websocket_adapter = function(comm) {\n",
       "    // Create a \"websocket\"-like object which calls the given IPython comm\n",
       "    // object with the appropriate methods. Currently this is a non binary\n",
       "    // socket, so there is still some room for performance tuning.\n",
       "    var ws = {};\n",
       "\n",
       "    ws.close = function() {\n",
       "        comm.close()\n",
       "    };\n",
       "    ws.send = function(m) {\n",
       "        //console.log('sending', m);\n",
       "        comm.send(m);\n",
       "    };\n",
       "    // Register the callback with on_msg.\n",
       "    comm.on_msg(function(msg) {\n",
       "        //console.log('receiving', msg['content']['data'], msg);\n",
       "        // Pass the mpl event to the overriden (by mpl) onmessage function.\n",
       "        ws.onmessage(msg['content']['data'])\n",
       "    });\n",
       "    return ws;\n",
       "}\n",
       "\n",
       "mpl.mpl_figure_comm = function(comm, msg) {\n",
       "    // This is the function which gets called when the mpl process\n",
       "    // starts-up an IPython Comm through the \"matplotlib\" channel.\n",
       "\n",
       "    var id = msg.content.data.id;\n",
       "    // Get hold of the div created by the display call when the Comm\n",
       "    // socket was opened in Python.\n",
       "    var element = $(\"#\" + id);\n",
       "    var ws_proxy = comm_websocket_adapter(comm)\n",
       "\n",
       "    function ondownload(figure, format) {\n",
       "        window.open(figure.imageObj.src);\n",
       "    }\n",
       "\n",
       "    var fig = new mpl.figure(id, ws_proxy,\n",
       "                           ondownload,\n",
       "                           element.get(0));\n",
       "\n",
       "    // Call onopen now - mpl needs it, as it is assuming we've passed it a real\n",
       "    // web socket which is closed, not our websocket->open comm proxy.\n",
       "    ws_proxy.onopen();\n",
       "\n",
       "    fig.parent_element = element.get(0);\n",
       "    fig.cell_info = mpl.find_output_cell(\"<div id='\" + id + \"'></div>\");\n",
       "    if (!fig.cell_info) {\n",
       "        console.error(\"Failed to find cell for figure\", id, fig);\n",
       "        return;\n",
       "    }\n",
       "\n",
       "    var output_index = fig.cell_info[2]\n",
       "    var cell = fig.cell_info[0];\n",
       "\n",
       "};\n",
       "\n",
       "mpl.figure.prototype.handle_close = function(fig, msg) {\n",
       "    fig.root.unbind('remove')\n",
       "\n",
       "    // Update the output cell to use the data from the current canvas.\n",
       "    fig.push_to_output();\n",
       "    var dataURL = fig.canvas.toDataURL();\n",
       "    // Re-enable the keyboard manager in IPython - without this line, in FF,\n",
       "    // the notebook keyboard shortcuts fail.\n",
       "    IPython.keyboard_manager.enable()\n",
       "    $(fig.parent_element).html('<img src=\"' + dataURL + '\">');\n",
       "    fig.close_ws(fig, msg);\n",
       "}\n",
       "\n",
       "mpl.figure.prototype.close_ws = function(fig, msg){\n",
       "    fig.send_message('closing', msg);\n",
       "    // fig.ws.close()\n",
       "}\n",
       "\n",
       "mpl.figure.prototype.push_to_output = function(remove_interactive) {\n",
       "    // Turn the data on the canvas into data in the output cell.\n",
       "    var dataURL = this.canvas.toDataURL();\n",
       "    this.cell_info[1]['text/html'] = '<img src=\"' + dataURL + '\">';\n",
       "}\n",
       "\n",
       "mpl.figure.prototype.updated_canvas_event = function() {\n",
       "    // Tell IPython that the notebook contents must change.\n",
       "    IPython.notebook.set_dirty(true);\n",
       "    this.send_message(\"ack\", {});\n",
       "    var fig = this;\n",
       "    // Wait a second, then push the new image to the DOM so\n",
       "    // that it is saved nicely (might be nice to debounce this).\n",
       "    setTimeout(function () { fig.push_to_output() }, 1000);\n",
       "}\n",
       "\n",
       "mpl.figure.prototype._init_toolbar = function() {\n",
       "    var fig = this;\n",
       "\n",
       "    var nav_element = $('<div/>')\n",
       "    nav_element.attr('style', 'width: 100%');\n",
       "    this.root.append(nav_element);\n",
       "\n",
       "    // Define a callback function for later on.\n",
       "    function toolbar_event(event) {\n",
       "        return fig.toolbar_button_onclick(event['data']);\n",
       "    }\n",
       "    function toolbar_mouse_event(event) {\n",
       "        return fig.toolbar_button_onmouseover(event['data']);\n",
       "    }\n",
       "\n",
       "    for(var toolbar_ind in mpl.toolbar_items){\n",
       "        var name = mpl.toolbar_items[toolbar_ind][0];\n",
       "        var tooltip = mpl.toolbar_items[toolbar_ind][1];\n",
       "        var image = mpl.toolbar_items[toolbar_ind][2];\n",
       "        var method_name = mpl.toolbar_items[toolbar_ind][3];\n",
       "\n",
       "        if (!name) { continue; };\n",
       "\n",
       "        var button = $('<button class=\"btn btn-default\" href=\"#\" title=\"' + name + '\"><i class=\"fa ' + image + ' fa-lg\"></i></button>');\n",
       "        button.click(method_name, toolbar_event);\n",
       "        button.mouseover(tooltip, toolbar_mouse_event);\n",
       "        nav_element.append(button);\n",
       "    }\n",
       "\n",
       "    // Add the status bar.\n",
       "    var status_bar = $('<span class=\"mpl-message\" style=\"text-align:right; float: right;\"/>');\n",
       "    nav_element.append(status_bar);\n",
       "    this.message = status_bar[0];\n",
       "\n",
       "    // Add the close button to the window.\n",
       "    var buttongrp = $('<div class=\"btn-group inline pull-right\"></div>');\n",
       "    var button = $('<button class=\"btn btn-mini btn-primary\" href=\"#\" title=\"Stop Interaction\"><i class=\"fa fa-power-off icon-remove icon-large\"></i></button>');\n",
       "    button.click(function (evt) { fig.handle_close(fig, {}); } );\n",
       "    button.mouseover('Stop Interaction', toolbar_mouse_event);\n",
       "    buttongrp.append(button);\n",
       "    var titlebar = this.root.find($('.ui-dialog-titlebar'));\n",
       "    titlebar.prepend(buttongrp);\n",
       "}\n",
       "\n",
       "mpl.figure.prototype._root_extra_style = function(el){\n",
       "    var fig = this\n",
       "    el.on(\"remove\", function(){\n",
       "\tfig.close_ws(fig, {});\n",
       "    });\n",
       "}\n",
       "\n",
       "mpl.figure.prototype._canvas_extra_style = function(el){\n",
       "    // this is important to make the div 'focusable\n",
       "    el.attr('tabindex', 0)\n",
       "    // reach out to IPython and tell the keyboard manager to turn it's self\n",
       "    // off when our div gets focus\n",
       "\n",
       "    // location in version 3\n",
       "    if (IPython.notebook.keyboard_manager) {\n",
       "        IPython.notebook.keyboard_manager.register_events(el);\n",
       "    }\n",
       "    else {\n",
       "        // location in version 2\n",
       "        IPython.keyboard_manager.register_events(el);\n",
       "    }\n",
       "\n",
       "}\n",
       "\n",
       "mpl.figure.prototype._key_event_extra = function(event, name) {\n",
       "    var manager = IPython.notebook.keyboard_manager;\n",
       "    if (!manager)\n",
       "        manager = IPython.keyboard_manager;\n",
       "\n",
       "    // Check for shift+enter\n",
       "    if (event.shiftKey && event.which == 13) {\n",
       "        this.canvas_div.blur();\n",
       "        event.shiftKey = false;\n",
       "        // Send a \"J\" for go to next cell\n",
       "        event.which = 74;\n",
       "        event.keyCode = 74;\n",
       "        manager.command_mode();\n",
       "        manager.handle_keydown(event);\n",
       "    }\n",
       "}\n",
       "\n",
       "mpl.figure.prototype.handle_save = function(fig, msg) {\n",
       "    fig.ondownload(fig, null);\n",
       "}\n",
       "\n",
       "\n",
       "mpl.find_output_cell = function(html_output) {\n",
       "    // Return the cell and output element which can be found *uniquely* in the notebook.\n",
       "    // Note - this is a bit hacky, but it is done because the \"notebook_saving.Notebook\"\n",
       "    // IPython event is triggered only after the cells have been serialised, which for\n",
       "    // our purposes (turning an active figure into a static one), is too late.\n",
       "    var cells = IPython.notebook.get_cells();\n",
       "    var ncells = cells.length;\n",
       "    for (var i=0; i<ncells; i++) {\n",
       "        var cell = cells[i];\n",
       "        if (cell.cell_type === 'code'){\n",
       "            for (var j=0; j<cell.output_area.outputs.length; j++) {\n",
       "                var data = cell.output_area.outputs[j];\n",
       "                if (data.data) {\n",
       "                    // IPython >= 3 moved mimebundle to data attribute of output\n",
       "                    data = data.data;\n",
       "                }\n",
       "                if (data['text/html'] == html_output) {\n",
       "                    return [cell, data, j];\n",
       "                }\n",
       "            }\n",
       "        }\n",
       "    }\n",
       "}\n",
       "\n",
       "// Register the function which deals with the matplotlib target/channel.\n",
       "// The kernel may be null if the page has been refreshed.\n",
       "if (IPython.notebook.kernel != null) {\n",
       "    IPython.notebook.kernel.comm_manager.register_target('matplotlib', mpl.mpl_figure_comm);\n",
       "}\n"
      ],
      "text/plain": [
       "<IPython.core.display.Javascript object>"
      ]
     },
     "metadata": {},
     "output_type": "display_data"
    },
    {
     "data": {
      "text/html": [
       "<img src=\"data:image/png;base64,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\">"
      ],
      "text/plain": [
       "<IPython.core.display.HTML object>"
      ]
     },
     "metadata": {},
     "output_type": "display_data"
    }
   ],
   "source": [
    "%matplotlib notebook\n",
    "\n",
    "x = np.linspace(0,5,25)\n",
    "y = 2**x\n",
    "plt.plot(x,y)\n",
    "plt.show()"
   ]
  },
  {
   "cell_type": "code",
   "execution_count": null,
   "metadata": {
    "collapsed": true
   },
   "outputs": [],
   "source": [
    "%system jupyter nbconvert --to slides --post serve Unit_7_Lecture_1.ipynb"
   ]
  },
  {
   "cell_type": "code",
   "execution_count": null,
   "metadata": {
    "collapsed": true
   },
   "outputs": [],
   "source": []
  }
 ],
 "metadata": {
  "celltoolbar": "Slideshow",
  "kernelspec": {
   "display_name": "Python 2",
   "language": "python",
   "name": "python2"
  },
  "language_info": {
   "codemirror_mode": {
    "name": "ipython",
    "version": 2
   },
   "file_extension": ".py",
   "mimetype": "text/x-python",
   "name": "python",
   "nbconvert_exporter": "python",
   "pygments_lexer": "ipython2",
   "version": "2.7.6"
  }
 },
 "nbformat": 4,
 "nbformat_minor": 0
}
