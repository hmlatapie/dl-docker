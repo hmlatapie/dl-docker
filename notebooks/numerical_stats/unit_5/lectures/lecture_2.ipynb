{
 "cells": [
  {
   "cell_type": "markdown",
   "metadata": {
    "slideshow": {
     "slide_type": "slide"
    }
   },
   "source": [
    "Unit 5, Lecture 2\n",
    "====\n",
    "\n",
    "*Numerical Methods and Statistics*\n",
    "\n",
    "----\n",
    "\n",
    "#### Prof. Andrew White, Feb 11 2016"
   ]
  },
  {
   "cell_type": "raw",
   "metadata": {
    "slideshow": {
     "slide_type": "slide"
    }
   },
   "source": [
    "<div class=\"naked-img\">\n",
    "    <img src=\"http://i.imgur.com/4nnbyru.jpg\">\n",
    "</div>"
   ]
  },
  {
   "cell_type": "code",
   "execution_count": 2,
   "metadata": {
    "collapsed": false,
    "slideshow": {
     "slide_type": "skip"
    }
   },
   "outputs": [],
   "source": [
    "%matplotlib inline\n",
    "import numpy as np\n",
    "import matplotlib.pyplot as plt\n",
    "plt.style.use(['ggplot', '../../che116.mplstyle'])"
   ]
  },
  {
   "cell_type": "markdown",
   "metadata": {
    "slideshow": {
     "slide_type": "slide"
    }
   },
   "source": [
    "Working with the Normal Distribution\n",
    "====\n",
    "\n",
    "Recall the equation:\n",
    "\n",
    "$$p(x) = \\frac{1}{\\sqrt{2\\pi\\sigma^2}} e^{-\\frac{(x - \\mu)^2}{2\\sigma^2}} $$"
   ]
  },
  {
   "cell_type": "markdown",
   "metadata": {
    "slideshow": {
     "slide_type": "fragment"
    }
   },
   "source": [
    "There is not much to do with this equation however, since we must integrate it to compute probabilities"
   ]
  },
  {
   "cell_type": "markdown",
   "metadata": {
    "slideshow": {
     "slide_type": "slide"
    }
   },
   "source": [
    "Computing Probability of Interval\n",
    "===\n",
    "\n",
    "Recall that for continuous probability disributions:\n",
    "\n",
    "$$P(a < x < b) = \\int_a^b p(x) \\, dx$$"
   ]
  },
  {
   "cell_type": "markdown",
   "metadata": {
    "slideshow": {
     "slide_type": "subslide"
    }
   },
   "source": [
    "For a normal distribution, let's try $\\mu = 2$, $\\sigma = 0.5$. What is the probability of a sample falling between $2$ and $3$?\n",
    "\n",
    "$$P(2 < x < 3) = \\int_2^3 \\frac{1}{\\sqrt{2\\pi0.5^2}} e^{-\\frac{(x - 2)^2}{2\\times0.5^2}}  \\, dx$$\n",
    "\n"
   ]
  },
  {
   "cell_type": "markdown",
   "metadata": {
    "slideshow": {
     "slide_type": "subslide"
    }
   },
   "source": [
    "We can use the `ss.norm.cdf`, where CDF is the cumulative distribution function. This is the definition of the CDF:\n",
    "\n",
    "$$ CDF(x) = \\int_{-\\infty}^x p(x')\\,dx'$$"
   ]
  },
  {
   "cell_type": "markdown",
   "metadata": {
    "slideshow": {
     "slide_type": "fragment"
    }
   },
   "source": [
    "Using some math, you can show that:\n",
    "\n",
    "$$P(a < x < b) = CDF(b) - CDF(a)$$\n",
    "\n",
    "so for our example:"
   ]
  },
  {
   "cell_type": "code",
   "execution_count": 3,
   "metadata": {
    "collapsed": false,
    "slideshow": {
     "slide_type": "subslide"
    }
   },
   "outputs": [
    {
     "name": "stdout",
     "output_type": "stream",
     "text": [
      "0.477249868052\n"
     ]
    }
   ],
   "source": [
    "from scipy import stats as ss\n",
    "prob = ss.norm.cdf(3, scale=0.5, loc=2) - ss.norm.cdf(2, scale=0.5, loc=2)\n",
    "print(prob)"
   ]
  },
  {
   "cell_type": "markdown",
   "metadata": {
    "slideshow": {
     "slide_type": "slide"
    }
   },
   "source": [
    "Standard Normal Distribution\n",
    "====\n",
    "\n",
    "In the olden days, someone made a table for all these integrals and it is called a $Z$ table. We won't use Z tables, but the concept is important and I'm making you learn it. "
   ]
  },
  {
   "cell_type": "markdown",
   "metadata": {
    "slideshow": {
     "slide_type": "fragment"
    }
   },
   "source": [
    "Since different normal distributions have different means and such, they invented the idea of Standard Normal Distributions:\n",
    "\n",
    "$$\n",
    "Z = \\frac{x - \\mu}{\\sigma}\n",
    "$$\n",
    "\n",
    "and then you use this $Z$ as being a sample in the $\\cal{N}(0,1)$ distribution."
   ]
  },
  {
   "cell_type": "markdown",
   "metadata": {
    "slideshow": {
     "slide_type": "subslide"
    }
   },
   "source": [
    "Let's see how this looks. Let's say we have a random variable distributed according to $\\cal{N}(-2, 3)$. That is a shorthand for $\\mu=-2$, $\\sigma = 3$. Let's say we want to know $P( x > 0)$. We can rewrite that as:\n",
    "\n",
    "$$P(x < 0) = 1 - P(x > 0) = 1 - \\int_{-\\infty}^0 \\cal{N}(-2, 3) \\, dx$$\n",
    "\n",
    "Now it's in a form where we can use the CDF:\n"
   ]
  },
  {
   "cell_type": "code",
   "execution_count": 4,
   "metadata": {
    "collapsed": false,
    "slideshow": {
     "slide_type": "fragment"
    }
   },
   "outputs": [
    {
     "data": {
      "text/plain": [
       "0.25249253754692291"
      ]
     },
     "execution_count": 4,
     "metadata": {},
     "output_type": "execute_result"
    }
   ],
   "source": [
    "1 - ss.norm.cdf(0, scale=3, loc=-2)"
   ]
  },
  {
   "cell_type": "markdown",
   "metadata": {
    "slideshow": {
     "slide_type": "subslide"
    }
   },
   "source": [
    "Now we can do the same problem using $Z$ values. Let's compute the $Z$-value:\n",
    "\n",
    "$$Z = \\frac{x - \\mu}{\\sigma} = \\frac{0 - -2}{3} = \\frac{2}{3}$$"
   ]
  },
  {
   "cell_type": "code",
   "execution_count": 5,
   "metadata": {
    "collapsed": false,
    "slideshow": {
     "slide_type": "fragment"
    }
   },
   "outputs": [
    {
     "data": {
      "text/plain": [
       "0.25249253754692291"
      ]
     },
     "execution_count": 5,
     "metadata": {},
     "output_type": "execute_result"
    }
   ],
   "source": [
    "Z = 2 / 3.\n",
    "1 - ss.norm.cdf(Z)"
   ]
  },
  {
   "cell_type": "markdown",
   "metadata": {
    "slideshow": {
     "slide_type": "subslide"
    }
   },
   "source": [
    "Notice that by default, `scipy` assumes a standard normal distribution!"
   ]
  },
  {
   "cell_type": "markdown",
   "metadata": {
    "slideshow": {
     "slide_type": "slide"
    }
   },
   "source": [
    "Normal Distribution Examples\n",
    "----\n",
    "\n",
    "The amount of snowfall today has an expected value of 5 inches and a standard deviation of 1.5 inches. What's the probability of getting between 3 and 5 inches?"
   ]
  },
  {
   "cell_type": "markdown",
   "metadata": {
    "slideshow": {
     "slide_type": "subslide"
    }
   },
   "source": [
    "Let's do this with $Z$ values. \n",
    "\n",
    "$$Z_{hi} = \\frac{5 - 5}{1.5}$$\n",
    "\n",
    "$$Z_{lo} = \\frac{3 - 5}{1.5}$$\n",
    "\n",
    "$$P(3 < x < 5) = \\int_{Z_{lo}}^{Z_{hi}} \\cal{N}(0,1)\\,dx$$"
   ]
  },
  {
   "cell_type": "code",
   "execution_count": 6,
   "metadata": {
    "collapsed": false,
    "slideshow": {
     "slide_type": "subslide"
    }
   },
   "outputs": [
    {
     "name": "stdout",
     "output_type": "stream",
     "text": [
      "0.408788780274\n"
     ]
    }
   ],
   "source": [
    "Zhi = (5 - 5)/1.5\n",
    "Zlo = (3 - 5)/1.5\n",
    "\n",
    "prob = ss.norm.cdf(Zhi) - ss.norm.cdf(Zlo)\n",
    "\n",
    "print(prob)"
   ]
  },
  {
   "cell_type": "markdown",
   "metadata": {
    "slideshow": {
     "slide_type": "slide"
    }
   },
   "source": [
    "Checking the assumption of a normal distribution\n",
    "---\n",
    "\n",
    "Remember that the normal distribution presumes a sample space of $(-\\infty, \\infty)$. We can't have snow return to the sky, so how bad is our assumption that snowfall is normal?"
   ]
  },
  {
   "cell_type": "markdown",
   "metadata": {
    "slideshow": {
     "slide_type": "subslide"
    }
   },
   "source": [
    "We can estimate how bad it is, by seeing what the probability of having negative snowfall is.\n",
    "\n",
    "$$P(x < 0) = \\int_{-\\infty}^{0} \\cal{N}(5,1.5)$$"
   ]
  },
  {
   "cell_type": "code",
   "execution_count": 7,
   "metadata": {
    "collapsed": false,
    "slideshow": {
     "slide_type": "fragment"
    }
   },
   "outputs": [
    {
     "data": {
      "text/plain": [
       "0.00042906033319683719"
      ]
     },
     "execution_count": 7,
     "metadata": {},
     "output_type": "execute_result"
    }
   ],
   "source": [
    "ss.norm.cdf(0, loc=5, scale=1.5)"
   ]
  },
  {
   "cell_type": "code",
   "execution_count": 8,
   "metadata": {
    "collapsed": false,
    "slideshow": {
     "slide_type": "fragment"
    }
   },
   "outputs": [
    {
     "data": {
      "text/plain": [
       "0.00042906033319683719"
      ]
     },
     "execution_count": 8,
     "metadata": {},
     "output_type": "execute_result"
    }
   ],
   "source": [
    "Z = (0 - 5)/1.5\n",
    "ss.norm.cdf(Z)"
   ]
  },
  {
   "cell_type": "markdown",
   "metadata": {
    "slideshow": {
     "slide_type": "fragment"
    }
   },
   "source": [
    "Looks great! There is about as much a chance of negative snowfall in our equation as reality."
   ]
  },
  {
   "cell_type": "markdown",
   "metadata": {},
   "source": [
    "Prediction Intervals\n",
    "===\n",
    "\n",
    "What if instead of knowing how probable an interval is, we want to find an interval that matches a given probability? This is called a prediction interval, and is something we learned for discrete distributions last time."
   ]
  },
  {
   "cell_type": "markdown",
   "metadata": {},
   "source": [
    "Prediction Interval Example\n",
    "----\n",
    "\n",
    "What's the highest amount of snowfall with 99% probability?"
   ]
  },
  {
   "cell_type": "code",
   "execution_count": 9,
   "metadata": {
    "collapsed": false
   },
   "outputs": [
    {
     "data": {
      "text/plain": [
       "8.4895218110612607"
      ]
     },
     "execution_count": 9,
     "metadata": {},
     "output_type": "execute_result"
    }
   ],
   "source": [
    "ss.norm.ppf(0.99, scale=1.5, loc=5)"
   ]
  },
  {
   "cell_type": "markdown",
   "metadata": {},
   "source": [
    "So a single sample will fall between $-\\infty$ and $8.5$ with 99% probability"
   ]
  },
  {
   "cell_type": "markdown",
   "metadata": {},
   "source": [
    "To flip your interval, you have to rely on normalization. Let's say we want the lowest amount of snowall with 99% probability. We can flip that and say instead we want the highest snowfall with 1% probability"
   ]
  },
  {
   "cell_type": "code",
   "execution_count": 10,
   "metadata": {
    "collapsed": false
   },
   "outputs": [
    {
     "data": {
      "text/plain": [
       "1.5104781889387389"
      ]
     },
     "execution_count": 10,
     "metadata": {},
     "output_type": "execute_result"
    }
   ],
   "source": [
    "ss.norm.ppf(0.01, scale=1.5, loc=5)"
   ]
  },
  {
   "cell_type": "markdown",
   "metadata": {},
   "source": [
    "So the snow will be between $-\\infty$ and 1.5 inches with 1% probability, and from normalization be between 1.5 and $\\infty$ with 99% probability. "
   ]
  },
  {
   "cell_type": "markdown",
   "metadata": {
    "slideshow": {
     "slide_type": "subslide"
    }
   },
   "source": [
    "Visualizing the Normal Distribution\n",
    "-----\n",
    "\n",
    "Let's  try to understand the different terms. The prefactor is just for normalization. We'll write it as $Q$. The exponent is a distance measuring function, we'll call it $d(x)$:\n",
    "\n",
    "\n",
    "$$ \\cal{N}(\\mu, \\sigma) = Qe^{-d(x)}$$\n",
    "\n",
    "$$d(x) = \\frac{(\\mu - x)^2}{2\\sigma^2}$$"
   ]
  },
  {
   "cell_type": "code",
   "execution_count": null,
   "metadata": {
    "collapsed": false,
    "slideshow": {
     "slide_type": "subslide"
    }
   },
   "outputs": [],
   "source": [
    "sigma = 1.\n",
    "mu = 3\n",
    "x = np.linspace(0,6, 100)\n",
    "dist = (mu - x)**2 / (2 * sigma**2)\n",
    "\n",
    "plt.plot(x, dist)\n",
    "plt.show()"
   ]
  },
  {
   "cell_type": "code",
   "execution_count": null,
   "metadata": {
    "collapsed": false,
    "slideshow": {
     "slide_type": "subslide"
    }
   },
   "outputs": [],
   "source": [
    "from math import *\n",
    "\n",
    "Q = 1 / np.sqrt(2 * sigma**2 * pi)\n",
    "norm = Q * np.exp(-dist)\n",
    "\n",
    "plt.plot(x, norm)\n",
    "plt.show()"
   ]
  },
  {
   "cell_type": "code",
   "execution_count": null,
   "metadata": {
    "collapsed": false,
    "slideshow": {
     "slide_type": "subslide"
    }
   },
   "outputs": [],
   "source": [
    "plt.plot(x, ss.norm.pdf(x, loc=3, scale=0.5), label=r'$\\sigma=0.5$')\n",
    "plt.plot(x, ss.norm.pdf(x, loc=3, scale=1.0), label=r'$\\sigma=1.0$')\n",
    "plt.plot(x, ss.norm.pdf(x, loc=3, scale=1.5), label=r'$\\sigma=1.5$')\n",
    "plt.legend()\n",
    "plt.show()"
   ]
  },
  {
   "cell_type": "markdown",
   "metadata": {
    "slideshow": {
     "slide_type": "slide"
    }
   },
   "source": [
    "Random Numbers\n",
    "====\n",
    "\n",
    "Last lecture we saw how to get random numbers from discrete distributions scipy stats. There is a more general way to get random numbers, using the `random` function. The `random` function returns a number between 0 and 1, evenly distributed."
   ]
  },
  {
   "cell_type": "code",
   "execution_count": null,
   "metadata": {
    "collapsed": false,
    "slideshow": {
     "slide_type": "subslide"
    }
   },
   "outputs": [],
   "source": [
    "#bernoulli distribution\n",
    "import random\n",
    "\n",
    "r = random.random()\n",
    "p = 0.4\n",
    "\n",
    "if r < p:\n",
    "    print('success')\n",
    "else:\n",
    "    print('failure')"
   ]
  },
  {
   "cell_type": "markdown",
   "metadata": {
    "slideshow": {
     "slide_type": "slide"
    }
   },
   "source": [
    "Sampling from the Valentine's day model\n",
    "----\n",
    "\n",
    "You start a relationship. You either get married or break-up. The probability of getting married is 2%. Our model returns the number of relationships before marriage. Sample 1000 times from this process and make histogram"
   ]
  },
  {
   "cell_type": "markdown",
   "metadata": {
    "slideshow": {
     "slide_type": "fragment"
    }
   },
   "source": [
    "What distribution is this?"
   ]
  },
  {
   "cell_type": "code",
   "execution_count": null,
   "metadata": {
    "collapsed": false,
    "slideshow": {
     "slide_type": "subslide"
    }
   },
   "outputs": [],
   "source": [
    "import random\n",
    "\n",
    "samples = []\n",
    "p = 0.02\n",
    "for i in range(1000):\n",
    "    \n",
    "    r = random.random()\n",
    "    relationships = 1\n",
    "    \n",
    "    while r > 0.02:\n",
    "        r = random.random()\n",
    "        relationships += 1\n",
    "        \n",
    "    samples.append(relationships)\n",
    "\n",
    "plt.hist(samples)\n",
    "plt.show()"
   ]
  },
  {
   "cell_type": "markdown",
   "metadata": {
    "slideshow": {
     "slide_type": "slide"
    }
   },
   "source": [
    "Sampling from the Coffee Distribution\n",
    "----\n",
    "\n",
    "You decide to make coffee with probability 0.7. If you do make coffee, you drink an amount that comes from a normal distribution centered at 12 oz with a standard deviation of 4 oz. Sample the amount of coffee you drink in a day and histogram it."
   ]
  },
  {
   "cell_type": "code",
   "execution_count": null,
   "metadata": {
    "collapsed": false,
    "slideshow": {
     "slide_type": "subslide"
    }
   },
   "outputs": [],
   "source": [
    "samples = []\n",
    "for i in range(10000):\n",
    "    \n",
    "    coffee = 0\n",
    "    \n",
    "    r = random.random()\n",
    "    if r < 0.7:\n",
    "        coffee = random.gauss(12,4)\n",
    "        \n",
    "    samples.append(coffee)\n",
    "    \n",
    "plt.hist(samples)\n",
    "plt.show()"
   ]
  },
  {
   "cell_type": "markdown",
   "metadata": {
    "slideshow": {
     "slide_type": "slide"
    }
   },
   "source": [
    "How to turn your own functions into a numpy function\n",
    "====\n",
    "\n",
    "`np.frompyfunc(fxn, nin, nout)` will turn your function into a numpy version. You pass it your function (`fxn`), tell numpy how many arguments it takes `nin` and how many it gives back `nout`. It returns a new function which is yours but upgraded to work on numpy arrays."
   ]
  },
  {
   "cell_type": "code",
   "execution_count": null,
   "metadata": {
    "collapsed": false,
    "slideshow": {
     "slide_type": "fragment"
    }
   },
   "outputs": [],
   "source": [
    "import numpy as np\n",
    "from math import sin\n",
    "\n",
    "#Don't actually do this, this is an example. Just use np.sin instead.\n",
    "my_np_sin = np.frompyfunc(sin, 1, 1) #<-- I'm turning the math sine into my own version\n",
    "\n",
    "x = np.linspace(0,3,5)\n",
    "print my_np_sin(x)"
   ]
  },
  {
   "cell_type": "code",
   "execution_count": null,
   "metadata": {
    "collapsed": false,
    "slideshow": {
     "slide_type": "subslide"
    }
   },
   "outputs": [],
   "source": [
    "def my_distribution(x):\n",
    "    if x > 40:\n",
    "        return 0.2\n",
    "    else:\n",
    "        return 0.8\n",
    "\n",
    "x = np.linspace(0,100,10)\n",
    "print(my_distribution(x))"
   ]
  },
  {
   "cell_type": "code",
   "execution_count": null,
   "metadata": {
    "collapsed": false,
    "slideshow": {
     "slide_type": "subslide"
    }
   },
   "outputs": [],
   "source": [
    "numpy_version_distribution = np.frompyfunc(my_distribution, 1, 1)\n",
    "print numpy_version_distribution(x)"
   ]
  },
  {
   "cell_type": "markdown",
   "metadata": {
    "slideshow": {
     "slide_type": "fragment"
    }
   },
   "source": [
    "This is not always necessary - usually only needed when working with loops and `if` statements. "
   ]
  },
  {
   "cell_type": "code",
   "execution_count": null,
   "metadata": {
    "collapsed": false,
    "slideshow": {
     "slide_type": "slide"
    }
   },
   "outputs": [],
   "source": [
    "def foo(x):\n",
    "    return 2 ** x\n",
    "data = np.linspace(1,2,10)\n",
    "\n",
    "print(foo(data))"
   ]
  },
  {
   "cell_type": "code",
   "execution_count": null,
   "metadata": {
    "collapsed": false
   },
   "outputs": [],
   "source": [
    "%system jupyter nbconvert Unit_5_Lecture_2.ipynb --to slides --post serve"
   ]
  },
  {
   "cell_type": "code",
   "execution_count": null,
   "metadata": {
    "collapsed": true
   },
   "outputs": [],
   "source": []
  }
 ],
 "metadata": {
  "_draft": {
   "nbviewer_url": "https://gist.github.com/570246dc30653a25cfc7"
  },
  "celltoolbar": "Slideshow",
  "gist": {
   "data": {
    "description": "Unit_5/Lecture_2/Unit_5_Lecture_2.ipynb",
    "public": true
   },
   "id": "570246dc30653a25cfc7"
  },
  "kernelspec": {
   "display_name": "Python 2",
   "language": "python",
   "name": "python2"
  },
  "language_info": {
   "codemirror_mode": {
    "name": "ipython",
    "version": 2
   },
   "file_extension": ".py",
   "mimetype": "text/x-python",
   "name": "python",
   "nbconvert_exporter": "python",
   "pygments_lexer": "ipython2",
   "version": "2.7.6"
  }
 },
 "nbformat": 4,
 "nbformat_minor": 0
}
