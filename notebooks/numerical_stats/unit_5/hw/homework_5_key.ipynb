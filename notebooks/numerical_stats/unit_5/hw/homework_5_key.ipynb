{
 "cells": [
  {
   "cell_type": "markdown",
   "metadata": {},
   "source": [
    "Homework 5\n",
    "====\n",
    "#### CHE 116: Numerical Methods and Statistics\n",
    "Prof. Andrew White\n",
    "\n",
    "Version 1.1 (2/9/2016)\n",
    "\n",
    "----"
   ]
  },
  {
   "cell_type": "markdown",
   "metadata": {},
   "source": [
    "1. Python Practice (20 Points)\n",
    "====\n",
    "Answer the following problems in Python\n",
    "\n",
    "1. [4 points] Using Numpy, create the first 20 powers of 2. What is 2^10? What about 2^20? What's the pattern?\n",
    "2. [4 points] Using a `for` loop, sum integers from 1 to 100 and `break` if your sum is greater than 200. Print the integer which causes your sum to exceed 200.\n",
    "3. [4 points] Define a function which takes in $n$ and $k$ and returns the number of permutations of $n$ objects in a sequence of length $k$. Don't forget to add a docstring!\n",
    "4. [8 points] You're making post-cards for the Rochester Animal Shelter. They have 30 distinct cats and you can arrange them into a line. Each ordering of cats is considered a different post-card. Each post-card as the same number of cats in it. What's the smallest number of cats that should be in each post-card to achieve at least one million unique post-cards? Use a `while` loop, a break statement, and your function from the previous question. You must use python tutor on this problem to receive full credit"
   ]
  },
  {
   "cell_type": "markdown",
   "metadata": {},
   "source": [
    "### 1.1 Answer"
   ]
  },
  {
   "cell_type": "code",
   "execution_count": 18,
   "metadata": {
    "collapsed": false
   },
   "outputs": [
    {
     "name": "stdout",
     "output_type": "stream",
     "text": [
      "[      2       4       8      16      32      64     128     256     512\n",
      "    1024    2048    4096    8192   16384   32768   65536  131072  262144\n",
      "  524288 1048576]\n",
      "1024 1048576\n"
     ]
    }
   ],
   "source": [
    "import numpy as np\n",
    "ints = np.arange(1,21)\n",
    "pows = 2**ints\n",
    "print(pows)\n",
    "print(pows[9], pows[19])"
   ]
  },
  {
   "cell_type": "markdown",
   "metadata": {},
   "source": [
    "$$2^{10} \\approx 10^3$$\n",
    "\n",
    "$$2^{20} \\approx 10^6$$\n",
    "\n",
    "$$2^{10n} \\approx 10^{3n}$$"
   ]
  },
  {
   "cell_type": "markdown",
   "metadata": {},
   "source": [
    "### 1.2 Answer"
   ]
  },
  {
   "cell_type": "code",
   "execution_count": 19,
   "metadata": {
    "collapsed": false
   },
   "outputs": [
    {
     "name": "stdout",
     "output_type": "stream",
     "text": [
      "20 210\n"
     ]
    }
   ],
   "source": [
    "sum = 0\n",
    "for i in range(1, 100):\n",
    "    sum += i\n",
    "    if sum > 200:\n",
    "        print(i, sum)\n",
    "        break"
   ]
  },
  {
   "cell_type": "markdown",
   "metadata": {},
   "source": [
    "### 1.3 Answer"
   ]
  },
  {
   "cell_type": "code",
   "execution_count": 20,
   "metadata": {
    "collapsed": true
   },
   "outputs": [],
   "source": [
    "from scipy.misc import factorial\n",
    "\n",
    "def fxn(n, k):\n",
    "    '''Computes the number of permutations of n objects in a k-length sequence.\n",
    "    Args: \n",
    "        n: The number of objects\n",
    "        k: The sequence length\n",
    "    Retunrs:\n",
    "        The number of permutations of fixed length.\n",
    "    '''\n",
    "    return factorial(n) / factorial(n - k)"
   ]
  },
  {
   "cell_type": "markdown",
   "metadata": {},
   "source": [
    "### 1.4 Answer"
   ]
  },
  {
   "cell_type": "code",
   "execution_count": 24,
   "metadata": {
    "collapsed": false
   },
   "outputs": [
    {
     "name": "stdout",
     "output_type": "stream",
     "text": [
      "5\n"
     ]
    }
   ],
   "source": [
    "cats = 1\n",
    "while fxn(n=30, k=cats) < 10**6:\n",
    "    cats += 1\n",
    "print(cats)"
   ]
  },
  {
   "cell_type": "markdown",
   "metadata": {},
   "source": [
    "2. Watching Youtube with the Geometric Distribution (15 Points)\n",
    "====\n",
    "\n",
    "Write what quantity the question asks for symbolically, write the equation you need to compute symbolically (if necessary) and compute your answer in Python. \n",
    "\n",
    "1. You accidentally open youtube while doing your homework. After watching one video, you find another interesting video you must watch with probability 25%. Define the sample space and define success to reflect a geometric distribution. \n",
    "\n",
    "2. What's the probability that you will return after watching exactly one video?\n",
    "\n",
    "3. What's the probability that you will return after watching exactly two videos?\n",
    "\n",
    "4. Your friend wants to know when you will get back to homework. You explain the sample space is unbounded, but you guarantee there is a 99% chance you will return to your homework after how many videos? You must use python tutor on your loop to receive full credit.\n",
    "\n",
    "5. What is the expected number of videos you will watch? You may use any method to compute this."
   ]
  },
  {
   "cell_type": "markdown",
   "metadata": {},
   "source": [
    "### 2.1 Answer\n",
    "\n",
    "The sample space is $[1, \\infty]$ and success is not watching another video and returning to your homework."
   ]
  },
  {
   "cell_type": "markdown",
   "metadata": {},
   "source": [
    "### 2.2 Answer\n",
    "\n",
    "$$P(1) = 0.75$$"
   ]
  },
  {
   "cell_type": "markdown",
   "metadata": {},
   "source": [
    "### 2.3 Answer\n",
    "\n",
    "$$P(2) = 0.75\\times 0.25 = 0.1874$$"
   ]
  },
  {
   "cell_type": "code",
   "execution_count": 25,
   "metadata": {
    "collapsed": false
   },
   "outputs": [
    {
     "data": {
      "text/plain": [
       "0.1875"
      ]
     },
     "execution_count": 25,
     "metadata": {},
     "output_type": "execute_result"
    }
   ],
   "source": [
    "0.75 * 0.25"
   ]
  },
  {
   "cell_type": "markdown",
   "metadata": {},
   "source": [
    "### 2.4 Answer\n",
    "\n",
    "$$P(n < x) \\geq 0.9$$"
   ]
  },
  {
   "cell_type": "code",
   "execution_count": 28,
   "metadata": {
    "collapsed": false
   },
   "outputs": [
    {
     "name": "stdout",
     "output_type": "stream",
     "text": [
      "4 0.99609375\n"
     ]
    }
   ],
   "source": [
    "gsum = 0\n",
    "n = 0\n",
    "p = 0.75\n",
    "while gsum < 0.99:\n",
    "    n += 1\n",
    "    gsum += (1 - p)**(n - 1) * p\n",
    "print(n, gsum)"
   ]
  },
  {
   "cell_type": "markdown",
   "metadata": {},
   "source": [
    "You will return after watching the 4th video"
   ]
  },
  {
   "cell_type": "markdown",
   "metadata": {},
   "source": [
    "### 2.5 Answer\n",
    "\n",
    "$$E[N] = \\frac{1}{p} = \\frac{4}{3}$$"
   ]
  },
  {
   "cell_type": "markdown",
   "metadata": {},
   "source": [
    "3. Living Expenses (6 Points)\n",
    "====\n",
    "\n",
    "The per-capita (expected) income in the US is \\$27,500 and its standard deviation is \\$15,000. Assuming the normal distribution, answer the following questions. You may use scipy stats for all of these but you must use Z values.\n",
    "\n",
    "1. First, let's check our assumption of normality. What is $P(x < \\$0)$? Why does this matter for the normality assumption?\n",
    "2. What's the probability of making over the starting salary of a chemical engineer, \\$67,000? Does this make you think our assumption of normality is correct?\n",
    "3. According to this distribution, how much money would you need to be in the top 1% of incomes?"
   ]
  },
  {
   "cell_type": "markdown",
   "metadata": {},
   "source": [
    "### 3.1 Answer\n",
    "$$\\DeclareMathOperator{\\erf}{erf}$$\n",
    "\n",
    "$$Z = \\frac{0 - 27,500}{15,000}$$\n",
    "   \n",
    "$$P(-\\infty < x < 0)$$"
   ]
  },
  {
   "cell_type": "code",
   "execution_count": 56,
   "metadata": {
    "collapsed": false
   },
   "outputs": [
    {
     "name": "stdout",
     "output_type": "stream",
     "text": [
      "0.0333765075848\n"
     ]
    }
   ],
   "source": [
    "from scipy import stats as ss\n",
    "\n",
    "mu = 27500\n",
    "sig = 15000\n",
    "\n",
    "Z = (0 - mu) / sig\n",
    "\n",
    "print(ss.norm.cdf(Z))"
   ]
  },
  {
   "cell_type": "markdown",
   "metadata": {},
   "source": [
    "The assumption is OK, only 3% of our probability is in \"impossible\" values of negative numbers"
   ]
  },
  {
   "cell_type": "markdown",
   "metadata": {},
   "source": [
    "### 3.2 Answer\n",
    "\n",
    "$$\\int_{$67,000}^{\\infty} \\cal{N}(\\$27500, \\$15000)$$"
   ]
  },
  {
   "cell_type": "code",
   "execution_count": 57,
   "metadata": {
    "collapsed": false
   },
   "outputs": [
    {
     "name": "stdout",
     "output_type": "stream",
     "text": [
      "0.00422756606928\n"
     ]
    }
   ],
   "source": [
    "Z = (67000 - mu) / sig\n",
    "print(1 - ss.norm.cdf(Z))"
   ]
  },
  {
   "cell_type": "markdown",
   "metadata": {
    "collapsed": true
   },
   "source": [
    "The probability is 0.4%. It appears this is a bad model since income is much more spread than this."
   ]
  },
  {
   "cell_type": "markdown",
   "metadata": {},
   "source": [
    "### 3.3 Answer\n",
    "\n",
    "We're trying to find $a$ such that $$P(a < x < \\infty) = 0.99$$ "
   ]
  },
  {
   "cell_type": "code",
   "execution_count": 64,
   "metadata": {
    "collapsed": false
   },
   "outputs": [
    {
     "data": {
      "text/plain": [
       "62395.218110612608"
      ]
     },
     "execution_count": 64,
     "metadata": {},
     "output_type": "execute_result"
    }
   ],
   "source": [
    "ss.norm.ppf(0.99, scale=sig, loc=mu)"
   ]
  },
  {
   "cell_type": "markdown",
   "metadata": {},
   "source": [
    "The top 1% of earners is anyone above $62,395"
   ]
  },
  {
   "cell_type": "markdown",
   "metadata": {},
   "source": [
    "4. The Excellent Retirement Simulator - Deterministic (20 Points)\n",
    "====\n",
    "\n",
    "We're going to write a program to discover how much to save in our retirement accounts. You are going to start with $P$ dollars, your principal. You invest in low-cost index funds which have an expected return of 5% (your principal is 105% of last years value). To live after your retirement, you withdraw \\$30,000 per year. Complete the following tasks:\n",
    "\n",
    "1. Write a function which takes in a principal, $P$, maturation rate of $r$, and withdrawl amount of $W$. It returns the amount of money remaining. Withdrawl occurs before maturation. Using your function, with a principal of \\$250,000 and the numbers given above, how much money remains after 1 year? Call this function annual.\n",
    "\n",
    "2. Write a new function called terminator which takes in $P$, $r$ and $W$. It should use your annual function and a for loop. It returns the number of years before your principal is gone and you have no more retirement money. Since you're using a for loop, you should have some upper bound. Let's use 50 for that upper bound. To test your method, you should get 11 years using the numbers from part 1.\n",
    "\n",
    "3. Make a graph of principal vs number of years. You should use a for loop, not numpy, since your functions aren't built for numpy arrays. Your principals should run from \\$100,000 to \\$500,000.\n",
    "\n",
    "4. Make your terminator (for this part only) have an upper bonud for 1000 years. You are a vampire. Make a plot from \\$100,000 to \\$750,000. How much money do you need in retirement as a vampire?"
   ]
  },
  {
   "cell_type": "code",
   "execution_count": 7,
   "metadata": {
    "collapsed": false
   },
   "outputs": [
    {
     "data": {
      "text/plain": [
       "11"
      ]
     },
     "execution_count": 7,
     "metadata": {},
     "output_type": "execute_result"
    }
   ],
   "source": [
    "def annual(P, r=0.05, W=30000):\n",
    "    '''Computes the change in principal after one year\n",
    "    \n",
    "    Args:\n",
    "        P: The principal - amount of money at the beginning of the year\n",
    "        r: The rate of return from principal\n",
    "        W: The amount withdrawn\n",
    "    Returns:\n",
    "        The new principal'''\n",
    "    P -= W\n",
    "    P *= (r + 1)\n",
    "    return P\n",
    "\n",
    "def terminator(P, r=0.05, W=30000, upper_limit=50):\n",
    "    '''Finds the number of years before the principal is exhausted.\n",
    "    \n",
    "    Args:\n",
    "        P: The principal - amount of money at the beginning of the year\n",
    "        r: The rate of return from principal\n",
    "        W: The amount withdrawn\n",
    "        upper_limit: The maximum iterations before giving up.\n",
    "    Returns:\n",
    "        The new principal'''\n",
    "    for i in range(upper_limit):\n",
    "        if(P < 0):\n",
    "            break\n",
    "        P = annual(P, r, W)\n",
    "    return i\n",
    "\n",
    "terminator(250000)"
   ]
  },
  {
   "cell_type": "code",
   "execution_count": 13,
   "metadata": {
    "collapsed": false
   },
   "outputs": [
    {
     "data": {
      "image/png": "[encoded data removed]",
      "text/plain": [
       "<matplotlib.figure.Figure at 0x2cb14c235c0>"
      ]
     },
     "metadata": {},
     "output_type": "display_data"
    }
   ],
   "source": [
    "%matplotlib inline\n",
    "import matplotlib.pyplot as plt\n",
    "import numpy as np\n",
    "\n",
    "ps = [i / 1000. for i in range(10**5, int(5 * 10**5), 100)]\n",
    "ys = [terminator(p * 1000) for p in ps]\n",
    "\n",
    "\n",
    "plt.plot(ps, ys)\n",
    "plt.xlabel('Thousands of Dollars')\n",
    "plt.ylabel('Years')\n",
    "\n",
    "plt.show()"
   ]
  },
  {
   "cell_type": "code",
   "execution_count": 16,
   "metadata": {
    "collapsed": false
   },
   "outputs": [
    {
     "data": {
      "image/png": "[encoded data removed]",
      "text/plain": [
       "<matplotlib.figure.Figure at 0x2cb14d94780>"
      ]
     },
     "metadata": {},
     "output_type": "display_data"
    }
   ],
   "source": [
    "ps = [i / 1000. for i in range(10**5, int(7.5 * 10**5), 100)]\n",
    "ys = [terminator(p * 1000, upper_limit=1000) for p in ps]\n",
    "\n",
    "plt.plot(ps, ys)\n",
    "\n",
    "plt.show()"
   ]
  },
  {
   "cell_type": "markdown",
   "metadata": {},
   "source": [
    "5. The Excellent Retirement Simulator - Stochastic (9 Points)\n",
    "====\n",
    "\n",
    "Rewrite your annual function to sample random numbers. Youur investment rate of return (maturation rate) should be sampled from a normal distribution with standard deviation 0.03 and mean 0.05. Your withdrawl should come from a normal distribution with mean \\$30,000 and standard deviation \\$10,000. Call your new annual, s_annual and your new terminator s_terminator. Answer the following questions:\n",
    "\n",
    "1. Previously you calculated you can live for 11 years off of a principal of \\$250,000. Using your new terminator and annual functions, make a histogram for how many years you can live off of \\$250,000. Use 1000 samples.\n",
    "\n",
    "2. Create a function which takes in a principal and a target number of years for the principal to last. It should return what fraction of terminator runs succeed in lasting that many years. For example, a principal of \\$250,000 should have about 55%-60% success with 10 years.\n",
    "\n",
    "3. Using any method you would like (e.g., trial and error or plotting), what should your principal be to ensure retirement for 25 years in 95% of the samples?"
   ]
  },
  {
   "cell_type": "code",
   "execution_count": 33,
   "metadata": {
    "collapsed": false
   },
   "outputs": [],
   "source": [
    "from scipy import stats as ss\n",
    "\n",
    "def s_annual(P, r=0.05, W=30000, sig_r=0.03, sig_W=10000):\n",
    "    '''Computes the change in principal after one year with stochastic \n",
    "    \n",
    "    Args:\n",
    "        P: The principal - amount of money at the beginning of the year\n",
    "        r: The rate of return from principal\n",
    "        W: The amount withdrawn\n",
    "    Returns:\n",
    "        The new principal'''\n",
    "    P -= ss.norm.rvs(size=1,scale=sig_W, loc=W)\n",
    "    P *= (ss.norm.rvs(size=1, scale=sig_r, loc=r) + 1)\n",
    "    return P\n",
    "\n",
    "def s_terminator(P, r=0.05, W=30000, upper_limit=50):\n",
    "    for i in range(upper_limit):\n",
    "        if(P < 0):\n",
    "            break\n",
    "        P = s_annual(P, r, W)\n",
    "    return i\n",
    "\n",
    "samples = []\n",
    "for i in range(1000):\n",
    "    samples.append(s_terminator(2.5 * 10**5))"
   ]
  },
  {
   "cell_type": "code",
   "execution_count": 35,
   "metadata": {
    "collapsed": false
   },
   "outputs": [
    {
     "data": {
      "image/png": "[encoded data removed]",
      "text/plain": [
       "<matplotlib.figure.Figure at 0x70be390>"
      ]
     },
     "metadata": {},
     "output_type": "display_data"
    }
   ],
   "source": [
    "plt.hist(samples)\n",
    "plt.show()"
   ]
  },
  {
   "cell_type": "code",
   "execution_count": 38,
   "metadata": {
    "collapsed": false
   },
   "outputs": [
    {
     "data": {
      "text/plain": [
       "0.577"
      ]
     },
     "execution_count": 38,
     "metadata": {},
     "output_type": "execute_result"
    }
   ],
   "source": [
    "def s_threshold(P, y):\n",
    "    '''Returns the fraction of times the principal P lasts longer than y'''\n",
    "    success = 0\n",
    "    for i in range(1000):\n",
    "        if s_terminator(P) > y:\n",
    "            success += 1\n",
    "    return success / 1000\n",
    "\n",
    "s_threshold(2.5 * 10**5, 10)"
   ]
  },
  {
   "cell_type": "code",
   "execution_count": 42,
   "metadata": {
    "collapsed": false
   },
   "outputs": [
    {
     "name": "stdout",
     "output_type": "stream",
     "text": [
      "520603.015075\n"
     ]
    }
   ],
   "source": [
    "p = np.linspace(1 * 10**5, 10 * 10**5, 200)\n",
    "for pi in p:\n",
    "    if s_threshold(pi, 25) > 0.95:\n",
    "        print(pi)\n",
    "        break"
   ]
  },
  {
   "cell_type": "code",
   "execution_count": 1,
   "metadata": {
    "collapsed": true
   },
   "outputs": [],
   "source": [
    "import random"
   ]
  },
  {
   "cell_type": "code",
   "execution_count": 2,
   "metadata": {
    "collapsed": true
   },
   "outputs": [],
   "source": [
    "import scipy.stats"
   ]
  },
  {
   "cell_type": "code",
   "execution_count": 3,
   "metadata": {
    "collapsed": true
   },
   "outputs": [],
   "source": [
    "scipy.stats.geom?"
   ]
  },
  {
   "cell_type": "code",
   "execution_count": null,
   "metadata": {
    "collapsed": true
   },
   "outputs": [],
   "source": []
  }
 ],
 "metadata": {
  "kernelspec": {
   "display_name": "Python 3",
   "language": "python",
   "name": "python3"
  },
  "language_info": {
   "codemirror_mode": {
    "name": "ipython",
    "version": 3
   },
   "file_extension": ".py",
   "mimetype": "text/x-python",
   "name": "python",
   "nbconvert_exporter": "python",
   "pygments_lexer": "ipython3",
   "version": "3.5.1"
  }
 },
 "nbformat": 4,
 "nbformat_minor": 0
}
