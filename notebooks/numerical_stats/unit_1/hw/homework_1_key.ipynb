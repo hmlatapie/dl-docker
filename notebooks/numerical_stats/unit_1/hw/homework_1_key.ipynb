{
 "cells": [
  {
   "cell_type": "markdown",
   "metadata": {},
   "source": [
    "Homework 1\n",
    "====\n",
    "#### CHE 116: Numerical Methods and Statistics\n",
    "\n",
    "Version 1.1 (1/14/2015)\n",
    "\n",
    "----"
   ]
  },
  {
   "cell_type": "markdown",
   "metadata": {
    "slideshow": {
     "slide_type": "slide"
    }
   },
   "source": [
    "1. Simple Probability (4 Points)\n",
    "====\n",
    "\n",
    "The probability of an event or sample is written as $P(A)$, where $A$ is the event or sample. **Answer the following problems symbolically and simplified.** Each problem is worth 1 point.\n",
    "\n",
    "1. If we observe an event, what is the probability that the event is $A$ or $B$ assuming that $A$ and $B$ are mutually exclusive?\n",
    "\n",
    "2. If we observe a sample, what is the probability of observing $A$ or $B$ if they are the only two possible samples?\n",
    "\n",
    "3. What is the probability of observing samples or events $A$ and $B$ if they are independent?\n",
    "\n",
    "4. Question 1.2 and question 1.3 were ambiguous about the number of observations. Specifically how many observations occur in each question?"
   ]
  },
  {
   "cell_type": "markdown",
   "metadata": {
    "slideshow": {
     "slide_type": "slide"
    }
   },
   "source": [
    "#### Question 1.1 Answer\n",
    "\n",
    "If we observe an event, what is the probability that the event is $A$ or $B$ assuming that $A$ and $B$ are mutually exclusive?\n",
    "\n",
    "$P(A) + P(B)$\n",
    "\n",
    "#### Question 1.2 Answer\n",
    "\n",
    "$1#\n",
    "\n",
    "#### Question 1.3 Answer\n",
    "\n",
    "$P(A)\\times P(B)$\n",
    "\n",
    "#### Question 1.4 Answer\n",
    "\n",
    "1.2 1 observation, 1.3 two observations"
   ]
  },
  {
   "cell_type": "markdown",
   "metadata": {
    "slideshow": {
     "slide_type": "slide"
    }
   },
   "source": [
    "2. Die Probability (6 Points)\n",
    "====\n",
    " \n",
    " You are rolling a die with 6 sides. Event $A$ is that you roll a number greater than 3. Event $B$ is that you roll a $3$. Event $C$ rolling a number less than 3. **Answer these problems using python code**. Make sure your numbers contain decimals (write `1.0` instead of `1`) so python knows you want to have decimals. Each problem is worth 1 point.\n",
    " \n",
    "1. What is the probability of event $A$?\n",
    "2. If you roll once, what is the probability of rolling event $A$ or $C$?\n",
    "3. If you roll event $B$, on your next roll what is the probability of event $A$?\n",
    "4. What is the probability of rolling event $A$ followed by event $B$?\n",
    "5. What is the probability of rolling event $A$ and event $B$ in the course of two rolls?\n",
    "6. Why are your answers different for questions 2.4 and 2.5? Answer this in words using Markdown or Python."
   ]
  },
  {
   "cell_type": "code",
   "execution_count": 1,
   "metadata": {
    "collapsed": false
   },
   "outputs": [
    {
     "data": {
      "text/plain": [
       "0.5"
      ]
     },
     "execution_count": 1,
     "metadata": {},
     "output_type": "execute_result"
    }
   ],
   "source": [
    "#Answer to 2.1\n",
    "3.0 / 6.0"
   ]
  },
  {
   "cell_type": "code",
   "execution_count": 2,
   "metadata": {
    "collapsed": false
   },
   "outputs": [
    {
     "data": {
      "text/plain": [
       "0.8333333333333333"
      ]
     },
     "execution_count": 2,
     "metadata": {},
     "output_type": "execute_result"
    }
   ],
   "source": [
    "#Answer to 2.2\n",
    "3.0/6.0 + 2.0/6.0"
   ]
  },
  {
   "cell_type": "code",
   "execution_count": 3,
   "metadata": {
    "collapsed": false
   },
   "outputs": [
    {
     "data": {
      "text/plain": [
       "0.5"
      ]
     },
     "execution_count": 3,
     "metadata": {},
     "output_type": "execute_result"
    }
   ],
   "source": [
    "#Answer to 2.3\n",
    "3.0 / 6.0"
   ]
  },
  {
   "cell_type": "code",
   "execution_count": 4,
   "metadata": {
    "collapsed": false
   },
   "outputs": [
    {
     "data": {
      "text/plain": [
       "0.08333333333333333"
      ]
     },
     "execution_count": 4,
     "metadata": {},
     "output_type": "execute_result"
    }
   ],
   "source": [
    "#Answer to 2.4\n",
    "(3.0 / 6.0) * (1.0 / 6.0)"
   ]
  },
  {
   "cell_type": "code",
   "execution_count": 6,
   "metadata": {
    "collapsed": false
   },
   "outputs": [
    {
     "data": {
      "text/plain": [
       "0.16666666666666666"
      ]
     },
     "execution_count": 6,
     "metadata": {},
     "output_type": "execute_result"
    }
   ],
   "source": [
    "#Answer to 2.5\n",
    "(3.0 / 6.0) * (1.0 / 6.0) + (3.0 / 6.0) * (1.0 / 6.0)"
   ]
  },
  {
   "cell_type": "markdown",
   "metadata": {},
   "source": [
    "#### Question 2.6 answer\n",
    "Question 2.4 is a specific permutation, where as 2.5 asks for the probability of that combination, allowing for both possible permutations (answer is acceptable in either markdown or python code)"
   ]
  },
  {
   "cell_type": "markdown",
   "metadata": {},
   "source": [
    "3. Sample Spaces (16 Points)\n",
    "====\n",
    "**Answers these problems symbolically**\n",
    "\n",
    "Each problem is worth 2 points\n",
    "\n",
    "1. You play a game where each time you flip a coin and roll a die. Both of these actions make up an observation. What is the size of the sample space?\n",
    "2. What is the sample space for kinetic energy?\n",
    "3. You have a random number with 3 digits places. What's the sample space size? What's the sample size of a 3 digit number in base 8?\n",
    "4. You have a 6 character password which can contain a-z (lowercase). What's the sample space size? \n",
    "5. You double the length of your password. What's the sample size now?\n",
    "6. With the 6 character password, you now include uppercase letters, the number 0-9 and and 4 punctuation characters. What's the sample size?\n",
    "7. Based on the previous problem, would a password that is a complete sentence (30 characters) with only lower case letters plus a space or a normal password (10 characters) involing symbols and numbers be more secure? Justify your answer.  You may approximate your answer to the nearest order of magnitude.\n",
    "8. What is the sample space for 2 methane molecules and 4 oxygen atoms reacting assuming no radicals or ions are formed? Enumerate (list all) the sample space."
   ]
  },
  {
   "cell_type": "markdown",
   "metadata": {
    "collapsed": true
   },
   "source": [
    "#### Question 3.1 Answer\n",
    "$$Q = 2 \\times 6 = 12$$"
   ]
  },
  {
   "cell_type": "markdown",
   "metadata": {},
   "source": [
    "#### Question 3.2 Answer\n",
    "$$[0,\\infty)$$"
   ]
  },
  {
   "cell_type": "markdown",
   "metadata": {},
   "source": [
    "#### Question 3.3 Answer\n",
    "$$Q = 10^3, 8^3$$"
   ]
  },
  {
   "cell_type": "markdown",
   "metadata": {},
   "source": [
    "#### Question 3.4 Answer\n",
    "\n",
    "$$Q = 26^6 = 308,915,776$$"
   ]
  },
  {
   "cell_type": "markdown",
   "metadata": {},
   "source": [
    "#### Question 3.5 Answer\n",
    "\n",
    "$$Q = 26^{12} = 9,542,895,6661,682,176$$"
   ]
  },
  {
   "cell_type": "markdown",
   "metadata": {},
   "source": [
    "#### Question 3.6 Answer\n",
    "\n",
    "$$Q = (26 + 26 + 10 + 4)^6 = 82,653,950,016$$"
   ]
  },
  {
   "cell_type": "markdown",
   "metadata": {},
   "source": [
    "#### Question 3.7 Answer\n",
    "\n",
    "A complete sentence would have more, since $27^{30} >> 66^{10}$. The more general anwser is that increasing length goes by $a^x$ whereas increasing symbol amount goes by $x^a$. $a^x$ grows significantly faster. "
   ]
  },
  {
   "cell_type": "markdown",
   "metadata": {},
   "source": [
    "#### Question 3.8 Answer\n",
    "1. 2CH$_4$ + 2O$_2$\n",
    "1. CH$_4$ + C + 2H$_2$O + O$_2$\n",
    "2. CH$_4$ + 2H$_2$ + 2O$_2$\n",
    "3. 2C + 4H$_2$O\n",
    "4. 2C + 2H$_2$O + O$_2$ + 2H$_2$\n",
    "6. 2C + 4H$_2$ + 2O$_2$"
   ]
  },
  {
   "cell_type": "code",
   "execution_count": null,
   "metadata": {
    "collapsed": true
   },
   "outputs": [],
   "source": []
  }
 ],
 "metadata": {
  "kernelspec": {
   "display_name": "Python 3",
   "language": "python",
   "name": "python3"
  },
  "language_info": {
   "codemirror_mode": {
    "name": "ipython",
    "version": 3
   },
   "file_extension": ".py",
   "mimetype": "text/x-python",
   "name": "python",
   "nbconvert_exporter": "python",
   "pygments_lexer": "ipython3",
   "version": "3.4.3"
  },
  "widgets": {
   "state": {},
   "version": "1.1.2"
  }
 },
 "nbformat": 4,
 "nbformat_minor": 0
}
