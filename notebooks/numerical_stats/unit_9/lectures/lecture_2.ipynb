{
 "cells": [
  {
   "cell_type": "markdown",
   "metadata": {
    "slideshow": {
     "slide_type": "slide"
    }
   },
   "source": [
    "Unit 9, Lecture 2\n",
    "====\n",
    "\n",
    "*Numerical Methods and Statistics*\n",
    "\n",
    "----\n",
    "\n",
    "#### Prof. Andrew White, Mar 22  2016"
   ]
  },
  {
   "cell_type": "code",
   "execution_count": 1,
   "metadata": {
    "collapsed": false,
    "slideshow": {
     "slide_type": "skip"
    }
   },
   "outputs": [],
   "source": [
    "%matplotlib inline\n",
    "import random\n",
    "import numpy as np\n",
    "import matplotlib.pyplot as plt\n",
    "from math import sqrt, pi, erf\n",
    "import seaborn\n",
    "seaborn.set_context(\"talk\")\n",
    "#seaborn.set_style(\"white\")\n",
    "import scipy.optimize"
   ]
  },
  {
   "cell_type": "markdown",
   "metadata": {
    "slideshow": {
     "slide_type": "slide"
    }
   },
   "source": [
    "Student's $t$-Test\n",
    "===="
   ]
  },
  {
   "cell_type": "markdown",
   "metadata": {
    "slideshow": {
     "slide_type": "fragment"
    }
   },
   "source": [
    "I open up a cash4gold store and people bring me their jewlery. I know the probability distribution for gold melting is normal with mean 1060 $^{\\circ}$C. I do not know the standard deviation. Someone brings in 6 samples and they melt at 1035, 1050, 1020, 1055, and 1046 $^{\\circ}$C. Should I reject the null hpyothesis, that these are gold?"
   ]
  },
  {
   "cell_type": "markdown",
   "metadata": {
    "slideshow": {
     "slide_type": "subslide"
    }
   },
   "source": [
    "#### Logical Steps: \n",
    "\n",
    "1. Assuming the null hypothesis, compute our uncertainty in the true mean confidence interval\n",
    "2. We happen to have the true mean, so then we see how big the confidence interval has to be to include it\n",
    "3. How big our confidence interval is, tells is how likely the underlying null hypothesis is"
   ]
  },
  {
   "cell_type": "code",
   "execution_count": 2,
   "metadata": {
    "collapsed": false,
    "slideshow": {
     "slide_type": "subslide"
    }
   },
   "outputs": [
    {
     "name": "stdout",
     "output_type": "stream",
     "text": [
      "13.9534941860453 1041.2 1060.0\n",
      "-3.01272766638\n"
     ]
    }
   ],
   "source": [
    "samples = np.array([1035., 1050., 1020., 1055., 1046.])\n",
    "sigma = sqrt(np.var(samples, ddof=1))\n",
    "sample_mean = np.mean(samples)\n",
    "true_mean = 1060.\n",
    "\n",
    "print(sigma, sample_mean, true_mean)\n",
    "\n",
    "T = (sample_mean - true_mean) / (sigma / sqrt(len(samples)))\n",
    "print(T)"
   ]
  },
  {
   "cell_type": "markdown",
   "metadata": {
    "slideshow": {
     "slide_type": "subslide"
    }
   },
   "source": [
    "Now we have a $T$ and we know $P(T)$. However, just like the $zM$ test, we can't compute $P(T)$ since that's a single point and we're using a continuous distribution. So instead, we build an interval and see how big it must be to catch that $T$. \n",
    "\n",
    "Specifically, we want to find $p = \\int_{-T}^T p(t)\\,dt$"
   ]
  },
  {
   "cell_type": "code",
   "execution_count": 3,
   "metadata": {
    "collapsed": false,
    "slideshow": {
     "slide_type": "fragment"
    }
   },
   "outputs": [
    {
     "name": "stdout",
     "output_type": "stream",
     "text": [
      "T =  -3.01272766638\n",
      "0.0148313200979 Is the single sided p-value\n",
      "0.0296626401959 Is the double sided p-value\n",
      "notice, just using 2 * the single-sided value gives the same answer\n"
     ]
    }
   ],
   "source": [
    "import scipy.stats\n",
    "\n",
    "print('T = ', T)\n",
    "\n",
    "p = scipy.stats.t.cdf(T, len(samples)) # The integral from -T to T\n",
    "print (p, 'Is the single sided p-value')\n",
    "\n",
    "p = 1 - (scipy.stats.t.cdf(-T, len(samples)) - scipy.stats.t.cdf(T, len(samples))) # The integral from -T to T\n",
    "print (p, 'Is the double sided p-value')\n",
    "\n",
    "print ('notice, just using 2 * the single-sided value gives the same answer')"
   ]
  },
  {
   "cell_type": "markdown",
   "metadata": {
    "slideshow": {
     "slide_type": "slide"
    }
   },
   "source": [
    "What if accidentally reverse our T-value?\n",
    "---"
   ]
  },
  {
   "cell_type": "code",
   "execution_count": 4,
   "metadata": {
    "collapsed": false,
    "slideshow": {
     "slide_type": "fragment"
    }
   },
   "outputs": [
    {
     "name": "stdout",
     "output_type": "stream",
     "text": [
      "3.01272766638\n",
      "CDF gives:  0.985168679902\n",
      "Recognize that includes from -infty up to a positive T, so we need to find the complementary area\n",
      "0.0148313200979 Is the single sided p-value\n",
      "0.0296626401959 Is the double sided p-value\n"
     ]
    }
   ],
   "source": [
    "T = (true_mean - sample_mean) / (sigma / sqrt(len(samples)))\n",
    "print (T)\n",
    "\n",
    "p = (scipy.stats.t.cdf(T, len(samples)))\n",
    "print ('CDF gives: ', p)\n",
    "print ('Recognize that includes from -infty up to a positive T, so we need to find the complementary area')\n",
    "\n",
    "print (1 - p, 'Is the single sided p-value')\n",
    "print ((1 - p) * 2, 'Is the double sided p-value')"
   ]
  },
  {
   "cell_type": "markdown",
   "metadata": {
    "slideshow": {
     "slide_type": "slide"
    }
   },
   "source": [
    "Summary of Methods for Comparing Single Measurement with Normal Population\n",
    "===="
   ]
  },
  {
   "cell_type": "markdown",
   "metadata": {
    "slideshow": {
     "slide_type": "subslide"
    }
   },
   "source": [
    "$zM$ Test\n",
    "====\n",
    "\n",
    "**Data Type:** Measurements and Ranks\n",
    "\n",
    "**Compares:** A sample vs a single normally distributed population\n",
    "\n",
    "**Null Hypothesis:** The sample came from the population\n",
    "\n",
    "**Conditions:** Standard deviation of population is known\n",
    "\n",
    "**Related Test 1:** Student's $t$-test, which is used when the standard deviation is not known\n",
    "\n",
    "**Python:** Integrate an interval with a Z-statistic and `erf` or `scipt.stats.norm.cdf`"
   ]
  },
  {
   "cell_type": "markdown",
   "metadata": {
    "slideshow": {
     "slide_type": "subslide"
    }
   },
   "source": [
    "Student's $t$-test\n",
    "====\n",
    "\n",
    "**Data Type:** Measurements and Ranks\n",
    "\n",
    "**Compares:** A sample vs a single normally distributed population\n",
    "\n",
    "**Null Hypothesis:** The sample came from the population\n",
    "\n",
    "**Conditions:** Standard deviation of population is not known\n",
    "\n",
    "**Related Test 1:** $zM$ test, which is used when standard deviation is known\n",
    "\n",
    "**Python:** Integrate an interval with a T-stastic and `scipt.stats.t.cdf`"
   ]
  },
  {
   "cell_type": "markdown",
   "metadata": {
    "slideshow": {
     "slide_type": "slide"
    }
   },
   "source": [
    "Detour: Parametric vs. Nonparametric Stastics\n",
    "===="
   ]
  },
  {
   "cell_type": "markdown",
   "metadata": {
    "slideshow": {
     "slide_type": "fragment"
    }
   },
   "source": [
    "**Parametric Statistics:** What we've seen before, where we do statistics by assuming the data follows some underlying probability distribution (like normal distribution).\n",
    "\n",
    "**Nonparametric Statistics:** We do statistics without assuming an equation form for the underlying probability distribution"
   ]
  },
  {
   "cell_type": "markdown",
   "metadata": {
    "slideshow": {
     "slide_type": "subslide"
    }
   },
   "source": [
    "Nonparametric statistics are secret and not widely taught because people belive they are challenging to understand. This is true, but I don't think undergraduates completely understand probability measure spaces but it doesn't stop us from using them."
   ]
  },
  {
   "cell_type": "markdown",
   "metadata": {
    "slideshow": {
     "slide_type": "fragment"
    }
   },
   "source": [
    "*From here onwards, most tests will not assume normality and are nonparametric. You won't find these tests in most traditional statistics textbooks*"
   ]
  },
  {
   "cell_type": "markdown",
   "metadata": {
    "slideshow": {
     "slide_type": "fragment"
    }
   },
   "source": [
    "To do nonparametric statistics, one of the underlying principles is converting measurements into rankings."
   ]
  },
  {
   "cell_type": "code",
   "execution_count": 5,
   "metadata": {
    "collapsed": false,
    "slideshow": {
     "slide_type": "subslide"
    }
   },
   "outputs": [
    {
     "name": "stdout",
     "output_type": "stream",
     "text": [
      "[ 0.43829565  0.7765349   0.77310972  0.45943712  0.88361347  0.77653251\n",
      "  0.5720076   0.39194721  0.64076874  0.3196812 ]\n",
      "[  3.   9.   7.   4.  10.   8.   5.   2.   6.   1.]\n"
     ]
    }
   ],
   "source": [
    "import scipy.stats\n",
    "\n",
    "d = np.random.rand(10)\n",
    "print (d)\n",
    "print (scipy.stats.rankdata(d))"
   ]
  },
  {
   "cell_type": "markdown",
   "metadata": {
    "slideshow": {
     "slide_type": "slide"
    }
   },
   "source": [
    "Nonparametric Methods for Comparing Sets of Measurements\n",
    "===="
   ]
  },
  {
   "cell_type": "markdown",
   "metadata": {
    "slideshow": {
     "slide_type": "subslide"
    }
   },
   "source": [
    "Wilcoxon's Sum of Ranks Test\n",
    "====\n",
    "\n",
    "**Data Type:** Ranks\n",
    "\n",
    "**Compares:** Two sets of measurements. \n",
    "\n",
    "**Null Hypothesis:** The two sets of measurements are from the same distribution\n",
    "\n",
    "**Conditions:** Unmatched measurements. Unmatched the measurements aren't in pairs and you don't necessarily have the same number\n",
    "\n",
    "**Related Test 1:** Wilcoxon's Signed Ranks Test for matched data measuring one thing (i.e, temperature)\n",
    "\n",
    "**Related Test 2:** Spearman's Correlation Test for matched data measuring two things (i.e., temperature and pressure)\n",
    "\n",
    "**Python:** `scipy.stats.ranksums`"
   ]
  },
  {
   "cell_type": "markdown",
   "metadata": {
    "slideshow": {
     "slide_type": "slide"
    }
   },
   "source": [
    "Example: Were HW 1 and HW 2 from the same distribution?\n",
    "===="
   ]
  },
  {
   "cell_type": "code",
   "execution_count": 7,
   "metadata": {
    "collapsed": false,
    "slideshow": {
     "slide_type": "subslide"
    }
   },
   "outputs": [
    {
     "data": {
      "image/png": "[encoded data removed]",
      "text/plain": [
       "<matplotlib.figure.Figure at 0x7ff227aecb00>"
      ]
     },
     "metadata": {},
     "output_type": "display_data"
    }
   ],
   "source": [
    "import pandas\n",
    "data = pandas.read_csv('../grades.csv')\n",
    "plt.title('HW1')\n",
    "plt.hist(100 * data['HW1'] / 50) # I'm dividing here to make the grade a percentage\n",
    "plt.show()"
   ]
  },
  {
   "cell_type": "code",
   "execution_count": 8,
   "metadata": {
    "collapsed": false,
    "slideshow": {
     "slide_type": "subslide"
    }
   },
   "outputs": [
    {
     "data": {
      "image/png": "[encoded data removed]",
      "text/plain": [
       "<matplotlib.figure.Figure at 0x7ff227aec978>"
      ]
     },
     "metadata": {},
     "output_type": "display_data"
    }
   ],
   "source": [
    "plt.title('HW2')\n",
    "plt.hist(100 * data['HW2'] / 44) # I'm dividing here to make the grade a percentage\n",
    "plt.show()"
   ]
  },
  {
   "cell_type": "code",
   "execution_count": 9,
   "metadata": {
    "collapsed": false,
    "slideshow": {
     "slide_type": "subslide"
    }
   },
   "outputs": [
    {
     "data": {
      "text/plain": [
       "RanksumsResult(statistic=3.2162420061920809, pvalue=0.0012988125539926038)"
      ]
     },
     "execution_count": 9,
     "metadata": {},
     "output_type": "execute_result"
    }
   ],
   "source": [
    "scipy.stats.ranksums(data['HW1'] / 44., data['HW2'] / 50.)# I'm dividing here to make the grade a percentage"
   ]
  },
  {
   "cell_type": "markdown",
   "metadata": {
    "slideshow": {
     "slide_type": "fragment"
    }
   },
   "source": [
    "The $p$-value is 0.001, so no they weren't from the same distribution. HW 2 was significantly more difficult."
   ]
  },
  {
   "cell_type": "code",
   "execution_count": 10,
   "metadata": {
    "collapsed": false,
    "slideshow": {
     "slide_type": "subslide"
    }
   },
   "outputs": [
    {
     "data": {
      "text/plain": [
       "RanksumsResult(statistic=0.40352478702224065, pvalue=0.68656220384069333)"
      ]
     },
     "execution_count": 10,
     "metadata": {},
     "output_type": "execute_result"
    }
   ],
   "source": [
    "scipy.stats.ranksums(data['HW6'] / 19., data['HW4'] / 100.)# I'm dividing here to make the grade a percentage"
   ]
  },
  {
   "cell_type": "markdown",
   "metadata": {
    "slideshow": {
     "slide_type": "fragment"
    }
   },
   "source": [
    "HW 4 and 6 were about the same difficulty. "
   ]
  },
  {
   "cell_type": "markdown",
   "metadata": {
    "slideshow": {
     "slide_type": "slide"
    }
   },
   "source": [
    "Wilcoxon's Signed Rank Test\n",
    "====\n",
    "\n",
    "**Data Type:** Ranks\n",
    "\n",
    "**Compares:** Two sets of measurements\n",
    "\n",
    "**Null Hypothesis:** The two sets of measurements are from the same distribution\n",
    "\n",
    "**Conditions:** Measurements are matched. Matched means the data comes in tuples/pairs. More than 6 samples, better to have more than 20.\n",
    "\n",
    "**Related Test 1:** Wilcoxon's Sum of Ranks Test for unmatched data measuring one thing (i.e, temperature)\n",
    "\n",
    "**Related Test 2:** Spearman's Correlation Test for matched data measuring two things (i.e., temperature and pressure)\n",
    "\n",
    "\n",
    "**Python:** `scipy.stats.wilcoxon`"
   ]
  },
  {
   "cell_type": "markdown",
   "metadata": {
    "slideshow": {
     "slide_type": "subslide"
    }
   },
   "source": [
    "Since we know that the same people are doing the homework, we can make more accuracte comparisons by seeing if the average change in scores between HW 4 and HW 6 was random."
   ]
  },
  {
   "cell_type": "code",
   "execution_count": 11,
   "metadata": {
    "collapsed": false,
    "slideshow": {
     "slide_type": "fragment"
    }
   },
   "outputs": [
    {
     "data": {
      "image/png": "[encoded data removed]",
      "text/plain": [
       "<matplotlib.figure.Figure at 0x7ff227470160>"
      ]
     },
     "metadata": {},
     "output_type": "display_data"
    }
   ],
   "source": [
    "plt.hist(100 * data['HW6'] / 19. - data['HW4'])# I'm dividing here to make the grade a percentage\n",
    "plt.show()\n"
   ]
  },
  {
   "cell_type": "markdown",
   "metadata": {},
   "source": [
    "Notice that we have to make sure these are in the same units, since we're comparing them directly."
   ]
  },
  {
   "cell_type": "code",
   "execution_count": 12,
   "metadata": {
    "collapsed": false,
    "slideshow": {
     "slide_type": "subslide"
    }
   },
   "outputs": [
    {
     "data": {
      "text/plain": [
       "WilcoxonResult(statistic=663.0, pvalue=0.36997909338233748)"
      ]
     },
     "execution_count": 12,
     "metadata": {},
     "output_type": "execute_result"
    }
   ],
   "source": [
    "scipy.stats.wilcoxon(100 * data['HW6'] / 19., data['HW4'])# I'm dividing here to make the grade a percentage"
   ]
  },
  {
   "cell_type": "markdown",
   "metadata": {
    "slideshow": {
     "slide_type": "slide"
    }
   },
   "source": [
    "Spearman's Correlation Test\n",
    "====\n",
    "\n",
    "**Data Type:** Ranks\n",
    "\n",
    "**Compares:** Two sets of measurements\n",
    "\n",
    "**Null Hypothesis:** The two sets of measurements are uncorrelated\n",
    "\n",
    "**Conditions:** Measurements are matched. Matched means the data comes in tuples/pairs. The measurements are of different things\n",
    "\n",
    "**Related Test 1:** Wilcoxon's Sum of Ranks Test for unmatched data measuring one thing (i.e, temperature)\n",
    "\n",
    "**Related Test 2:** Wilcoxon's Signed Ranks Test for matched data measuring one thing (i.e, temperature)\n",
    "\n",
    "**Python:** `scipy.stats.spearmanr`"
   ]
  },
  {
   "cell_type": "markdown",
   "metadata": {
    "slideshow": {
     "slide_type": "slide"
    }
   },
   "source": [
    "Example: Is doing well on homework correlated with doing well on the midterm?\n",
    "===="
   ]
  },
  {
   "cell_type": "code",
   "execution_count": 13,
   "metadata": {
    "collapsed": false,
    "slideshow": {
     "slide_type": "subslide"
    }
   },
   "outputs": [
    {
     "data": {
      "image/png": "[encoded data removed]",
      "text/plain": [
       "<matplotlib.figure.Figure at 0x7ff22742fe80>"
      ]
     },
     "metadata": {},
     "output_type": "display_data"
    }
   ],
   "source": [
    "plt.plot(data['HW'], 100 * data['Midterm'] / 32., 'o')# I'm dividing here to make the grade a percentage\n",
    "plt.show()"
   ]
  },
  {
   "cell_type": "code",
   "execution_count": 15,
   "metadata": {
    "collapsed": false,
    "slideshow": {
     "slide_type": "subslide"
    }
   },
   "outputs": [
    {
     "data": {
      "text/plain": [
       "SpearmanrResult(correlation=0.19611245494370425, pvalue=0.15129294960465484)"
      ]
     },
     "execution_count": 15,
     "metadata": {},
     "output_type": "execute_result"
    }
   ],
   "source": [
    "scipy.stats.spearmanr(data['HW'], data['Midterm'])"
   ]
  },
  {
   "cell_type": "markdown",
   "metadata": {},
   "source": [
    "The $p$-value is slightly higher than $0.05$, so we may say that no there is no correlation. Note also that we didn't have to worry about these being in different units.  For comparison, consider our previous method of using correlation coefficients."
   ]
  },
  {
   "cell_type": "code",
   "execution_count": 16,
   "metadata": {
    "collapsed": false,
    "slideshow": {
     "slide_type": "subslide"
    }
   },
   "outputs": [
    {
     "data": {
      "text/plain": [
       "array([[ 1.        ,  0.25865924],\n",
       "       [ 0.25865924,  1.        ]])"
      ]
     },
     "execution_count": 16,
     "metadata": {},
     "output_type": "execute_result"
    }
   ],
   "source": [
    "np.corrcoef(data['HW'], data['Midterm'], ddof=1)"
   ]
  },
  {
   "cell_type": "markdown",
   "metadata": {
    "slideshow": {
     "slide_type": "slide"
    }
   },
   "source": [
    "Tests For Counts\n",
    "===="
   ]
  },
  {
   "cell_type": "markdown",
   "metadata": {
    "slideshow": {
     "slide_type": "subslide"
    }
   },
   "source": [
    "Poisson's Count Test\n",
    "====\n",
    "\n",
    "**Data Type:** Count\n",
    "\n",
    "**Compares:** Count vs a poisson distributed population\n",
    "\n",
    "**Null Hypothesis:** The number of observations (count) came from the known population\n",
    "\n",
    "**Conditions:** Less than 40 samples (for computational simplicity)\n",
    "\n",
    "**Related Test 1:** $zI$ test, for more than 40 samples\n",
    "\n",
    "**Python:** Construct an interval and integrate using `scipy.stats.poisson.cdf(x, mu=...)` or use `quad`."
   ]
  },
  {
   "cell_type": "markdown",
   "metadata": {
    "slideshow": {
     "slide_type": "slide"
    }
   },
   "source": [
    "Example: Hurricanes per Year\n",
    "====\n",
    "\n",
    "The number of hurricanes in 2005 was 15. The historic average is 6.3. Is this number signficantly different?"
   ]
  },
  {
   "cell_type": "markdown",
   "metadata": {
    "slideshow": {
     "slide_type": "fragment"
    }
   },
   "source": [
    "We will construct a double-sided interval and see how big it needs to be to catch the value."
   ]
  },
  {
   "cell_type": "code",
   "execution_count": 17,
   "metadata": {
    "collapsed": false,
    "slideshow": {
     "slide_type": "fragment"
    }
   },
   "outputs": [
    {
     "name": "stdout",
     "output_type": "stream",
     "text": [
      "p-value is 0.00168898616072\n"
     ]
    }
   ],
   "source": [
    "print('p-value is', (1 - scipy.stats.poisson.cdf(15, mu=6.3)) * 2)"
   ]
  }
 ],
 "metadata": {
  "celltoolbar": "Slideshow",
  "kernelspec": {
   "display_name": "Python 3",
   "language": "python",
   "name": "python3"
  },
  "language_info": {
   "codemirror_mode": {
    "name": "ipython",
    "version": 3
   },
   "file_extension": ".py",
   "mimetype": "text/x-python",
   "name": "python",
   "nbconvert_exporter": "python",
   "pygments_lexer": "ipython3",
   "version": "3.4.2"
  }
 },
 "nbformat": 4,
 "nbformat_minor": 0
}
