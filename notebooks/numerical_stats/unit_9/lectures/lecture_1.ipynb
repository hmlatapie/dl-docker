{
 "cells": [
  {
   "cell_type": "markdown",
   "metadata": {
    "slideshow": {
     "slide_type": "slide"
    }
   },
   "source": [
    "Unit 8, Lecture 1\n",
    "====\n",
    "\n",
    "*Numerical Methods and Statistics*\n",
    "\n",
    "----\n",
    "\n",
    "#### Prof. Andrew White,  March 1, 2016 "
   ]
  },
  {
   "cell_type": "code",
   "execution_count": 3,
   "metadata": {
    "collapsed": false,
    "slideshow": {
     "slide_type": "skip"
    }
   },
   "outputs": [],
   "source": [
    "%matplotlib inline\n",
    "import numpy as np\n",
    "import matplotlib.pyplot as plt\n",
    "from math import sqrt, pi, erf\n",
    "import scipy.optimize"
   ]
  },
  {
   "cell_type": "markdown",
   "metadata": {
    "slideshow": {
     "slide_type": "slide"
    }
   },
   "source": [
    "Hypothesis Testing\n",
    "===="
   ]
  },
  {
   "cell_type": "markdown",
   "metadata": {
    "slideshow": {
     "slide_type": "slide"
    }
   },
   "source": [
    "**Hypothesis**: Going to college increases your starting salary"
   ]
  },
  {
   "cell_type": "markdown",
   "metadata": {},
   "source": [
    "It's not really possible to prove this directly. We can, however, disporve the opposite hypothesis. We construct the opposite hypothesis to what we're interested in, called the *null hypothesis*. The null hypothesis is an assumption of no-difference and/or no-correlation."
   ]
  },
  {
   "cell_type": "markdown",
   "metadata": {},
   "source": [
    "In our example, this seems simple at first: *Going to college has no effect on your salary*. "
   ]
  },
  {
   "cell_type": "markdown",
   "metadata": {},
   "source": [
    "But, maybe the null hypothesis is: *For People who qualified and were accepted to college, attending college has no effect on their salary*. \n",
    "\n",
    "Or it might be *People who can afford, are smart enough, and motivated enough to go to college but did not, have the same salary as those that did.*"
   ]
  },
  {
   "cell_type": "markdown",
   "metadata": {},
   "source": [
    "Let's assume we know well enough what our null hypothesis is. Hypothesis testing is the ability to use statistics to disprove the null hypothesis"
   ]
  },
  {
   "cell_type": "markdown",
   "metadata": {},
   "source": [
    "Hypothesis Testing\n",
    "----\n",
    "\n",
    "We construct a null hypothesis about an experiment that compares 2 or more probability distributions, where we may or may not know the distributions themselves. Disporving the null hypothesis should correspond to there being something significant about the experiment. Generally, the null hypothesis is:\n",
    "\n",
    " * Null Hypothesis: The 2 or more probability distributions are the same and the experimental evidence contrary is due to chance"
   ]
  },
  {
   "cell_type": "markdown",
   "metadata": {},
   "source": [
    "Hypothesis Test Example\n",
    "----\n",
    "\n",
    "I open up a cash4gold store and people bring me their jewlery. I know the probability distribution for gold melting is normal with mean 1060 $^{\\circ}$C and my measurements have a standard deviation of 3$^{\\circ} $C. I melt a sample at 1045 $^{\\circ} $ C and want to know if I should be suspicious."
   ]
  },
  {
   "cell_type": "markdown",
   "metadata": {},
   "source": [
    "**Null Hypothesis**: The sample is gold"
   ]
  },
  {
   "cell_type": "markdown",
   "metadata": {},
   "source": [
    "Let's see if I can disporve this. If the sample is gold, what is the probability of that measurement? Zero, because it's a single point. Let's ask though how big of an interval would we need to include that measurement."
   ]
  },
  {
   "cell_type": "code",
   "execution_count": 4,
   "metadata": {
    "collapsed": false
   },
   "outputs": [
    {
     "name": "stdout",
     "output_type": "stream",
     "text": [
      "0.999999426697\n"
     ]
    }
   ],
   "source": [
    "from scipy import stats as ss\n",
    "\n",
    "Z = abs(1045 - 1060.) / 3\n",
    "interval_p = ss.norm.cdf(Z) - ss.norm.cdf(-Z)\n",
    "\n",
    "print(interval_p)"
   ]
  },
  {
   "cell_type": "markdown",
   "metadata": {},
   "source": [
    "We would expect to see values outside this interval 0.00000001% of the time. "
   ]
  },
  {
   "cell_type": "markdown",
   "metadata": {},
   "source": [
    "What is signficiant?\n",
    "----\n",
    "\n",
    "Would we call it significant if it was 0.1%? what about 1%? It turns out the well-accepted answer is 5%. This is called our $\\alpha$ or significance level."
   ]
  },
  {
   "cell_type": "markdown",
   "metadata": {
    "slideshow": {
     "slide_type": "slide"
    }
   },
   "source": [
    "We saw in the cash4gold example how to compare a single sample with a known population. What about when we don't know the standard deviation of the population?"
   ]
  },
  {
   "cell_type": "markdown",
   "metadata": {
    "slideshow": {
     "slide_type": "fragment"
    }
   },
   "source": [
    "I open up a cash4gold store and people bring me their jewlery. I know the probability distribution for gold melting is normal with mean 1060 $^{\\circ}$C. I do not know the standard deviation. If I get a sample that melts at 1045$^\\circ{}$C, should I be suspicious?"
   ]
  },
  {
   "cell_type": "markdown",
   "metadata": {
    "slideshow": {
     "slide_type": "fragment"
    }
   },
   "source": [
    "I don't know. We have no way of estimating the standard deviation with one sample, so we can't say anything. If we have at least 3 samples though, we can compute the sample standard deviation"
   ]
  },
  {
   "cell_type": "markdown",
   "metadata": {
    "slideshow": {
     "slide_type": "fragment"
    }
   },
   "source": [
    "This leads us to the beautiful part about hypothesis testing: since we're assuming the null hypothesis, that the samples are gold, we can substitute the standard deviation we get from the samples into the population.\n",
    "\n",
    "----"
   ]
  },
  {
   "cell_type": "markdown",
   "metadata": {
    "slideshow": {
     "slide_type": "slide"
    }
   },
   "source": [
    "Student's $t$-Test\n",
    "===="
   ]
  },
  {
   "cell_type": "markdown",
   "metadata": {
    "slideshow": {
     "slide_type": "fragment"
    }
   },
   "source": [
    "I open up a cash4gold store and people bring me their jewlery. I know the probability distribution for gold melting is normal with mean 1060 $^{\\circ}$C. I do not know the standard deviation. Someone brings in 6 samples and they melt at 1035, 1050, 1020, 1055, and 1046 $^{\\circ}$C. Should I reject the null hpyothesis, that these are gold?"
   ]
  },
  {
   "cell_type": "markdown",
   "metadata": {
    "slideshow": {
     "slide_type": "subslide"
    }
   },
   "source": [
    "#### Logical Steps: \n",
    "\n",
    "1. Assuming the null hypothesis, compute our uncertainty in the true mean confidence interval\n",
    "2. We happen to have the true mean, so then we see how big the confidence interval has to be to include it\n",
    "3. How big our confidence interval is, tells is how likely the underlying null hypothesis is"
   ]
  },
  {
   "cell_type": "code",
   "execution_count": 6,
   "metadata": {
    "collapsed": false,
    "slideshow": {
     "slide_type": "subslide"
    }
   },
   "outputs": [
    {
     "name": "stdout",
     "output_type": "stream",
     "text": [
      "13.9534941860453 1041.2 1060.0\n",
      "-3.01272766638\n"
     ]
    }
   ],
   "source": [
    "samples = np.array([1035., 1050., 1020., 1055., 1046.])\n",
    "sigma = sqrt(np.var(samples, ddof=1))\n",
    "sample_mean = np.mean(samples)\n",
    "true_mean = 1060.\n",
    "\n",
    "print(sigma, sample_mean, true_mean)\n",
    "\n",
    "T = (sample_mean - true_mean) / (sigma / sqrt(len(samples)))\n",
    "print(T)"
   ]
  },
  {
   "cell_type": "markdown",
   "metadata": {
    "slideshow": {
     "slide_type": "subslide"
    }
   },
   "source": [
    "Now we have a $T$ and we know $P(T)$. However, just like the $zM$ test, we can't compute $P(T)$ since that's a single point and we're using a continuous distribution. So instead, we build an interval and see how big it must be to catch that $T$. \n",
    "\n",
    "Specifically, we want to find $\\int_{-T}^T p(t)\\,dt$"
   ]
  },
  {
   "cell_type": "code",
   "execution_count": 7,
   "metadata": {
    "collapsed": false,
    "slideshow": {
     "slide_type": "fragment"
    }
   },
   "outputs": [
    {
     "name": "stdout",
     "output_type": "stream",
     "text": [
      "T =  -3.01272766638\n",
      "0.0148313200979 Is the single sided p-value\n",
      "-0.970337359804 Is the double sided p-value\n",
      "notice, just using 2 * the single-sided value gives the same answer\n"
     ]
    }
   ],
   "source": [
    "print('T = ', T)\n",
    "\n",
    "p = ss.t.cdf(T, len(samples)) # The integral from -infinity to T\n",
    "print(p, 'Is the single sided p-value')\n",
    "\n",
    "p = (ss.t.cdf(T, len(samples)) - ss.t.cdf(-T, len(samples))) # The integral from -T to T\n",
    "print(p, 'Is the double sided p-value')\n",
    "\n",
    "print('notice, just using 2 * the single-sided value gives the same answer')"
   ]
  }
 ],
 "metadata": {
  "celltoolbar": "Slideshow",
  "kernelspec": {
   "display_name": "Python 3",
   "language": "python",
   "name": "python3"
  },
  "language_info": {
   "codemirror_mode": {
    "name": "ipython",
    "version": 3
   },
   "file_extension": ".py",
   "mimetype": "text/x-python",
   "name": "python",
   "nbconvert_exporter": "python",
   "pygments_lexer": "ipython3",
   "version": "3.4.2"
  }
 },
 "nbformat": 4,
 "nbformat_minor": 0
}
