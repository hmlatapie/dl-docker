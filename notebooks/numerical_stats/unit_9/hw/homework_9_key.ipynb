{
 "cells": [
  {
   "cell_type": "markdown",
   "metadata": {},
   "source": [
    "Homework 9 Key\n",
    "====\n",
    "#### CHE 116: Numerical Methods and Statistics\n",
    "Prof. Andrew White\n",
    "\n",
    "Version 1.0 (3/23/2016)\n",
    "\n",
    "----"
   ]
  },
  {
   "cell_type": "code",
   "execution_count": 4,
   "metadata": {
    "collapsed": false
   },
   "outputs": [],
   "source": [
    "from math import erf, sqrt\n",
    "import numpy as np\n",
    "import scipy.stats"
   ]
  },
  {
   "cell_type": "markdown",
   "metadata": {},
   "source": [
    "General Instructions\n",
    "====\n",
    "\n",
    "For full credit, you must have the following items for each problem:\n",
    "\n",
    "* [1 point] Describe what and why the method you're using is applicable. For example, 'I chose the signed rank test because these are two matched datasets describing one measurement'\n",
    "\n",
    "* [1 point] Write out the null hypothesis. For example, 'The null hypothesis is that the two measurements sets came from the same population (synonymous with probability distribution)'\n",
    "\n",
    "* [1 point] Report the p-value and your alpha value\n",
    "\n",
    "* [1 point] if you accept/reject the null hypothesis and answer the question"
   ]
  },
  {
   "cell_type": "markdown",
   "metadata": {},
   "source": [
    "1. $zM$ Tests (8 Points)\n",
    "====\n"
   ]
  },
  {
   "cell_type": "markdown",
   "metadata": {},
   "source": [
    "1. You have a sample of an unknown metal with a melting point of $1,070^\\circ{}$ C. You know that gold has a melting point of $1,064^\\circ{}$ C and your measurements have a standard deviation of $5^\\circ{}$ C. Is the unknown metal likely to be gold?\n",
    "\n",
    "2. Recall from confidence intervals, that the standard deviation in distance from the true mean is $\\sigma / \\sqrt{N}$ when you know the true standard deviation, $\\sigma$. You take three additional samples and get $1,071^\\circ{}$ C, $1,067^\\circ{}$ C, and $1,075^\\circ{}$ C. Does your evidence for gold change? USe the original measurement as well. "
   ]
  },
  {
   "cell_type": "markdown",
   "metadata": {},
   "source": [
    "### 1.1 Answer\n",
    "\n",
    "* $zM$ test is chosen because we have one sample compared with a parent group whose mean and standard deviation is known. \n",
    "* The null hypothesis: The sample is gold"
   ]
  },
  {
   "cell_type": "code",
   "execution_count": 8,
   "metadata": {
    "collapsed": false
   },
   "outputs": [
    {
     "name": "stdout",
     "output_type": "stream",
     "text": [
      "Z: 1.2\n",
      "P-Value: 0.230139340443\n"
     ]
    }
   ],
   "source": [
    "mu_sample=1070\n",
    "mu_popul=1064.\n",
    "st_dev=5\n",
    "z=(-mu_popul+mu_sample)/st_dev\n",
    "print('Z:', z)\n",
    "p=(1 - np.abs((scipy.stats.norm.cdf(z)-scipy.stats.norm.cdf(-z))))\n",
    "print('P-Value:', p)"
   ]
  },
  {
   "cell_type": "markdown",
   "metadata": {},
   "source": [
    "* The $p$-value is 0.23\n",
    "* We do not reject the null hypothesis, so the sample could be gold"
   ]
  },
  {
   "cell_type": "markdown",
   "metadata": {},
   "source": [
    "### 1.2 Answer\n",
    "\n",
    "* $zM$ test is chosen because we have a sample compared with a parent group whose mean and standard deviation is known. \n",
    "* The null hypothesis: The sample is gold"
   ]
  },
  {
   "cell_type": "markdown",
   "metadata": {},
   "source": [
    "The formula for a $Z$-statistic with a sample size greater than 1 is:\n",
    "\n",
    "$$ Z = \\frac{\\mu - \\bar{x}}{\\sigma / \\sqrt{N}}$$"
   ]
  },
  {
   "cell_type": "code",
   "execution_count": 14,
   "metadata": {
    "collapsed": false
   },
   "outputs": [
    {
     "name": "stdout",
     "output_type": "stream",
     "text": [
      "Z: -2.7\n",
      "P-Value: 0.00693394760608\n"
     ]
    }
   ],
   "source": [
    "mu = 1064.\n",
    "sigma = 5.\n",
    "data = [1070, 1071, 1067, 1075]\n",
    "Z = (mu - np.mean(data)) / (sigma / sqrt(len(data)))\n",
    "print('Z:', Z)\n",
    "p = 1 - (scipy.stats.norm.cdf(abs(Z)) - scipy.stats.norm.cdf(-abs(Z)))\n",
    "print('P-Value:', p)"
   ]
  },
  {
   "cell_type": "markdown",
   "metadata": {},
   "source": [
    "* The $p$-value is 0.006\n",
    "* We do reject the null hypothesis, so the sample is not gold. Different than last time"
   ]
  },
  {
   "cell_type": "markdown",
   "metadata": {},
   "source": [
    "2. $t$-Tests (4 Points)\n",
    "====\n",
    "\n",
    "1. The median snowfall in Rochester is 89.3. The last four snowfalls have been 112.7, 78, 59.9 and 127. Are these snowfalls abnormal?\n",
    "\n",
    "2. Repeat problem 1.2 without knowing the standard deviation"
   ]
  },
  {
   "cell_type": "markdown",
   "metadata": {},
   "source": [
    "### 2.1 Answer\n",
    "\n",
    "* $t$-test is chosen because we have a sample compared with a parent group whose mean is known but not standard deviation. \n",
    "* The null hypothesis: The snowfall is about the same as usual"
   ]
  },
  {
   "cell_type": "code",
   "execution_count": 12,
   "metadata": {
    "collapsed": false
   },
   "outputs": [
    {
     "name": "stdout",
     "output_type": "stream",
     "text": [
      "T: 0.330534137464\n",
      "p-value: 0.75758464492\n"
     ]
    }
   ],
   "source": [
    "mu = 89.3\n",
    "data = [112.7, 78, 59.9, 127]\n",
    "T = (mu - np.mean(data)) / np.sqrt(np.var(data, ddof=1) / len(data))\n",
    "T = np.abs(T)\n",
    "print('T:', T)\n",
    "p = 1 - (scipy.stats.t.cdf(T, len(data)) - scipy.stats.t.cdf(-T, len(data)))\n",
    "print('p-value:', p)"
   ]
  },
  {
   "cell_type": "markdown",
   "metadata": {},
   "source": [
    "* The $p$-value is 0.76\n",
    "* We do not reject the null hypothesis, so the snowfall is the usual"
   ]
  },
  {
   "cell_type": "markdown",
   "metadata": {},
   "source": [
    "### 2.2 Answer\n",
    "\n",
    "* $t$-test because we're comparing a single sample with a parent group whose standard deviation is unknown\n",
    "* The null hypothesis: the samples are gold"
   ]
  },
  {
   "cell_type": "code",
   "execution_count": 15,
   "metadata": {
    "collapsed": false
   },
   "outputs": [
    {
     "name": "stdout",
     "output_type": "stream",
     "text": [
      "T: 4.08590950567\n",
      "p-value: 0.015025415727\n"
     ]
    }
   ],
   "source": [
    "mu = 1064\n",
    "data = [1070, 1071, 1067, 1075]\n",
    "T = (mu - np.mean(data)) / np.sqrt(np.var(data, ddof=1) / len(data))\n",
    "T = np.abs(T)\n",
    "print('T:', T)\n",
    "p = 1 - (scipy.stats.t.cdf(T, len(data)) - scipy.stats.t.cdf(-T, len(data)))\n",
    "print('p-value:', p)"
   ]
  },
  {
   "cell_type": "markdown",
   "metadata": {},
   "source": [
    "* The $p$-value is 0.015\n",
    "* We still reject the null hypothesis"
   ]
  },
  {
   "cell_type": "markdown",
   "metadata": {},
   "source": [
    "3. Wilcoxon's Sum of Rank Test (4 Points)\n",
    "====\n",
    "\n",
    "1. You are comparing the GPAs of students who take a new Freshman preparedness course and those who do not. Their GPAs are given below. Does the course help the students?"
   ]
  },
  {
   "cell_type": "code",
   "execution_count": 17,
   "metadata": {
    "collapsed": true
   },
   "outputs": [],
   "source": [
    "data_1 = [3.05, 3.01, 3.20, 3.16, 3.11, 3.09]\n",
    "data_2 = [3.18, 3.23, 3.19, 3.28, 3.08, 3.18]"
   ]
  },
  {
   "cell_type": "markdown",
   "metadata": {},
   "source": [
    "### 3.1 Answer\n",
    "\n",
    "* The Wilcoxon sum of ranks test is chosen because we are comparing two unpaired sample groups\n",
    "* The null hypothesis: The two sample groups came from the same parent distribution."
   ]
  },
  {
   "cell_type": "code",
   "execution_count": 16,
   "metadata": {
    "collapsed": false
   },
   "outputs": [
    {
     "name": "stdout",
     "output_type": "stream",
     "text": [
      "0.0781690858243\n"
     ]
    }
   ],
   "source": [
    "_,p = scipy.stats.ranksums(data_1, data_2)\n",
    "print(p)"
   ]
  },
  {
   "cell_type": "markdown",
   "metadata": {},
   "source": [
    "* The $p$-value is 0.08\n",
    "* We do not reject the null hypothesis, so the course has no effect"
   ]
  },
  {
   "cell_type": "markdown",
   "metadata": {},
   "source": [
    "4. Wilcoxon's Signed Rank Test (4 Points)\n",
    "====\n",
    "\n",
    "1. You calculate how long it takes someone to run two miles before and after they've eaten a garbage plate. Does eating a garbage plate influence your ability to run?"
   ]
  },
  {
   "cell_type": "code",
   "execution_count": 21,
   "metadata": {
    "collapsed": true
   },
   "outputs": [],
   "source": [
    "data_empty_tummy = [17.1, 29.5, 23.8, 37.3, 19.6, 24.2, 30.0, 20.9]\n",
    "data_garbage_tummy = [14.2, 30.3, 21.5, 36.3, 19.6, 24.5, 26.7, 20.6]"
   ]
  },
  {
   "cell_type": "markdown",
   "metadata": {},
   "source": [
    "### 4.1 Answer\n",
    "\n",
    "* Wilcoxon signed rank is chosen because we have two paired sample groups that we're comparing\n",
    "* The null hypothesis: The two sample groups are from the same parent distribution (no change)"
   ]
  },
  {
   "cell_type": "code",
   "execution_count": 25,
   "metadata": {
    "collapsed": false
   },
   "outputs": [
    {
     "name": "stdout",
     "output_type": "stream",
     "text": [
      "p-value: 0.128190174345\n"
     ]
    },
    {
     "name": "stderr",
     "output_type": "stream",
     "text": [
      "/opt/conda/lib/python3.5/site-packages/scipy/stats/morestats.py:2384: UserWarning: Warning: sample size too small for normal approximation.\n",
      "  warnings.warn(\"Warning: sample size too small for normal approximation.\")\n"
     ]
    }
   ],
   "source": [
    "_,p = scipy.stats.wilcoxon(data_empty_tummy, data_garbage_tummy)\n",
    "print('p-value:', p)"
   ]
  },
  {
   "cell_type": "markdown",
   "metadata": {},
   "source": [
    "* The $p$-value is 0.13\n",
    "* We do not reject the null hypothesis, so there appears to be no difference."
   ]
  },
  {
   "cell_type": "markdown",
   "metadata": {},
   "source": [
    "5. Spearman's Correlation Test (4 Points)\n",
    "====\n",
    "\n",
    "1. We've performed a chemical reaction at different temperatures and would like to see if there is a relationship with temperature and yield. Is there one?"
   ]
  },
  {
   "cell_type": "code",
   "execution_count": 26,
   "metadata": {
    "collapsed": true
   },
   "outputs": [],
   "source": [
    "temperature = [15, 18, 21, 24, 27, 30, 33]\n",
    "chem_yield = [66, 69, 69, 70, 64, 73, 75]"
   ]
  },
  {
   "cell_type": "markdown",
   "metadata": {},
   "source": [
    "#### 5.1 Answer\n",
    "\n",
    "* Spearman's Correlation coefficient because we've measured two different things for one sample group\n",
    "* Null hypothesis: there is no correlation"
   ]
  },
  {
   "cell_type": "code",
   "execution_count": 27,
   "metadata": {
    "collapsed": false
   },
   "outputs": [
    {
     "data": {
      "text/plain": [
       "SpearmanrResult(correlation=0.63065622388689124, pvalue=0.12888769568495784)"
      ]
     },
     "execution_count": 27,
     "metadata": {},
     "output_type": "execute_result"
    }
   ],
   "source": [
    "scipy.stats.spearmanr(temperature, chem_yield)"
   ]
  },
  {
   "cell_type": "markdown",
   "metadata": {},
   "source": [
    "* the $p$-value is 0.13\n",
    "* There is barely not enough evidence to reject the null hypothesis. No correlation\n"
   ]
  },
  {
   "cell_type": "markdown",
   "metadata": {},
   "source": [
    "6.Poisson Test (4 Points)\n",
    "===\n",
    "\n",
    "1. Some speculate that the lottery is an elaborate trap for time-travelers. We set-up a lottery where the odds of winning are one in 10 million. If one million people play and we get 3 winners, should we be suspicious of the number of winners?"
   ]
  },
  {
   "cell_type": "markdown",
   "metadata": {},
   "source": [
    "#### 6.1 Answer\n",
    "* Poisson's test is chosen, because we're comparing a count to a known parent distribution\n",
    "* Null hypothesis: The count is from the known parent distribution"
   ]
  },
  {
   "cell_type": "code",
   "execution_count": 29,
   "metadata": {
    "collapsed": false
   },
   "outputs": [
    {
     "name": "stdout",
     "output_type": "stream",
     "text": [
      "7.69366785058e-06\n"
     ]
    }
   ],
   "source": [
    "p_winning = 1 / 10**7\n",
    "expected = p_winning * 10**6\n",
    "\n",
    "p = 2 * (1 - scipy.stats.poisson.cdf(3, mu=expected))\n",
    "print(p)"
   ]
  },
  {
   "cell_type": "markdown",
   "metadata": {},
   "source": [
    "* $p$-vaule is 0.000008\n",
    "* The null hypothesis is rejected, we should arrest the winners for time travel"
   ]
  },
  {
   "cell_type": "markdown",
   "metadata": {},
   "source": [
    "7. Binomial Test (4 Points)\n",
    "====\n",
    "\n",
    "You're wondering if you have a fair coin or not. You've flipped it 25 times and gotten heads 8 times. Is there evidence that the coin is unfair?"
   ]
  },
  {
   "cell_type": "markdown",
   "metadata": {},
   "source": [
    "#### 7.1 Answer\n",
    "\n",
    "* A binomial test is appropriate because we're comparing a sample from a known distribution where the number of trials is fixed and the probability of an outcome is constant\n",
    "* The null hypothesis is that the outcome of the experiment came from the known binomial distribution"
   ]
  },
  {
   "cell_type": "code",
   "execution_count": 42,
   "metadata": {
    "collapsed": false
   },
   "outputs": [
    {
     "name": "stdout",
     "output_type": "stream",
     "text": [
      "0.107752144337\n"
     ]
    }
   ],
   "source": [
    "p = 0.5\n",
    "N = 25\n",
    "n = 8\n",
    "\n",
    "print(2 *scipy.stats.binom.cdf(n, N, p))"
   ]
  },
  {
   "cell_type": "markdown",
   "metadata": {},
   "source": [
    "The set-up for this p-value is to construct an interval over the known binomial distribution that just includes the value. I've done this by integrating from 0 up to the value. Our value is lower, so we're getting the left side of the interval. I multiply by 2 to get the other side.\n",
    "\n",
    "* The $p$-value is 0.11\n",
    "* The null hypothesis is NOT rejected, it appears that the coin is close enough to fair"
   ]
  },
  {
   "cell_type": "markdown",
   "metadata": {},
   "source": [
    "8. Choosing the test (5 Points)\n",
    "===\n",
    "State which test is most appropriate for the following:\n",
    "\n",
    "1. You drive two different routes home from work. You drive each route 10 times. Are they significantly different?\n",
    "2. You normally get 10 likes when you post a selfie. Today you got 25 likes. Are you looking significantly good today?\n",
    "3. You have the number of computer viruses a set of 25 users has on their computers after 4 weeks. They each take a training course about risky Internet behavior and you have the number of viruses on their computers in the following 4 weeks. Does the course help them?\n",
    "4. On average, students get a 94% on a homework. These are the grades on this homework: 78, 85, 67, 53, 57, 84, 26. Are these significantly different than the previous average?\n",
    "5. A drug trial showed that patients using a new drug develop liver problems at a rate of 1 per 25. In a group of 10 patients using the drug, two are showing liver problems. Is this significantly different?"
   ]
  },
  {
   "cell_type": "markdown",
   "metadata": {},
   "source": [
    "### 8 Answer:\n",
    "\n",
    "1. Wilcoxon's sum of ranks\n",
    "2. Poisson's Test\n",
    "3. Wilcoson's signed rank test\n",
    "4. Student's $t$-test\n",
    "5. Binomial test"
   ]
  },
  {
   "cell_type": "code",
   "execution_count": null,
   "metadata": {
    "collapsed": true
   },
   "outputs": [],
   "source": []
  }
 ],
 "metadata": {
  "kernelspec": {
   "display_name": "Python 3",
   "language": "python",
   "name": "python3"
  },
  "language_info": {
   "codemirror_mode": {
    "name": "ipython",
    "version": 3
   },
   "file_extension": ".py",
   "mimetype": "text/x-python",
   "name": "python",
   "nbconvert_exporter": "python",
   "pygments_lexer": "ipython3",
   "version": "3.5.1"
  }
 },
 "nbformat": 4,
 "nbformat_minor": 0
}
