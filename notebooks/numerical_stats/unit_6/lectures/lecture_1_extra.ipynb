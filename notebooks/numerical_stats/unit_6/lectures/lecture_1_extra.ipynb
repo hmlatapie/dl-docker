{
 "cells": [
  {
   "cell_type": "markdown",
   "metadata": {
    "slideshow": {
     "slide_type": "slide"
    }
   },
   "source": [
    "Unit 6, Lecture 1\n",
    "====\n",
    "\n",
    "*Numerical Methods and Statistics*\n",
    "\n",
    "----\n",
    "\n",
    "#### Prof. Andrew White, Feb 16 2016"
   ]
  },
  {
   "cell_type": "code",
   "execution_count": 5,
   "metadata": {
    "collapsed": true,
    "slideshow": {
     "slide_type": "skip"
    }
   },
   "outputs": [],
   "source": [
    "%matplotlib inline\n",
    "import random\n",
    "import numpy as np\n",
    "import matplotlib.pyplot as plt\n",
    "from math import sqrt, pi\n",
    "import scipy\n",
    "import scipy.stats\n",
    "\n",
    "plt.style.use('ggplot')"
   ]
  },
  {
   "cell_type": "markdown",
   "metadata": {},
   "source": [
    "Let's visualize some data from random variables. Let's say I have T, U which are two independent normally distributed random variables. What do thes two constructed random variables look like:\n",
    "\n",
    "$$ X = T$$\n",
    "\n",
    "$$ Y = X + U$$"
   ]
  },
  {
   "cell_type": "code",
   "execution_count": 6,
   "metadata": {
    "collapsed": false,
    "slideshow": {
     "slide_type": "slide"
    }
   },
   "outputs": [
    {
     "data": {
      "image/png": "[encoded data removed]",
      "text/plain": [
       "<matplotlib.figure.Figure at 0x7f74b4d79390>"
      ]
     },
     "metadata": {},
     "output_type": "display_data"
    }
   ],
   "source": [
    "x = scipy.stats.norm.rvs(size=100)\n",
    "y = x + scipy.stats.norm.rvs(size=100)\n",
    "\n",
    "plt.plot(x,y, 'o')\n",
    "plt.show()"
   ]
  },
  {
   "cell_type": "markdown",
   "metadata": {},
   "source": [
    "As you might expect, there is a visible correlation between the points, but there is still noise. Let's look at the covrariance of the two"
   ]
  },
  {
   "cell_type": "code",
   "execution_count": 7,
   "metadata": {
    "collapsed": false,
    "slideshow": {
     "slide_type": "subslide"
    }
   },
   "outputs": [
    {
     "data": {
      "text/plain": [
       "array([[ 1.02941139,  1.14626187],\n",
       "       [ 1.14626187,  2.09867535]])"
      ]
     },
     "execution_count": 7,
     "metadata": {},
     "output_type": "execute_result"
    }
   ],
   "source": [
    "np.cov(x,y, ddof=1)"
   ]
  },
  {
   "cell_type": "markdown",
   "metadata": {
    "slideshow": {
     "slide_type": "subslide"
    }
   },
   "source": [
    "This is called a **covariance matrix**:\n",
    "\n",
    "$$\\left[\\begin{array}{lr}\n",
    "\\sigma_{xx} & \\sigma_{xy}\\\\\n",
    "\\sigma_{yx} & \\sigma_{yy}\\\\\n",
    "\\end{array}\\right]$$\n",
    "\n",
    "As expected, there is a covariance between $X$ and $Y$."
   ]
  },
  {
   "cell_type": "markdown",
   "metadata": {},
   "source": [
    "Now we will examine a few other random variables and/or combinations. Try to think about what the covariance should be"
   ]
  },
  {
   "cell_type": "code",
   "execution_count": 9,
   "metadata": {
    "collapsed": false,
    "slideshow": {
     "slide_type": "slide"
    }
   },
   "outputs": [
    {
     "name": "stdout",
     "output_type": "stream",
     "text": [
      "[[ 1.08804416 -1.17369841]\n",
      " [-1.17369841  2.24786948]]\n"
     ]
    }
   ],
   "source": [
    "x = scipy.stats.norm.rvs(size=100)\n",
    "y = -x + scipy.stats.norm.rvs(size=100)\n",
    "\n",
    "print(np.cov(x,y,ddof=1))"
   ]
  },
  {
   "cell_type": "code",
   "execution_count": 10,
   "metadata": {
    "collapsed": false,
    "slideshow": {
     "slide_type": "slide"
    }
   },
   "outputs": [
    {
     "name": "stdout",
     "output_type": "stream",
     "text": [
      "[[ 0.93433811 -2.79248589]\n",
      " [-2.79248589  9.11905964]]\n"
     ]
    }
   ],
   "source": [
    "x = scipy.stats.norm.rvs(size=100)\n",
    "y = -3 * x + scipy.stats.norm.rvs(size=100)\n",
    "\n",
    "print(np.cov(x,y,ddof=1))"
   ]
  },
  {
   "cell_type": "code",
   "execution_count": 14,
   "metadata": {
    "collapsed": false,
    "slideshow": {
     "slide_type": "slide"
    }
   },
   "outputs": [
    {
     "name": "stdout",
     "output_type": "stream",
     "text": [
      "[[    8.51580389   212.50078477]\n",
      " [  212.50078477  5305.68222338]]\n"
     ]
    }
   ],
   "source": [
    "x = scipy.stats.norm.rvs(size=100, scale=3)\n",
    "y = 25 * x + scipy.stats.norm.rvs(size=100, scale=2)\n",
    "\n",
    "print(np.cov(x,y,ddof=1))"
   ]
  },
  {
   "cell_type": "code",
   "execution_count": 15,
   "metadata": {
    "collapsed": false,
    "slideshow": {
     "slide_type": "slide"
    }
   },
   "outputs": [],
   "source": [
    "x = scipy.stats.norm.rvs(size=100)\n",
    "y = scipy.stats.norm.rvs(size=100)"
   ]
  },
  {
   "cell_type": "code",
   "execution_count": 16,
   "metadata": {
    "collapsed": false,
    "slideshow": {
     "slide_type": "fragment"
    }
   },
   "outputs": [
    {
     "name": "stdout",
     "output_type": "stream",
     "text": [
      "[[ 0.84524639  0.20298981]\n",
      " [ 0.20298981  1.00839456]]\n"
     ]
    }
   ],
   "source": [
    "print(np.cov(x,y,ddof=1))"
   ]
  },
  {
   "cell_type": "code",
   "execution_count": 17,
   "metadata": {
    "collapsed": false,
    "slideshow": {
     "slide_type": "subslide"
    }
   },
   "outputs": [
    {
     "data": {
      "image/png": "[encoded data removed]",
      "text/plain": [
       "<matplotlib.figure.Figure at 0x7f74b4736978>"
      ]
     },
     "metadata": {},
     "output_type": "display_data"
    }
   ],
   "source": [
    "plt.plot(x,y, 'o')\n",
    "plt.show()"
   ]
  },
  {
   "cell_type": "code",
   "execution_count": 18,
   "metadata": {
    "collapsed": false,
    "slideshow": {
     "slide_type": "subslide"
    }
   },
   "outputs": [
    {
     "name": "stdout",
     "output_type": "stream",
     "text": [
      "[[ 1.          0.93859106]\n",
      " [ 0.93859106  1.        ]]\n"
     ]
    }
   ],
   "source": [
    "x = scipy.stats.norm.rvs(size=100)\n",
    "y = 3 * x + scipy.stats.norm.rvs(size=100)\n",
    "\n",
    "print(np.corrcoef(x,y,ddof=1))"
   ]
  },
  {
   "cell_type": "code",
   "execution_count": 19,
   "metadata": {
    "collapsed": false,
    "slideshow": {
     "slide_type": "subslide"
    }
   },
   "outputs": [
    {
     "name": "stdout",
     "output_type": "stream",
     "text": [
      "[[ 1.        -0.9983598]\n",
      " [-0.9983598  1.       ]]\n"
     ]
    }
   ],
   "source": [
    "x = scipy.stats.norm.rvs(size=100, scale=4)\n",
    "y = -30 * x + scipy.stats.norm.rvs(size=100, scale=8)\n",
    "\n",
    "print(np.corrcoef(x,y,ddof=1))"
   ]
  },
  {
   "cell_type": "code",
   "execution_count": 20,
   "metadata": {
    "collapsed": false,
    "slideshow": {
     "slide_type": "subslide"
    }
   },
   "outputs": [
    {
     "name": "stdout",
     "output_type": "stream",
     "text": [
      "[[ 1.          0.06906414]\n",
      " [ 0.06906414  1.        ]]\n"
     ]
    }
   ],
   "source": [
    "x = scipy.stats.norm.rvs(size=100, scale=4)\n",
    "y = 0.1 * x + scipy.stats.norm.rvs(size=100, scale=8)\n",
    "\n",
    "print(np.corrcoef(x,y,ddof=1))"
   ]
  },
  {
   "cell_type": "code",
   "execution_count": 21,
   "metadata": {
    "collapsed": false,
    "slideshow": {
     "slide_type": "subslide"
    }
   },
   "outputs": [
    {
     "data": {
      "image/png": "[encoded data removed]",
      "text/plain": [
       "<matplotlib.figure.Figure at 0x7f74b4712668>"
      ]
     },
     "metadata": {},
     "output_type": "display_data"
    }
   ],
   "source": [
    "plt.plot(x,y, 'o')\n",
    "plt.show()"
   ]
  },
  {
   "cell_type": "markdown",
   "metadata": {
    "slideshow": {
     "slide_type": "slide"
    }
   },
   "source": [
    "Sample Correlation\n",
    "====\n",
    "\n",
    "Since the covariance includes the correlation between variables and the variance of the two variables, sample correlation tries to remove the variacne so we can view only correlation.\n",
    "\n",
    "$$r_{xy} = \\frac{\\sigma_{xy}}{\\sigma_x \\sigma_y}$$\n",
    "\n",
    "Similar to the covariance, there is something called the **correlation matrix** or **the normalized covariance matrix**."
   ]
  },
  {
   "cell_type": "code",
   "execution_count": 22,
   "metadata": {
    "collapsed": false,
    "slideshow": {
     "slide_type": "subslide"
    }
   },
   "outputs": [
    {
     "name": "stdout",
     "output_type": "stream",
     "text": [
      "[[ 1.          0.94652421]\n",
      " [ 0.94652421  1.        ]]\n"
     ]
    }
   ],
   "source": [
    "x = scipy.stats.norm.rvs(size=100)\n",
    "y = 3 * x + scipy.stats.norm.rvs(size=100)\n",
    "\n",
    "print(np.corrcoef(x,y,ddof=1))"
   ]
  },
  {
   "cell_type": "code",
   "execution_count": 23,
   "metadata": {
    "collapsed": false,
    "slideshow": {
     "slide_type": "subslide"
    }
   },
   "outputs": [
    {
     "name": "stdout",
     "output_type": "stream",
     "text": [
      "[[ 1.         -0.99736955]\n",
      " [-0.99736955  1.        ]]\n"
     ]
    }
   ],
   "source": [
    "x = scipy.stats.norm.rvs(size=100, scale=4)\n",
    "y = -30 * x + scipy.stats.norm.rvs(size=100, scale=8)\n",
    "\n",
    "print(np.corrcoef(x,y,ddof=1))"
   ]
  },
  {
   "cell_type": "code",
   "execution_count": 24,
   "metadata": {
    "collapsed": false,
    "slideshow": {
     "slide_type": "subslide"
    }
   },
   "outputs": [
    {
     "name": "stdout",
     "output_type": "stream",
     "text": [
      "[[ 1.          0.20521724]\n",
      " [ 0.20521724  1.        ]]\n"
     ]
    }
   ],
   "source": [
    "x = scipy.stats.norm.rvs(size=100, scale=4)\n",
    "y = 0.1 * x + scipy.stats.norm.rvs(size=100, scale=8)\n",
    "\n",
    "print(np.corrcoef(x,y,ddof=1))"
   ]
  },
  {
   "cell_type": "code",
   "execution_count": 25,
   "metadata": {
    "collapsed": false,
    "slideshow": {
     "slide_type": "subslide"
    }
   },
   "outputs": [
    {
     "data": {
      "image/png": "[encoded data removed]",
      "text/plain": [
       "<matplotlib.figure.Figure at 0x7f74b481d128>"
      ]
     },
     "metadata": {},
     "output_type": "display_data"
    }
   ],
   "source": [
    "plt.plot(x,y, 'o')\n",
    "plt.show()"
   ]
  },
  {
   "cell_type": "markdown",
   "metadata": {
    "slideshow": {
     "slide_type": "slide"
    }
   },
   "source": [
    "Caveats of Correlation\n",
    "===="
   ]
  },
  {
   "cell_type": "code",
   "execution_count": 26,
   "metadata": {
    "collapsed": false,
    "slideshow": {
     "slide_type": "subslide"
    }
   },
   "outputs": [],
   "source": [
    "x = scipy.stats.norm.rvs(size=100, scale=4)\n",
    "y = x ** 2"
   ]
  },
  {
   "cell_type": "code",
   "execution_count": 27,
   "metadata": {
    "collapsed": false,
    "slideshow": {
     "slide_type": "fragment"
    }
   },
   "outputs": [
    {
     "name": "stdout",
     "output_type": "stream",
     "text": [
      "[[ 1.          0.15567552]\n",
      " [ 0.15567552  1.        ]]\n"
     ]
    }
   ],
   "source": [
    "print(np.corrcoef(x,y,ddof=1))"
   ]
  },
  {
   "cell_type": "code",
   "execution_count": 28,
   "metadata": {
    "collapsed": false,
    "slideshow": {
     "slide_type": "subslide"
    }
   },
   "outputs": [],
   "source": [
    "x = scipy.stats.norm.rvs(size=100, scale=4)\n",
    "y = np.cos(x)"
   ]
  },
  {
   "cell_type": "code",
   "execution_count": 29,
   "metadata": {
    "collapsed": false,
    "slideshow": {
     "slide_type": "fragment"
    }
   },
   "outputs": [
    {
     "name": "stdout",
     "output_type": "stream",
     "text": [
      "[[ 1.        -0.0115813]\n",
      " [-0.0115813  1.       ]]\n"
     ]
    }
   ],
   "source": [
    "print(np.corrcoef(x,y,ddof=1))"
   ]
  },
  {
   "cell_type": "code",
   "execution_count": 30,
   "metadata": {
    "collapsed": false,
    "slideshow": {
     "slide_type": "subslide"
    }
   },
   "outputs": [],
   "source": [
    "x = scipy.stats.norm.rvs(size=100, scale=4)\n",
    "y = 100 * x + 3"
   ]
  },
  {
   "cell_type": "code",
   "execution_count": 31,
   "metadata": {
    "collapsed": false,
    "slideshow": {
     "slide_type": "fragment"
    }
   },
   "outputs": [
    {
     "name": "stdout",
     "output_type": "stream",
     "text": [
      "[[ 1.  1.]\n",
      " [ 1.  1.]]\n"
     ]
    }
   ],
   "source": [
    "print(np.corrcoef(x,y,ddof=1))"
   ]
  },
  {
   "cell_type": "code",
   "execution_count": null,
   "metadata": {
    "collapsed": true
   },
   "outputs": [],
   "source": [
    "%system jupyter nbconvert --to slides Untitled.ipynb --post serve"
   ]
  }
 ],
 "metadata": {
  "celltoolbar": "Slideshow",
  "kernelspec": {
   "display_name": "Python 3",
   "language": "python",
   "name": "python3"
  },
  "language_info": {
   "codemirror_mode": {
    "name": "ipython",
    "version": 3
   },
   "file_extension": ".py",
   "mimetype": "text/x-python",
   "name": "python",
   "nbconvert_exporter": "python",
   "pygments_lexer": "ipython3",
   "version": "3.4.2"
  }
 },
 "nbformat": 4,
 "nbformat_minor": 0
}
