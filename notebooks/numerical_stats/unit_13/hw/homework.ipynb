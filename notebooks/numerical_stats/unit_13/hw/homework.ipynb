{
 "cells": [
  {
   "cell_type": "markdown",
   "metadata": {},
   "source": [
    "Homework 11\n",
    "====\n",
    "#### CHE 116: Numerical Methods and Statistics\n",
    "Version 1.0 (3/14/2016)\n",
    "\n",
    "----"
   ]
  },
  {
   "cell_type": "markdown",
   "metadata": {},
   "source": [
    "Problem 1 (100 Points)\n",
    "====\n",
    "\n",
    "Write a module to package your CHE 116 methods. You will create two files: `stats.py` and `regression.py`. Your `stats.py` file will contain the confidence interval function from Unit 13, Lecture 1. You will write two regression functions in `regression.py`: `linear_regress` and `nonlinear_regress`. Here are their attributes:\n",
    "\n",
    "`linear_regress`:\n",
    "  1. Takes in an x matrix of data and y values\n",
    "  3. Performs a regression and return standard errors of the fit coefficients and standard error in residual\n",
    "  2. Takes in a True/False variable which indicates whether or not to create plots\n",
    "  3. If creating plots, it should create a single plot (!) with as many subplots as needed to justify the regression\n",
    "  4. Takes in a pvalue variable, which if True computes and returns $p$-values for each of the coefficients using a t-test hypothesis test\n",
    "  \n",
    "`nonlinear_regress`:\n",
    "  1. Takes in an x matrix of data, a function which takes in (beta, x, y), an initial guess for beta, and y values\n",
    "  3. Performs a regression and return standard errors of the fit coefficients and standard error in residual\n",
    "  2. Takes in a True/False variable which indicates whether or not to create plots\n",
    "  3. If creating plots, it should create a single plot (!) with as many subplots as needed to justify the regression\n",
    "  4. Takes in a pvalue variable, which if True computes and returns $p$-values for each of the coefficients using a t-test hypothesis test\n",
    "  5. Take in a nonconvex variable, which if True causes the method to use basin_hopping for minimizing SSR\n",
    "  \n",
    "You should be able to install your resulting CHE 116 module using the `pip` command as shown in lecture. \n",
    "\n",
    "----\n",
    "\n",
    "I have been intentionally vague on the specifications. It is up to you to write detailed documentation and specifications about your function. You will be graded according to the following:\n",
    "\n",
    "1. Your module can be installed and imported [20 Points]\n",
    "2. Your module and functions are well-documented, including examples, returns and parameters descriptions. [20 Points]\n",
    "3. Your functions behave correctly on usual data and perform plots/statistics [50 Points]\n",
    "4. Your functions respond gracefully to bad inputs and give warnings/notice if it fails to fit for any reason [10 Points]\n",
    "\n",
    "----\n",
    "\n",
    "**You should submit a zipped folder containing your module and notebook demonstrating how to use your function.**"
   ]
  },
  {
   "cell_type": "markdown",
   "metadata": {},
   "source": [
    "Useful code snippets\n",
    "----"
   ]
  },
  {
   "cell_type": "code",
   "execution_count": 20,
   "metadata": {
    "collapsed": false
   },
   "outputs": [
    {
     "data": {
      "image/png": "[encoded data removed]",
      "text/plain": [
       "<matplotlib.figure.Figure at 0x7fd3f9e88400>"
      ]
     },
     "metadata": {},
     "output_type": "display_data"
    }
   ],
   "source": [
    "#making subplots\n",
    "%matplotlib inline\n",
    "import matplotlib.pyplot as plt\n",
    "import numpy as np\n",
    "\n",
    "x = np.arange(0,10, 0.01)\n",
    "\n",
    "#share x-axis and make a 2x2 grid of plots\n",
    "fig, axs = plt.subplots(nrows=2, ncols=2, sharex=True)\n",
    "\n",
    "#index the axs to make individual plots\n",
    "axs[0,0].plot(x, 2 * x)\n",
    "axs[0,1].plot(x, x**2)\n",
    "axs[1,1].plot(x, 2**x)\n",
    "axs[1,0].plot(x, x / 2)\n",
    "\n",
    "#can add labeles\n",
    "axs[1,1].set_ylabel('fdsa')\n",
    "axs[0,1].set_title('Title for one subplot')\n",
    "\n",
    "#if you add labels, calling this method will spread out subplots until they fight\n",
    "fig.tight_layout()\n",
    "\n",
    "plt.show()"
   ]
  },
  {
   "cell_type": "code",
   "execution_count": 22,
   "metadata": {
    "collapsed": true
   },
   "outputs": [
    {
     "data": {
      "text/plain": [
       "['Collecting numdifftools',\n",
       " '  Downloading numdifftools-0.9.14-py2.py3-none-any.whl (2.4MB)',\n",
       " 'Requirement already satisfied (use --upgrade to upgrade): setuptools>=9.0 in /opt/conda/lib/python3.5/site-packages/setuptools-20.3-py3.5.egg (from numdifftools)',\n",
       " 'Requirement already satisfied (use --upgrade to upgrade): scipy>=0.8 in /opt/conda/lib/python3.5/site-packages (from numdifftools)',\n",
       " 'Requirement already satisfied (use --upgrade to upgrade): numpy>=1.9 in /opt/conda/lib/python3.5/site-packages (from numdifftools)',\n",
       " 'Collecting algopy>=0.4 (from numdifftools)',\n",
       " '  Downloading algopy-0.5.3.tar.gz (149kB)',\n",
       " 'Building wheels for collected packages: algopy',\n",
       " '  Running setup.py bdist_wheel for algopy: started',\n",
       " \"  Running setup.py bdist_wheel for algopy: finished with status 'done'\",\n",
       " '  Stored in directory: /home/jovyan/.cache/pip/wheels/2b/8f/59/339705f81a54b6f7e8731653bfc23c12e2d2111dfaadc52400',\n",
       " 'Successfully built algopy',\n",
       " 'Installing collected packages: algopy, numdifftools',\n",
       " 'Successfully installed algopy-0.5.3 numdifftools-0.9.14']"
      ]
     },
     "execution_count": 22,
     "metadata": {},
     "output_type": "execute_result"
    }
   ],
   "source": [
    "#compute numerical derivatives - need package\n",
    "%system pip install numdifftools"
   ]
  },
  {
   "cell_type": "code",
   "execution_count": 38,
   "metadata": {
    "collapsed": true
   },
   "outputs": [],
   "source": [
    "#create a function\n",
    "def fxn(beta, x):\n",
    "    return x * beta[0]**2 + x * beta[1]"
   ]
  },
  {
   "cell_type": "code",
   "execution_count": 45,
   "metadata": {
    "collapsed": false
   },
   "outputs": [],
   "source": [
    "import numdifftools as nd\n",
    "\n",
    "#get derivative wrt to beta\n",
    "df = nd.Gradient(fxn)\n",
    "\n",
    "#get some x-values to evaluate function\n",
    "x = np.arange(0,10, 0.1)\n",
    "\n",
    "#compute df/dbeta using gradient\n",
    "df_dbeta = df([1,1], x)"
   ]
  },
  {
   "cell_type": "code",
   "execution_count": null,
   "metadata": {
    "collapsed": true
   },
   "outputs": [],
   "source": []
  }
 ],
 "metadata": {
  "kernelspec": {
   "display_name": "Python 3",
   "language": "python",
   "name": "python3"
  },
  "language_info": {
   "codemirror_mode": {
    "name": "ipython",
    "version": 3
   },
   "file_extension": ".py",
   "mimetype": "text/x-python",
   "name": "python",
   "nbconvert_exporter": "python",
   "pygments_lexer": "ipython3",
   "version": "3.5.1"
  }
 },
 "nbformat": 4,
 "nbformat_minor": 0
}
