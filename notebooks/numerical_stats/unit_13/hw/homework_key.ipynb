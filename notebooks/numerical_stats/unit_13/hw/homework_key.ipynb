{
 "cells": [
  {
   "cell_type": "markdown",
   "metadata": {},
   "source": [
    "Homework 11 Key\n",
    "====\n",
    "#### CHE 116: Numerical Methods and Statistics\n",
    "Version 1.0 (3/14/2016)\n",
    "\n",
    "----"
   ]
  },
  {
   "cell_type": "markdown",
   "metadata": {},
   "source": [
    "Problem 1 (100 Points)\n",
    "====\n",
    "\n",
    "Write a module to package your CHE 116 methods. You will create two files: `stats.py` and `regression.py`. Your `stats.py` file will contain the confidence interval function from Unit 13, Lecture 1. You will write two regression functions in `regression.py`: `linear_regress` and `nonlinear_regress`. Here are their attributes:\n",
    "\n",
    "`linear_regress`:\n",
    "  1. Takes in an x matrix of data and y values\n",
    "  3. Performs a regression and return standard errors of the fit coefficients and standard error in residual\n",
    "  2. Takes in a True/False variable which indicates whether or not to create plots\n",
    "  3. If creating plots, it should create a single plot (!) with as many subplots as needed to justify the regression\n",
    "  4. Takes in a pvalue variable, which if True computes and returns $p$-values for each of the coefficients using a t-test hypothesis test\n",
    "  \n",
    "`nonlinear_regress`:\n",
    "  1. Takes in an x matrix of data, a function which takes in (beta, x) and returns predicted y, an initial guess for beta, and y values\n",
    "  3. Performs a regression and return standard errors of the fit coefficients and standard error in residual\n",
    "  2. Takes in a True/False variable which indicates whether or not to create plots\n",
    "  3. If creating plots, it should create a single plot (!) with as many subplots as needed to justify the regression\n",
    "  4. Takes in a pvalue variable, which if True computes and returns $p$-values for each of the coefficients using a t-test hypothesis test\n",
    "  5. Take in a nonconvex variable, which if True causes the method to use basin_hopping for minimizing SSR\n",
    "  \n",
    "You should be able to install your resulting CHE 116 module using the `pip` command as shown in lecture. \n",
    "\n",
    "----\n",
    "\n",
    "I have been intentionally vague on the specifications. It is up to you to write detailed documentation and specifications about your function. You will be graded according to the following:\n",
    "\n",
    "1. Your module can be installed and imported [20 Points]\n",
    "2. Your module and functions are well-documented, including examples, returns and parameters descriptions. [20 Points]\n",
    "3. Your functions behave correctly on usual data and perform plots/statistics [50 Points]\n",
    "4. Your functions respond gracefully to bad inputs and give warnings/notice if it fails to fit for any reason [10 Points]\n",
    "\n",
    "----\n",
    "\n",
    "**You should submit a zipped folder containing your module and notebook demonstrating how to use your function.**"
   ]
  },
  {
   "cell_type": "markdown",
   "metadata": {},
   "source": [
    "Folder Layout Answer\n",
    "==="
   ]
  },
  {
   "cell_type": "code",
   "execution_count": 4,
   "metadata": {
    "collapsed": false
   },
   "outputs": [],
   "source": [
    "#NOTE - you can make these folders in your OS if you want instead.\n",
    "import os\n",
    "\n",
    "os.mkdir('che116-package')\n",
    "os.mkdir('che116-package/che116')"
   ]
  },
  {
   "cell_type": "code",
   "execution_count": 6,
   "metadata": {
    "collapsed": false
   },
   "outputs": [
    {
     "name": "stdout",
     "output_type": "stream",
     "text": [
      "Writing che116-package/setup.py\n"
     ]
    }
   ],
   "source": [
    "%%writefile che116-package/setup.py\n",
    "\n",
    "from setuptools import setup\n",
    "\n",
    "setup(name = 'che116', #the name for install purposes\n",
    "      author = 'Andrew White', #for your own info\n",
    "      description = 'A collection of useful functions from CHE 116', #displayed when install/update\n",
    "      version='1.0',\n",
    "      packages=['che116']) #This name should match the directory where you put your code"
   ]
  },
  {
   "cell_type": "code",
   "execution_count": 7,
   "metadata": {
    "collapsed": false
   },
   "outputs": [
    {
     "name": "stdout",
     "output_type": "stream",
     "text": [
      "Writing che116-package/che116/__init__.py\n"
     ]
    }
   ],
   "source": [
    "%%writefile che116-package/che116/__init__.py\n",
    "'''Contains two files: regression.py and stats.py for now'''"
   ]
  },
  {
   "cell_type": "markdown",
   "metadata": {
    "collapsed": true
   },
   "source": [
    "Regression Functions - Answer\n",
    "----"
   ]
  },
  {
   "cell_type": "code",
   "execution_count": 33,
   "metadata": {
    "collapsed": false
   },
   "outputs": [
    {
     "name": "stdout",
     "output_type": "stream",
     "text": [
      "Overwriting che116-package/che116/regression.py\n"
     ]
    }
   ],
   "source": [
    "%%writefile che116-package/che116/regression.py\n",
    "\n",
    "import numpy as np\n",
    "import scipy.stats as ss\n",
    "import scipy.linalg as linalg\n",
    "import numdifftools as nd\n",
    "import scipy.optimize as opt\n",
    "import matplotlib.pyplot as plt\n",
    "\n",
    "def linear_regress(x_mat, y, plots=False, pvalues=False):\n",
    "    '''Perform a linear regression given the x matrix and y data.\n",
    "    \n",
    "    Examples\n",
    "    --------\n",
    "        #make some data\n",
    "        N = 25\n",
    "        x_mat = np.column_stack( (np.ones(N), np.linspace(0,10,N)) )\n",
    "        y = x_mat.dot([2, 3]) + np.random.normal(size=N)\n",
    "        \n",
    "        #regress it\n",
    "        beta, beta_se, resid_se, p_values = linear_regress(x_mat, y, plots=True, pvalues=True)\n",
    "            \n",
    "        #compare with our coefficients\n",
    "        print(beta[0], 2)\n",
    "        print(beta[1], 3)\n",
    "        \n",
    "    \n",
    "    Parameters\n",
    "    ----------\n",
    "        x_mat : numpy array\n",
    "            The matrix of data. Each row should be a data point and each column a dimension\n",
    "        y : numpy array\n",
    "            The single-dimensional output data\n",
    "        plot : bool\n",
    "            Wheter or not to make plots\n",
    "        pvalues : bool\n",
    "            Wheter or not to compute p-values for each regressed coefficient\n",
    "    Returns\n",
    "    -------\n",
    "        tuple(beta, beta_se, resid_se, p_values)\n",
    "            Returns a tuple containing the fit coefficients, the standard error in those coefficients, \n",
    "            the standard error in the residuals and if pvalues is True, the p-values for each coefficient\n",
    "            from a t-test.\n",
    "    \n",
    "    '''\n",
    "    #perform checks\n",
    "    \n",
    "    #attempt reshape\n",
    "    if(len(np.shape(x_mat)) == 1):\n",
    "        x_mat = np.reshape(x_mat, (len(x_mat), 1))\n",
    "    \n",
    "    #is data shaped correctly\n",
    "    N, D = np.shape(x_mat)\n",
    "    \n",
    "    if(N < D):\n",
    "        raise ValueError('Your matrix implies more fit coefficients than data points. Maybe tranpose it?')\n",
    "    #check if shapes are consistent\n",
    "    if(N != np.shape(y)[0]):\n",
    "        raise ValueError('The number of rows in x_mat must match the number of elements in y')\n",
    "\n",
    "    beta = linalg.inv(x_mat.transpose().dot(x_mat)).dot(x_mat.transpose()).dot(y)\n",
    "    yhat = x_mat.dot(beta)\n",
    "    resids = yhat - y\n",
    "    \n",
    "    _,shapiro_pvalue = ss.shapiro(resids)\n",
    "    if(shapiro_pvalue < 0.05):\n",
    "        print('Warning: Residuals do not appear to be normal. Shapiro-Wilks p-value: {}'.format(shapiro_pvalue))\n",
    "    \n",
    "    resid_se2 = np.sum(resids**2) / (N - D)\n",
    "    beta_se = np.sqrt(np.diag(linalg.inv(x_mat.transpose().dot(x_mat))) * resid_se2)\n",
    "    \n",
    "    if(pvalues):\n",
    "        pvalues = 1 - (ss.t.cdf(beta / beta_se, N - D) - ss.t.cdf(-beta / beta_se, N - D))\n",
    "    else:\n",
    "        pvalues = None\n",
    "    \n",
    "    if(plots):\n",
    "        fig, axs = plt.subplots(nrows=1, ncols=2, figsize=(12,6))\n",
    "\n",
    "        axs[0].hist(resids)\n",
    "        axs[0].set_xlabel('residuals')\n",
    "        axs[0].set_ylabel('counts')\n",
    "        axs[0].set_title('Residual Histogram')\n",
    "        \n",
    "        axs[1].plot(y, yhat, 'o')\n",
    "        axs[1].plot([np.min(y), np.max(y)], [np.min(y), np.max(y)], 'r--')\n",
    "        axs[1].set_xlabel('Predicted')\n",
    "        axs[1].set_ylabel('Observed')\n",
    "        axs[1].set_title('Fit')\n",
    "        \n",
    "        fig.tight_layout()\n",
    "        plt.show()\n",
    "    \n",
    "    return beta, beta_se, np.sqrt(resid_se2), pvalues\n",
    "\n",
    "def nonlinear_regress(x_mat, y, fxn, beta0, plots=False, pvalues=False, nonconvex=False):\n",
    "    '''Perform a nonlinear regression given the x matrix, y data, fxn, and initial guess for parameters.\n",
    "    \n",
    "    Examples\n",
    "    --------\n",
    "        #make some data\n",
    "        #equation is 2 * x_1 + 3^x_2\n",
    "        N = 25\n",
    "        x_mat = np.column_stack( (np.linspace(-2,5,N), np.linspace(0,4,N)) )\n",
    "        y = x_mat[:,0] *2 + 3 ** x_mat[:,1]  + np.random.normal(size=N)\n",
    "\n",
    "        #create function to fit\n",
    "        def fxn(beta, x):\n",
    "            return beta[0] * x[:,0] + beta[1] ** x[:,1]\n",
    "\n",
    "            #regress it\n",
    "        beta, beta_se, resid_se, p_values = nonlinear_regress(x_mat, y, fxn, beta0=[1,1], plots=True, pvalues=True)\n",
    "        print(beta)\n",
    "    \n",
    "    Parameters\n",
    "    ----------\n",
    "        x_mat : numpy array\n",
    "            The matrix of data. Each row should be a data point and each column a dimension\n",
    "        fxn : function\n",
    "            A function which takes in two arguments: beta, x and returns predicted y values.\n",
    "        y : numpy array\n",
    "            The single-dimensional y data\n",
    "        plot : bool\n",
    "            Wheter or not to make plots\n",
    "        pvalues : bool\n",
    "            Wheter or not to compute p-values for each regressed coefficient\n",
    "    Returns\n",
    "    -------\n",
    "        tuple(beta, beta_se, resid_se, p_values)\n",
    "            Returns a tuple containing the fit coefficients, the standard error in those coefficients, \n",
    "            the standard error in the residuals and if pvalues is True, the p-values for each coefficient\n",
    "            from a t-test.\n",
    "    \n",
    "    '''\n",
    "    #perform checks\n",
    "    \n",
    "    #attempt reshape\n",
    "    if(len(np.shape(x_mat)) == 1):\n",
    "        x_mat = np.reshape(x_mat, (len(x_mat), 1))\n",
    "    \n",
    "    \n",
    "    #is data shaped correctly\n",
    "    N,_ = np.shape(x_mat)\n",
    "    D = len(beta0)\n",
    "    if(N < D):\n",
    "        raise ValueError('Your matrix implies more fit coefficients than data points. Maybe tranpose it?')\n",
    "    #check if shapes are consistent\n",
    "    if(N != np.shape(y)[0]):\n",
    "        raise ValueError('The number of rows in x_mat must match the number of elements in y')\n",
    "\n",
    "    #create SSR function to minimize\n",
    "    def SSR(beta):\n",
    "        yhat = fxn(beta, x_mat)\n",
    "        return np.sum((y - yhat)**2)\n",
    "    if(nonconvex):\n",
    "        result = opt.basinhopping(SSR, x0=beta0, niter=1000)\n",
    "    else:\n",
    "        result = opt.minimize(SSR, x0=beta0)\n",
    "    \n",
    "    beta = result.x\n",
    "    yhat = fxn(beta, x_mat)\n",
    "    resids = yhat - y\n",
    "    \n",
    "    _,shapiro_pvalue = ss.shapiro(resids)\n",
    "    if(shapiro_pvalue < 0.05):\n",
    "        print('Warning: Residuals do not appear to be normal. Shapiro-Wilks p-value: {}'.format(shapiro_pvalue))\n",
    "    \n",
    "    resid_se2 = np.sum(resids**2) / (N - D)\n",
    "    df = nd.Gradient(fxn)\n",
    "    F = df(beta, x_mat)\n",
    "    beta_se = np.sqrt(np.diag(linalg.inv(F.transpose().dot(F))) * resid_se2)\n",
    "    \n",
    "    if(pvalues):\n",
    "        pvalues = 1 - (ss.t.cdf(beta / beta_se, N-D) - ss.t.cdf(-beta / beta_se, N-D))\n",
    "    else:\n",
    "        pvalues = None\n",
    "    \n",
    "    if(plots):\n",
    "        fig, axs = plt.subplots(nrows=1, ncols=2, figsize=(12,6))\n",
    "\n",
    "        axs[0].hist(resids)\n",
    "        axs[0].set_xlabel('residuals')\n",
    "        axs[0].set_ylabel('counts')\n",
    "        axs[0].set_title('Residual Histogram')\n",
    "        \n",
    "        axs[1].plot(y, yhat, 'o')\n",
    "        axs[1].plot([np.min(y), np.max(y)], [np.min(y), np.max(y)], 'r--')\n",
    "        axs[1].set_xlabel('Predicted')\n",
    "        axs[1].set_ylabel('Observed')\n",
    "        axs[1].set_title('Fit')\n",
    "        \n",
    "        fig.tight_layout()\n",
    "        plt.show()\n",
    "    return beta, beta_se, np.sqrt(resid_se2), pvalues"
   ]
  },
  {
   "cell_type": "markdown",
   "metadata": {},
   "source": [
    "Stats.py file\n",
    "---"
   ]
  },
  {
   "cell_type": "code",
   "execution_count": 15,
   "metadata": {
    "collapsed": false
   },
   "outputs": [
    {
     "name": "stdout",
     "output_type": "stream",
     "text": [
      "Overwriting che116-package/che116/stats.py\n"
     ]
    }
   ],
   "source": [
    "%%writefile che116-package/che116/stats.py\n",
    "\n",
    "import scipy.stats as ss\n",
    "import numpy as np\n",
    "\n",
    "def conf_interval(data, interval_type='double', confidence=0.95):\n",
    "    '''This function takes in the data and computes a confidence interval\n",
    "    \n",
    "    Examples\n",
    "    --------\n",
    "\n",
    "        data = [4,3,2,5]\n",
    "        center, width = conf_interval(data)\n",
    "        print('The mean is {} +/- {}'.format(center, width))\n",
    "    \n",
    "    Parameters\n",
    "    ----------\n",
    "        data : list\n",
    "            The list of data points\n",
    "        interval_type : str\n",
    "            What kind of confidence interval. Can be double, upper, lower.\n",
    "        confidence : float\n",
    "            The confidence of the interval\n",
    "    Returns\n",
    "    -------\n",
    "    center, width\n",
    "        Center is the mean of the data. Width is the width of the confidence interval. \n",
    "        If a lower or upper is specified, width is the upper or lower value.\n",
    "    '''\n",
    "    \n",
    "    if(len(data) < 3):\n",
    "        raise ValueError('Not enough data given. Must have at least 3 values')\n",
    "    if(interval_type not in ['upper', 'lower', 'double']):\n",
    "        raise ValueError('I do not know how to make a {} confidence interval'.format(interval_type))\n",
    "    if(0 > confidence or confidence > 1):\n",
    "        raise ValueError('Confidence must be between 0 and 1')\n",
    "    \n",
    "    center = np.mean(data)\n",
    "    s = np.std(data, ddof=1)\n",
    "    if interval_type == 'lower':\n",
    "        ppf = confidence\n",
    "    elif interval_type == 'upper':\n",
    "        ppf = 1 - confidence\n",
    "    else:\n",
    "        ppf = 1 - (1 - confidence) / 2\n",
    "    t = ss.t.ppf(ppf, len(data))\n",
    "    width = s / np.sqrt(len(data)) * t\n",
    "    \n",
    "    if interval_type == 'lower' or interval_type == 'upper':\n",
    "        width = center + width\n",
    "    return center, width"
   ]
  },
  {
   "cell_type": "markdown",
   "metadata": {},
   "source": [
    "Install\n",
    "----"
   ]
  },
  {
   "cell_type": "code",
   "execution_count": 16,
   "metadata": {
    "collapsed": false
   },
   "outputs": [
    {
     "data": {
      "text/plain": [
       "['Obtaining file:///home/jovyan/work/che116-package',\n",
       " 'Installing collected packages: che116',\n",
       " '  Running setup.py develop for che116',\n",
       " 'Successfully installed che116-1.0']"
      ]
     },
     "execution_count": 16,
     "metadata": {},
     "output_type": "execute_result"
    }
   ],
   "source": [
    "%system pip install -e che116-package"
   ]
  },
  {
   "cell_type": "markdown",
   "metadata": {},
   "source": [
    "Testing\n",
    "==="
   ]
  },
  {
   "cell_type": "code",
   "execution_count": 1,
   "metadata": {
    "collapsed": false
   },
   "outputs": [
    {
     "data": {
      "image/png": "[encoded data removed]",
      "text/plain": [
       "<matplotlib.figure.Figure at 0x7f43068215c0>"
      ]
     },
     "metadata": {},
     "output_type": "display_data"
    },
    {
     "name": "stdout",
     "output_type": "stream",
     "text": [
      "2.42252106797 2\n",
      "2.85669844633 3\n"
     ]
    }
   ],
   "source": [
    "import numpy as np\n",
    "import scipy.stats as ss\n",
    "import scipy.linalg as linalg\n",
    "import numdifftools as nd\n",
    "import scipy.optimize as opt\n",
    "import matplotlib.pyplot as plt\n",
    "%matplotlib inline\n",
    "\n",
    "from che116 import regression\n",
    "\n",
    "#make some data\n",
    "N = 25\n",
    "x_mat = np.column_stack( (np.ones(N), np.linspace(0,10,N)) )\n",
    "y = x_mat.dot([2, 3]) + np.random.normal(size=N)\n",
    "        \n",
    "#regress it\n",
    "beta, beta_se, resid_se, p_values = regression.linear_regress(x_mat, y, plots=True, pvalues=True)\n",
    "        \n",
    "#compare with our coefficients\n",
    "print(beta[0], 2)\n",
    "print(beta[1], 3)"
   ]
  },
  {
   "cell_type": "code",
   "execution_count": 2,
   "metadata": {
    "collapsed": false
   },
   "outputs": [
    {
     "data": {
      "image/png": "[encoded data removed]",
      "text/plain": [
       "<matplotlib.figure.Figure at 0x7f42d1a70eb8>"
      ]
     },
     "metadata": {},
     "output_type": "display_data"
    },
    {
     "name": "stdout",
     "output_type": "stream",
     "text": [
      "[ 2.11287571  2.99635894]\n"
     ]
    }
   ],
   "source": [
    "#make some data\n",
    "#equation is 2 * x_1 + 3^x_2\n",
    "N = 25\n",
    "x_mat = np.column_stack( (np.linspace(-2,5,N), np.linspace(0,4,N)) )\n",
    "y = x_mat[:,0] *2 + 3 ** x_mat[:,1]  + np.random.normal(size=N)\n",
    "\n",
    "#create function to fit\n",
    "def fxn(beta, x):\n",
    "    return beta[0] * x[:,0] + beta[1] ** x[:,1]\n",
    "                    \n",
    "    #regress it\n",
    "beta, beta_se, resid_se, p_values = regression.nonlinear_regress(x_mat, y, fxn, beta0=[1,1], plots=True, pvalues=True)\n",
    "print(beta)"
   ]
  },
  {
   "cell_type": "markdown",
   "metadata": {
    "collapsed": true
   },
   "source": [
    "Testing Error Problems\n",
    "----"
   ]
  },
  {
   "cell_type": "markdown",
   "metadata": {},
   "source": [
    "Invalid input\n",
    "---"
   ]
  },
  {
   "cell_type": "code",
   "execution_count": 3,
   "metadata": {
    "collapsed": false
   },
   "outputs": [
    {
     "name": "stdout",
     "output_type": "stream",
     "text": [
      "1\n"
     ]
    },
    {
     "data": {
      "text/plain": [
       "(array([ 2.31122483]), array([ 0.12902058]), 1.5052401529161412, None)"
      ]
     },
     "execution_count": 3,
     "metadata": {},
     "output_type": "execute_result"
    }
   ],
   "source": [
    "#Can it handle 1D data ?\n",
    "\n",
    "N = 25\n",
    "x = np.linspace(0,4,N)\n",
    "y = 3 * x - 2  + np.random.normal(size=N)\n",
    "\n",
    "print(len(np.shape(x)))\n",
    "regression.linear_regress(x, y)"
   ]
  },
  {
   "cell_type": "code",
   "execution_count": 4,
   "metadata": {
    "collapsed": false
   },
   "outputs": [
    {
     "ename": "ValueError",
     "evalue": "Your matrix implies more fit coefficients than data points. Maybe tranpose it?",
     "output_type": "error",
     "traceback": [
      "\u001b[1;31m\u001b[0m",
      "\u001b[1;31mValueError\u001b[0mTraceback (most recent call last)",
      "\u001b[1;32m<ipython-input-4-91d6619083a7>\u001b[0m in \u001b[0;36m<module>\u001b[1;34m()\u001b[0m\n\u001b[0;32m      4\u001b[0m \u001b[0my\u001b[0m \u001b[1;33m=\u001b[0m \u001b[0mx_mat\u001b[0m\u001b[1;33m.\u001b[0m\u001b[0mdot\u001b[0m\u001b[1;33m(\u001b[0m\u001b[1;33m[\u001b[0m\u001b[1;36m2\u001b[0m\u001b[1;33m,\u001b[0m \u001b[1;36m3\u001b[0m\u001b[1;33m]\u001b[0m\u001b[1;33m)\u001b[0m \u001b[1;33m+\u001b[0m \u001b[0mnp\u001b[0m\u001b[1;33m.\u001b[0m\u001b[0mrandom\u001b[0m\u001b[1;33m.\u001b[0m\u001b[0mnormal\u001b[0m\u001b[1;33m(\u001b[0m\u001b[0msize\u001b[0m\u001b[1;33m=\u001b[0m\u001b[0mN\u001b[0m\u001b[1;33m)\u001b[0m\u001b[1;33m\u001b[0m\u001b[0m\n\u001b[0;32m      5\u001b[0m \u001b[1;33m\u001b[0m\u001b[0m\n\u001b[1;32m----> 6\u001b[1;33m \u001b[0mregression\u001b[0m\u001b[1;33m.\u001b[0m\u001b[0mlinear_regress\u001b[0m\u001b[1;33m(\u001b[0m\u001b[0mnp\u001b[0m\u001b[1;33m.\u001b[0m\u001b[0mtranspose\u001b[0m\u001b[1;33m(\u001b[0m\u001b[0mx_mat\u001b[0m\u001b[1;33m)\u001b[0m\u001b[1;33m,\u001b[0m \u001b[0my\u001b[0m\u001b[1;33m,\u001b[0m \u001b[0mplots\u001b[0m\u001b[1;33m=\u001b[0m\u001b[1;32mTrue\u001b[0m\u001b[1;33m,\u001b[0m \u001b[0mpvalues\u001b[0m\u001b[1;33m=\u001b[0m\u001b[1;32mTrue\u001b[0m\u001b[1;33m)\u001b[0m\u001b[1;33m\u001b[0m\u001b[0m\n\u001b[0m",
      "\u001b[1;32m/home/jovyan/work/che116-package/che116/regression.py\u001b[0m in \u001b[0;36mlinear_regress\u001b[1;34m(x_mat, y, plots, pvalues)\u001b[0m\n\u001b[0;32m     53\u001b[0m \u001b[1;33m\u001b[0m\u001b[0m\n\u001b[0;32m     54\u001b[0m     \u001b[1;32mif\u001b[0m\u001b[1;33m(\u001b[0m\u001b[0mN\u001b[0m \u001b[1;33m<\u001b[0m \u001b[0mD\u001b[0m\u001b[1;33m)\u001b[0m\u001b[1;33m:\u001b[0m\u001b[1;33m\u001b[0m\u001b[0m\n\u001b[1;32m---> 55\u001b[1;33m         \u001b[1;32mraise\u001b[0m \u001b[0mValueError\u001b[0m\u001b[1;33m(\u001b[0m\u001b[1;34m'Your matrix implies more fit coefficients than data points. Maybe tranpose it?'\u001b[0m\u001b[1;33m)\u001b[0m\u001b[1;33m\u001b[0m\u001b[0m\n\u001b[0m\u001b[0;32m     56\u001b[0m     \u001b[1;31m#check if shapes are consistent\u001b[0m\u001b[1;33m\u001b[0m\u001b[1;33m\u001b[0m\u001b[0m\n\u001b[0;32m     57\u001b[0m     \u001b[1;32mif\u001b[0m\u001b[1;33m(\u001b[0m\u001b[0mN\u001b[0m \u001b[1;33m!=\u001b[0m \u001b[0mnp\u001b[0m\u001b[1;33m.\u001b[0m\u001b[0mshape\u001b[0m\u001b[1;33m(\u001b[0m\u001b[0my\u001b[0m\u001b[1;33m)\u001b[0m\u001b[1;33m[\u001b[0m\u001b[1;36m0\u001b[0m\u001b[1;33m]\u001b[0m\u001b[1;33m)\u001b[0m\u001b[1;33m:\u001b[0m\u001b[1;33m\u001b[0m\u001b[0m\n",
      "\u001b[1;31mValueError\u001b[0m: Your matrix implies more fit coefficients than data points. Maybe tranpose it?"
     ]
    }
   ],
   "source": [
    "#can it handle bad shape data correctly?\n",
    "N = 25\n",
    "x_mat = np.column_stack( (np.ones(N), np.linspace(0,10,N)) )\n",
    "y = x_mat.dot([2, 3]) + np.random.normal(size=N)\n",
    "        \n",
    "regression.linear_regress(np.transpose(x_mat), y, plots=True, pvalues=True)"
   ]
  },
  {
   "cell_type": "code",
   "execution_count": 5,
   "metadata": {
    "collapsed": false
   },
   "outputs": [
    {
     "name": "stdout",
     "output_type": "stream",
     "text": [
      "Warning: Residuals do not appear to be normal. Shapiro-Wilks p-value: 0.00046512368135154247\n"
     ]
    },
    {
     "data": {
      "text/plain": [
       "(array([ 29.27278378]), array([ 2.71626465]), 31.68975429862634, None)"
      ]
     },
     "execution_count": 5,
     "metadata": {},
     "output_type": "execute_result"
    }
   ],
   "source": [
    "#does it check for bad residuals?\n",
    "N = 25\n",
    "x = np.linspace(0,4,N)\n",
    "y = 3 * x**3 - 2  + np.random.normal(size=N)\n",
    "x = np.reshape(x, (len(x), 1))\n",
    "regression.linear_regress(x, y)"
   ]
  },
  {
   "cell_type": "markdown",
   "metadata": {},
   "source": [
    "Docstrings\n",
    "==="
   ]
  },
  {
   "cell_type": "code",
   "execution_count": 6,
   "metadata": {
    "collapsed": false
   },
   "outputs": [
    {
     "name": "stdout",
     "output_type": "stream",
     "text": [
      "Help on package che116:\n",
      "\n",
      "NAME\n",
      "    che116 - Contains two files: regression.py and stats.py for now\n",
      "\n",
      "PACKAGE CONTENTS\n",
      "    regression\n",
      "    stats\n",
      "\n",
      "FILE\n",
      "    /home/jovyan/work/che116-package/che116/__init__.py\n",
      "\n",
      "\n"
     ]
    }
   ],
   "source": [
    "import che116\n",
    "help(che116)"
   ]
  },
  {
   "cell_type": "code",
   "execution_count": 7,
   "metadata": {
    "collapsed": false
   },
   "outputs": [
    {
     "name": "stdout",
     "output_type": "stream",
     "text": [
      "Help on function linear_regress in module che116.regression:\n",
      "\n",
      "linear_regress(x_mat, y, plots=False, pvalues=False)\n",
      "    Perform a linear regression given the x matrix and y data.\n",
      "    \n",
      "    Examples\n",
      "    --------\n",
      "        #make some data\n",
      "        N = 25\n",
      "        x_mat = np.column_stack( (np.ones(N), np.linspace(0,10,N)) )\n",
      "        y = x_mat.dot([2, 3]) + np.random.normal(size=N)\n",
      "        \n",
      "        #regress it\n",
      "        beta, beta_se, resid_se, p_values = linear_regress(x_mat, y, plots=True, pvalues=True)\n",
      "            \n",
      "        #compare with our coefficients\n",
      "        print(beta[0], 2)\n",
      "        print(beta[1], 3)\n",
      "        \n",
      "    \n",
      "    Parameters\n",
      "    ----------\n",
      "        x_mat : numpy array\n",
      "            The matrix of data. Each row should be a data point and each column a dimension\n",
      "        y : numpy array\n",
      "            The single-dimensional output data\n",
      "        plot : bool\n",
      "            Wheter or not to make plots\n",
      "        pvalues : bool\n",
      "            Wheter or not to compute p-values for each regressed coefficient\n",
      "    Returns\n",
      "    -------\n",
      "        tuple(beta, beta_se, resid_se, p_values)\n",
      "            Returns a tuple containing the fit coefficients, the standard error in those coefficients, \n",
      "            the standard error in the residuals and if pvalues is True, the p-values for each coefficient\n",
      "            from a t-test.\n",
      "\n"
     ]
    }
   ],
   "source": [
    "help(regression.linear_regress)"
   ]
  },
  {
   "cell_type": "code",
   "execution_count": 8,
   "metadata": {
    "collapsed": false
   },
   "outputs": [
    {
     "name": "stdout",
     "output_type": "stream",
     "text": [
      "Help on function nonlinear_regress in module che116.regression:\n",
      "\n",
      "nonlinear_regress(x_mat, y, fxn, beta0, plots=False, pvalues=False, nonconvex=False)\n",
      "    Perform a nonlinear regression given the x matrix, y data, fxn, and initial guess for parameters.\n",
      "    \n",
      "    Examples\n",
      "    --------\n",
      "        #make some data\n",
      "        #equation is 2 * x_1 + 3^x_2\n",
      "        N = 25\n",
      "        x_mat = np.column_stack( (np.linspace(-2,5,N), np.linspace(0,4,N)) )\n",
      "        y = x_mat[:,0] *2 + 3 ** x_mat[:,1]  + np.random.normal(size=N)\n",
      "    \n",
      "        #create function to fit\n",
      "        def fxn(beta, x):\n",
      "            return beta[0] * x[:,0] + beta[1] ** x[:,1]\n",
      "    \n",
      "            #regress it\n",
      "        beta, beta_se, resid_se, p_values = nonlinear_regress(x_mat, y, fxn, beta0=[1,1], plots=True, pvalues=True)\n",
      "        print(beta)\n",
      "    \n",
      "    Parameters\n",
      "    ----------\n",
      "        x_mat : numpy array\n",
      "            The matrix of data. Each row should be a data point and each column a dimension\n",
      "        fxn : function\n",
      "            A function which takes in two arguments: beta, x and returns predicted y values.\n",
      "        y : numpy array\n",
      "            The single-dimensional y data\n",
      "        plot : bool\n",
      "            Wheter or not to make plots\n",
      "        pvalues : bool\n",
      "            Wheter or not to compute p-values for each regressed coefficient\n",
      "    Returns\n",
      "    -------\n",
      "        tuple(beta, beta_se, resid_se, p_values)\n",
      "            Returns a tuple containing the fit coefficients, the standard error in those coefficients, \n",
      "            the standard error in the residuals and if pvalues is True, the p-values for each coefficient\n",
      "            from a t-test.\n",
      "\n"
     ]
    }
   ],
   "source": [
    "help(regression.nonlinear_regress)"
   ]
  },
  {
   "cell_type": "markdown",
   "metadata": {},
   "source": [
    "Grading\n",
    "====\n"
   ]
  },
  {
   "cell_type": "markdown",
   "metadata": {},
   "source": [
    "* Can Install - 25 Points\n",
    "* Package setup.py documentation (author,description, etc) - 5 Points\n",
    "* regression.py docstrings on methods - 15 Points\n",
    "* Included Stat.py - 5 Points\n",
    "* Can set plots, pvalues, returns error, pvales, coefficients. Followed function definition instructions - 15 Points\n",
    "* Using cells below, check correctness. Nonlinear,Linear are correct - 20 Points\n",
    "* Uses at least one exception in code - 5 Points\n",
    "* Plots yhat vs y, residual histogram - 10 Points\n",
    "\n",
    "Extra Credit:\n",
    "\n",
    "* Uses two exceptions in both linear and non-linear - 5 Points\n",
    "* Check residual normality - 5 Points\n",
    "* Deals with nonconvex vs convex - 5 Points\n",
    "* Plots more than 2 things, only if meaningful - 5 Points\n",
    "* Deals with 1D x data - 5 Points\n",
    "* Documented __init__.py file - 5 Points\n",
    "* Any other nice things, at most - 5 Points"
   ]
  },
  {
   "cell_type": "code",
   "execution_count": 9,
   "metadata": {
    "collapsed": true
   },
   "outputs": [],
   "source": [
    "#create wrapper so we can standardize function calls\n",
    "\n",
    "def linear(x, y, plots=False, pvalues=False):\n",
    "    #Change this to how the author wrote theirs - this is only an example\n",
    "    #CHANGE HERE\n",
    "    beta, beta_se, resid_se, p_values = regression.linear_regress(x_mat=x, y=y, plots=plots, pvalues=pvalues)\n",
    "    #STOP\n",
    "    return beta, beta_se, resid_se, p_values\n",
    "    \n",
    "def nonlinear(x, y, fxn, b0, plots=False, pvalues=False):\n",
    "    #Change this to how the author wrote theirs - this is only an example\n",
    "    #CHANGE HERE\n",
    "    beta, beta_se, resid_se, p_values  = regression.nonlinear_regress(x_mat=x, y=y, plots=plots, pvalues=pvalues, beta0=b0, fxn=fxn)\n",
    "    #STOP\n",
    "    return beta, beta_se, resid_se, p_values"
   ]
  },
  {
   "cell_type": "code",
   "execution_count": 10,
   "metadata": {
    "collapsed": false
   },
   "outputs": [
    {
     "name": "stdout",
     "output_type": "stream",
     "text": [
      "GOOD!\n"
     ]
    },
    {
     "name": "stderr",
     "output_type": "stream",
     "text": [
      "/opt/conda/lib/python3.5/site-packages/scipy/stats/morestats.py:1326: UserWarning: Input data for shapiro has range zero. The results may not be accurate.\n",
      "  warnings.warn(\"Input data for shapiro has range zero. The results \"\n"
     ]
    }
   ],
   "source": [
    "#test if linear is correct\n",
    "N = 25\n",
    "x = np.linspace(0,4,N)\n",
    "y = 3 * x \n",
    "x = np.reshape(x, (len(x), 1))\n",
    "beta = linear(x, y)\n",
    "\n",
    "assert abs(beta[0] - 3) < 0.001\n",
    "print('GOOD!')"
   ]
  },
  {
   "cell_type": "code",
   "execution_count": 11,
   "metadata": {
    "collapsed": false
   },
   "outputs": [
    {
     "name": "stdout",
     "output_type": "stream",
     "text": [
      "GOOD!\n"
     ]
    }
   ],
   "source": [
    "#test if error is reasonable\n",
    "#test if linear is correct\n",
    "N = 25\n",
    "x = np.linspace(0,4,N)\n",
    "y = 3 * x + np.random.normal(size=N)\n",
    "x = np.reshape(x, (len(x), 1))\n",
    "beta, beta_se,_,_ = linear(x, y)\n",
    "\n",
    "#check if true beta is within 95% confidence interval (this code will fail accidentally 5% of the time! CHECK IT A FEW TIMES)\n",
    "assert abs(beta[0] - 3) < beta_se[0] * 2\n",
    "print('GOOD!')"
   ]
  },
  {
   "cell_type": "code",
   "execution_count": 12,
   "metadata": {
    "collapsed": false
   },
   "outputs": [
    {
     "data": {
      "image/png": "[encoded data removed]",
      "text/plain": [
       "<matplotlib.figure.Figure at 0x7f42d18d78d0>"
      ]
     },
     "metadata": {},
     "output_type": "display_data"
    },
    {
     "name": "stdout",
     "output_type": "stream",
     "text": [
      "2.12892584219 2\n",
      "2.9300278685 3\n"
     ]
    }
   ],
   "source": [
    "#test multiple dimensions and with plots, just visually examine this!\n",
    "#make some data\n",
    "N = 25\n",
    "x_mat = np.column_stack( (np.ones(N), np.linspace(0,10,N)) )\n",
    "y = x_mat.dot([2, 3]) + np.random.normal(size=N)\n",
    "        \n",
    "#regress it\n",
    "beta, beta_se, resid_se, p_values = linear(x_mat, y, plots=True, pvalues=True)\n",
    "        \n",
    "#compare with our coefficients\n",
    "print(beta[0], 2)\n",
    "print(beta[1], 3)"
   ]
  },
  {
   "cell_type": "code",
   "execution_count": 18,
   "metadata": {
    "collapsed": false
   },
   "outputs": [
    {
     "name": "stdout",
     "output_type": "stream",
     "text": [
      "Warning: Residuals do not appear to be normal. Shapiro-Wilks p-value: 0.00703189242631197\n",
      "GOOD!\n"
     ]
    },
    {
     "name": "stderr",
     "output_type": "stream",
     "text": [
      "/opt/conda/lib/python3.5/site-packages/ipykernel/__main__.py:6: RuntimeWarning: divide by zero encountered in power\n",
      "/opt/conda/lib/python3.5/site-packages/ipykernel/__main__.py:6: RuntimeWarning: overflow encountered in power\n",
      "/opt/conda/lib/python3.5/site-packages/scipy/optimize/optimize.py:562: RuntimeWarning: invalid value encountered in double_scalars\n",
      "  grad[k] = (f(*((xk + d,) + args)) - f0) / d[k]\n",
      "/opt/conda/lib/python3.5/site-packages/ipykernel/__main__.py:6: RuntimeWarning: divide by zero encountered in power\n"
     ]
    }
   ],
   "source": [
    "#test if nonlinear is correct\n",
    "N = 25\n",
    "x = np.linspace(0,4,N)\n",
    "y = 3 * x ** 4\n",
    "x = np.reshape(x, (len(x), 1))\n",
    "beta, _,_,_ = nonlinear(x, y, fxn=lambda b,x: np.reshape(b[0] * x**b[1], len(y)), b0=[2.9, 4.1])\n",
    "\n",
    "assert abs(beta[0] - 3) < 0.001\n",
    "assert abs(beta[1] - 4) < 0.001\n",
    "print('GOOD!')"
   ]
  },
  {
   "cell_type": "code",
   "execution_count": 19,
   "metadata": {
    "collapsed": false
   },
   "outputs": [
    {
     "name": "stdout",
     "output_type": "stream",
     "text": [
      "GOOD!\n"
     ]
    },
    {
     "name": "stderr",
     "output_type": "stream",
     "text": [
      "/opt/conda/lib/python3.5/site-packages/ipykernel/__main__.py:6: RuntimeWarning: divide by zero encountered in power\n",
      "/opt/conda/lib/python3.5/site-packages/ipykernel/__main__.py:6: RuntimeWarning: overflow encountered in power\n",
      "/opt/conda/lib/python3.5/site-packages/scipy/optimize/optimize.py:562: RuntimeWarning: invalid value encountered in double_scalars\n",
      "  grad[k] = (f(*((xk + d,) + args)) - f0) / d[k]\n",
      "/opt/conda/lib/python3.5/site-packages/ipykernel/__main__.py:6: RuntimeWarning: divide by zero encountered in power\n"
     ]
    }
   ],
   "source": [
    "#test if nonlinear error is correct\n",
    "N = 25\n",
    "x = np.linspace(0,4,N)\n",
    "y = 3 * x ** 4 + np.random.normal(size=N)\n",
    "x = np.reshape(x, (len(x), 1))\n",
    "beta, beta_se,_,_ = nonlinear(x, y, fxn=lambda b,x: np.reshape(b[0] * x**b[1], len(y)), b0=[2.9, 4.1])\n",
    "\n",
    "assert abs(beta[0] - 3) < beta_se[0] * 2\n",
    "assert abs(beta[1] - 4) < beta_se[1] * 2\n",
    "print('GOOD!')"
   ]
  },
  {
   "cell_type": "code",
   "execution_count": null,
   "metadata": {
    "collapsed": true
   },
   "outputs": [],
   "source": []
  }
 ],
 "metadata": {
  "kernelspec": {
   "display_name": "Python 3",
   "language": "python",
   "name": "python3"
  },
  "language_info": {
   "codemirror_mode": {
    "name": "ipython",
    "version": 3
   },
   "file_extension": ".py",
   "mimetype": "text/x-python",
   "name": "python",
   "nbconvert_exporter": "python",
   "pygments_lexer": "ipython3",
   "version": "3.5.1"
  }
 },
 "nbformat": 4,
 "nbformat_minor": 0
}
