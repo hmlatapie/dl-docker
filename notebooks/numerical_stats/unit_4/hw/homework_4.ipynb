{
 "cells": [
  {
   "cell_type": "markdown",
   "metadata": {},
   "source": [
    "Homework 4\n",
    "====\n",
    "#### CHE 116: Numerical Methods and Statistics\n",
    "Prof. Andrew White\n",
    "\n",
    "Version 1.1 (2/2/2016)\n",
    "\n",
    "----"
   ]
  },
  {
   "cell_type": "markdown",
   "metadata": {},
   "source": [
    "0. Revise a Problem (5 Bonus Points)\n",
    "====\n",
    "\n",
    "Revist a problem you got wrong on homework 2. If you got a perfect score in homework 2, state that fact. Go through each part you missed and state what your answer was and what your mistake was. For example:\n",
    "\n",
    "#### Problem 1.1\n",
    "\n",
    "My answer used the scipy `comb` function instead of `factorial`. \n",
    "\n",
    "#### Problem 1.2-1.4\n",
    "\n",
    "No mistakes\n",
    "\n",
    "#### Problem 1.5\n",
    "\n",
    "I used this equation:\n",
    "\n",
    "$$\\frac{100!}{5!(100 - 5)!} \\frac{95!}{5!(95 - 5)!}$$\n",
    "\n",
    "which is too high by a factor of $2$. I did not consider that which team picks first is irrelevant. "
   ]
  },
  {
   "cell_type": "markdown",
   "metadata": {},
   "source": [
    "1. Making Plots (15 Points)\n",
    "====\n",
    "\n",
    "1. Using `numpy` and `matplotlib`, plot the exponential distribution with $\\lambda = 1$, $1.5$, and $2$. Include a legend that uses $\\LaTeX$\n",
    "2. Now plot the binomial distribution for $N = 10$, $p = 0.2$ and $N = 10$, $p = 0.5$. Include a legend.\n",
    "3. Plot $2^x$ and $x^2$ from $x = 1$ to $x = 8$. "
   ]
  },
  {
   "cell_type": "markdown",
   "metadata": {},
   "source": [
    "2. Customizing Plots I (8 Points)\n",
    "====\n",
    "\n",
    "If you execute the cell below, it will write the contents of the cell to a file called `che116.mplstyle.` We will use this file in the future, so hold onto it. To load this style and use it, execute `plt.style.use('che116.mplstyle')`. Make the following changes to the file, write it, and then plot three interesting lines on the samge graph:\n",
    "\n",
    "1. Make the first line plotted be colored red.\n",
    "2. Make figures be 10.4 by 7.15 inches.\n",
    "3. Make a grid be visible\n",
    "4. Make two other changes and document them using a comment in the file\n",
    "\n",
    "View the comments in [this file](http://matplotlib.org/users/customizing.html#a-sample-matplotlibrc-file) to learn what all the parameters do"
   ]
  },
  {
   "cell_type": "code",
   "execution_count": 5,
   "metadata": {
    "collapsed": false
   },
   "outputs": [
    {
     "name": "stdout",
     "output_type": "stream",
     "text": [
      "Overwriting che116.mplstyle\n"
     ]
    }
   ],
   "source": [
    "%%writefile che116.mplstyle\n",
    "\n",
    "#set the font-size and size of things\n",
    "figure.figsize: 5, 3\n",
    "axes.labelsize: 14.3\n",
    "axes.titlesize: 15.6\n",
    "xtick.labelsize: 13\n",
    "ytick.labelsize: 13\n",
    "legend.fontsize: 13\n",
    "\n",
    "grid.linewidth: 1.3\n",
    "lines.linewidth: 2.275\n",
    "patch.linewidth: 0.39\n",
    "lines.markersize: 9.1\n",
    "lines.markeredgewidth: 0\n",
    "\n",
    "xtick.major.width: 1.3\n",
    "ytick.major.width: 1.3\n",
    "xtick.minor.width: 0.65\n",
    "ytick.minor.width: 0.65\n",
    "\n",
    "xtick.major.pad: 9.1\n",
    "ytick.major.pad: 9.1\n",
    "\n",
    "    \n",
    "axes.xmargin        : 0\n",
    "axes.ymargin        : 0\n",
    "\n",
    "#setup our colorscheme\n",
    "\n",
    "patch.facecolor: 348ABD  # blue\n",
    "patch.edgecolor: EEEEEE\n",
    "patch.antialiased: True\n",
    "\n",
    "font.size: 12.0\n",
    "text.color: black\n",
    "\n",
    "axes.facecolor: E5E5E5\n",
    "axes.edgecolor: bcbcbc\n",
    "axes.linewidth: 1\n",
    "axes.grid: False\n",
    "axes.labelcolor: 555555\n",
    "axes.axisbelow: True       # grid/ticks are below elements (e.g., lines, text)\n",
    "\n",
    "axes.prop_cycle: cycler('color', ['444444', '348ABD', '988ED5', '777777', 'FBC15E', '8EBA42', 'FFB5B8'])\n",
    "# E24A33 : red\n",
    "# 348ABD : blue\n",
    "# 988ED5 : purple\n",
    "# 777777 : gray\n",
    "# FBC15E : yellow\n",
    "# 8EBA42 : green\n",
    "# FFB5B8 : pink\n",
    "\n",
    "xtick.color: 555555\n",
    "xtick.direction: out\n",
    "\n",
    "ytick.color: 555555\n",
    "ytick.direction: out\n",
    "\n",
    "grid.color: white\n",
    "grid.linestyle: -    # solid line\n",
    "\n",
    "figure.facecolor: white\n",
    "figure.edgecolor: 0.50\n",
    "\n",
    "#animation settings\n",
    "animation.html : html5"
   ]
  },
  {
   "cell_type": "markdown",
   "metadata": {},
   "source": [
    "2. Customizing Plots II (5 Points)\n",
    "====\n",
    "\n",
    "Create a plot with the following properties WITHOUT using a style file:\n",
    "\n",
    "1. Make the figure size 8 by 6\n",
    "2. Plot $\\cos(x)$ and $\\sin(x)$ from $x = 0$ to $x = 2\\pi$. \n",
    "3. Create lines at $y = -1$ and $y = 1$. Make sure they are visible.\n",
    "4. Create a title that says something funny\n",
    "5. Put the equation $E = mc^2$ somewhere in the graph (not in the legend)."
   ]
  },
  {
   "cell_type": "markdown",
   "metadata": {},
   "source": [
    "3. Preparing for next problem (5 Points)\n",
    "====\n",
    "\n",
    "Write out the following probability theorems in markdown:\n",
    "\n",
    "1. Definition of conditional\n",
    "2. Definition of marginal\n",
    "3. Marginalization of the conditional\n",
    "4. What is $\\sum_x P(X = x | Y = 2)$?\n",
    "5. The definition of conditional independence"
   ]
  },
  {
   "cell_type": "markdown",
   "metadata": {
    "collapsed": true
   },
   "source": [
    "4. Mammogram Screening (25 Points)\n",
    "====\n",
    "\n",
    "This problem is testing your ability to turn sentences into equations, to rearrange probabilities, and to be aware of sample spaces and rv dependence.\n",
    "\n",
    "Mammograms are a testing procedure for breast cancer. The diagnosis procedure after a mammogram is positive is incredibly complex. We'll simplify a little bit here. If a mammogram test is positive, a woman will always return for a biopsy. A biopsy is the removal and analysis of a small amount of breast tissue. If a biopsy is positive we will assume it leads to a mastectomy. The statistics from here on out are mostly correct, but biopsy does not always follow a mammogram in real life. From ages 40 to 50, 45% of women who receive annual mammograms will have a false positive and 25% have a false negative. A false negative means that a woman had invasive breast cancer but the test did not show it. A false positive means a woman had no or benign cancer. A large study of biopsies shows that biopsies are correctly diagnosed 75% of the time (the state of cancer matches the state of the biopsy), with false positives being twice as likely as false negatives. You may assume that biopsies and mammograms are conditionally independent on the presence or absence of cancer. After positive finding from a mammogram and biopsy, a mastectomy is performed which has a 0.24% probability of mortality. That mortality probability is independent of all factors. The overall probability of having invasive breast cancer is 1.5% between the ages of 40 to 50. Answer the following questions:\n",
    "\n",
    "1. What is the probability of a positive mammogram result?\n",
    "2. Given a mammogram is positive, what's the probability a woman has invasive cancer?\n",
    "3. What's the probability of dying from a mastectomy?\n",
    "4. The mastectomy and treatment has a 97% survival rate. That number is for women with invasive breast cancer. We can assume a near 100% survivale rate for those that did not have invasive cancer but underwent treatment. If a woman with cancer is not diagnosed from a mammogram or biopsy, she will be diagnosed later due to symptoms with an overall survivale rate of 93%. What's the probability of dying from cancer?\n",
    "5. Given that there are 20 million women aged 40 to 50, what's the expected number of deaths from cancer and mastectomy? I would like to emphasize that there are many more dangers from cancer treatment than mastectomy and that even though it appears cancer is a larger problem, there are other mortality risks and quality of life changes from unnecessary cancer treatment. \n",
    "\n",
    "*Answer each question first with equations and markdown (symbolically) as far as possible. You can use previous answers here or given parameters, but do not compute arithmetic until the end. Final answer may be given in Python or markdown.*"
   ]
  },
  {
   "cell_type": "code",
   "execution_count": null,
   "metadata": {
    "collapsed": true
   },
   "outputs": [],
   "source": []
  }
 ],
 "metadata": {
  "kernelspec": {
   "display_name": "Python 3",
   "language": "python",
   "name": "python3"
  },
  "language_info": {
   "codemirror_mode": {
    "name": "ipython",
    "version": 3
   },
   "file_extension": ".py",
   "mimetype": "text/x-python",
   "name": "python",
   "nbconvert_exporter": "python",
   "pygments_lexer": "ipython3",
   "version": "3.4.3"
  }
 },
 "nbformat": 4,
 "nbformat_minor": 0
}
